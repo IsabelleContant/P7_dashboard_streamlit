{
 "cells": [
  {
   "cell_type": "markdown",
   "id": "201c837b",
   "metadata": {},
   "source": [
    "<p style=\"text-align:center; font-size:3.3em; color:#AD7D67; line-height:5rem; font-style:italic; font-weight:700;\">\n",
    "    Mission P7 : <br>\n",
    "    Implémentation d'un modèle de scoring </p>\n",
    "<p style=\"text-align:center; font-size:2.8em; color:#9EBEB8; line-height:4rem; font-style:italic; font-weight:700;\">\n",
    "    Partie IV - Réglage des hyperparamètres LightGBM avec Optuna\n",
    "</p>"
   ]
  },
  {
   "cell_type": "markdown",
   "id": "09570458",
   "metadata": {
    "toc": true
   },
   "source": [
    "<h1>Sommaire<span class=\"tocSkip\"></span></h1>\n",
    "<div class=\"toc\"><ul class=\"toc-item\"><li><span><a href=\"#Importation-de-l'Environnement-et-des-Données\" data-toc-modified-id=\"Importation-de-l'Environnement-et-des-Données-1\"><span class=\"toc-item-num\">1&nbsp;&nbsp;</span>Importation de l'Environnement et des Données</a></span><ul class=\"toc-item\"><li><span><a href=\"#Importation-des-librairies\" data-toc-modified-id=\"Importation-des-librairies-1.1\"><span class=\"toc-item-num\">1.1&nbsp;&nbsp;</span>Importation des librairies</a></span></li><li><span><a href=\"#Importation-des-données\" data-toc-modified-id=\"Importation-des-données-1.2\"><span class=\"toc-item-num\">1.2&nbsp;&nbsp;</span>Importation des données</a></span></li></ul></li><li><span><a href=\"#Optimisation-des-hyperparamètres-avec-Optuna-du-modèle-LightGBM\" data-toc-modified-id=\"Optimisation-des-hyperparamètres-avec-Optuna-du-modèle-LightGBM-2\"><span class=\"toc-item-num\">2&nbsp;&nbsp;</span>Optimisation des hyperparamètres avec Optuna du modèle LightGBM</a></span></li><li><span><a href=\"#Performance-du-modèle\" data-toc-modified-id=\"Performance-du-modèle-3\"><span class=\"toc-item-num\">3&nbsp;&nbsp;</span>Performance du modèle</a></span></li></ul></div>"
   ]
  },
  {
   "cell_type": "markdown",
   "id": "8a478c05",
   "metadata": {},
   "source": [
    "Généralement, les hyperparamètres des modèles arborescents peuvent être regroupés en 4 catégories :\n",
    "\n",
    "- Paramètres qui affectent la structure et l'apprentissage des arbres de décision\n",
    "- Paramètres qui affectent la vitesse d'entraînement\n",
    "- Paramètres pour une meilleure précision\n",
    "- Paramètres pour lutter contre le surajustement\n",
    "\n",
    "La plupart du temps, ces catégories se chevauchent beaucoup, et l'augmentation de l'efficacité dans l'une peut entraîner une diminution dans l'autre. C'est pourquoi les régler manuellement est une erreur et doit être évité.\n",
    "\n",
    "Des frameworks comme Optuna peuvent automatiquement trouver le « juste milieu » entre ces catégories si on leur donne une grille de paramètres suffisamment bonne.\n",
    "\n",
    "\n",
    "<p style=\"text-align:left; font-size:2em; color:#9EBEB8; line-height:4rem; font-style:italic; font-weight:700;\">\n",
    "    Hyperparamètres contrôlant l'arborescence\n",
    "</p>\n",
    "\n",
    "Dans LGBM, le paramètre le plus important pour contrôler l'arborescence est `num_leaves`. Comme son nom l'indique, il contrôle le nombre de feuilles de décision dans un seul arbre. La feuille de décision d'un arbre est le nœud où la « décision réelle » se produit.\n",
    "\n",
    "Le suivant est `max_depth`. Plus max_depth est grand, plus l'arbre a de niveaux, ce qui le rend plus complexe et sujet au surajustement. Trop bas, et le modèle sera sous-ajusté. Même si cela semble difficile, c'est le paramètre le plus facile à régler - une valeur entre 3 et 12 a tendance à bien fonctionner sur Kaggle pour n'importe quel ensemble de données.\n",
    "\n",
    "Le réglage `num_leaves` peut également être facile une fois que max_depth est déterminé. Il existe une formule simple donnée dans la documentation LGBM - la limite maximale à num_leaves devrait être 2^(max_depth). Cela signifie que la valeur optimale pour num_leavesse situe dans la plage (2^3, 2^12) ou (8, 4096).\n",
    "\n",
    "Cependant, num_leaves impacte l'apprentissage en LGBM plus que max_depth. Cela signifie qu'on doit spécifier une plage de recherche plus conservatrice comme (20, 3000).\n",
    "\n",
    "Un autre paramètre structurel important pour un arbre est `min_data_in_leaf`. Son ampleur est également corrélée au fait que le modèle soit en surentraînement ou non. En termes simples, min_data_in_leaf spécifie le nombre minimum d'observations qui correspondent aux critères de décision dans une feuille.\n",
    "\n",
    "Par exemple, si la feuille de décision vérifie si une caractéristique est supérieure à, disons, 13 - le réglage min_data_in_leaf sur 100 signifie que nous voulons évaluer cette feuille uniquement si au moins 100 observations d'entraînement sont supérieures à 13. C'est l'essentiel en terme simple.\n",
    "\n",
    "La valeur optimale de min_data_in_leaf dépend du nombre d'échantillons d'apprentissage et de num_leaves. Pour les ensembles de données volumineux, définissez une valeur en centaines ou en milliers.\n",
    "\n",
    "\n",
    "<p style=\"text-align:left; font-size:2em; color:#9EBEB8; line-height:4rem; font-style:italic; font-weight:700;\">\n",
    "    Hyperparamètres pour une meilleure précision\n",
    "</p>\n",
    "\n",
    "Une stratégie courante pour obtenir une plus grande précision consiste à utiliser de nombreux arbres de décision et à réduire le taux d'apprentissage. En d'autres termes, trouvez la meilleure combinaison de `n_estimators` et `learning_rate` dans LGBM.\n",
    "\n",
    "`n_estimators` contrôle le nombre d'arbres de décision tandis que `learning_rate` est le paramètre de taille de pas de la descente de gradient.\n",
    "\n",
    "Des ensembles comme LGBM construisent des arbres par itérations, et chaque nouvel arbre est utilisé pour corriger les « erreurs » des arbres précédents. Cette approche est rapide et puissante, et sujette au surajustement.\n",
    "\n",
    "C'est pourquoi les ensembles boostés par gradient ont un `learning_rate` paramètre qui contrôle la vitesse d'apprentissage. Les valeurs typiques se situent entre 0,01 et 0,3, mais il est possible d'aller au-delà, notamment vers 0.\n",
    "\n",
    "Ainsi, la configuration parfaite pour ces 2 paramètres ( `n_estimators` et `learning_rate` ) consiste à utiliser de nombreux arbres avec un arrêt précoce et à définir une valeur faible pour `learning_rate`.\n",
    "\n",
    "On peut également augmenter `max_bin` la valeur par défaut (255) mais là encore, au risque de sur-ajuster.\n",
    "\n",
    "\n",
    "<p style=\"text-align:left; font-size:2em; color:#9EBEB8; line-height:4rem; font-style:italic; font-weight:700;\">\n",
    "    Plus d'hyperparamètres pour contrôler le surajustement\n",
    "</p>\n",
    "    \n",
    "LGBM a également des paramètres de régularisation importants.\n",
    "\n",
    "`lambda_l1` et `lambda_l2` spécifie la régularisation L1 ou L2. La valeur optimale de ces paramètres est plus difficile à régler car leur amplitude n'est pas directement corrélée au surajustement. Cependant, une bonne plage de recherche est (0, 100) pour les deux.\n",
    "\n",
    "Ensuite, nous avons `min_gain_to_split`. Une plage de recherche conservatrice est (0, 15). Il peut être utilisé comme régularisation supplémentaire dans les grandes grilles de paramètres.\n",
    "\n",
    "Enfin, nous avons `bagging_fraction` et `feature_fraction`. `bagging_fraction` prend une valeur entre (0, 1) et spécifie le pourcentage d'échantillons d'apprentissage à utiliser pour former chaque arbre. Pour utiliser ce paramètre, on doit également définir `bagging_freq` une valeur entière.\n",
    "\n",
    "`feature_fraction` spécifie le pourcentage de fonctionnalités à échantillonner lors de la formation de chaque arbre. Ainsi, il prend également une valeur comprise entre (0, 1).\n",
    "\n",
    "\n",
    "<p style=\"text-align:left; font-size:2em; color:#9EBEB8; line-height:4rem; font-style:italic; font-weight:700;\">\n",
    "    Création de la grille de recherche dans Optuna\n",
    "</p>\n",
    "\n",
    "Optuna est un framework de réglage automatique d'hyperparamètres de nouvelle génération entièrement écrit en Python.\n",
    "\n",
    "Ses caractéristiques les plus marquantes sont :\n",
    "\n",
    "- la possibilité de définir des espaces de recherche Pythonic à l'aide de boucles et de conditions.\n",
    "- API indépendante de la plate-forme - vous pouvez régler les estimateurs de presque tous les packages/frameworks ML, DL, y compris Sklearn, PyTorch, TensorFlow, Keras, XGBoost, LightGBM, CatBoost, etc.\n",
    "- une large suite d'algorithmes d'optimisation avec des fonctionnalités d'arrêt et d'élagage précoces intégrées.\n",
    "- Parallélisation facile avec peu ou pas de modifications du code.\n",
    "- Prise en charge intégrée pour l'exploration visuelle des résultats de recherche.\n",
    "\n",
    "Le processus d'optimisation dans Optuna nécessite une fonction appelée objectif qui :\n",
    "\n",
    "- inclut la grille de paramètres pour effectuer une recherche sous forme de dictionnaire\n",
    "- crée un modèle pour essayer des ensembles de combinaisons d'hyperparamètres\n",
    "- adapte le modèle aux données avec un seul ensemble de candidats\n",
    "- génère des prédictions à l'aide de ce modèle\n",
    "- note les prédictions en fonction de métriques définies par l'utilisateur et les renvoie\n",
    "\n",
    "\n",
    "Avec Optima, Nous pouvons reprendre l'optimisation même après qu'elle soit terminée si nous ne sommes pas satisfaits des résultats !\n",
    "C'est un net avantage par rapport à d'autres outils similaires car une fois la recherche effectuée, ils oublient complètement l'historique des essais précédents. Optuna ne le fait pas !\n",
    "Pour continuer la recherche, appelez optimize à nouveau avec les paramètres souhaités.\n",
    "\n",
    "Dans Optuna, l'ensemble du processus d'optimisation s'appelle une étude : study = `optuna.create_study()`\n",
    "Une étude a besoin d'une fonction qu'elle peut optimiser. Typiquement, cette fonction est définie par l'utilisateur et doit être nommée `objective`.\n",
    "Elle doit accepter un `optuna.Trial` objet en tant que paramètre et renvoyer la métrique que nous voulons optimiser.\n",
    "\n",
    "Si la métrique que nous voulons optimiser est un score de performance en points comme le ROC AUC ou la précision, nous définissons la direction sur `maximize`. Sinon, nous minimisons une fonction de perte telle que RMSE, RMSLE, perte de journal, etc. en définissant la direction sur `minimize`.\n"
   ]
  },
  {
   "cell_type": "markdown",
   "id": "468a5c7f",
   "metadata": {},
   "source": [
    "# Importation de l'Environnement et des Données"
   ]
  },
  {
   "cell_type": "markdown",
   "id": "ce7a166f",
   "metadata": {},
   "source": [
    "## Importation des librairies"
   ]
  },
  {
   "cell_type": "code",
   "execution_count": 1,
   "id": "7f354332",
   "metadata": {
    "ExecuteTime": {
     "end_time": "2022-11-22T17:39:44.416820Z",
     "start_time": "2022-11-22T17:39:40.209075Z"
    }
   },
   "outputs": [
    {
     "name": "stdout",
     "output_type": "stream",
     "text": [
      "python version 3.9.13 | packaged by conda-forge | (main, May 27 2022, 16:50:36) [MSC v.1929 64 bit (AMD64)]\n",
      "pandas version : 1.5.0\n",
      "numpy version : 1.21.5\n",
      "matplotlib version : 3.6.2\n",
      "seaborn version : 0.12.0\n",
      "sklearn version : 1.1.2\n",
      "lightgbm version : 3.3.3\n",
      "optuna version : 2.10.1\n",
      "yellowbrick version : 1.5\n"
     ]
    }
   ],
   "source": [
    "import sys\n",
    "from yellowbrick.classifier import (\n",
    "    ClassificationReport,\n",
    "    ConfusionMatrix,\n",
    "    DiscriminationThreshold,\n",
    "    ROCAUC,\n",
    "    PrecisionRecallCurve,\n",
    ")\n",
    "import yellowbrick\n",
    "from optuna import Trial, visualization\n",
    "import optuna\n",
    "from lightgbm import LGBMClassifier\n",
    "import lightgbm as lgbm\n",
    "from sklearn.metrics import (\n",
    "    classification_report,\n",
    "    accuracy_score,\n",
    "    precision_score,\n",
    "    recall_score,\n",
    "    f1_score,\n",
    "    fbeta_score,\n",
    "    make_scorer,\n",
    "    precision_recall_fscore_support,\n",
    "    log_loss,\n",
    "    roc_auc_score,\n",
    "    roc_curve,\n",
    "    precision_recall_curve,\n",
    "    auc,\n",
    ")\n",
    "from sklearn.preprocessing import StandardScaler\n",
    "from sklearn.model_selection import (\n",
    "    KFold,\n",
    "    StratifiedKFold,\n",
    "    cross_validate,\n",
    "    cross_val_score,\n",
    "    GridSearchCV,\n",
    "    RepeatedStratifiedKFold,\n",
    "    train_test_split,\n",
    ")\n",
    "import sklearn\n",
    "import warnings\n",
    "import pandas as pd\n",
    "import numpy as np\n",
    "import scipy.stats as stats\n",
    "import time\n",
    "\n",
    "# Visualisation\n",
    "import seaborn as sns\n",
    "from xplotter.insights import *\n",
    "import matplotlib\n",
    "import matplotlib.pyplot as plt\n",
    "%matplotlib inline\n",
    "plt.rcParams[\"figure.figsize\"] = 6, 4\n",
    "\n",
    "sns.set_style(\"ticks\")\n",
    "sns.color_palette(\"pink\", as_cmap=True)\n",
    "\n",
    "# Modélisation\n",
    "\n",
    "\n",
    "# pour ne pas imprimer les nombres en format scientifique\n",
    "# et pour imprimer les float avec une précision de 2\n",
    "\n",
    "#pd.set_option('display.max_columns', 25)\n",
    "#pd.set_option('display.max_rows', 200)\n",
    "#pd.set_option('display.max_colwidth', 30)\n",
    "pd.set_option('display.float_format', '{:,.2f}'.format)\n",
    "\n",
    "# pour ne pas imprimer les warnings\n",
    "warnings.filterwarnings('ignore')\n",
    "\n",
    "# version des librairies utilisées\n",
    "print(\"python version\", sys.version)\n",
    "print(\"pandas version :\", pd.__version__)\n",
    "print(\"numpy version :\", np.__version__)\n",
    "print(\"matplotlib version :\", matplotlib.__version__)\n",
    "print(\"seaborn version :\", sns.__version__)\n",
    "print(\"sklearn version :\", sklearn.__version__)\n",
    "print(\"lightgbm version :\", lgbm.__version__)\n",
    "print(\"optuna version :\", optuna.__version__)\n",
    "print(\"yellowbrick version :\", yellowbrick.__version__)"
   ]
  },
  {
   "cell_type": "markdown",
   "id": "9102fdff",
   "metadata": {},
   "source": [
    "## Importation des données"
   ]
  },
  {
   "cell_type": "markdown",
   "id": "90bc5d9d",
   "metadata": {},
   "source": [
    "Nous n'avons pas besoin de standardiser les variables car dans les modèles arborescents, l'échelle des caractéristiques n'a pas d'importance. En effet, à chaque niveau d'arborescence, le score d'une division possible sera égal, que l'entité respective ait été mise à l'échelle ou non. La mise à l'échelle est effectuée pour normaliser les données afin que la priorité ne soit pas donnée à une fonctionnalité particulière. Le rôle de la mise à l'échelle est principalement important dans les algorithmes basés sur la distance et nécessitant une distance euclidienne. "
   ]
  },
  {
   "cell_type": "code",
   "execution_count": 2,
   "id": "0e6c040b",
   "metadata": {
    "ExecuteTime": {
     "end_time": "2022-11-22T17:39:53.699994Z",
     "start_time": "2022-11-22T17:39:52.621874Z"
    }
   },
   "outputs": [
    {
     "data": {
      "text/plain": [
       "((307511, 56), (307511, 1))"
      ]
     },
     "execution_count": 2,
     "metadata": {},
     "output_type": "execute_result"
    }
   ],
   "source": [
    "# Les données totales flitrées et analysées\n",
    "X = pd.read_csv('./Data/datasets_intermediaires/X_train.csv')\n",
    "X.drop(labels='sk_id_curr', axis=1, inplace=True)\n",
    "\n",
    "y = pd.read_csv('./Data/datasets_intermediaires/y.csv')\n",
    "\n",
    "X.shape, y.shape"
   ]
  },
  {
   "cell_type": "code",
   "execution_count": 3,
   "id": "3ba0669b",
   "metadata": {
    "ExecuteTime": {
     "end_time": "2022-11-22T17:39:57.677351Z",
     "start_time": "2022-11-22T17:39:57.617512Z"
    }
   },
   "outputs": [
    {
     "name": "stdout",
     "output_type": "stream",
     "text": [
      "<class 'pandas.core.frame.DataFrame'>\n",
      "RangeIndex: 307511 entries, 0 to 307510\n",
      "Data columns (total 56 columns):\n",
      " #   Column                                              Non-Null Count   Dtype  \n",
      "---  ------                                              --------------   -----  \n",
      " 0   region_rating_client                                307511 non-null  int64  \n",
      " 1   ext_source_2                                        307511 non-null  float64\n",
      " 2   taille_famille                                      307511 non-null  int64  \n",
      " 3   age_client                                          307511 non-null  int64  \n",
      " 4   anciennete_entreprise                               307511 non-null  int64  \n",
      " 5   anciennete_cni                                      307511 non-null  int64  \n",
      " 6   anciennete_portable                                 307511 non-null  int64  \n",
      " 7   year_registration                                   307511 non-null  int64  \n",
      " 8   heure_demande_pret                                  307511 non-null  int64  \n",
      " 9   pop_region                                          307511 non-null  int64  \n",
      " 10  taux_endettement                                    307511 non-null  int64  \n",
      " 11  duree_remboursement                                 307511 non-null  int64  \n",
      " 12  total_revenus                                       307511 non-null  int64  \n",
      " 13  montant_credit                                      307511 non-null  int64  \n",
      " 14  nb_demande_pret_precedente                          307511 non-null  float64\n",
      " 15  montant_demande_pret_precedente                     307511 non-null  float64\n",
      " 16  heure_demande_pret_precedente                       307511 non-null  float64\n",
      " 17  nb_year_depuis_decision_precedente                  307511 non-null  float64\n",
      " 18  prev_contrat_statut_canceled_unused                 307511 non-null  float64\n",
      " 19  prev_contrat_statut_refused                         307511 non-null  float64\n",
      " 20  prev_contrat_type_consumer_loans                    307511 non-null  float64\n",
      " 21  prev_contrat_type_revolving_loans                   307511 non-null  float64\n",
      " 22  num_instalment_version                              307511 non-null  float64\n",
      " 23  num_instalment_number                               307511 non-null  float64\n",
      " 24  montant_paye_vs_du                                  307511 non-null  float64\n",
      " 25  days_past_due                                       307511 non-null  float64\n",
      " 26  days_before_due                                     307511 non-null  float64\n",
      " 27  days_credit                                         307511 non-null  float64\n",
      " 28  amt_credit_sum                                      307511 non-null  float64\n",
      " 29  bureau_credit_actif_closed                          307511 non-null  float64\n",
      " 30  bureau_credit_actif_sold_bad_debt                   307511 non-null  float64\n",
      " 31  bureau_credit_type_credit_card                      307511 non-null  float64\n",
      " 32  bureau_credit_type_other_credit                     307511 non-null  float64\n",
      " 33  solde_credit_bureau_statut_actif_avec_jours_retard  307511 non-null  float64\n",
      " 34  solde_credit_bureau_statut_closed                   307511 non-null  float64\n",
      " 35  cnt_instalment                                      307511 non-null  float64\n",
      " 36  name_contract_type_revolving_loans                  307511 non-null  int64  \n",
      " 37  code_gender_Homme                                   307511 non-null  int64  \n",
      " 38  flag_own_car_Y                                      307511 non-null  int64  \n",
      " 39  flag_own_realty_Y                                   307511 non-null  int64  \n",
      " 40  name_type_suite_Unaccompanied                       307511 non-null  int64  \n",
      " 41  name_income_type_employé                            307511 non-null  int64  \n",
      " 42  name_income_type_fonctionnaire                      307511 non-null  int64  \n",
      " 43  name_income_type_retraité_ou_sans_emploi            307511 non-null  int64  \n",
      " 44  name_education_type_enseignement_superieur          307511 non-null  int64  \n",
      " 45  name_family_status_sans_partenaire                  307511 non-null  int64  \n",
      " 46  name_housing_type_maison_appartement                307511 non-null  int64  \n",
      " 47  flag_work_phone_Oui                                 307511 non-null  int64  \n",
      " 48  flag_phone_Oui                                      307511 non-null  int64  \n",
      " 49  reg_region_not_live_region_adresse_identique        307511 non-null  int64  \n",
      " 50  reg_region_not_work_region_adresse_identique        307511 non-null  int64  \n",
      " 51  reg_city_not_live_city_adresse_identique            307511 non-null  int64  \n",
      " 52  reg_city_not_work_city_adresse_identique            307511 non-null  int64  \n",
      " 53  flag_document_3_Oui                                 307511 non-null  int64  \n",
      " 54  flag_document_6_Oui                                 307511 non-null  int64  \n",
      " 55  flag_document_8_Oui                                 307511 non-null  int64  \n",
      "dtypes: float64(23), int64(33)\n",
      "memory usage: 131.4 MB\n"
     ]
    }
   ],
   "source": [
    "X.info()"
   ]
  },
  {
   "cell_type": "code",
   "execution_count": 4,
   "id": "a2c068c2",
   "metadata": {
    "ExecuteTime": {
     "end_time": "2022-11-22T17:40:10.026320Z",
     "start_time": "2022-11-22T17:40:09.736097Z"
    }
   },
   "outputs": [
    {
     "data": {
      "image/png": "[encoded data removed]",
      "text/plain": [
       "<Figure size 600x400 with 1 Axes>"
      ]
     },
     "metadata": {},
     "output_type": "display_data"
    }
   ],
   "source": [
    "from xplotter.insights import *\n",
    "\n",
    "colors = ['#d4b3ac']\n",
    "\n",
    "loan_map = {1 : \"is_difficulty_payment\",\n",
    "            0 : \"not_difficulty_payment\"}\n",
    "\n",
    "fig, ax = plt.subplots(figsize=(6, 4))\n",
    "\n",
    "plot_countplot(df=y, \n",
    "               col='target', \n",
    "               label_names=loan_map,\n",
    "               order=True,\n",
    "               palette=colors, ax=ax, orient='v', size_labels=12)\n",
    "\n",
    "plt.title(\"Le client est-il en difficulté de paiement ?\\n\",\n",
    "           loc=\"center\", fontsize=18, fontstyle='italic')\n",
    "plt.tight_layout()\n",
    "plt.show()"
   ]
  },
  {
   "cell_type": "markdown",
   "id": "72982fc8",
   "metadata": {},
   "source": [
    "# Optimisation des hyperparamètres avec Optuna du modèle LightGBM"
   ]
  },
  {
   "cell_type": "code",
   "execution_count": 5,
   "id": "e28ff973",
   "metadata": {
    "ExecuteTime": {
     "end_time": "2022-11-21T23:06:55.805412Z",
     "start_time": "2022-11-21T23:06:55.775442Z"
    }
   },
   "outputs": [],
   "source": [
    "from optuna.integration import LightGBMPruningCallback\n",
    "\n",
    "def objective(trial, X, y):\n",
    "    \n",
    "    param_grid = {\n",
    "        \"objective\": \"binary\",\n",
    "        \"class_weight\": \"balanced\",\n",
    "        \"verbose\": -1,\n",
    "        \"boosting_type\": \"gbdt\",\n",
    "        \"n_estimators\": trial.suggest_int(\"n_estimators\", 50, 500, step=50),\n",
    "        \"learning_rate\": trial.suggest_float(\"learning_rate\", 1e-7, 0.3, log=True),\n",
    "        \"max_depth\": trial.suggest_int(\"max_depth\", 3, 12, step=2),\n",
    "        \"num_leaves\": trial.suggest_int(\"num_leaves\", 3, 12, step=2),\n",
    "        \"min_data_in_leaf\": trial.suggest_int(\"min_data_in_leaf\", 200, 10000, step=100),\n",
    "        \"min_child_samples\": trial.suggest_int(\"min_child_samples\", 5, 100),\n",
    "        \"lambda_l1\": trial.suggest_loguniform(\"lambda_l1\", 1e-8, 10.0),\n",
    "        \"lambda_l2\": trial.suggest_loguniform(\"lambda_l2\", 1e-8, 10.0),\n",
    "        \"min_gain_to_split\": trial.suggest_float(\"min_gain_to_split\", 0, 15),\n",
    "        \"feature_fraction\": trial.suggest_uniform(\"feature_fraction\", 0.4, 1.0),\n",
    "        \"bagging_fraction\": trial.suggest_uniform(\"bagging_fraction\", 0.4, 1.0),\n",
    "        \"bagging_freq\": trial.suggest_int(\"bagging_freq\", 1, 7),\n",
    "        \"colsample_bytree\": trial.suggest_float(\"colsample_bytree\", 0.3, 0.8 , step=1),\n",
    "    }\n",
    "\n",
    " \n",
    "    cv = StratifiedKFold(n_splits=5, shuffle=True, random_state=101)\n",
    "\n",
    "    cv_scores = np.empty(5)\n",
    "    \n",
    "    for idx, (train_index, test_index) in enumerate(cv.split(X, y)):\n",
    "               \n",
    "        X_train, X_test = X.take(list(train_index),axis=0), X.take(list(test_index),axis=0)\n",
    "        y_train, y_test = y.take(list(train_index),axis=0), y.take(list(test_index),axis=0)\n",
    "    \n",
    "        model = lgbm.LGBMClassifier(**param_grid, n_jobs=-2, random_state=101)\n",
    "        \n",
    "        model.fit(\n",
    "            X_train,\n",
    "            y_train,\n",
    "            eval_set=[(X_test, y_test)],\n",
    "            eval_metric=\"binary_logloss\",\n",
    "            early_stopping_rounds=100,\n",
    "            callbacks=[LightGBMPruningCallback(trial, \"binary_logloss\")])  # Add a pruning callback\n",
    "        \n",
    "        preds = model.predict_proba(X_test)\n",
    "        cv_scores[idx] = log_loss(y_test, preds)\n",
    "                \n",
    "    return np.mean(cv_scores)\n",
    "    "
   ]
  },
  {
   "cell_type": "code",
   "execution_count": 6,
   "id": "aa04ad2d",
   "metadata": {
    "ExecuteTime": {
     "end_time": "2022-11-21T23:40:23.320620Z",
     "start_time": "2022-11-21T23:06:55.806360Z"
    },
    "scrolled": true
   },
   "outputs": [
    {
     "name": "stderr",
     "output_type": "stream",
     "text": [
      "\u001b[32m[I 2022-11-22 00:06:55,809]\u001b[0m A new study created in memory with name: LGBM Classifier\u001b[0m\n"
     ]
    },
    {
     "name": "stdout",
     "output_type": "stream",
     "text": [
      "[LightGBM] [Warning] feature_fraction is set=0.9360257737830521, colsample_bytree=0.3 will be ignored. Current value: feature_fraction=0.9360257737830521\n",
      "[LightGBM] [Warning] min_data_in_leaf is set=5300, min_child_samples=88 will be ignored. Current value: min_data_in_leaf=5300\n",
      "[LightGBM] [Warning] min_gain_to_split is set=11.915705742005121, min_split_gain=0.0 will be ignored. Current value: min_gain_to_split=11.915705742005121\n",
      "[LightGBM] [Warning] bagging_fraction is set=0.4215533322628647, subsample=1.0 will be ignored. Current value: bagging_fraction=0.4215533322628647\n",
      "[LightGBM] [Warning] lambda_l1 is set=1.331992455220449e-07, reg_alpha=0.0 will be ignored. Current value: lambda_l1=1.331992455220449e-07\n",
      "[LightGBM] [Warning] lambda_l2 is set=8.687805054753998, reg_lambda=0.0 will be ignored. Current value: lambda_l2=8.687805054753998\n",
      "[LightGBM] [Warning] bagging_freq is set=7, subsample_freq=0 will be ignored. Current value: bagging_freq=7\n",
      "[LightGBM] [Warning] feature_fraction is set=0.9360257737830521, colsample_bytree=0.3 will be ignored. Current value: feature_fraction=0.9360257737830521\n",
      "[LightGBM] [Warning] min_data_in_leaf is set=5300, min_child_samples=88 will be ignored. Current value: min_data_in_leaf=5300\n",
      "[LightGBM] [Warning] min_gain_to_split is set=11.915705742005121, min_split_gain=0.0 will be ignored. Current value: min_gain_to_split=11.915705742005121\n",
      "[LightGBM] [Warning] bagging_fraction is set=0.4215533322628647, subsample=1.0 will be ignored. Current value: bagging_fraction=0.4215533322628647\n",
      "[LightGBM] [Warning] lambda_l1 is set=1.331992455220449e-07, reg_alpha=0.0 will be ignored. Current value: lambda_l1=1.331992455220449e-07\n",
      "[LightGBM] [Warning] lambda_l2 is set=8.687805054753998, reg_lambda=0.0 will be ignored. Current value: lambda_l2=8.687805054753998\n",
      "[LightGBM] [Warning] bagging_freq is set=7, subsample_freq=0 will be ignored. Current value: bagging_freq=7\n",
      "[LightGBM] [Warning] feature_fraction is set=0.9360257737830521, colsample_bytree=0.3 will be ignored. Current value: feature_fraction=0.9360257737830521\n",
      "[LightGBM] [Warning] min_data_in_leaf is set=5300, min_child_samples=88 will be ignored. Current value: min_data_in_leaf=5300\n",
      "[LightGBM] [Warning] min_gain_to_split is set=11.915705742005121, min_split_gain=0.0 will be ignored. Current value: min_gain_to_split=11.915705742005121\n",
      "[LightGBM] [Warning] bagging_fraction is set=0.4215533322628647, subsample=1.0 will be ignored. Current value: bagging_fraction=0.4215533322628647\n",
      "[LightGBM] [Warning] lambda_l1 is set=1.331992455220449e-07, reg_alpha=0.0 will be ignored. Current value: lambda_l1=1.331992455220449e-07\n",
      "[LightGBM] [Warning] lambda_l2 is set=8.687805054753998, reg_lambda=0.0 will be ignored. Current value: lambda_l2=8.687805054753998\n",
      "[LightGBM] [Warning] bagging_freq is set=7, subsample_freq=0 will be ignored. Current value: bagging_freq=7\n",
      "[LightGBM] [Warning] feature_fraction is set=0.9360257737830521, colsample_bytree=0.3 will be ignored. Current value: feature_fraction=0.9360257737830521\n",
      "[LightGBM] [Warning] min_data_in_leaf is set=5300, min_child_samples=88 will be ignored. Current value: min_data_in_leaf=5300\n",
      "[LightGBM] [Warning] min_gain_to_split is set=11.915705742005121, min_split_gain=0.0 will be ignored. Current value: min_gain_to_split=11.915705742005121\n",
      "[LightGBM] [Warning] bagging_fraction is set=0.4215533322628647, subsample=1.0 will be ignored. Current value: bagging_fraction=0.4215533322628647\n",
      "[LightGBM] [Warning] lambda_l1 is set=1.331992455220449e-07, reg_alpha=0.0 will be ignored. Current value: lambda_l1=1.331992455220449e-07\n",
      "[LightGBM] [Warning] lambda_l2 is set=8.687805054753998, reg_lambda=0.0 will be ignored. Current value: lambda_l2=8.687805054753998\n",
      "[LightGBM] [Warning] bagging_freq is set=7, subsample_freq=0 will be ignored. Current value: bagging_freq=7\n",
      "[LightGBM] [Warning] feature_fraction is set=0.9360257737830521, colsample_bytree=0.3 will be ignored. Current value: feature_fraction=0.9360257737830521\n",
      "[LightGBM] [Warning] min_data_in_leaf is set=5300, min_child_samples=88 will be ignored. Current value: min_data_in_leaf=5300\n",
      "[LightGBM] [Warning] min_gain_to_split is set=11.915705742005121, min_split_gain=0.0 will be ignored. Current value: min_gain_to_split=11.915705742005121\n",
      "[LightGBM] [Warning] bagging_fraction is set=0.4215533322628647, subsample=1.0 will be ignored. Current value: bagging_fraction=0.4215533322628647\n",
      "[LightGBM] [Warning] lambda_l1 is set=1.331992455220449e-07, reg_alpha=0.0 will be ignored. Current value: lambda_l1=1.331992455220449e-07\n",
      "[LightGBM] [Warning] lambda_l2 is set=8.687805054753998, reg_lambda=0.0 will be ignored. Current value: lambda_l2=8.687805054753998\n",
      "[LightGBM] [Warning] bagging_freq is set=7, subsample_freq=0 will be ignored. Current value: bagging_freq=7\n"
     ]
    },
    {
     "name": "stderr",
     "output_type": "stream",
     "text": [
      "\u001b[32m[I 2022-11-22 00:07:09,483]\u001b[0m Trial 0 finished with value: 0.5943757830935336 and parameters: {'n_estimators': 250, 'learning_rate': 0.0551756435207651, 'max_depth': 9, 'num_leaves': 7, 'min_data_in_leaf': 5300, 'min_child_samples': 88, 'lambda_l1': 1.331992455220449e-07, 'lambda_l2': 8.687805054753998, 'min_gain_to_split': 11.915705742005121, 'feature_fraction': 0.9360257737830521, 'bagging_fraction': 0.4215533322628647, 'bagging_freq': 7, 'colsample_bytree': 0.3}. Best is trial 0 with value: 0.5943757830935336.\u001b[0m\n"
     ]
    },
    {
     "name": "stdout",
     "output_type": "stream",
     "text": [
      "[LightGBM] [Warning] feature_fraction is set=0.41467541758797954, colsample_bytree=0.3 will be ignored. Current value: feature_fraction=0.41467541758797954\n",
      "[LightGBM] [Warning] min_data_in_leaf is set=6100, min_child_samples=78 will be ignored. Current value: min_data_in_leaf=6100\n",
      "[LightGBM] [Warning] min_gain_to_split is set=5.869999841801144, min_split_gain=0.0 will be ignored. Current value: min_gain_to_split=5.869999841801144\n",
      "[LightGBM] [Warning] bagging_fraction is set=0.6661540828614549, subsample=1.0 will be ignored. Current value: bagging_fraction=0.6661540828614549\n",
      "[LightGBM] [Warning] lambda_l1 is set=0.0010935387178263578, reg_alpha=0.0 will be ignored. Current value: lambda_l1=0.0010935387178263578\n",
      "[LightGBM] [Warning] lambda_l2 is set=4.8009453078392375e-08, reg_lambda=0.0 will be ignored. Current value: lambda_l2=4.8009453078392375e-08\n",
      "[LightGBM] [Warning] bagging_freq is set=1, subsample_freq=0 will be ignored. Current value: bagging_freq=1\n",
      "[LightGBM] [Warning] feature_fraction is set=0.41467541758797954, colsample_bytree=0.3 will be ignored. Current value: feature_fraction=0.41467541758797954\n",
      "[LightGBM] [Warning] min_data_in_leaf is set=6100, min_child_samples=78 will be ignored. Current value: min_data_in_leaf=6100\n",
      "[LightGBM] [Warning] min_gain_to_split is set=5.869999841801144, min_split_gain=0.0 will be ignored. Current value: min_gain_to_split=5.869999841801144\n",
      "[LightGBM] [Warning] bagging_fraction is set=0.6661540828614549, subsample=1.0 will be ignored. Current value: bagging_fraction=0.6661540828614549\n",
      "[LightGBM] [Warning] lambda_l1 is set=0.0010935387178263578, reg_alpha=0.0 will be ignored. Current value: lambda_l1=0.0010935387178263578\n",
      "[LightGBM] [Warning] lambda_l2 is set=4.8009453078392375e-08, reg_lambda=0.0 will be ignored. Current value: lambda_l2=4.8009453078392375e-08\n",
      "[LightGBM] [Warning] bagging_freq is set=1, subsample_freq=0 will be ignored. Current value: bagging_freq=1\n",
      "[LightGBM] [Warning] feature_fraction is set=0.41467541758797954, colsample_bytree=0.3 will be ignored. Current value: feature_fraction=0.41467541758797954\n",
      "[LightGBM] [Warning] min_data_in_leaf is set=6100, min_child_samples=78 will be ignored. Current value: min_data_in_leaf=6100\n",
      "[LightGBM] [Warning] min_gain_to_split is set=5.869999841801144, min_split_gain=0.0 will be ignored. Current value: min_gain_to_split=5.869999841801144\n",
      "[LightGBM] [Warning] bagging_fraction is set=0.6661540828614549, subsample=1.0 will be ignored. Current value: bagging_fraction=0.6661540828614549\n",
      "[LightGBM] [Warning] lambda_l1 is set=0.0010935387178263578, reg_alpha=0.0 will be ignored. Current value: lambda_l1=0.0010935387178263578\n",
      "[LightGBM] [Warning] lambda_l2 is set=4.8009453078392375e-08, reg_lambda=0.0 will be ignored. Current value: lambda_l2=4.8009453078392375e-08\n",
      "[LightGBM] [Warning] bagging_freq is set=1, subsample_freq=0 will be ignored. Current value: bagging_freq=1\n",
      "[LightGBM] [Warning] feature_fraction is set=0.41467541758797954, colsample_bytree=0.3 will be ignored. Current value: feature_fraction=0.41467541758797954\n",
      "[LightGBM] [Warning] min_data_in_leaf is set=6100, min_child_samples=78 will be ignored. Current value: min_data_in_leaf=6100\n",
      "[LightGBM] [Warning] min_gain_to_split is set=5.869999841801144, min_split_gain=0.0 will be ignored. Current value: min_gain_to_split=5.869999841801144\n",
      "[LightGBM] [Warning] bagging_fraction is set=0.6661540828614549, subsample=1.0 will be ignored. Current value: bagging_fraction=0.6661540828614549\n",
      "[LightGBM] [Warning] lambda_l1 is set=0.0010935387178263578, reg_alpha=0.0 will be ignored. Current value: lambda_l1=0.0010935387178263578\n",
      "[LightGBM] [Warning] lambda_l2 is set=4.8009453078392375e-08, reg_lambda=0.0 will be ignored. Current value: lambda_l2=4.8009453078392375e-08\n",
      "[LightGBM] [Warning] bagging_freq is set=1, subsample_freq=0 will be ignored. Current value: bagging_freq=1\n",
      "[LightGBM] [Warning] feature_fraction is set=0.41467541758797954, colsample_bytree=0.3 will be ignored. Current value: feature_fraction=0.41467541758797954\n",
      "[LightGBM] [Warning] min_data_in_leaf is set=6100, min_child_samples=78 will be ignored. Current value: min_data_in_leaf=6100\n",
      "[LightGBM] [Warning] min_gain_to_split is set=5.869999841801144, min_split_gain=0.0 will be ignored. Current value: min_gain_to_split=5.869999841801144\n",
      "[LightGBM] [Warning] bagging_fraction is set=0.6661540828614549, subsample=1.0 will be ignored. Current value: bagging_fraction=0.6661540828614549\n",
      "[LightGBM] [Warning] lambda_l1 is set=0.0010935387178263578, reg_alpha=0.0 will be ignored. Current value: lambda_l1=0.0010935387178263578\n",
      "[LightGBM] [Warning] lambda_l2 is set=4.8009453078392375e-08, reg_lambda=0.0 will be ignored. Current value: lambda_l2=4.8009453078392375e-08\n",
      "[LightGBM] [Warning] bagging_freq is set=1, subsample_freq=0 will be ignored. Current value: bagging_freq=1\n"
     ]
    },
    {
     "name": "stderr",
     "output_type": "stream",
     "text": [
      "\u001b[32m[I 2022-11-22 00:07:31,522]\u001b[0m Trial 1 finished with value: 0.6622871626535246 and parameters: {'n_estimators': 250, 'learning_rate': 0.002922198824672816, 'max_depth': 11, 'num_leaves': 7, 'min_data_in_leaf': 6100, 'min_child_samples': 78, 'lambda_l1': 0.0010935387178263578, 'lambda_l2': 4.8009453078392375e-08, 'min_gain_to_split': 5.869999841801144, 'feature_fraction': 0.41467541758797954, 'bagging_fraction': 0.6661540828614549, 'bagging_freq': 1, 'colsample_bytree': 0.3}. Best is trial 0 with value: 0.5943757830935336.\u001b[0m\n"
     ]
    },
    {
     "name": "stdout",
     "output_type": "stream",
     "text": [
      "[LightGBM] [Warning] feature_fraction is set=0.9566663669834489, colsample_bytree=0.3 will be ignored. Current value: feature_fraction=0.9566663669834489\n",
      "[LightGBM] [Warning] min_data_in_leaf is set=7800, min_child_samples=53 will be ignored. Current value: min_data_in_leaf=7800\n",
      "[LightGBM] [Warning] min_gain_to_split is set=12.797346320343738, min_split_gain=0.0 will be ignored. Current value: min_gain_to_split=12.797346320343738\n",
      "[LightGBM] [Warning] bagging_fraction is set=0.7521828917891743, subsample=1.0 will be ignored. Current value: bagging_fraction=0.7521828917891743\n",
      "[LightGBM] [Warning] lambda_l1 is set=0.0029866111732422917, reg_alpha=0.0 will be ignored. Current value: lambda_l1=0.0029866111732422917\n",
      "[LightGBM] [Warning] lambda_l2 is set=1.248912487127925e-06, reg_lambda=0.0 will be ignored. Current value: lambda_l2=1.248912487127925e-06\n",
      "[LightGBM] [Warning] bagging_freq is set=7, subsample_freq=0 will be ignored. Current value: bagging_freq=7\n",
      "[LightGBM] [Warning] feature_fraction is set=0.9566663669834489, colsample_bytree=0.3 will be ignored. Current value: feature_fraction=0.9566663669834489\n",
      "[LightGBM] [Warning] min_data_in_leaf is set=7800, min_child_samples=53 will be ignored. Current value: min_data_in_leaf=7800\n",
      "[LightGBM] [Warning] min_gain_to_split is set=12.797346320343738, min_split_gain=0.0 will be ignored. Current value: min_gain_to_split=12.797346320343738\n",
      "[LightGBM] [Warning] bagging_fraction is set=0.7521828917891743, subsample=1.0 will be ignored. Current value: bagging_fraction=0.7521828917891743\n",
      "[LightGBM] [Warning] lambda_l1 is set=0.0029866111732422917, reg_alpha=0.0 will be ignored. Current value: lambda_l1=0.0029866111732422917\n",
      "[LightGBM] [Warning] lambda_l2 is set=1.248912487127925e-06, reg_lambda=0.0 will be ignored. Current value: lambda_l2=1.248912487127925e-06\n",
      "[LightGBM] [Warning] bagging_freq is set=7, subsample_freq=0 will be ignored. Current value: bagging_freq=7\n",
      "[LightGBM] [Warning] feature_fraction is set=0.9566663669834489, colsample_bytree=0.3 will be ignored. Current value: feature_fraction=0.9566663669834489\n",
      "[LightGBM] [Warning] min_data_in_leaf is set=7800, min_child_samples=53 will be ignored. Current value: min_data_in_leaf=7800\n",
      "[LightGBM] [Warning] min_gain_to_split is set=12.797346320343738, min_split_gain=0.0 will be ignored. Current value: min_gain_to_split=12.797346320343738\n",
      "[LightGBM] [Warning] bagging_fraction is set=0.7521828917891743, subsample=1.0 will be ignored. Current value: bagging_fraction=0.7521828917891743\n",
      "[LightGBM] [Warning] lambda_l1 is set=0.0029866111732422917, reg_alpha=0.0 will be ignored. Current value: lambda_l1=0.0029866111732422917\n",
      "[LightGBM] [Warning] lambda_l2 is set=1.248912487127925e-06, reg_lambda=0.0 will be ignored. Current value: lambda_l2=1.248912487127925e-06\n",
      "[LightGBM] [Warning] bagging_freq is set=7, subsample_freq=0 will be ignored. Current value: bagging_freq=7\n",
      "[LightGBM] [Warning] feature_fraction is set=0.9566663669834489, colsample_bytree=0.3 will be ignored. Current value: feature_fraction=0.9566663669834489\n",
      "[LightGBM] [Warning] min_data_in_leaf is set=7800, min_child_samples=53 will be ignored. Current value: min_data_in_leaf=7800\n",
      "[LightGBM] [Warning] min_gain_to_split is set=12.797346320343738, min_split_gain=0.0 will be ignored. Current value: min_gain_to_split=12.797346320343738\n",
      "[LightGBM] [Warning] bagging_fraction is set=0.7521828917891743, subsample=1.0 will be ignored. Current value: bagging_fraction=0.7521828917891743\n",
      "[LightGBM] [Warning] lambda_l1 is set=0.0029866111732422917, reg_alpha=0.0 will be ignored. Current value: lambda_l1=0.0029866111732422917\n",
      "[LightGBM] [Warning] lambda_l2 is set=1.248912487127925e-06, reg_lambda=0.0 will be ignored. Current value: lambda_l2=1.248912487127925e-06\n",
      "[LightGBM] [Warning] bagging_freq is set=7, subsample_freq=0 will be ignored. Current value: bagging_freq=7\n",
      "[LightGBM] [Warning] feature_fraction is set=0.9566663669834489, colsample_bytree=0.3 will be ignored. Current value: feature_fraction=0.9566663669834489\n",
      "[LightGBM] [Warning] min_data_in_leaf is set=7800, min_child_samples=53 will be ignored. Current value: min_data_in_leaf=7800\n",
      "[LightGBM] [Warning] min_gain_to_split is set=12.797346320343738, min_split_gain=0.0 will be ignored. Current value: min_gain_to_split=12.797346320343738\n",
      "[LightGBM] [Warning] bagging_fraction is set=0.7521828917891743, subsample=1.0 will be ignored. Current value: bagging_fraction=0.7521828917891743\n",
      "[LightGBM] [Warning] lambda_l1 is set=0.0029866111732422917, reg_alpha=0.0 will be ignored. Current value: lambda_l1=0.0029866111732422917\n",
      "[LightGBM] [Warning] lambda_l2 is set=1.248912487127925e-06, reg_lambda=0.0 will be ignored. Current value: lambda_l2=1.248912487127925e-06\n",
      "[LightGBM] [Warning] bagging_freq is set=7, subsample_freq=0 will be ignored. Current value: bagging_freq=7\n"
     ]
    },
    {
     "name": "stderr",
     "output_type": "stream",
     "text": [
      "\u001b[32m[I 2022-11-22 00:07:54,081]\u001b[0m Trial 2 finished with value: 0.6775290634030481 and parameters: {'n_estimators': 250, 'learning_rate': 0.0008292964569201049, 'max_depth': 9, 'num_leaves': 11, 'min_data_in_leaf': 7800, 'min_child_samples': 53, 'lambda_l1': 0.0029866111732422917, 'lambda_l2': 1.248912487127925e-06, 'min_gain_to_split': 12.797346320343738, 'feature_fraction': 0.9566663669834489, 'bagging_fraction': 0.7521828917891743, 'bagging_freq': 7, 'colsample_bytree': 0.3}. Best is trial 0 with value: 0.5943757830935336.\u001b[0m\n"
     ]
    },
    {
     "name": "stdout",
     "output_type": "stream",
     "text": [
      "[LightGBM] [Warning] feature_fraction is set=0.711620685132414, colsample_bytree=0.3 will be ignored. Current value: feature_fraction=0.711620685132414\n",
      "[LightGBM] [Warning] min_data_in_leaf is set=8300, min_child_samples=80 will be ignored. Current value: min_data_in_leaf=8300\n",
      "[LightGBM] [Warning] min_gain_to_split is set=5.198411404448729, min_split_gain=0.0 will be ignored. Current value: min_gain_to_split=5.198411404448729\n",
      "[LightGBM] [Warning] bagging_fraction is set=0.8333360468539825, subsample=1.0 will be ignored. Current value: bagging_fraction=0.8333360468539825\n",
      "[LightGBM] [Warning] lambda_l1 is set=7.2164219009526904e-06, reg_alpha=0.0 will be ignored. Current value: lambda_l1=7.2164219009526904e-06\n",
      "[LightGBM] [Warning] lambda_l2 is set=1.421024779736183, reg_lambda=0.0 will be ignored. Current value: lambda_l2=1.421024779736183\n",
      "[LightGBM] [Warning] bagging_freq is set=7, subsample_freq=0 will be ignored. Current value: bagging_freq=7\n",
      "[LightGBM] [Warning] feature_fraction is set=0.711620685132414, colsample_bytree=0.3 will be ignored. Current value: feature_fraction=0.711620685132414\n",
      "[LightGBM] [Warning] min_data_in_leaf is set=8300, min_child_samples=80 will be ignored. Current value: min_data_in_leaf=8300\n",
      "[LightGBM] [Warning] min_gain_to_split is set=5.198411404448729, min_split_gain=0.0 will be ignored. Current value: min_gain_to_split=5.198411404448729\n",
      "[LightGBM] [Warning] bagging_fraction is set=0.8333360468539825, subsample=1.0 will be ignored. Current value: bagging_fraction=0.8333360468539825\n",
      "[LightGBM] [Warning] lambda_l1 is set=7.2164219009526904e-06, reg_alpha=0.0 will be ignored. Current value: lambda_l1=7.2164219009526904e-06\n",
      "[LightGBM] [Warning] lambda_l2 is set=1.421024779736183, reg_lambda=0.0 will be ignored. Current value: lambda_l2=1.421024779736183\n",
      "[LightGBM] [Warning] bagging_freq is set=7, subsample_freq=0 will be ignored. Current value: bagging_freq=7\n",
      "[LightGBM] [Warning] feature_fraction is set=0.711620685132414, colsample_bytree=0.3 will be ignored. Current value: feature_fraction=0.711620685132414\n",
      "[LightGBM] [Warning] min_data_in_leaf is set=8300, min_child_samples=80 will be ignored. Current value: min_data_in_leaf=8300\n",
      "[LightGBM] [Warning] min_gain_to_split is set=5.198411404448729, min_split_gain=0.0 will be ignored. Current value: min_gain_to_split=5.198411404448729\n",
      "[LightGBM] [Warning] bagging_fraction is set=0.8333360468539825, subsample=1.0 will be ignored. Current value: bagging_fraction=0.8333360468539825\n",
      "[LightGBM] [Warning] lambda_l1 is set=7.2164219009526904e-06, reg_alpha=0.0 will be ignored. Current value: lambda_l1=7.2164219009526904e-06\n",
      "[LightGBM] [Warning] lambda_l2 is set=1.421024779736183, reg_lambda=0.0 will be ignored. Current value: lambda_l2=1.421024779736183\n",
      "[LightGBM] [Warning] bagging_freq is set=7, subsample_freq=0 will be ignored. Current value: bagging_freq=7\n",
      "[LightGBM] [Warning] feature_fraction is set=0.711620685132414, colsample_bytree=0.3 will be ignored. Current value: feature_fraction=0.711620685132414\n",
      "[LightGBM] [Warning] min_data_in_leaf is set=8300, min_child_samples=80 will be ignored. Current value: min_data_in_leaf=8300\n",
      "[LightGBM] [Warning] min_gain_to_split is set=5.198411404448729, min_split_gain=0.0 will be ignored. Current value: min_gain_to_split=5.198411404448729\n",
      "[LightGBM] [Warning] bagging_fraction is set=0.8333360468539825, subsample=1.0 will be ignored. Current value: bagging_fraction=0.8333360468539825\n",
      "[LightGBM] [Warning] lambda_l1 is set=7.2164219009526904e-06, reg_alpha=0.0 will be ignored. Current value: lambda_l1=7.2164219009526904e-06\n",
      "[LightGBM] [Warning] lambda_l2 is set=1.421024779736183, reg_lambda=0.0 will be ignored. Current value: lambda_l2=1.421024779736183\n",
      "[LightGBM] [Warning] bagging_freq is set=7, subsample_freq=0 will be ignored. Current value: bagging_freq=7\n",
      "[LightGBM] [Warning] feature_fraction is set=0.711620685132414, colsample_bytree=0.3 will be ignored. Current value: feature_fraction=0.711620685132414\n",
      "[LightGBM] [Warning] min_data_in_leaf is set=8300, min_child_samples=80 will be ignored. Current value: min_data_in_leaf=8300\n",
      "[LightGBM] [Warning] min_gain_to_split is set=5.198411404448729, min_split_gain=0.0 will be ignored. Current value: min_gain_to_split=5.198411404448729\n",
      "[LightGBM] [Warning] bagging_fraction is set=0.8333360468539825, subsample=1.0 will be ignored. Current value: bagging_fraction=0.8333360468539825\n",
      "[LightGBM] [Warning] lambda_l1 is set=7.2164219009526904e-06, reg_alpha=0.0 will be ignored. Current value: lambda_l1=7.2164219009526904e-06\n",
      "[LightGBM] [Warning] lambda_l2 is set=1.421024779736183, reg_lambda=0.0 will be ignored. Current value: lambda_l2=1.421024779736183\n",
      "[LightGBM] [Warning] bagging_freq is set=7, subsample_freq=0 will be ignored. Current value: bagging_freq=7\n"
     ]
    },
    {
     "name": "stderr",
     "output_type": "stream",
     "text": [
      "\u001b[32m[I 2022-11-22 00:08:06,323]\u001b[0m Trial 3 finished with value: 0.603190436047925 and parameters: {'n_estimators': 100, 'learning_rate': 0.09532846112143648, 'max_depth': 3, 'num_leaves': 7, 'min_data_in_leaf': 8300, 'min_child_samples': 80, 'lambda_l1': 7.2164219009526904e-06, 'lambda_l2': 1.421024779736183, 'min_gain_to_split': 5.198411404448729, 'feature_fraction': 0.711620685132414, 'bagging_fraction': 0.8333360468539825, 'bagging_freq': 7, 'colsample_bytree': 0.3}. Best is trial 0 with value: 0.5943757830935336.\u001b[0m\n"
     ]
    },
    {
     "name": "stdout",
     "output_type": "stream",
     "text": [
      "[LightGBM] [Warning] feature_fraction is set=0.7107837662403516, colsample_bytree=0.3 will be ignored. Current value: feature_fraction=0.7107837662403516\n",
      "[LightGBM] [Warning] min_data_in_leaf is set=6600, min_child_samples=94 will be ignored. Current value: min_data_in_leaf=6600\n",
      "[LightGBM] [Warning] min_gain_to_split is set=1.6488647946764963, min_split_gain=0.0 will be ignored. Current value: min_gain_to_split=1.6488647946764963\n",
      "[LightGBM] [Warning] bagging_fraction is set=0.6900410814001166, subsample=1.0 will be ignored. Current value: bagging_fraction=0.6900410814001166\n",
      "[LightGBM] [Warning] lambda_l1 is set=1.1070086603431163e-06, reg_alpha=0.0 will be ignored. Current value: lambda_l1=1.1070086603431163e-06\n",
      "[LightGBM] [Warning] lambda_l2 is set=8.674752854058944e-07, reg_lambda=0.0 will be ignored. Current value: lambda_l2=8.674752854058944e-07\n",
      "[LightGBM] [Warning] bagging_freq is set=6, subsample_freq=0 will be ignored. Current value: bagging_freq=6\n",
      "[LightGBM] [Warning] feature_fraction is set=0.7107837662403516, colsample_bytree=0.3 will be ignored. Current value: feature_fraction=0.7107837662403516\n",
      "[LightGBM] [Warning] min_data_in_leaf is set=6600, min_child_samples=94 will be ignored. Current value: min_data_in_leaf=6600\n",
      "[LightGBM] [Warning] min_gain_to_split is set=1.6488647946764963, min_split_gain=0.0 will be ignored. Current value: min_gain_to_split=1.6488647946764963\n",
      "[LightGBM] [Warning] bagging_fraction is set=0.6900410814001166, subsample=1.0 will be ignored. Current value: bagging_fraction=0.6900410814001166\n",
      "[LightGBM] [Warning] lambda_l1 is set=1.1070086603431163e-06, reg_alpha=0.0 will be ignored. Current value: lambda_l1=1.1070086603431163e-06\n",
      "[LightGBM] [Warning] lambda_l2 is set=8.674752854058944e-07, reg_lambda=0.0 will be ignored. Current value: lambda_l2=8.674752854058944e-07\n",
      "[LightGBM] [Warning] bagging_freq is set=6, subsample_freq=0 will be ignored. Current value: bagging_freq=6\n",
      "[LightGBM] [Warning] feature_fraction is set=0.7107837662403516, colsample_bytree=0.3 will be ignored. Current value: feature_fraction=0.7107837662403516\n",
      "[LightGBM] [Warning] min_data_in_leaf is set=6600, min_child_samples=94 will be ignored. Current value: min_data_in_leaf=6600\n",
      "[LightGBM] [Warning] min_gain_to_split is set=1.6488647946764963, min_split_gain=0.0 will be ignored. Current value: min_gain_to_split=1.6488647946764963\n",
      "[LightGBM] [Warning] bagging_fraction is set=0.6900410814001166, subsample=1.0 will be ignored. Current value: bagging_fraction=0.6900410814001166\n",
      "[LightGBM] [Warning] lambda_l1 is set=1.1070086603431163e-06, reg_alpha=0.0 will be ignored. Current value: lambda_l1=1.1070086603431163e-06\n",
      "[LightGBM] [Warning] lambda_l2 is set=8.674752854058944e-07, reg_lambda=0.0 will be ignored. Current value: lambda_l2=8.674752854058944e-07\n",
      "[LightGBM] [Warning] bagging_freq is set=6, subsample_freq=0 will be ignored. Current value: bagging_freq=6\n",
      "[LightGBM] [Warning] feature_fraction is set=0.7107837662403516, colsample_bytree=0.3 will be ignored. Current value: feature_fraction=0.7107837662403516\n",
      "[LightGBM] [Warning] min_data_in_leaf is set=6600, min_child_samples=94 will be ignored. Current value: min_data_in_leaf=6600\n",
      "[LightGBM] [Warning] min_gain_to_split is set=1.6488647946764963, min_split_gain=0.0 will be ignored. Current value: min_gain_to_split=1.6488647946764963\n",
      "[LightGBM] [Warning] bagging_fraction is set=0.6900410814001166, subsample=1.0 will be ignored. Current value: bagging_fraction=0.6900410814001166\n",
      "[LightGBM] [Warning] lambda_l1 is set=1.1070086603431163e-06, reg_alpha=0.0 will be ignored. Current value: lambda_l1=1.1070086603431163e-06\n",
      "[LightGBM] [Warning] lambda_l2 is set=8.674752854058944e-07, reg_lambda=0.0 will be ignored. Current value: lambda_l2=8.674752854058944e-07\n",
      "[LightGBM] [Warning] bagging_freq is set=6, subsample_freq=0 will be ignored. Current value: bagging_freq=6\n",
      "[LightGBM] [Warning] feature_fraction is set=0.7107837662403516, colsample_bytree=0.3 will be ignored. Current value: feature_fraction=0.7107837662403516\n",
      "[LightGBM] [Warning] min_data_in_leaf is set=6600, min_child_samples=94 will be ignored. Current value: min_data_in_leaf=6600\n",
      "[LightGBM] [Warning] min_gain_to_split is set=1.6488647946764963, min_split_gain=0.0 will be ignored. Current value: min_gain_to_split=1.6488647946764963\n",
      "[LightGBM] [Warning] bagging_fraction is set=0.6900410814001166, subsample=1.0 will be ignored. Current value: bagging_fraction=0.6900410814001166\n",
      "[LightGBM] [Warning] lambda_l1 is set=1.1070086603431163e-06, reg_alpha=0.0 will be ignored. Current value: lambda_l1=1.1070086603431163e-06\n",
      "[LightGBM] [Warning] lambda_l2 is set=8.674752854058944e-07, reg_lambda=0.0 will be ignored. Current value: lambda_l2=8.674752854058944e-07\n",
      "[LightGBM] [Warning] bagging_freq is set=6, subsample_freq=0 will be ignored. Current value: bagging_freq=6\n"
     ]
    },
    {
     "name": "stderr",
     "output_type": "stream",
     "text": [
      "\u001b[32m[I 2022-11-22 00:08:29,298]\u001b[0m Trial 4 finished with value: 0.6896374653872889 and parameters: {'n_estimators': 350, 'learning_rate': 0.00014446418232287017, 'max_depth': 7, 'num_leaves': 7, 'min_data_in_leaf': 6600, 'min_child_samples': 94, 'lambda_l1': 1.1070086603431163e-06, 'lambda_l2': 8.674752854058944e-07, 'min_gain_to_split': 1.6488647946764963, 'feature_fraction': 0.7107837662403516, 'bagging_fraction': 0.6900410814001166, 'bagging_freq': 6, 'colsample_bytree': 0.3}. Best is trial 0 with value: 0.5943757830935336.\u001b[0m\n"
     ]
    },
    {
     "name": "stdout",
     "output_type": "stream",
     "text": [
      "[LightGBM] [Warning] feature_fraction is set=0.8623688615098831, colsample_bytree=0.3 will be ignored. Current value: feature_fraction=0.8623688615098831\n",
      "[LightGBM] [Warning] min_data_in_leaf is set=7400, min_child_samples=69 will be ignored. Current value: min_data_in_leaf=7400\n",
      "[LightGBM] [Warning] min_gain_to_split is set=12.346372254940608, min_split_gain=0.0 will be ignored. Current value: min_gain_to_split=12.346372254940608\n",
      "[LightGBM] [Warning] bagging_fraction is set=0.7333326826789888, subsample=1.0 will be ignored. Current value: bagging_fraction=0.7333326826789888\n",
      "[LightGBM] [Warning] lambda_l1 is set=0.00019498998965584584, reg_alpha=0.0 will be ignored. Current value: lambda_l1=0.00019498998965584584\n",
      "[LightGBM] [Warning] lambda_l2 is set=1.0210828871440583e-07, reg_lambda=0.0 will be ignored. Current value: lambda_l2=1.0210828871440583e-07\n",
      "[LightGBM] [Warning] bagging_freq is set=2, subsample_freq=0 will be ignored. Current value: bagging_freq=2\n",
      "[LightGBM] [Warning] feature_fraction is set=0.8623688615098831, colsample_bytree=0.3 will be ignored. Current value: feature_fraction=0.8623688615098831\n",
      "[LightGBM] [Warning] min_data_in_leaf is set=7400, min_child_samples=69 will be ignored. Current value: min_data_in_leaf=7400\n",
      "[LightGBM] [Warning] min_gain_to_split is set=12.346372254940608, min_split_gain=0.0 will be ignored. Current value: min_gain_to_split=12.346372254940608\n",
      "[LightGBM] [Warning] bagging_fraction is set=0.7333326826789888, subsample=1.0 will be ignored. Current value: bagging_fraction=0.7333326826789888\n",
      "[LightGBM] [Warning] lambda_l1 is set=0.00019498998965584584, reg_alpha=0.0 will be ignored. Current value: lambda_l1=0.00019498998965584584\n",
      "[LightGBM] [Warning] lambda_l2 is set=1.0210828871440583e-07, reg_lambda=0.0 will be ignored. Current value: lambda_l2=1.0210828871440583e-07\n",
      "[LightGBM] [Warning] bagging_freq is set=2, subsample_freq=0 will be ignored. Current value: bagging_freq=2\n",
      "[LightGBM] [Warning] feature_fraction is set=0.8623688615098831, colsample_bytree=0.3 will be ignored. Current value: feature_fraction=0.8623688615098831\n",
      "[LightGBM] [Warning] min_data_in_leaf is set=7400, min_child_samples=69 will be ignored. Current value: min_data_in_leaf=7400\n",
      "[LightGBM] [Warning] min_gain_to_split is set=12.346372254940608, min_split_gain=0.0 will be ignored. Current value: min_gain_to_split=12.346372254940608\n",
      "[LightGBM] [Warning] bagging_fraction is set=0.7333326826789888, subsample=1.0 will be ignored. Current value: bagging_fraction=0.7333326826789888\n",
      "[LightGBM] [Warning] lambda_l1 is set=0.00019498998965584584, reg_alpha=0.0 will be ignored. Current value: lambda_l1=0.00019498998965584584\n",
      "[LightGBM] [Warning] lambda_l2 is set=1.0210828871440583e-07, reg_lambda=0.0 will be ignored. Current value: lambda_l2=1.0210828871440583e-07\n",
      "[LightGBM] [Warning] bagging_freq is set=2, subsample_freq=0 will be ignored. Current value: bagging_freq=2\n",
      "[LightGBM] [Warning] feature_fraction is set=0.8623688615098831, colsample_bytree=0.3 will be ignored. Current value: feature_fraction=0.8623688615098831\n",
      "[LightGBM] [Warning] min_data_in_leaf is set=7400, min_child_samples=69 will be ignored. Current value: min_data_in_leaf=7400\n",
      "[LightGBM] [Warning] min_gain_to_split is set=12.346372254940608, min_split_gain=0.0 will be ignored. Current value: min_gain_to_split=12.346372254940608\n",
      "[LightGBM] [Warning] bagging_fraction is set=0.7333326826789888, subsample=1.0 will be ignored. Current value: bagging_fraction=0.7333326826789888\n",
      "[LightGBM] [Warning] lambda_l1 is set=0.00019498998965584584, reg_alpha=0.0 will be ignored. Current value: lambda_l1=0.00019498998965584584\n",
      "[LightGBM] [Warning] lambda_l2 is set=1.0210828871440583e-07, reg_lambda=0.0 will be ignored. Current value: lambda_l2=1.0210828871440583e-07\n",
      "[LightGBM] [Warning] bagging_freq is set=2, subsample_freq=0 will be ignored. Current value: bagging_freq=2\n",
      "[LightGBM] [Warning] feature_fraction is set=0.8623688615098831, colsample_bytree=0.3 will be ignored. Current value: feature_fraction=0.8623688615098831\n",
      "[LightGBM] [Warning] min_data_in_leaf is set=7400, min_child_samples=69 will be ignored. Current value: min_data_in_leaf=7400\n",
      "[LightGBM] [Warning] min_gain_to_split is set=12.346372254940608, min_split_gain=0.0 will be ignored. Current value: min_gain_to_split=12.346372254940608\n",
      "[LightGBM] [Warning] bagging_fraction is set=0.7333326826789888, subsample=1.0 will be ignored. Current value: bagging_fraction=0.7333326826789888\n",
      "[LightGBM] [Warning] lambda_l1 is set=0.00019498998965584584, reg_alpha=0.0 will be ignored. Current value: lambda_l1=0.00019498998965584584\n",
      "[LightGBM] [Warning] lambda_l2 is set=1.0210828871440583e-07, reg_lambda=0.0 will be ignored. Current value: lambda_l2=1.0210828871440583e-07\n",
      "[LightGBM] [Warning] bagging_freq is set=2, subsample_freq=0 will be ignored. Current value: bagging_freq=2\n"
     ]
    },
    {
     "name": "stderr",
     "output_type": "stream",
     "text": [
      "\u001b[32m[I 2022-11-22 00:08:53,642]\u001b[0m Trial 5 finished with value: 0.6150019779377811 and parameters: {'n_estimators': 300, 'learning_rate': 0.018560090492481467, 'max_depth': 3, 'num_leaves': 5, 'min_data_in_leaf': 7400, 'min_child_samples': 69, 'lambda_l1': 0.00019498998965584584, 'lambda_l2': 1.0210828871440583e-07, 'min_gain_to_split': 12.346372254940608, 'feature_fraction': 0.8623688615098831, 'bagging_fraction': 0.7333326826789888, 'bagging_freq': 2, 'colsample_bytree': 0.3}. Best is trial 0 with value: 0.5943757830935336.\u001b[0m\n"
     ]
    },
    {
     "name": "stdout",
     "output_type": "stream",
     "text": [
      "[LightGBM] [Warning] feature_fraction is set=0.9506300497152037, colsample_bytree=0.3 will be ignored. Current value: feature_fraction=0.9506300497152037\n",
      "[LightGBM] [Warning] min_data_in_leaf is set=2800, min_child_samples=32 will be ignored. Current value: min_data_in_leaf=2800\n",
      "[LightGBM] [Warning] min_gain_to_split is set=0.11022038616618601, min_split_gain=0.0 will be ignored. Current value: min_gain_to_split=0.11022038616618601\n",
      "[LightGBM] [Warning] bagging_fraction is set=0.8137313436143907, subsample=1.0 will be ignored. Current value: bagging_fraction=0.8137313436143907\n",
      "[LightGBM] [Warning] lambda_l1 is set=0.6521214270736071, reg_alpha=0.0 will be ignored. Current value: lambda_l1=0.6521214270736071\n",
      "[LightGBM] [Warning] lambda_l2 is set=0.0017176555646125063, reg_lambda=0.0 will be ignored. Current value: lambda_l2=0.0017176555646125063\n",
      "[LightGBM] [Warning] bagging_freq is set=3, subsample_freq=0 will be ignored. Current value: bagging_freq=3\n",
      "[LightGBM] [Warning] feature_fraction is set=0.9506300497152037, colsample_bytree=0.3 will be ignored. Current value: feature_fraction=0.9506300497152037\n",
      "[LightGBM] [Warning] min_data_in_leaf is set=2800, min_child_samples=32 will be ignored. Current value: min_data_in_leaf=2800\n",
      "[LightGBM] [Warning] min_gain_to_split is set=0.11022038616618601, min_split_gain=0.0 will be ignored. Current value: min_gain_to_split=0.11022038616618601\n",
      "[LightGBM] [Warning] bagging_fraction is set=0.8137313436143907, subsample=1.0 will be ignored. Current value: bagging_fraction=0.8137313436143907\n",
      "[LightGBM] [Warning] lambda_l1 is set=0.6521214270736071, reg_alpha=0.0 will be ignored. Current value: lambda_l1=0.6521214270736071\n",
      "[LightGBM] [Warning] lambda_l2 is set=0.0017176555646125063, reg_lambda=0.0 will be ignored. Current value: lambda_l2=0.0017176555646125063\n",
      "[LightGBM] [Warning] bagging_freq is set=3, subsample_freq=0 will be ignored. Current value: bagging_freq=3\n",
      "[LightGBM] [Warning] feature_fraction is set=0.9506300497152037, colsample_bytree=0.3 will be ignored. Current value: feature_fraction=0.9506300497152037\n",
      "[LightGBM] [Warning] min_data_in_leaf is set=2800, min_child_samples=32 will be ignored. Current value: min_data_in_leaf=2800\n",
      "[LightGBM] [Warning] min_gain_to_split is set=0.11022038616618601, min_split_gain=0.0 will be ignored. Current value: min_gain_to_split=0.11022038616618601\n",
      "[LightGBM] [Warning] bagging_fraction is set=0.8137313436143907, subsample=1.0 will be ignored. Current value: bagging_fraction=0.8137313436143907\n",
      "[LightGBM] [Warning] lambda_l1 is set=0.6521214270736071, reg_alpha=0.0 will be ignored. Current value: lambda_l1=0.6521214270736071\n",
      "[LightGBM] [Warning] lambda_l2 is set=0.0017176555646125063, reg_lambda=0.0 will be ignored. Current value: lambda_l2=0.0017176555646125063\n",
      "[LightGBM] [Warning] bagging_freq is set=3, subsample_freq=0 will be ignored. Current value: bagging_freq=3\n",
      "[LightGBM] [Warning] feature_fraction is set=0.9506300497152037, colsample_bytree=0.3 will be ignored. Current value: feature_fraction=0.9506300497152037\n",
      "[LightGBM] [Warning] min_data_in_leaf is set=2800, min_child_samples=32 will be ignored. Current value: min_data_in_leaf=2800\n",
      "[LightGBM] [Warning] min_gain_to_split is set=0.11022038616618601, min_split_gain=0.0 will be ignored. Current value: min_gain_to_split=0.11022038616618601\n",
      "[LightGBM] [Warning] bagging_fraction is set=0.8137313436143907, subsample=1.0 will be ignored. Current value: bagging_fraction=0.8137313436143907\n",
      "[LightGBM] [Warning] lambda_l1 is set=0.6521214270736071, reg_alpha=0.0 will be ignored. Current value: lambda_l1=0.6521214270736071\n",
      "[LightGBM] [Warning] lambda_l2 is set=0.0017176555646125063, reg_lambda=0.0 will be ignored. Current value: lambda_l2=0.0017176555646125063\n",
      "[LightGBM] [Warning] bagging_freq is set=3, subsample_freq=0 will be ignored. Current value: bagging_freq=3\n",
      "[LightGBM] [Warning] feature_fraction is set=0.9506300497152037, colsample_bytree=0.3 will be ignored. Current value: feature_fraction=0.9506300497152037\n",
      "[LightGBM] [Warning] min_data_in_leaf is set=2800, min_child_samples=32 will be ignored. Current value: min_data_in_leaf=2800\n",
      "[LightGBM] [Warning] min_gain_to_split is set=0.11022038616618601, min_split_gain=0.0 will be ignored. Current value: min_gain_to_split=0.11022038616618601\n",
      "[LightGBM] [Warning] bagging_fraction is set=0.8137313436143907, subsample=1.0 will be ignored. Current value: bagging_fraction=0.8137313436143907\n",
      "[LightGBM] [Warning] lambda_l1 is set=0.6521214270736071, reg_alpha=0.0 will be ignored. Current value: lambda_l1=0.6521214270736071\n",
      "[LightGBM] [Warning] lambda_l2 is set=0.0017176555646125063, reg_lambda=0.0 will be ignored. Current value: lambda_l2=0.0017176555646125063\n",
      "[LightGBM] [Warning] bagging_freq is set=3, subsample_freq=0 will be ignored. Current value: bagging_freq=3\n"
     ]
    },
    {
     "name": "stderr",
     "output_type": "stream",
     "text": [
      "\u001b[32m[I 2022-11-22 00:09:04,602]\u001b[0m Trial 6 finished with value: 0.6283907213701684 and parameters: {'n_estimators': 100, 'learning_rate': 0.021479781960832972, 'max_depth': 11, 'num_leaves': 9, 'min_data_in_leaf': 2800, 'min_child_samples': 32, 'lambda_l1': 0.6521214270736071, 'lambda_l2': 0.0017176555646125063, 'min_gain_to_split': 0.11022038616618601, 'feature_fraction': 0.9506300497152037, 'bagging_fraction': 0.8137313436143907, 'bagging_freq': 3, 'colsample_bytree': 0.3}. Best is trial 0 with value: 0.5943757830935336.\u001b[0m\n"
     ]
    },
    {
     "name": "stdout",
     "output_type": "stream",
     "text": [
      "[LightGBM] [Warning] feature_fraction is set=0.9687828170825193, colsample_bytree=0.3 will be ignored. Current value: feature_fraction=0.9687828170825193\n",
      "[LightGBM] [Warning] min_data_in_leaf is set=6700, min_child_samples=97 will be ignored. Current value: min_data_in_leaf=6700\n",
      "[LightGBM] [Warning] min_gain_to_split is set=3.3072418262401366, min_split_gain=0.0 will be ignored. Current value: min_gain_to_split=3.3072418262401366\n",
      "[LightGBM] [Warning] bagging_fraction is set=0.7404842460276259, subsample=1.0 will be ignored. Current value: bagging_fraction=0.7404842460276259\n",
      "[LightGBM] [Warning] lambda_l1 is set=0.0005727673614850234, reg_alpha=0.0 will be ignored. Current value: lambda_l1=0.0005727673614850234\n",
      "[LightGBM] [Warning] lambda_l2 is set=1.2096556347373215, reg_lambda=0.0 will be ignored. Current value: lambda_l2=1.2096556347373215\n",
      "[LightGBM] [Warning] bagging_freq is set=7, subsample_freq=0 will be ignored. Current value: bagging_freq=7\n"
     ]
    },
    {
     "name": "stderr",
     "output_type": "stream",
     "text": [
      "\u001b[32m[I 2022-11-22 00:09:05,541]\u001b[0m Trial 7 pruned. Trial was pruned at iteration 0.\u001b[0m\n",
      "\u001b[32m[I 2022-11-22 00:09:06,343]\u001b[0m Trial 8 pruned. Trial was pruned at iteration 0.\u001b[0m\n"
     ]
    },
    {
     "name": "stdout",
     "output_type": "stream",
     "text": [
      "[LightGBM] [Warning] feature_fraction is set=0.9645759401023666, colsample_bytree=0.3 will be ignored. Current value: feature_fraction=0.9645759401023666\n",
      "[LightGBM] [Warning] min_data_in_leaf is set=6700, min_child_samples=22 will be ignored. Current value: min_data_in_leaf=6700\n",
      "[LightGBM] [Warning] min_gain_to_split is set=11.055072696392987, min_split_gain=0.0 will be ignored. Current value: min_gain_to_split=11.055072696392987\n",
      "[LightGBM] [Warning] bagging_fraction is set=0.675111555963283, subsample=1.0 will be ignored. Current value: bagging_fraction=0.675111555963283\n",
      "[LightGBM] [Warning] lambda_l1 is set=0.0012753993324366103, reg_alpha=0.0 will be ignored. Current value: lambda_l1=0.0012753993324366103\n",
      "[LightGBM] [Warning] lambda_l2 is set=0.029575930215560757, reg_lambda=0.0 will be ignored. Current value: lambda_l2=0.029575930215560757\n",
      "[LightGBM] [Warning] bagging_freq is set=1, subsample_freq=0 will be ignored. Current value: bagging_freq=1\n",
      "[LightGBM] [Warning] feature_fraction is set=0.9645759401023666, colsample_bytree=0.3 will be ignored. Current value: feature_fraction=0.9645759401023666\n",
      "[LightGBM] [Warning] min_data_in_leaf is set=6700, min_child_samples=22 will be ignored. Current value: min_data_in_leaf=6700\n",
      "[LightGBM] [Warning] min_gain_to_split is set=11.055072696392987, min_split_gain=0.0 will be ignored. Current value: min_gain_to_split=11.055072696392987\n",
      "[LightGBM] [Warning] bagging_fraction is set=0.675111555963283, subsample=1.0 will be ignored. Current value: bagging_fraction=0.675111555963283\n",
      "[LightGBM] [Warning] lambda_l1 is set=0.0012753993324366103, reg_alpha=0.0 will be ignored. Current value: lambda_l1=0.0012753993324366103\n",
      "[LightGBM] [Warning] lambda_l2 is set=0.029575930215560757, reg_lambda=0.0 will be ignored. Current value: lambda_l2=0.029575930215560757\n",
      "[LightGBM] [Warning] bagging_freq is set=1, subsample_freq=0 will be ignored. Current value: bagging_freq=1\n",
      "[LightGBM] [Warning] feature_fraction is set=0.9645759401023666, colsample_bytree=0.3 will be ignored. Current value: feature_fraction=0.9645759401023666\n",
      "[LightGBM] [Warning] min_data_in_leaf is set=6700, min_child_samples=22 will be ignored. Current value: min_data_in_leaf=6700\n",
      "[LightGBM] [Warning] min_gain_to_split is set=11.055072696392987, min_split_gain=0.0 will be ignored. Current value: min_gain_to_split=11.055072696392987\n",
      "[LightGBM] [Warning] bagging_fraction is set=0.675111555963283, subsample=1.0 will be ignored. Current value: bagging_fraction=0.675111555963283\n",
      "[LightGBM] [Warning] lambda_l1 is set=0.0012753993324366103, reg_alpha=0.0 will be ignored. Current value: lambda_l1=0.0012753993324366103\n",
      "[LightGBM] [Warning] lambda_l2 is set=0.029575930215560757, reg_lambda=0.0 will be ignored. Current value: lambda_l2=0.029575930215560757\n",
      "[LightGBM] [Warning] bagging_freq is set=1, subsample_freq=0 will be ignored. Current value: bagging_freq=1\n",
      "[LightGBM] [Warning] feature_fraction is set=0.9645759401023666, colsample_bytree=0.3 will be ignored. Current value: feature_fraction=0.9645759401023666\n",
      "[LightGBM] [Warning] min_data_in_leaf is set=6700, min_child_samples=22 will be ignored. Current value: min_data_in_leaf=6700\n",
      "[LightGBM] [Warning] min_gain_to_split is set=11.055072696392987, min_split_gain=0.0 will be ignored. Current value: min_gain_to_split=11.055072696392987\n",
      "[LightGBM] [Warning] bagging_fraction is set=0.675111555963283, subsample=1.0 will be ignored. Current value: bagging_fraction=0.675111555963283\n",
      "[LightGBM] [Warning] lambda_l1 is set=0.0012753993324366103, reg_alpha=0.0 will be ignored. Current value: lambda_l1=0.0012753993324366103\n",
      "[LightGBM] [Warning] lambda_l2 is set=0.029575930215560757, reg_lambda=0.0 will be ignored. Current value: lambda_l2=0.029575930215560757\n",
      "[LightGBM] [Warning] bagging_freq is set=1, subsample_freq=0 will be ignored. Current value: bagging_freq=1\n"
     ]
    },
    {
     "name": "stderr",
     "output_type": "stream",
     "text": [
      "\u001b[32m[I 2022-11-22 00:09:28,453]\u001b[0m Trial 9 finished with value: 0.600733704304915 and parameters: {'n_estimators': 350, 'learning_rate': 0.02965509316354065, 'max_depth': 3, 'num_leaves': 11, 'min_data_in_leaf': 6700, 'min_child_samples': 22, 'lambda_l1': 0.0012753993324366103, 'lambda_l2': 0.029575930215560757, 'min_gain_to_split': 11.055072696392987, 'feature_fraction': 0.9645759401023666, 'bagging_fraction': 0.675111555963283, 'bagging_freq': 1, 'colsample_bytree': 0.3}. Best is trial 0 with value: 0.5943757830935336.\u001b[0m\n"
     ]
    },
    {
     "name": "stdout",
     "output_type": "stream",
     "text": [
      "[LightGBM] [Warning] feature_fraction is set=0.8067932135243223, colsample_bytree=0.3 will be ignored. Current value: feature_fraction=0.8067932135243223\n",
      "[LightGBM] [Warning] min_data_in_leaf is set=3500, min_child_samples=48 will be ignored. Current value: min_data_in_leaf=3500\n",
      "[LightGBM] [Warning] min_gain_to_split is set=9.798570731643546, min_split_gain=0.0 will be ignored. Current value: min_gain_to_split=9.798570731643546\n",
      "[LightGBM] [Warning] bagging_fraction is set=0.40267872302918417, subsample=1.0 will be ignored. Current value: bagging_fraction=0.40267872302918417\n",
      "[LightGBM] [Warning] lambda_l1 is set=1.063189015197714e-08, reg_alpha=0.0 will be ignored. Current value: lambda_l1=1.063189015197714e-08\n",
      "[LightGBM] [Warning] lambda_l2 is set=0.00016102770292536557, reg_lambda=0.0 will be ignored. Current value: lambda_l2=0.00016102770292536557\n",
      "[LightGBM] [Warning] bagging_freq is set=5, subsample_freq=0 will be ignored. Current value: bagging_freq=5\n"
     ]
    },
    {
     "name": "stderr",
     "output_type": "stream",
     "text": [
      "\u001b[32m[I 2022-11-22 00:09:29,606]\u001b[0m Trial 10 pruned. Trial was pruned at iteration 0.\u001b[0m\n"
     ]
    },
    {
     "name": "stdout",
     "output_type": "stream",
     "text": [
      "[LightGBM] [Warning] feature_fraction is set=0.8331548118063201, colsample_bytree=0.3 will be ignored. Current value: feature_fraction=0.8331548118063201\n",
      "[LightGBM] [Warning] min_data_in_leaf is set=4600, min_child_samples=6 will be ignored. Current value: min_data_in_leaf=4600\n",
      "[LightGBM] [Warning] min_gain_to_split is set=14.985431776250833, min_split_gain=0.0 will be ignored. Current value: min_gain_to_split=14.985431776250833\n",
      "[LightGBM] [Warning] bagging_fraction is set=0.991543457028149, subsample=1.0 will be ignored. Current value: bagging_fraction=0.991543457028149\n",
      "[LightGBM] [Warning] lambda_l1 is set=2.6178578456812224e-08, reg_alpha=0.0 will be ignored. Current value: lambda_l1=2.6178578456812224e-08\n",
      "[LightGBM] [Warning] lambda_l2 is set=0.034335973781262026, reg_lambda=0.0 will be ignored. Current value: lambda_l2=0.034335973781262026\n",
      "[LightGBM] [Warning] bagging_freq is set=4, subsample_freq=0 will be ignored. Current value: bagging_freq=4\n",
      "[LightGBM] [Warning] feature_fraction is set=0.8331548118063201, colsample_bytree=0.3 will be ignored. Current value: feature_fraction=0.8331548118063201\n",
      "[LightGBM] [Warning] min_data_in_leaf is set=4600, min_child_samples=6 will be ignored. Current value: min_data_in_leaf=4600\n",
      "[LightGBM] [Warning] min_gain_to_split is set=14.985431776250833, min_split_gain=0.0 will be ignored. Current value: min_gain_to_split=14.985431776250833\n",
      "[LightGBM] [Warning] bagging_fraction is set=0.991543457028149, subsample=1.0 will be ignored. Current value: bagging_fraction=0.991543457028149\n",
      "[LightGBM] [Warning] lambda_l1 is set=2.6178578456812224e-08, reg_alpha=0.0 will be ignored. Current value: lambda_l1=2.6178578456812224e-08\n",
      "[LightGBM] [Warning] lambda_l2 is set=0.034335973781262026, reg_lambda=0.0 will be ignored. Current value: lambda_l2=0.034335973781262026\n",
      "[LightGBM] [Warning] bagging_freq is set=4, subsample_freq=0 will be ignored. Current value: bagging_freq=4\n",
      "[LightGBM] [Warning] feature_fraction is set=0.8331548118063201, colsample_bytree=0.3 will be ignored. Current value: feature_fraction=0.8331548118063201\n",
      "[LightGBM] [Warning] min_data_in_leaf is set=4600, min_child_samples=6 will be ignored. Current value: min_data_in_leaf=4600\n",
      "[LightGBM] [Warning] min_gain_to_split is set=14.985431776250833, min_split_gain=0.0 will be ignored. Current value: min_gain_to_split=14.985431776250833\n",
      "[LightGBM] [Warning] bagging_fraction is set=0.991543457028149, subsample=1.0 will be ignored. Current value: bagging_fraction=0.991543457028149\n",
      "[LightGBM] [Warning] lambda_l1 is set=2.6178578456812224e-08, reg_alpha=0.0 will be ignored. Current value: lambda_l1=2.6178578456812224e-08\n",
      "[LightGBM] [Warning] lambda_l2 is set=0.034335973781262026, reg_lambda=0.0 will be ignored. Current value: lambda_l2=0.034335973781262026\n",
      "[LightGBM] [Warning] bagging_freq is set=4, subsample_freq=0 will be ignored. Current value: bagging_freq=4\n",
      "[LightGBM] [Warning] feature_fraction is set=0.8331548118063201, colsample_bytree=0.3 will be ignored. Current value: feature_fraction=0.8331548118063201\n",
      "[LightGBM] [Warning] min_data_in_leaf is set=4600, min_child_samples=6 will be ignored. Current value: min_data_in_leaf=4600\n",
      "[LightGBM] [Warning] min_gain_to_split is set=14.985431776250833, min_split_gain=0.0 will be ignored. Current value: min_gain_to_split=14.985431776250833\n",
      "[LightGBM] [Warning] bagging_fraction is set=0.991543457028149, subsample=1.0 will be ignored. Current value: bagging_fraction=0.991543457028149\n",
      "[LightGBM] [Warning] lambda_l1 is set=2.6178578456812224e-08, reg_alpha=0.0 will be ignored. Current value: lambda_l1=2.6178578456812224e-08\n",
      "[LightGBM] [Warning] lambda_l2 is set=0.034335973781262026, reg_lambda=0.0 will be ignored. Current value: lambda_l2=0.034335973781262026\n",
      "[LightGBM] [Warning] bagging_freq is set=4, subsample_freq=0 will be ignored. Current value: bagging_freq=4\n"
     ]
    },
    {
     "name": "stderr",
     "output_type": "stream",
     "text": [
      "\u001b[32m[I 2022-11-22 00:09:45,451]\u001b[0m Trial 11 finished with value: 0.5926005260417755 and parameters: {'n_estimators': 400, 'learning_rate': 0.2260938028212066, 'max_depth': 5, 'num_leaves': 9, 'min_data_in_leaf': 4600, 'min_child_samples': 6, 'lambda_l1': 2.6178578456812224e-08, 'lambda_l2': 0.034335973781262026, 'min_gain_to_split': 14.985431776250833, 'feature_fraction': 0.8331548118063201, 'bagging_fraction': 0.991543457028149, 'bagging_freq': 4, 'colsample_bytree': 0.3}. Best is trial 11 with value: 0.5926005260417755.\u001b[0m\n"
     ]
    },
    {
     "name": "stdout",
     "output_type": "stream",
     "text": [
      "[LightGBM] [Warning] feature_fraction is set=0.8200141724869751, colsample_bytree=0.3 will be ignored. Current value: feature_fraction=0.8200141724869751\n",
      "[LightGBM] [Warning] min_data_in_leaf is set=4300, min_child_samples=11 will be ignored. Current value: min_data_in_leaf=4300\n",
      "[LightGBM] [Warning] min_gain_to_split is set=14.953979333494377, min_split_gain=0.0 will be ignored. Current value: min_gain_to_split=14.953979333494377\n",
      "[LightGBM] [Warning] bagging_fraction is set=0.9935235156519089, subsample=1.0 will be ignored. Current value: bagging_fraction=0.9935235156519089\n",
      "[LightGBM] [Warning] lambda_l1 is set=1.1575186860651062e-08, reg_alpha=0.0 will be ignored. Current value: lambda_l1=1.1575186860651062e-08\n",
      "[LightGBM] [Warning] lambda_l2 is set=5.4888556672271145, reg_lambda=0.0 will be ignored. Current value: lambda_l2=5.4888556672271145\n",
      "[LightGBM] [Warning] bagging_freq is set=4, subsample_freq=0 will be ignored. Current value: bagging_freq=4\n",
      "[LightGBM] [Warning] feature_fraction is set=0.8200141724869751, colsample_bytree=0.3 will be ignored. Current value: feature_fraction=0.8200141724869751\n",
      "[LightGBM] [Warning] min_data_in_leaf is set=4300, min_child_samples=11 will be ignored. Current value: min_data_in_leaf=4300\n",
      "[LightGBM] [Warning] min_gain_to_split is set=14.953979333494377, min_split_gain=0.0 will be ignored. Current value: min_gain_to_split=14.953979333494377\n",
      "[LightGBM] [Warning] bagging_fraction is set=0.9935235156519089, subsample=1.0 will be ignored. Current value: bagging_fraction=0.9935235156519089\n",
      "[LightGBM] [Warning] lambda_l1 is set=1.1575186860651062e-08, reg_alpha=0.0 will be ignored. Current value: lambda_l1=1.1575186860651062e-08\n",
      "[LightGBM] [Warning] lambda_l2 is set=5.4888556672271145, reg_lambda=0.0 will be ignored. Current value: lambda_l2=5.4888556672271145\n",
      "[LightGBM] [Warning] bagging_freq is set=4, subsample_freq=0 will be ignored. Current value: bagging_freq=4\n",
      "[LightGBM] [Warning] feature_fraction is set=0.8200141724869751, colsample_bytree=0.3 will be ignored. Current value: feature_fraction=0.8200141724869751\n",
      "[LightGBM] [Warning] min_data_in_leaf is set=4300, min_child_samples=11 will be ignored. Current value: min_data_in_leaf=4300\n",
      "[LightGBM] [Warning] min_gain_to_split is set=14.953979333494377, min_split_gain=0.0 will be ignored. Current value: min_gain_to_split=14.953979333494377\n",
      "[LightGBM] [Warning] bagging_fraction is set=0.9935235156519089, subsample=1.0 will be ignored. Current value: bagging_fraction=0.9935235156519089\n",
      "[LightGBM] [Warning] lambda_l1 is set=1.1575186860651062e-08, reg_alpha=0.0 will be ignored. Current value: lambda_l1=1.1575186860651062e-08\n",
      "[LightGBM] [Warning] lambda_l2 is set=5.4888556672271145, reg_lambda=0.0 will be ignored. Current value: lambda_l2=5.4888556672271145\n",
      "[LightGBM] [Warning] bagging_freq is set=4, subsample_freq=0 will be ignored. Current value: bagging_freq=4\n",
      "[LightGBM] [Warning] feature_fraction is set=0.8200141724869751, colsample_bytree=0.3 will be ignored. Current value: feature_fraction=0.8200141724869751\n",
      "[LightGBM] [Warning] min_data_in_leaf is set=4300, min_child_samples=11 will be ignored. Current value: min_data_in_leaf=4300\n",
      "[LightGBM] [Warning] min_gain_to_split is set=14.953979333494377, min_split_gain=0.0 will be ignored. Current value: min_gain_to_split=14.953979333494377\n",
      "[LightGBM] [Warning] bagging_fraction is set=0.9935235156519089, subsample=1.0 will be ignored. Current value: bagging_fraction=0.9935235156519089\n",
      "[LightGBM] [Warning] lambda_l1 is set=1.1575186860651062e-08, reg_alpha=0.0 will be ignored. Current value: lambda_l1=1.1575186860651062e-08\n",
      "[LightGBM] [Warning] lambda_l2 is set=5.4888556672271145, reg_lambda=0.0 will be ignored. Current value: lambda_l2=5.4888556672271145\n",
      "[LightGBM] [Warning] bagging_freq is set=4, subsample_freq=0 will be ignored. Current value: bagging_freq=4\n",
      "[LightGBM] [Warning] feature_fraction is set=0.8200141724869751, colsample_bytree=0.3 will be ignored. Current value: feature_fraction=0.8200141724869751\n",
      "[LightGBM] [Warning] min_data_in_leaf is set=4300, min_child_samples=11 will be ignored. Current value: min_data_in_leaf=4300\n",
      "[LightGBM] [Warning] min_gain_to_split is set=14.953979333494377, min_split_gain=0.0 will be ignored. Current value: min_gain_to_split=14.953979333494377\n",
      "[LightGBM] [Warning] bagging_fraction is set=0.9935235156519089, subsample=1.0 will be ignored. Current value: bagging_fraction=0.9935235156519089\n",
      "[LightGBM] [Warning] lambda_l1 is set=1.1575186860651062e-08, reg_alpha=0.0 will be ignored. Current value: lambda_l1=1.1575186860651062e-08\n",
      "[LightGBM] [Warning] lambda_l2 is set=5.4888556672271145, reg_lambda=0.0 will be ignored. Current value: lambda_l2=5.4888556672271145\n",
      "[LightGBM] [Warning] bagging_freq is set=4, subsample_freq=0 will be ignored. Current value: bagging_freq=4\n"
     ]
    },
    {
     "name": "stderr",
     "output_type": "stream",
     "text": [
      "\u001b[32m[I 2022-11-22 00:09:56,759]\u001b[0m Trial 12 finished with value: 0.5921133771015908 and parameters: {'n_estimators': 450, 'learning_rate': 0.19696696619535553, 'max_depth': 5, 'num_leaves': 9, 'min_data_in_leaf': 4300, 'min_child_samples': 11, 'lambda_l1': 1.1575186860651062e-08, 'lambda_l2': 5.4888556672271145, 'min_gain_to_split': 14.953979333494377, 'feature_fraction': 0.8200141724869751, 'bagging_fraction': 0.9935235156519089, 'bagging_freq': 4, 'colsample_bytree': 0.3}. Best is trial 12 with value: 0.5921133771015908.\u001b[0m\n"
     ]
    },
    {
     "name": "stdout",
     "output_type": "stream",
     "text": [
      "[LightGBM] [Warning] feature_fraction is set=0.7962035972223126, colsample_bytree=0.3 will be ignored. Current value: feature_fraction=0.7962035972223126\n",
      "[LightGBM] [Warning] min_data_in_leaf is set=900, min_child_samples=5 will be ignored. Current value: min_data_in_leaf=900\n",
      "[LightGBM] [Warning] min_gain_to_split is set=14.923749536626444, min_split_gain=0.0 will be ignored. Current value: min_gain_to_split=14.923749536626444\n",
      "[LightGBM] [Warning] bagging_fraction is set=0.9704048957726835, subsample=1.0 will be ignored. Current value: bagging_fraction=0.9704048957726835\n",
      "[LightGBM] [Warning] lambda_l1 is set=1.170765109197591e-08, reg_alpha=0.0 will be ignored. Current value: lambda_l1=1.170765109197591e-08\n",
      "[LightGBM] [Warning] lambda_l2 is set=0.04757435052719933, reg_lambda=0.0 will be ignored. Current value: lambda_l2=0.04757435052719933\n",
      "[LightGBM] [Warning] bagging_freq is set=4, subsample_freq=0 will be ignored. Current value: bagging_freq=4\n",
      "[LightGBM] [Warning] feature_fraction is set=0.7962035972223126, colsample_bytree=0.3 will be ignored. Current value: feature_fraction=0.7962035972223126\n",
      "[LightGBM] [Warning] min_data_in_leaf is set=900, min_child_samples=5 will be ignored. Current value: min_data_in_leaf=900\n",
      "[LightGBM] [Warning] min_gain_to_split is set=14.923749536626444, min_split_gain=0.0 will be ignored. Current value: min_gain_to_split=14.923749536626444\n",
      "[LightGBM] [Warning] bagging_fraction is set=0.9704048957726835, subsample=1.0 will be ignored. Current value: bagging_fraction=0.9704048957726835\n",
      "[LightGBM] [Warning] lambda_l1 is set=1.170765109197591e-08, reg_alpha=0.0 will be ignored. Current value: lambda_l1=1.170765109197591e-08\n",
      "[LightGBM] [Warning] lambda_l2 is set=0.04757435052719933, reg_lambda=0.0 will be ignored. Current value: lambda_l2=0.04757435052719933\n",
      "[LightGBM] [Warning] bagging_freq is set=4, subsample_freq=0 will be ignored. Current value: bagging_freq=4\n",
      "[LightGBM] [Warning] feature_fraction is set=0.7962035972223126, colsample_bytree=0.3 will be ignored. Current value: feature_fraction=0.7962035972223126\n",
      "[LightGBM] [Warning] min_data_in_leaf is set=900, min_child_samples=5 will be ignored. Current value: min_data_in_leaf=900\n",
      "[LightGBM] [Warning] min_gain_to_split is set=14.923749536626444, min_split_gain=0.0 will be ignored. Current value: min_gain_to_split=14.923749536626444\n",
      "[LightGBM] [Warning] bagging_fraction is set=0.9704048957726835, subsample=1.0 will be ignored. Current value: bagging_fraction=0.9704048957726835\n",
      "[LightGBM] [Warning] lambda_l1 is set=1.170765109197591e-08, reg_alpha=0.0 will be ignored. Current value: lambda_l1=1.170765109197591e-08\n",
      "[LightGBM] [Warning] lambda_l2 is set=0.04757435052719933, reg_lambda=0.0 will be ignored. Current value: lambda_l2=0.04757435052719933\n",
      "[LightGBM] [Warning] bagging_freq is set=4, subsample_freq=0 will be ignored. Current value: bagging_freq=4\n",
      "[LightGBM] [Warning] feature_fraction is set=0.7962035972223126, colsample_bytree=0.3 will be ignored. Current value: feature_fraction=0.7962035972223126\n",
      "[LightGBM] [Warning] min_data_in_leaf is set=900, min_child_samples=5 will be ignored. Current value: min_data_in_leaf=900\n",
      "[LightGBM] [Warning] min_gain_to_split is set=14.923749536626444, min_split_gain=0.0 will be ignored. Current value: min_gain_to_split=14.923749536626444\n",
      "[LightGBM] [Warning] bagging_fraction is set=0.9704048957726835, subsample=1.0 will be ignored. Current value: bagging_fraction=0.9704048957726835\n",
      "[LightGBM] [Warning] lambda_l1 is set=1.170765109197591e-08, reg_alpha=0.0 will be ignored. Current value: lambda_l1=1.170765109197591e-08\n",
      "[LightGBM] [Warning] lambda_l2 is set=0.04757435052719933, reg_lambda=0.0 will be ignored. Current value: lambda_l2=0.04757435052719933\n",
      "[LightGBM] [Warning] bagging_freq is set=4, subsample_freq=0 will be ignored. Current value: bagging_freq=4\n",
      "[LightGBM] [Warning] feature_fraction is set=0.7962035972223126, colsample_bytree=0.3 will be ignored. Current value: feature_fraction=0.7962035972223126\n",
      "[LightGBM] [Warning] min_data_in_leaf is set=900, min_child_samples=5 will be ignored. Current value: min_data_in_leaf=900\n",
      "[LightGBM] [Warning] min_gain_to_split is set=14.923749536626444, min_split_gain=0.0 will be ignored. Current value: min_gain_to_split=14.923749536626444\n",
      "[LightGBM] [Warning] bagging_fraction is set=0.9704048957726835, subsample=1.0 will be ignored. Current value: bagging_fraction=0.9704048957726835\n",
      "[LightGBM] [Warning] lambda_l1 is set=1.170765109197591e-08, reg_alpha=0.0 will be ignored. Current value: lambda_l1=1.170765109197591e-08\n",
      "[LightGBM] [Warning] lambda_l2 is set=0.04757435052719933, reg_lambda=0.0 will be ignored. Current value: lambda_l2=0.04757435052719933\n",
      "[LightGBM] [Warning] bagging_freq is set=4, subsample_freq=0 will be ignored. Current value: bagging_freq=4\n"
     ]
    },
    {
     "name": "stderr",
     "output_type": "stream",
     "text": [
      "\u001b[32m[I 2022-11-22 00:10:10,256]\u001b[0m Trial 13 finished with value: 0.5906540808293127 and parameters: {'n_estimators': 500, 'learning_rate': 0.17035994118263753, 'max_depth': 5, 'num_leaves': 9, 'min_data_in_leaf': 900, 'min_child_samples': 5, 'lambda_l1': 1.170765109197591e-08, 'lambda_l2': 0.04757435052719933, 'min_gain_to_split': 14.923749536626444, 'feature_fraction': 0.7962035972223126, 'bagging_fraction': 0.9704048957726835, 'bagging_freq': 4, 'colsample_bytree': 0.3}. Best is trial 13 with value: 0.5906540808293127.\u001b[0m\n"
     ]
    },
    {
     "name": "stdout",
     "output_type": "stream",
     "text": [
      "[LightGBM] [Warning] feature_fraction is set=0.6313206930645097, colsample_bytree=0.3 will be ignored. Current value: feature_fraction=0.6313206930645097\n",
      "[LightGBM] [Warning] min_data_in_leaf is set=200, min_child_samples=5 will be ignored. Current value: min_data_in_leaf=200\n",
      "[LightGBM] [Warning] min_gain_to_split is set=14.955529692759459, min_split_gain=0.0 will be ignored. Current value: min_gain_to_split=14.955529692759459\n",
      "[LightGBM] [Warning] bagging_fraction is set=0.9971351725651476, subsample=1.0 will be ignored. Current value: bagging_fraction=0.9971351725651476\n",
      "[LightGBM] [Warning] lambda_l1 is set=3.10894753067719e-06, reg_alpha=0.0 will be ignored. Current value: lambda_l1=3.10894753067719e-06\n",
      "[LightGBM] [Warning] lambda_l2 is set=0.050646520074408063, reg_lambda=0.0 will be ignored. Current value: lambda_l2=0.050646520074408063\n",
      "[LightGBM] [Warning] bagging_freq is set=4, subsample_freq=0 will be ignored. Current value: bagging_freq=4\n"
     ]
    },
    {
     "name": "stderr",
     "output_type": "stream",
     "text": [
      "\u001b[32m[I 2022-11-22 00:10:11,023]\u001b[0m Trial 14 pruned. Trial was pruned at iteration 0.\u001b[0m\n"
     ]
    },
    {
     "name": "stdout",
     "output_type": "stream",
     "text": [
      "[LightGBM] [Warning] feature_fraction is set=0.7642808504395626, colsample_bytree=0.3 will be ignored. Current value: feature_fraction=0.7642808504395626\n",
      "[LightGBM] [Warning] min_data_in_leaf is set=400, min_child_samples=22 will be ignored. Current value: min_data_in_leaf=400\n",
      "[LightGBM] [Warning] min_gain_to_split is set=8.125179774907112, min_split_gain=0.0 will be ignored. Current value: min_gain_to_split=8.125179774907112\n",
      "[LightGBM] [Warning] bagging_fraction is set=0.9058632476699309, subsample=1.0 will be ignored. Current value: bagging_fraction=0.9058632476699309\n",
      "[LightGBM] [Warning] lambda_l1 is set=2.7643860456518906e-07, reg_alpha=0.0 will be ignored. Current value: lambda_l1=2.7643860456518906e-07\n",
      "[LightGBM] [Warning] lambda_l2 is set=0.00046828718790811773, reg_lambda=0.0 will be ignored. Current value: lambda_l2=0.00046828718790811773\n",
      "[LightGBM] [Warning] bagging_freq is set=5, subsample_freq=0 will be ignored. Current value: bagging_freq=5\n",
      "[LightGBM] [Warning] feature_fraction is set=0.7642808504395626, colsample_bytree=0.3 will be ignored. Current value: feature_fraction=0.7642808504395626\n",
      "[LightGBM] [Warning] min_data_in_leaf is set=400, min_child_samples=22 will be ignored. Current value: min_data_in_leaf=400\n",
      "[LightGBM] [Warning] min_gain_to_split is set=8.125179774907112, min_split_gain=0.0 will be ignored. Current value: min_gain_to_split=8.125179774907112\n",
      "[LightGBM] [Warning] bagging_fraction is set=0.9058632476699309, subsample=1.0 will be ignored. Current value: bagging_fraction=0.9058632476699309\n",
      "[LightGBM] [Warning] lambda_l1 is set=2.7643860456518906e-07, reg_alpha=0.0 will be ignored. Current value: lambda_l1=2.7643860456518906e-07\n",
      "[LightGBM] [Warning] lambda_l2 is set=0.00046828718790811773, reg_lambda=0.0 will be ignored. Current value: lambda_l2=0.00046828718790811773\n",
      "[LightGBM] [Warning] bagging_freq is set=5, subsample_freq=0 will be ignored. Current value: bagging_freq=5\n",
      "[LightGBM] [Warning] feature_fraction is set=0.7642808504395626, colsample_bytree=0.3 will be ignored. Current value: feature_fraction=0.7642808504395626\n",
      "[LightGBM] [Warning] min_data_in_leaf is set=400, min_child_samples=22 will be ignored. Current value: min_data_in_leaf=400\n",
      "[LightGBM] [Warning] min_gain_to_split is set=8.125179774907112, min_split_gain=0.0 will be ignored. Current value: min_gain_to_split=8.125179774907112\n",
      "[LightGBM] [Warning] bagging_fraction is set=0.9058632476699309, subsample=1.0 will be ignored. Current value: bagging_fraction=0.9058632476699309\n",
      "[LightGBM] [Warning] lambda_l1 is set=2.7643860456518906e-07, reg_alpha=0.0 will be ignored. Current value: lambda_l1=2.7643860456518906e-07\n",
      "[LightGBM] [Warning] lambda_l2 is set=0.00046828718790811773, reg_lambda=0.0 will be ignored. Current value: lambda_l2=0.00046828718790811773\n",
      "[LightGBM] [Warning] bagging_freq is set=5, subsample_freq=0 will be ignored. Current value: bagging_freq=5\n",
      "[LightGBM] [Warning] feature_fraction is set=0.7642808504395626, colsample_bytree=0.3 will be ignored. Current value: feature_fraction=0.7642808504395626\n",
      "[LightGBM] [Warning] min_data_in_leaf is set=400, min_child_samples=22 will be ignored. Current value: min_data_in_leaf=400\n",
      "[LightGBM] [Warning] min_gain_to_split is set=8.125179774907112, min_split_gain=0.0 will be ignored. Current value: min_gain_to_split=8.125179774907112\n",
      "[LightGBM] [Warning] bagging_fraction is set=0.9058632476699309, subsample=1.0 will be ignored. Current value: bagging_fraction=0.9058632476699309\n",
      "[LightGBM] [Warning] lambda_l1 is set=2.7643860456518906e-07, reg_alpha=0.0 will be ignored. Current value: lambda_l1=2.7643860456518906e-07\n",
      "[LightGBM] [Warning] lambda_l2 is set=0.00046828718790811773, reg_lambda=0.0 will be ignored. Current value: lambda_l2=0.00046828718790811773\n",
      "[LightGBM] [Warning] bagging_freq is set=5, subsample_freq=0 will be ignored. Current value: bagging_freq=5\n"
     ]
    },
    {
     "name": "stderr",
     "output_type": "stream",
     "text": [
      "\u001b[32m[I 2022-11-22 00:10:27,131]\u001b[0m Trial 15 finished with value: 0.5888633683485758 and parameters: {'n_estimators': 450, 'learning_rate': 0.2894518035156203, 'max_depth': 5, 'num_leaves': 5, 'min_data_in_leaf': 400, 'min_child_samples': 22, 'lambda_l1': 2.7643860456518906e-07, 'lambda_l2': 0.00046828718790811773, 'min_gain_to_split': 8.125179774907112, 'feature_fraction': 0.7642808504395626, 'bagging_fraction': 0.9058632476699309, 'bagging_freq': 5, 'colsample_bytree': 0.3}. Best is trial 15 with value: 0.5888633683485758.\u001b[0m\n"
     ]
    },
    {
     "name": "stdout",
     "output_type": "stream",
     "text": [
      "[LightGBM] [Warning] feature_fraction is set=0.6431050366747669, colsample_bytree=0.3 will be ignored. Current value: feature_fraction=0.6431050366747669\n",
      "[LightGBM] [Warning] min_data_in_leaf is set=300, min_child_samples=27 will be ignored. Current value: min_data_in_leaf=300\n",
      "[LightGBM] [Warning] min_gain_to_split is set=8.663672290411679, min_split_gain=0.0 will be ignored. Current value: min_gain_to_split=8.663672290411679\n",
      "[LightGBM] [Warning] bagging_fraction is set=0.9022235867087286, subsample=1.0 will be ignored. Current value: bagging_fraction=0.9022235867087286\n",
      "[LightGBM] [Warning] lambda_l1 is set=3.5651510501568133e-07, reg_alpha=0.0 will be ignored. Current value: lambda_l1=3.5651510501568133e-07\n",
      "[LightGBM] [Warning] lambda_l2 is set=7.451666278402474e-05, reg_lambda=0.0 will be ignored. Current value: lambda_l2=7.451666278402474e-05\n",
      "[LightGBM] [Warning] bagging_freq is set=5, subsample_freq=0 will be ignored. Current value: bagging_freq=5\n"
     ]
    },
    {
     "name": "stderr",
     "output_type": "stream",
     "text": [
      "\u001b[32m[I 2022-11-22 00:10:28,961]\u001b[0m Trial 16 pruned. Trial was pruned at iteration 0.\u001b[0m\n",
      "\u001b[32m[I 2022-11-22 00:10:30,162]\u001b[0m Trial 17 pruned. Trial was pruned at iteration 0.\u001b[0m\n",
      "\u001b[32m[I 2022-11-22 00:10:31,401]\u001b[0m Trial 18 pruned. Trial was pruned at iteration 0.\u001b[0m\n"
     ]
    },
    {
     "name": "stdout",
     "output_type": "stream",
     "text": [
      "[LightGBM] [Warning] feature_fraction is set=0.7682850291614067, colsample_bytree=0.3 will be ignored. Current value: feature_fraction=0.7682850291614067\n",
      "[LightGBM] [Warning] min_data_in_leaf is set=9200, min_child_samples=17 will be ignored. Current value: min_data_in_leaf=9200\n",
      "[LightGBM] [Warning] min_gain_to_split is set=4.478895628631994, min_split_gain=0.0 will be ignored. Current value: min_gain_to_split=4.478895628631994\n",
      "[LightGBM] [Warning] bagging_fraction is set=0.5966063561744714, subsample=1.0 will be ignored. Current value: bagging_fraction=0.5966063561744714\n",
      "[LightGBM] [Warning] lambda_l1 is set=1.1189196457319889e-07, reg_alpha=0.0 will be ignored. Current value: lambda_l1=1.1189196457319889e-07\n",
      "[LightGBM] [Warning] lambda_l2 is set=0.003358874162507001, reg_lambda=0.0 will be ignored. Current value: lambda_l2=0.003358874162507001\n",
      "[LightGBM] [Warning] bagging_freq is set=6, subsample_freq=0 will be ignored. Current value: bagging_freq=6\n",
      "[LightGBM] [Warning] feature_fraction is set=0.7682850291614067, colsample_bytree=0.3 will be ignored. Current value: feature_fraction=0.7682850291614067\n",
      "[LightGBM] [Warning] min_data_in_leaf is set=9200, min_child_samples=17 will be ignored. Current value: min_data_in_leaf=9200\n",
      "[LightGBM] [Warning] min_gain_to_split is set=4.478895628631994, min_split_gain=0.0 will be ignored. Current value: min_gain_to_split=4.478895628631994\n",
      "[LightGBM] [Warning] bagging_fraction is set=0.5966063561744714, subsample=1.0 will be ignored. Current value: bagging_fraction=0.5966063561744714\n",
      "[LightGBM] [Warning] lambda_l1 is set=1.1189196457319889e-07, reg_alpha=0.0 will be ignored. Current value: lambda_l1=1.1189196457319889e-07\n",
      "[LightGBM] [Warning] lambda_l2 is set=0.003358874162507001, reg_lambda=0.0 will be ignored. Current value: lambda_l2=0.003358874162507001\n",
      "[LightGBM] [Warning] bagging_freq is set=6, subsample_freq=0 will be ignored. Current value: bagging_freq=6\n",
      "[LightGBM] [Warning] feature_fraction is set=0.7682850291614067, colsample_bytree=0.3 will be ignored. Current value: feature_fraction=0.7682850291614067\n",
      "[LightGBM] [Warning] min_data_in_leaf is set=9200, min_child_samples=17 will be ignored. Current value: min_data_in_leaf=9200\n",
      "[LightGBM] [Warning] min_gain_to_split is set=4.478895628631994, min_split_gain=0.0 will be ignored. Current value: min_gain_to_split=4.478895628631994\n",
      "[LightGBM] [Warning] bagging_fraction is set=0.5966063561744714, subsample=1.0 will be ignored. Current value: bagging_fraction=0.5966063561744714\n",
      "[LightGBM] [Warning] lambda_l1 is set=1.1189196457319889e-07, reg_alpha=0.0 will be ignored. Current value: lambda_l1=1.1189196457319889e-07\n",
      "[LightGBM] [Warning] lambda_l2 is set=0.003358874162507001, reg_lambda=0.0 will be ignored. Current value: lambda_l2=0.003358874162507001\n",
      "[LightGBM] [Warning] bagging_freq is set=6, subsample_freq=0 will be ignored. Current value: bagging_freq=6\n",
      "[LightGBM] [Warning] feature_fraction is set=0.7682850291614067, colsample_bytree=0.3 will be ignored. Current value: feature_fraction=0.7682850291614067\n",
      "[LightGBM] [Warning] min_data_in_leaf is set=9200, min_child_samples=17 will be ignored. Current value: min_data_in_leaf=9200\n",
      "[LightGBM] [Warning] min_gain_to_split is set=4.478895628631994, min_split_gain=0.0 will be ignored. Current value: min_gain_to_split=4.478895628631994\n",
      "[LightGBM] [Warning] bagging_fraction is set=0.5966063561744714, subsample=1.0 will be ignored. Current value: bagging_fraction=0.5966063561744714\n",
      "[LightGBM] [Warning] lambda_l1 is set=1.1189196457319889e-07, reg_alpha=0.0 will be ignored. Current value: lambda_l1=1.1189196457319889e-07\n",
      "[LightGBM] [Warning] lambda_l2 is set=0.003358874162507001, reg_lambda=0.0 will be ignored. Current value: lambda_l2=0.003358874162507001\n",
      "[LightGBM] [Warning] bagging_freq is set=6, subsample_freq=0 will be ignored. Current value: bagging_freq=6\n"
     ]
    },
    {
     "name": "stderr",
     "output_type": "stream",
     "text": [
      "\u001b[32m[I 2022-11-22 00:10:53,466]\u001b[0m Trial 19 finished with value: 0.5850164607858175 and parameters: {'n_estimators': 450, 'learning_rate': 0.2959559978103029, 'max_depth': 7, 'num_leaves': 5, 'min_data_in_leaf': 9200, 'min_child_samples': 17, 'lambda_l1': 1.1189196457319889e-07, 'lambda_l2': 0.003358874162507001, 'min_gain_to_split': 4.478895628631994, 'feature_fraction': 0.7682850291614067, 'bagging_fraction': 0.5966063561744714, 'bagging_freq': 6, 'colsample_bytree': 0.3}. Best is trial 19 with value: 0.5850164607858175.\u001b[0m\n"
     ]
    },
    {
     "name": "stdout",
     "output_type": "stream",
     "text": [
      "[LightGBM] [Warning] feature_fraction is set=0.759575781675427, colsample_bytree=0.3 will be ignored. Current value: feature_fraction=0.759575781675427\n",
      "[LightGBM] [Warning] min_data_in_leaf is set=9200, min_child_samples=36 will be ignored. Current value: min_data_in_leaf=9200\n",
      "[LightGBM] [Warning] min_gain_to_split is set=3.874521249517249, min_split_gain=0.0 will be ignored. Current value: min_gain_to_split=3.874521249517249\n",
      "[LightGBM] [Warning] bagging_fraction is set=0.5964971589359115, subsample=1.0 will be ignored. Current value: bagging_fraction=0.5964971589359115\n",
      "[LightGBM] [Warning] lambda_l1 is set=3.8521991906879644e-05, reg_alpha=0.0 will be ignored. Current value: lambda_l1=3.8521991906879644e-05\n",
      "[LightGBM] [Warning] lambda_l2 is set=0.0023299776663366196, reg_lambda=0.0 will be ignored. Current value: lambda_l2=0.0023299776663366196\n",
      "[LightGBM] [Warning] bagging_freq is set=6, subsample_freq=0 will be ignored. Current value: bagging_freq=6\n"
     ]
    },
    {
     "name": "stderr",
     "output_type": "stream",
     "text": [
      "\u001b[32m[I 2022-11-22 00:10:54,696]\u001b[0m Trial 20 pruned. Trial was pruned at iteration 0.\u001b[0m\n",
      "\u001b[32m[I 2022-11-22 00:10:57,418]\u001b[0m Trial 21 pruned. Trial was pruned at iteration 350.\u001b[0m\n",
      "\u001b[32m[I 2022-11-22 00:10:58,185]\u001b[0m Trial 22 pruned. Trial was pruned at iteration 0.\u001b[0m\n",
      "\u001b[32m[I 2022-11-22 00:10:59,005]\u001b[0m Trial 23 pruned. Trial was pruned at iteration 2.\u001b[0m\n",
      "\u001b[32m[I 2022-11-22 00:10:59,855]\u001b[0m Trial 24 pruned. Trial was pruned at iteration 0.\u001b[0m\n"
     ]
    },
    {
     "name": "stdout",
     "output_type": "stream",
     "text": [
      "[LightGBM] [Warning] feature_fraction is set=0.8748917533190159, colsample_bytree=0.3 will be ignored. Current value: feature_fraction=0.8748917533190159\n",
      "[LightGBM] [Warning] min_data_in_leaf is set=3500, min_child_samples=63 will be ignored. Current value: min_data_in_leaf=3500\n",
      "[LightGBM] [Warning] min_gain_to_split is set=6.594720126535518, min_split_gain=0.0 will be ignored. Current value: min_gain_to_split=6.594720126535518\n",
      "[LightGBM] [Warning] bagging_fraction is set=0.9409862232454326, subsample=1.0 will be ignored. Current value: bagging_fraction=0.9409862232454326\n",
      "[LightGBM] [Warning] lambda_l1 is set=3.7912532255450543e-06, reg_alpha=0.0 will be ignored. Current value: lambda_l1=3.7912532255450543e-06\n",
      "[LightGBM] [Warning] lambda_l2 is set=0.0006048984169298619, reg_lambda=0.0 will be ignored. Current value: lambda_l2=0.0006048984169298619\n",
      "[LightGBM] [Warning] bagging_freq is set=5, subsample_freq=0 will be ignored. Current value: bagging_freq=5\n",
      "[LightGBM] [Warning] feature_fraction is set=0.8748917533190159, colsample_bytree=0.3 will be ignored. Current value: feature_fraction=0.8748917533190159\n",
      "[LightGBM] [Warning] min_data_in_leaf is set=3500, min_child_samples=63 will be ignored. Current value: min_data_in_leaf=3500\n",
      "[LightGBM] [Warning] min_gain_to_split is set=6.594720126535518, min_split_gain=0.0 will be ignored. Current value: min_gain_to_split=6.594720126535518\n",
      "[LightGBM] [Warning] bagging_fraction is set=0.9409862232454326, subsample=1.0 will be ignored. Current value: bagging_fraction=0.9409862232454326\n",
      "[LightGBM] [Warning] lambda_l1 is set=3.7912532255450543e-06, reg_alpha=0.0 will be ignored. Current value: lambda_l1=3.7912532255450543e-06\n",
      "[LightGBM] [Warning] lambda_l2 is set=0.0006048984169298619, reg_lambda=0.0 will be ignored. Current value: lambda_l2=0.0006048984169298619\n",
      "[LightGBM] [Warning] bagging_freq is set=5, subsample_freq=0 will be ignored. Current value: bagging_freq=5\n",
      "[LightGBM] [Warning] feature_fraction is set=0.8748917533190159, colsample_bytree=0.3 will be ignored. Current value: feature_fraction=0.8748917533190159\n",
      "[LightGBM] [Warning] min_data_in_leaf is set=3500, min_child_samples=63 will be ignored. Current value: min_data_in_leaf=3500\n",
      "[LightGBM] [Warning] min_gain_to_split is set=6.594720126535518, min_split_gain=0.0 will be ignored. Current value: min_gain_to_split=6.594720126535518\n",
      "[LightGBM] [Warning] bagging_fraction is set=0.9409862232454326, subsample=1.0 will be ignored. Current value: bagging_fraction=0.9409862232454326\n",
      "[LightGBM] [Warning] lambda_l1 is set=3.7912532255450543e-06, reg_alpha=0.0 will be ignored. Current value: lambda_l1=3.7912532255450543e-06\n",
      "[LightGBM] [Warning] lambda_l2 is set=0.0006048984169298619, reg_lambda=0.0 will be ignored. Current value: lambda_l2=0.0006048984169298619\n",
      "[LightGBM] [Warning] bagging_freq is set=5, subsample_freq=0 will be ignored. Current value: bagging_freq=5\n",
      "[LightGBM] [Warning] feature_fraction is set=0.8748917533190159, colsample_bytree=0.3 will be ignored. Current value: feature_fraction=0.8748917533190159\n",
      "[LightGBM] [Warning] min_data_in_leaf is set=3500, min_child_samples=63 will be ignored. Current value: min_data_in_leaf=3500\n",
      "[LightGBM] [Warning] min_gain_to_split is set=6.594720126535518, min_split_gain=0.0 will be ignored. Current value: min_gain_to_split=6.594720126535518\n",
      "[LightGBM] [Warning] bagging_fraction is set=0.9409862232454326, subsample=1.0 will be ignored. Current value: bagging_fraction=0.9409862232454326\n",
      "[LightGBM] [Warning] lambda_l1 is set=3.7912532255450543e-06, reg_alpha=0.0 will be ignored. Current value: lambda_l1=3.7912532255450543e-06\n",
      "[LightGBM] [Warning] lambda_l2 is set=0.0006048984169298619, reg_lambda=0.0 will be ignored. Current value: lambda_l2=0.0006048984169298619\n",
      "[LightGBM] [Warning] bagging_freq is set=5, subsample_freq=0 will be ignored. Current value: bagging_freq=5\n"
     ]
    },
    {
     "name": "stderr",
     "output_type": "stream",
     "text": [
      "\u001b[32m[I 2022-11-22 00:11:13,048]\u001b[0m Trial 25 finished with value: 0.5887262184297539 and parameters: {'n_estimators': 400, 'learning_rate': 0.27158059581322624, 'max_depth': 9, 'num_leaves': 7, 'min_data_in_leaf': 3500, 'min_child_samples': 63, 'lambda_l1': 3.7912532255450543e-06, 'lambda_l2': 0.0006048984169298619, 'min_gain_to_split': 6.594720126535518, 'feature_fraction': 0.8748917533190159, 'bagging_fraction': 0.9409862232454326, 'bagging_freq': 5, 'colsample_bytree': 0.3}. Best is trial 19 with value: 0.5850164607858175.\u001b[0m\n"
     ]
    },
    {
     "name": "stdout",
     "output_type": "stream",
     "text": [
      "[LightGBM] [Warning] feature_fraction is set=0.9087341398281146, colsample_bytree=0.3 will be ignored. Current value: feature_fraction=0.9087341398281146\n",
      "[LightGBM] [Warning] min_data_in_leaf is set=3300, min_child_samples=62 will be ignored. Current value: min_data_in_leaf=3300\n",
      "[LightGBM] [Warning] min_gain_to_split is set=6.695226280587091, min_split_gain=0.0 will be ignored. Current value: min_gain_to_split=6.695226280587091\n",
      "[LightGBM] [Warning] bagging_fraction is set=0.9398574185096255, subsample=1.0 will be ignored. Current value: bagging_fraction=0.9398574185096255\n",
      "[LightGBM] [Warning] lambda_l1 is set=4.052482395533058e-06, reg_alpha=0.0 will be ignored. Current value: lambda_l1=4.052482395533058e-06\n",
      "[LightGBM] [Warning] lambda_l2 is set=0.0004608861284432943, reg_lambda=0.0 will be ignored. Current value: lambda_l2=0.0004608861284432943\n",
      "[LightGBM] [Warning] bagging_freq is set=5, subsample_freq=0 will be ignored. Current value: bagging_freq=5\n",
      "[LightGBM] [Warning] feature_fraction is set=0.9087341398281146, colsample_bytree=0.3 will be ignored. Current value: feature_fraction=0.9087341398281146\n",
      "[LightGBM] [Warning] min_data_in_leaf is set=3300, min_child_samples=62 will be ignored. Current value: min_data_in_leaf=3300\n",
      "[LightGBM] [Warning] min_gain_to_split is set=6.695226280587091, min_split_gain=0.0 will be ignored. Current value: min_gain_to_split=6.695226280587091\n",
      "[LightGBM] [Warning] bagging_fraction is set=0.9398574185096255, subsample=1.0 will be ignored. Current value: bagging_fraction=0.9398574185096255\n",
      "[LightGBM] [Warning] lambda_l1 is set=4.052482395533058e-06, reg_alpha=0.0 will be ignored. Current value: lambda_l1=4.052482395533058e-06\n",
      "[LightGBM] [Warning] lambda_l2 is set=0.0004608861284432943, reg_lambda=0.0 will be ignored. Current value: lambda_l2=0.0004608861284432943\n",
      "[LightGBM] [Warning] bagging_freq is set=5, subsample_freq=0 will be ignored. Current value: bagging_freq=5\n",
      "[LightGBM] [Warning] feature_fraction is set=0.9087341398281146, colsample_bytree=0.3 will be ignored. Current value: feature_fraction=0.9087341398281146\n",
      "[LightGBM] [Warning] min_data_in_leaf is set=3300, min_child_samples=62 will be ignored. Current value: min_data_in_leaf=3300\n",
      "[LightGBM] [Warning] min_gain_to_split is set=6.695226280587091, min_split_gain=0.0 will be ignored. Current value: min_gain_to_split=6.695226280587091\n",
      "[LightGBM] [Warning] bagging_fraction is set=0.9398574185096255, subsample=1.0 will be ignored. Current value: bagging_fraction=0.9398574185096255\n",
      "[LightGBM] [Warning] lambda_l1 is set=4.052482395533058e-06, reg_alpha=0.0 will be ignored. Current value: lambda_l1=4.052482395533058e-06\n",
      "[LightGBM] [Warning] lambda_l2 is set=0.0004608861284432943, reg_lambda=0.0 will be ignored. Current value: lambda_l2=0.0004608861284432943\n",
      "[LightGBM] [Warning] bagging_freq is set=5, subsample_freq=0 will be ignored. Current value: bagging_freq=5\n",
      "[LightGBM] [Warning] feature_fraction is set=0.9087341398281146, colsample_bytree=0.3 will be ignored. Current value: feature_fraction=0.9087341398281146\n",
      "[LightGBM] [Warning] min_data_in_leaf is set=3300, min_child_samples=62 will be ignored. Current value: min_data_in_leaf=3300\n",
      "[LightGBM] [Warning] min_gain_to_split is set=6.695226280587091, min_split_gain=0.0 will be ignored. Current value: min_gain_to_split=6.695226280587091\n",
      "[LightGBM] [Warning] bagging_fraction is set=0.9398574185096255, subsample=1.0 will be ignored. Current value: bagging_fraction=0.9398574185096255\n",
      "[LightGBM] [Warning] lambda_l1 is set=4.052482395533058e-06, reg_alpha=0.0 will be ignored. Current value: lambda_l1=4.052482395533058e-06\n",
      "[LightGBM] [Warning] lambda_l2 is set=0.0004608861284432943, reg_lambda=0.0 will be ignored. Current value: lambda_l2=0.0004608861284432943\n",
      "[LightGBM] [Warning] bagging_freq is set=5, subsample_freq=0 will be ignored. Current value: bagging_freq=5\n",
      "[LightGBM] [Warning] feature_fraction is set=0.9087341398281146, colsample_bytree=0.3 will be ignored. Current value: feature_fraction=0.9087341398281146\n",
      "[LightGBM] [Warning] min_data_in_leaf is set=3300, min_child_samples=62 will be ignored. Current value: min_data_in_leaf=3300\n",
      "[LightGBM] [Warning] min_gain_to_split is set=6.695226280587091, min_split_gain=0.0 will be ignored. Current value: min_gain_to_split=6.695226280587091\n",
      "[LightGBM] [Warning] bagging_fraction is set=0.9398574185096255, subsample=1.0 will be ignored. Current value: bagging_fraction=0.9398574185096255\n",
      "[LightGBM] [Warning] lambda_l1 is set=4.052482395533058e-06, reg_alpha=0.0 will be ignored. Current value: lambda_l1=4.052482395533058e-06\n",
      "[LightGBM] [Warning] lambda_l2 is set=0.0004608861284432943, reg_lambda=0.0 will be ignored. Current value: lambda_l2=0.0004608861284432943\n",
      "[LightGBM] [Warning] bagging_freq is set=5, subsample_freq=0 will be ignored. Current value: bagging_freq=5\n"
     ]
    },
    {
     "name": "stderr",
     "output_type": "stream",
     "text": [
      "\u001b[32m[I 2022-11-22 00:11:24,808]\u001b[0m Trial 26 finished with value: 0.5891654218429303 and parameters: {'n_estimators': 400, 'learning_rate': 0.29781962255784866, 'max_depth': 9, 'num_leaves': 7, 'min_data_in_leaf': 3300, 'min_child_samples': 62, 'lambda_l1': 4.052482395533058e-06, 'lambda_l2': 0.0004608861284432943, 'min_gain_to_split': 6.695226280587091, 'feature_fraction': 0.9087341398281146, 'bagging_fraction': 0.9398574185096255, 'bagging_freq': 5, 'colsample_bytree': 0.3}. Best is trial 19 with value: 0.5850164607858175.\u001b[0m\n"
     ]
    },
    {
     "name": "stdout",
     "output_type": "stream",
     "text": [
      "[LightGBM] [Warning] feature_fraction is set=0.8522437341576274, colsample_bytree=0.3 will be ignored. Current value: feature_fraction=0.8522437341576274\n",
      "[LightGBM] [Warning] min_data_in_leaf is set=5500, min_child_samples=61 will be ignored. Current value: min_data_in_leaf=5500\n",
      "[LightGBM] [Warning] min_gain_to_split is set=4.528269785661528, min_split_gain=0.0 will be ignored. Current value: min_gain_to_split=4.528269785661528\n",
      "[LightGBM] [Warning] bagging_fraction is set=0.8626979944060498, subsample=1.0 will be ignored. Current value: bagging_fraction=0.8626979944060498\n",
      "[LightGBM] [Warning] lambda_l1 is set=6.558414618110097e-05, reg_alpha=0.0 will be ignored. Current value: lambda_l1=6.558414618110097e-05\n",
      "[LightGBM] [Warning] lambda_l2 is set=0.00040071916678152556, reg_lambda=0.0 will be ignored. Current value: lambda_l2=0.00040071916678152556\n",
      "[LightGBM] [Warning] bagging_freq is set=6, subsample_freq=0 will be ignored. Current value: bagging_freq=6\n"
     ]
    },
    {
     "name": "stderr",
     "output_type": "stream",
     "text": [
      "\u001b[32m[I 2022-11-22 00:11:26,191]\u001b[0m Trial 27 pruned. Trial was pruned at iteration 0.\u001b[0m\n",
      "\u001b[32m[I 2022-11-22 00:11:27,325]\u001b[0m Trial 28 pruned. Trial was pruned at iteration 0.\u001b[0m\n",
      "\u001b[32m[I 2022-11-22 00:11:28,280]\u001b[0m Trial 29 pruned. Trial was pruned at iteration 0.\u001b[0m\n",
      "\u001b[32m[I 2022-11-22 00:11:29,390]\u001b[0m Trial 30 pruned. Trial was pruned at iteration 0.\u001b[0m\n",
      "\u001b[32m[I 2022-11-22 00:11:30,825]\u001b[0m Trial 31 pruned. Trial was pruned at iteration 2.\u001b[0m\n"
     ]
    },
    {
     "name": "stdout",
     "output_type": "stream",
     "text": [
      "[LightGBM] [Warning] feature_fraction is set=0.8756670829367553, colsample_bytree=0.3 will be ignored. Current value: feature_fraction=0.8756670829367553\n",
      "[LightGBM] [Warning] min_data_in_leaf is set=3300, min_child_samples=84 will be ignored. Current value: min_data_in_leaf=3300\n",
      "[LightGBM] [Warning] min_gain_to_split is set=8.031976342289276, min_split_gain=0.0 will be ignored. Current value: min_gain_to_split=8.031976342289276\n",
      "[LightGBM] [Warning] bagging_fraction is set=0.8668019013388857, subsample=1.0 will be ignored. Current value: bagging_fraction=0.8668019013388857\n",
      "[LightGBM] [Warning] lambda_l1 is set=8.211520762422993e-06, reg_alpha=0.0 will be ignored. Current value: lambda_l1=8.211520762422993e-06\n",
      "[LightGBM] [Warning] lambda_l2 is set=0.000634995141467672, reg_lambda=0.0 will be ignored. Current value: lambda_l2=0.000634995141467672\n",
      "[LightGBM] [Warning] bagging_freq is set=5, subsample_freq=0 will be ignored. Current value: bagging_freq=5\n",
      "[LightGBM] [Warning] feature_fraction is set=0.8756670829367553, colsample_bytree=0.3 will be ignored. Current value: feature_fraction=0.8756670829367553\n",
      "[LightGBM] [Warning] min_data_in_leaf is set=3300, min_child_samples=84 will be ignored. Current value: min_data_in_leaf=3300\n",
      "[LightGBM] [Warning] min_gain_to_split is set=8.031976342289276, min_split_gain=0.0 will be ignored. Current value: min_gain_to_split=8.031976342289276\n",
      "[LightGBM] [Warning] bagging_fraction is set=0.8668019013388857, subsample=1.0 will be ignored. Current value: bagging_fraction=0.8668019013388857\n",
      "[LightGBM] [Warning] lambda_l1 is set=8.211520762422993e-06, reg_alpha=0.0 will be ignored. Current value: lambda_l1=8.211520762422993e-06\n",
      "[LightGBM] [Warning] lambda_l2 is set=0.000634995141467672, reg_lambda=0.0 will be ignored. Current value: lambda_l2=0.000634995141467672\n",
      "[LightGBM] [Warning] bagging_freq is set=5, subsample_freq=0 will be ignored. Current value: bagging_freq=5\n",
      "[LightGBM] [Warning] feature_fraction is set=0.8756670829367553, colsample_bytree=0.3 will be ignored. Current value: feature_fraction=0.8756670829367553\n",
      "[LightGBM] [Warning] min_data_in_leaf is set=3300, min_child_samples=84 will be ignored. Current value: min_data_in_leaf=3300\n",
      "[LightGBM] [Warning] min_gain_to_split is set=8.031976342289276, min_split_gain=0.0 will be ignored. Current value: min_gain_to_split=8.031976342289276\n",
      "[LightGBM] [Warning] bagging_fraction is set=0.8668019013388857, subsample=1.0 will be ignored. Current value: bagging_fraction=0.8668019013388857\n",
      "[LightGBM] [Warning] lambda_l1 is set=8.211520762422993e-06, reg_alpha=0.0 will be ignored. Current value: lambda_l1=8.211520762422993e-06\n",
      "[LightGBM] [Warning] lambda_l2 is set=0.000634995141467672, reg_lambda=0.0 will be ignored. Current value: lambda_l2=0.000634995141467672\n",
      "[LightGBM] [Warning] bagging_freq is set=5, subsample_freq=0 will be ignored. Current value: bagging_freq=5\n",
      "[LightGBM] [Warning] feature_fraction is set=0.8756670829367553, colsample_bytree=0.3 will be ignored. Current value: feature_fraction=0.8756670829367553\n",
      "[LightGBM] [Warning] min_data_in_leaf is set=3300, min_child_samples=84 will be ignored. Current value: min_data_in_leaf=3300\n",
      "[LightGBM] [Warning] min_gain_to_split is set=8.031976342289276, min_split_gain=0.0 will be ignored. Current value: min_gain_to_split=8.031976342289276\n",
      "[LightGBM] [Warning] bagging_fraction is set=0.8668019013388857, subsample=1.0 will be ignored. Current value: bagging_fraction=0.8668019013388857\n",
      "[LightGBM] [Warning] lambda_l1 is set=8.211520762422993e-06, reg_alpha=0.0 will be ignored. Current value: lambda_l1=8.211520762422993e-06\n",
      "[LightGBM] [Warning] lambda_l2 is set=0.000634995141467672, reg_lambda=0.0 will be ignored. Current value: lambda_l2=0.000634995141467672\n",
      "[LightGBM] [Warning] bagging_freq is set=5, subsample_freq=0 will be ignored. Current value: bagging_freq=5\n"
     ]
    },
    {
     "name": "stderr",
     "output_type": "stream",
     "text": [
      "\u001b[32m[I 2022-11-22 00:11:42,483]\u001b[0m Trial 32 finished with value: 0.5893373899965599 and parameters: {'n_estimators': 400, 'learning_rate': 0.28578970620378963, 'max_depth': 11, 'num_leaves': 7, 'min_data_in_leaf': 3300, 'min_child_samples': 84, 'lambda_l1': 8.211520762422993e-06, 'lambda_l2': 0.000634995141467672, 'min_gain_to_split': 8.031976342289276, 'feature_fraction': 0.8756670829367553, 'bagging_fraction': 0.8668019013388857, 'bagging_freq': 5, 'colsample_bytree': 0.3}. Best is trial 19 with value: 0.5850164607858175.\u001b[0m\n"
     ]
    },
    {
     "name": "stdout",
     "output_type": "stream",
     "text": [
      "[LightGBM] [Warning] feature_fraction is set=0.9131210446492477, colsample_bytree=0.3 will be ignored. Current value: feature_fraction=0.9131210446492477\n",
      "[LightGBM] [Warning] min_data_in_leaf is set=5000, min_child_samples=69 will be ignored. Current value: min_data_in_leaf=5000\n",
      "[LightGBM] [Warning] min_gain_to_split is set=4.992735290795633, min_split_gain=0.0 will be ignored. Current value: min_gain_to_split=4.992735290795633\n",
      "[LightGBM] [Warning] bagging_fraction is set=0.9454250908981419, subsample=1.0 will be ignored. Current value: bagging_fraction=0.9454250908981419\n",
      "[LightGBM] [Warning] lambda_l1 is set=4.914765659768133e-07, reg_alpha=0.0 will be ignored. Current value: lambda_l1=4.914765659768133e-07\n",
      "[LightGBM] [Warning] lambda_l2 is set=0.0039406361277507344, reg_lambda=0.0 will be ignored. Current value: lambda_l2=0.0039406361277507344\n",
      "[LightGBM] [Warning] bagging_freq is set=6, subsample_freq=0 will be ignored. Current value: bagging_freq=6\n"
     ]
    },
    {
     "name": "stderr",
     "output_type": "stream",
     "text": [
      "\u001b[32m[I 2022-11-22 00:11:43,796]\u001b[0m Trial 33 pruned. Trial was pruned at iteration 0.\u001b[0m\n",
      "\u001b[32m[I 2022-11-22 00:11:44,629]\u001b[0m Trial 34 pruned. Trial was pruned at iteration 0.\u001b[0m\n",
      "\u001b[32m[I 2022-11-22 00:11:45,549]\u001b[0m Trial 35 pruned. Trial was pruned at iteration 0.\u001b[0m\n",
      "\u001b[32m[I 2022-11-22 00:11:47,015]\u001b[0m Trial 36 pruned. Trial was pruned at iteration 0.\u001b[0m\n",
      "\u001b[32m[I 2022-11-22 00:11:47,863]\u001b[0m Trial 37 pruned. Trial was pruned at iteration 0.\u001b[0m\n",
      "\u001b[32m[I 2022-11-22 00:11:48,687]\u001b[0m Trial 38 pruned. Trial was pruned at iteration 0.\u001b[0m\n",
      "\u001b[32m[I 2022-11-22 00:11:49,569]\u001b[0m Trial 39 pruned. Trial was pruned at iteration 0.\u001b[0m\n",
      "\u001b[32m[I 2022-11-22 00:11:50,405]\u001b[0m Trial 40 pruned. Trial was pruned at iteration 0.\u001b[0m\n"
     ]
    },
    {
     "name": "stdout",
     "output_type": "stream",
     "text": [
      "[LightGBM] [Warning] feature_fraction is set=0.8677445777837022, colsample_bytree=0.3 will be ignored. Current value: feature_fraction=0.8677445777837022\n",
      "[LightGBM] [Warning] min_data_in_leaf is set=1700, min_child_samples=82 will be ignored. Current value: min_data_in_leaf=1700\n",
      "[LightGBM] [Warning] min_gain_to_split is set=8.026330055447367, min_split_gain=0.0 will be ignored. Current value: min_gain_to_split=8.026330055447367\n",
      "[LightGBM] [Warning] bagging_fraction is set=0.7795494001655588, subsample=1.0 will be ignored. Current value: bagging_fraction=0.7795494001655588\n",
      "[LightGBM] [Warning] lambda_l1 is set=7.892952710701936e-06, reg_alpha=0.0 will be ignored. Current value: lambda_l1=7.892952710701936e-06\n",
      "[LightGBM] [Warning] lambda_l2 is set=0.0007792345101112945, reg_lambda=0.0 will be ignored. Current value: lambda_l2=0.0007792345101112945\n",
      "[LightGBM] [Warning] bagging_freq is set=5, subsample_freq=0 will be ignored. Current value: bagging_freq=5\n",
      "[LightGBM] [Warning] feature_fraction is set=0.8677445777837022, colsample_bytree=0.3 will be ignored. Current value: feature_fraction=0.8677445777837022\n",
      "[LightGBM] [Warning] min_data_in_leaf is set=1700, min_child_samples=82 will be ignored. Current value: min_data_in_leaf=1700\n",
      "[LightGBM] [Warning] min_gain_to_split is set=8.026330055447367, min_split_gain=0.0 will be ignored. Current value: min_gain_to_split=8.026330055447367\n",
      "[LightGBM] [Warning] bagging_fraction is set=0.7795494001655588, subsample=1.0 will be ignored. Current value: bagging_fraction=0.7795494001655588\n",
      "[LightGBM] [Warning] lambda_l1 is set=7.892952710701936e-06, reg_alpha=0.0 will be ignored. Current value: lambda_l1=7.892952710701936e-06\n",
      "[LightGBM] [Warning] lambda_l2 is set=0.0007792345101112945, reg_lambda=0.0 will be ignored. Current value: lambda_l2=0.0007792345101112945\n",
      "[LightGBM] [Warning] bagging_freq is set=5, subsample_freq=0 will be ignored. Current value: bagging_freq=5\n",
      "[LightGBM] [Warning] feature_fraction is set=0.8677445777837022, colsample_bytree=0.3 will be ignored. Current value: feature_fraction=0.8677445777837022\n",
      "[LightGBM] [Warning] min_data_in_leaf is set=1700, min_child_samples=82 will be ignored. Current value: min_data_in_leaf=1700\n",
      "[LightGBM] [Warning] min_gain_to_split is set=8.026330055447367, min_split_gain=0.0 will be ignored. Current value: min_gain_to_split=8.026330055447367\n",
      "[LightGBM] [Warning] bagging_fraction is set=0.7795494001655588, subsample=1.0 will be ignored. Current value: bagging_fraction=0.7795494001655588\n",
      "[LightGBM] [Warning] lambda_l1 is set=7.892952710701936e-06, reg_alpha=0.0 will be ignored. Current value: lambda_l1=7.892952710701936e-06\n",
      "[LightGBM] [Warning] lambda_l2 is set=0.0007792345101112945, reg_lambda=0.0 will be ignored. Current value: lambda_l2=0.0007792345101112945\n",
      "[LightGBM] [Warning] bagging_freq is set=5, subsample_freq=0 will be ignored. Current value: bagging_freq=5\n",
      "[LightGBM] [Warning] feature_fraction is set=0.8677445777837022, colsample_bytree=0.3 will be ignored. Current value: feature_fraction=0.8677445777837022\n",
      "[LightGBM] [Warning] min_data_in_leaf is set=1700, min_child_samples=82 will be ignored. Current value: min_data_in_leaf=1700\n",
      "[LightGBM] [Warning] min_gain_to_split is set=8.026330055447367, min_split_gain=0.0 will be ignored. Current value: min_gain_to_split=8.026330055447367\n",
      "[LightGBM] [Warning] bagging_fraction is set=0.7795494001655588, subsample=1.0 will be ignored. Current value: bagging_fraction=0.7795494001655588\n",
      "[LightGBM] [Warning] lambda_l1 is set=7.892952710701936e-06, reg_alpha=0.0 will be ignored. Current value: lambda_l1=7.892952710701936e-06\n",
      "[LightGBM] [Warning] lambda_l2 is set=0.0007792345101112945, reg_lambda=0.0 will be ignored. Current value: lambda_l2=0.0007792345101112945\n",
      "[LightGBM] [Warning] bagging_freq is set=5, subsample_freq=0 will be ignored. Current value: bagging_freq=5\n"
     ]
    },
    {
     "name": "stderr",
     "output_type": "stream",
     "text": [
      "\u001b[32m[I 2022-11-22 00:12:06,631]\u001b[0m Trial 41 finished with value: 0.5864653224223834 and parameters: {'n_estimators': 400, 'learning_rate': 0.14871859695368211, 'max_depth': 11, 'num_leaves': 7, 'min_data_in_leaf': 1700, 'min_child_samples': 82, 'lambda_l1': 7.892952710701936e-06, 'lambda_l2': 0.0007792345101112945, 'min_gain_to_split': 8.026330055447367, 'feature_fraction': 0.8677445777837022, 'bagging_fraction': 0.7795494001655588, 'bagging_freq': 5, 'colsample_bytree': 0.3}. Best is trial 19 with value: 0.5850164607858175.\u001b[0m\n"
     ]
    },
    {
     "name": "stdout",
     "output_type": "stream",
     "text": [
      "[LightGBM] [Warning] feature_fraction is set=0.8466182476282047, colsample_bytree=0.3 will be ignored. Current value: feature_fraction=0.8466182476282047\n",
      "[LightGBM] [Warning] min_data_in_leaf is set=1600, min_child_samples=80 will be ignored. Current value: min_data_in_leaf=1600\n",
      "[LightGBM] [Warning] min_gain_to_split is set=9.829596592446435, min_split_gain=0.0 will be ignored. Current value: min_gain_to_split=9.829596592446435\n",
      "[LightGBM] [Warning] bagging_fraction is set=0.7736661927862425, subsample=1.0 will be ignored. Current value: bagging_fraction=0.7736661927862425\n",
      "[LightGBM] [Warning] lambda_l1 is set=6.680664327884323e-07, reg_alpha=0.0 will be ignored. Current value: lambda_l1=6.680664327884323e-07\n",
      "[LightGBM] [Warning] lambda_l2 is set=0.0012036368972555883, reg_lambda=0.0 will be ignored. Current value: lambda_l2=0.0012036368972555883\n",
      "[LightGBM] [Warning] bagging_freq is set=5, subsample_freq=0 will be ignored. Current value: bagging_freq=5\n"
     ]
    },
    {
     "name": "stderr",
     "output_type": "stream",
     "text": [
      "\u001b[32m[I 2022-11-22 00:12:07,966]\u001b[0m Trial 42 pruned. Trial was pruned at iteration 0.\u001b[0m\n",
      "\u001b[32m[I 2022-11-22 00:12:08,801]\u001b[0m Trial 43 pruned. Trial was pruned at iteration 0.\u001b[0m\n",
      "\u001b[32m[I 2022-11-22 00:12:09,640]\u001b[0m Trial 44 pruned. Trial was pruned at iteration 0.\u001b[0m\n",
      "\u001b[32m[I 2022-11-22 00:12:10,481]\u001b[0m Trial 45 pruned. Trial was pruned at iteration 0.\u001b[0m\n"
     ]
    },
    {
     "name": "stdout",
     "output_type": "stream",
     "text": [
      "[LightGBM] [Warning] feature_fraction is set=0.9937654639909853, colsample_bytree=0.3 will be ignored. Current value: feature_fraction=0.9937654639909853\n",
      "[LightGBM] [Warning] min_data_in_leaf is set=7000, min_child_samples=53 will be ignored. Current value: min_data_in_leaf=7000\n",
      "[LightGBM] [Warning] min_gain_to_split is set=9.208950085883917, min_split_gain=0.0 will be ignored. Current value: min_gain_to_split=9.208950085883917\n",
      "[LightGBM] [Warning] bagging_fraction is set=0.6601012227077905, subsample=1.0 will be ignored. Current value: bagging_fraction=0.6601012227077905\n",
      "[LightGBM] [Warning] lambda_l1 is set=1.4361697357088132e-05, reg_alpha=0.0 will be ignored. Current value: lambda_l1=1.4361697357088132e-05\n",
      "[LightGBM] [Warning] lambda_l2 is set=0.0008402160621166635, reg_lambda=0.0 will be ignored. Current value: lambda_l2=0.0008402160621166635\n",
      "[LightGBM] [Warning] bagging_freq is set=4, subsample_freq=0 will be ignored. Current value: bagging_freq=4\n",
      "[LightGBM] [Warning] feature_fraction is set=0.9937654639909853, colsample_bytree=0.3 will be ignored. Current value: feature_fraction=0.9937654639909853\n",
      "[LightGBM] [Warning] min_data_in_leaf is set=7000, min_child_samples=53 will be ignored. Current value: min_data_in_leaf=7000\n",
      "[LightGBM] [Warning] min_gain_to_split is set=9.208950085883917, min_split_gain=0.0 will be ignored. Current value: min_gain_to_split=9.208950085883917\n",
      "[LightGBM] [Warning] bagging_fraction is set=0.6601012227077905, subsample=1.0 will be ignored. Current value: bagging_fraction=0.6601012227077905\n",
      "[LightGBM] [Warning] lambda_l1 is set=1.4361697357088132e-05, reg_alpha=0.0 will be ignored. Current value: lambda_l1=1.4361697357088132e-05\n",
      "[LightGBM] [Warning] lambda_l2 is set=0.0008402160621166635, reg_lambda=0.0 will be ignored. Current value: lambda_l2=0.0008402160621166635\n",
      "[LightGBM] [Warning] bagging_freq is set=4, subsample_freq=0 will be ignored. Current value: bagging_freq=4\n",
      "[LightGBM] [Warning] feature_fraction is set=0.9937654639909853, colsample_bytree=0.3 will be ignored. Current value: feature_fraction=0.9937654639909853\n",
      "[LightGBM] [Warning] min_data_in_leaf is set=7000, min_child_samples=53 will be ignored. Current value: min_data_in_leaf=7000\n",
      "[LightGBM] [Warning] min_gain_to_split is set=9.208950085883917, min_split_gain=0.0 will be ignored. Current value: min_gain_to_split=9.208950085883917\n",
      "[LightGBM] [Warning] bagging_fraction is set=0.6601012227077905, subsample=1.0 will be ignored. Current value: bagging_fraction=0.6601012227077905\n",
      "[LightGBM] [Warning] lambda_l1 is set=1.4361697357088132e-05, reg_alpha=0.0 will be ignored. Current value: lambda_l1=1.4361697357088132e-05\n",
      "[LightGBM] [Warning] lambda_l2 is set=0.0008402160621166635, reg_lambda=0.0 will be ignored. Current value: lambda_l2=0.0008402160621166635\n",
      "[LightGBM] [Warning] bagging_freq is set=4, subsample_freq=0 will be ignored. Current value: bagging_freq=4\n",
      "[LightGBM] [Warning] feature_fraction is set=0.9937654639909853, colsample_bytree=0.3 will be ignored. Current value: feature_fraction=0.9937654639909853\n",
      "[LightGBM] [Warning] min_data_in_leaf is set=7000, min_child_samples=53 will be ignored. Current value: min_data_in_leaf=7000\n",
      "[LightGBM] [Warning] min_gain_to_split is set=9.208950085883917, min_split_gain=0.0 will be ignored. Current value: min_gain_to_split=9.208950085883917\n",
      "[LightGBM] [Warning] bagging_fraction is set=0.6601012227077905, subsample=1.0 will be ignored. Current value: bagging_fraction=0.6601012227077905\n",
      "[LightGBM] [Warning] lambda_l1 is set=1.4361697357088132e-05, reg_alpha=0.0 will be ignored. Current value: lambda_l1=1.4361697357088132e-05\n",
      "[LightGBM] [Warning] lambda_l2 is set=0.0008402160621166635, reg_lambda=0.0 will be ignored. Current value: lambda_l2=0.0008402160621166635\n",
      "[LightGBM] [Warning] bagging_freq is set=4, subsample_freq=0 will be ignored. Current value: bagging_freq=4\n"
     ]
    },
    {
     "name": "stderr",
     "output_type": "stream",
     "text": [
      "\u001b[32m[I 2022-11-22 00:12:23,755]\u001b[0m Trial 46 finished with value: 0.5889996650105351 and parameters: {'n_estimators': 400, 'learning_rate': 0.15836146798262318, 'max_depth': 11, 'num_leaves': 9, 'min_data_in_leaf': 7000, 'min_child_samples': 53, 'lambda_l1': 1.4361697357088132e-05, 'lambda_l2': 0.0008402160621166635, 'min_gain_to_split': 9.208950085883917, 'feature_fraction': 0.9937654639909853, 'bagging_fraction': 0.6601012227077905, 'bagging_freq': 4, 'colsample_bytree': 0.3}. Best is trial 19 with value: 0.5850164607858175.\u001b[0m\n"
     ]
    },
    {
     "name": "stdout",
     "output_type": "stream",
     "text": [
      "[LightGBM] [Warning] feature_fraction is set=0.9884047892011243, colsample_bytree=0.3 will be ignored. Current value: feature_fraction=0.9884047892011243\n",
      "[LightGBM] [Warning] min_data_in_leaf is set=7300, min_child_samples=35 will be ignored. Current value: min_data_in_leaf=7300\n",
      "[LightGBM] [Warning] min_gain_to_split is set=11.31962374795059, min_split_gain=0.0 will be ignored. Current value: min_gain_to_split=11.31962374795059\n",
      "[LightGBM] [Warning] bagging_fraction is set=0.6344443078440535, subsample=1.0 will be ignored. Current value: bagging_fraction=0.6344443078440535\n",
      "[LightGBM] [Warning] lambda_l1 is set=1.3927786642746402e-05, reg_alpha=0.0 will be ignored. Current value: lambda_l1=1.3927786642746402e-05\n",
      "[LightGBM] [Warning] lambda_l2 is set=0.002552950508373137, reg_lambda=0.0 will be ignored. Current value: lambda_l2=0.002552950508373137\n",
      "[LightGBM] [Warning] bagging_freq is set=3, subsample_freq=0 will be ignored. Current value: bagging_freq=3\n"
     ]
    },
    {
     "name": "stderr",
     "output_type": "stream",
     "text": [
      "\u001b[32m[I 2022-11-22 00:12:24,576]\u001b[0m Trial 47 pruned. Trial was pruned at iteration 0.\u001b[0m\n",
      "\u001b[32m[I 2022-11-22 00:12:25,399]\u001b[0m Trial 48 pruned. Trial was pruned at iteration 0.\u001b[0m\n",
      "\u001b[32m[I 2022-11-22 00:12:26,235]\u001b[0m Trial 49 pruned. Trial was pruned at iteration 0.\u001b[0m\n",
      "\u001b[32m[I 2022-11-22 00:12:27,080]\u001b[0m Trial 50 pruned. Trial was pruned at iteration 0.\u001b[0m\n"
     ]
    },
    {
     "name": "stdout",
     "output_type": "stream",
     "text": [
      "[LightGBM] [Warning] feature_fraction is set=0.8919780695929082, colsample_bytree=0.3 will be ignored. Current value: feature_fraction=0.8919780695929082\n",
      "[LightGBM] [Warning] min_data_in_leaf is set=2200, min_child_samples=64 will be ignored. Current value: min_data_in_leaf=2200\n",
      "[LightGBM] [Warning] min_gain_to_split is set=9.010609199912485, min_split_gain=0.0 will be ignored. Current value: min_gain_to_split=9.010609199912485\n",
      "[LightGBM] [Warning] bagging_fraction is set=0.8873346980085166, subsample=1.0 will be ignored. Current value: bagging_fraction=0.8873346980085166\n",
      "[LightGBM] [Warning] lambda_l1 is set=3.0944216187063537e-06, reg_alpha=0.0 will be ignored. Current value: lambda_l1=3.0944216187063537e-06\n",
      "[LightGBM] [Warning] lambda_l2 is set=0.0010083541745220122, reg_lambda=0.0 will be ignored. Current value: lambda_l2=0.0010083541745220122\n",
      "[LightGBM] [Warning] bagging_freq is set=5, subsample_freq=0 will be ignored. Current value: bagging_freq=5\n",
      "[LightGBM] [Warning] feature_fraction is set=0.8919780695929082, colsample_bytree=0.3 will be ignored. Current value: feature_fraction=0.8919780695929082\n",
      "[LightGBM] [Warning] min_data_in_leaf is set=2200, min_child_samples=64 will be ignored. Current value: min_data_in_leaf=2200\n",
      "[LightGBM] [Warning] min_gain_to_split is set=9.010609199912485, min_split_gain=0.0 will be ignored. Current value: min_gain_to_split=9.010609199912485\n",
      "[LightGBM] [Warning] bagging_fraction is set=0.8873346980085166, subsample=1.0 will be ignored. Current value: bagging_fraction=0.8873346980085166\n",
      "[LightGBM] [Warning] lambda_l1 is set=3.0944216187063537e-06, reg_alpha=0.0 will be ignored. Current value: lambda_l1=3.0944216187063537e-06\n",
      "[LightGBM] [Warning] lambda_l2 is set=0.0010083541745220122, reg_lambda=0.0 will be ignored. Current value: lambda_l2=0.0010083541745220122\n",
      "[LightGBM] [Warning] bagging_freq is set=5, subsample_freq=0 will be ignored. Current value: bagging_freq=5\n",
      "[LightGBM] [Warning] feature_fraction is set=0.8919780695929082, colsample_bytree=0.3 will be ignored. Current value: feature_fraction=0.8919780695929082\n",
      "[LightGBM] [Warning] min_data_in_leaf is set=2200, min_child_samples=64 will be ignored. Current value: min_data_in_leaf=2200\n",
      "[LightGBM] [Warning] min_gain_to_split is set=9.010609199912485, min_split_gain=0.0 will be ignored. Current value: min_gain_to_split=9.010609199912485\n",
      "[LightGBM] [Warning] bagging_fraction is set=0.8873346980085166, subsample=1.0 will be ignored. Current value: bagging_fraction=0.8873346980085166\n",
      "[LightGBM] [Warning] lambda_l1 is set=3.0944216187063537e-06, reg_alpha=0.0 will be ignored. Current value: lambda_l1=3.0944216187063537e-06\n",
      "[LightGBM] [Warning] lambda_l2 is set=0.0010083541745220122, reg_lambda=0.0 will be ignored. Current value: lambda_l2=0.0010083541745220122\n",
      "[LightGBM] [Warning] bagging_freq is set=5, subsample_freq=0 will be ignored. Current value: bagging_freq=5\n",
      "[LightGBM] [Warning] feature_fraction is set=0.8919780695929082, colsample_bytree=0.3 will be ignored. Current value: feature_fraction=0.8919780695929082\n",
      "[LightGBM] [Warning] min_data_in_leaf is set=2200, min_child_samples=64 will be ignored. Current value: min_data_in_leaf=2200\n",
      "[LightGBM] [Warning] min_gain_to_split is set=9.010609199912485, min_split_gain=0.0 will be ignored. Current value: min_gain_to_split=9.010609199912485\n",
      "[LightGBM] [Warning] bagging_fraction is set=0.8873346980085166, subsample=1.0 will be ignored. Current value: bagging_fraction=0.8873346980085166\n",
      "[LightGBM] [Warning] lambda_l1 is set=3.0944216187063537e-06, reg_alpha=0.0 will be ignored. Current value: lambda_l1=3.0944216187063537e-06\n",
      "[LightGBM] [Warning] lambda_l2 is set=0.0010083541745220122, reg_lambda=0.0 will be ignored. Current value: lambda_l2=0.0010083541745220122\n",
      "[LightGBM] [Warning] bagging_freq is set=5, subsample_freq=0 will be ignored. Current value: bagging_freq=5\n"
     ]
    },
    {
     "name": "stderr",
     "output_type": "stream",
     "text": [
      "\u001b[32m[I 2022-11-22 00:12:41,443]\u001b[0m Trial 51 finished with value: 0.5888962271196811 and parameters: {'n_estimators': 400, 'learning_rate': 0.18386137231866986, 'max_depth': 11, 'num_leaves': 7, 'min_data_in_leaf': 2200, 'min_child_samples': 64, 'lambda_l1': 3.0944216187063537e-06, 'lambda_l2': 0.0010083541745220122, 'min_gain_to_split': 9.010609199912485, 'feature_fraction': 0.8919780695929082, 'bagging_fraction': 0.8873346980085166, 'bagging_freq': 5, 'colsample_bytree': 0.3}. Best is trial 19 with value: 0.5850164607858175.\u001b[0m\n"
     ]
    },
    {
     "name": "stdout",
     "output_type": "stream",
     "text": [
      "[LightGBM] [Warning] feature_fraction is set=0.8219894884349385, colsample_bytree=0.3 will be ignored. Current value: feature_fraction=0.8219894884349385\n",
      "[LightGBM] [Warning] min_data_in_leaf is set=2200, min_child_samples=100 will be ignored. Current value: min_data_in_leaf=2200\n",
      "[LightGBM] [Warning] min_gain_to_split is set=9.171202848767404, min_split_gain=0.0 will be ignored. Current value: min_gain_to_split=9.171202848767404\n",
      "[LightGBM] [Warning] bagging_fraction is set=0.8876186493382137, subsample=1.0 will be ignored. Current value: bagging_fraction=0.8876186493382137\n",
      "[LightGBM] [Warning] lambda_l1 is set=3.8414385213436075e-07, reg_alpha=0.0 will be ignored. Current value: lambda_l1=3.8414385213436075e-07\n",
      "[LightGBM] [Warning] lambda_l2 is set=0.0012922876654608074, reg_lambda=0.0 will be ignored. Current value: lambda_l2=0.0012922876654608074\n",
      "[LightGBM] [Warning] bagging_freq is set=5, subsample_freq=0 will be ignored. Current value: bagging_freq=5\n"
     ]
    },
    {
     "name": "stderr",
     "output_type": "stream",
     "text": [
      "\u001b[32m[I 2022-11-22 00:12:42,302]\u001b[0m Trial 52 pruned. Trial was pruned at iteration 0.\u001b[0m\n",
      "\u001b[32m[I 2022-11-22 00:12:43,164]\u001b[0m Trial 53 pruned. Trial was pruned at iteration 0.\u001b[0m\n",
      "\u001b[32m[I 2022-11-22 00:12:44,286]\u001b[0m Trial 54 pruned. Trial was pruned at iteration 16.\u001b[0m\n",
      "\u001b[32m[I 2022-11-22 00:12:45,172]\u001b[0m Trial 55 pruned. Trial was pruned at iteration 0.\u001b[0m\n",
      "\u001b[32m[I 2022-11-22 00:12:46,030]\u001b[0m Trial 56 pruned. Trial was pruned at iteration 0.\u001b[0m\n",
      "\u001b[32m[I 2022-11-22 00:12:46,924]\u001b[0m Trial 57 pruned. Trial was pruned at iteration 1.\u001b[0m\n",
      "\u001b[32m[I 2022-11-22 00:12:47,762]\u001b[0m Trial 58 pruned. Trial was pruned at iteration 0.\u001b[0m\n",
      "\u001b[32m[I 2022-11-22 00:12:48,702]\u001b[0m Trial 59 pruned. Trial was pruned at iteration 4.\u001b[0m\n",
      "\u001b[32m[I 2022-11-22 00:12:49,580]\u001b[0m Trial 60 pruned. Trial was pruned at iteration 0.\u001b[0m\n",
      "\u001b[32m[I 2022-11-22 00:12:50,533]\u001b[0m Trial 61 pruned. Trial was pruned at iteration 9.\u001b[0m\n",
      "\u001b[32m[I 2022-11-22 00:12:51,444]\u001b[0m Trial 62 pruned. Trial was pruned at iteration 0.\u001b[0m\n"
     ]
    },
    {
     "name": "stdout",
     "output_type": "stream",
     "text": [
      "[LightGBM] [Warning] feature_fraction is set=0.9558424884956402, colsample_bytree=0.3 will be ignored. Current value: feature_fraction=0.9558424884956402\n",
      "[LightGBM] [Warning] min_data_in_leaf is set=1300, min_child_samples=67 will be ignored. Current value: min_data_in_leaf=1300\n",
      "[LightGBM] [Warning] min_gain_to_split is set=7.071877259302858, min_split_gain=0.0 will be ignored. Current value: min_gain_to_split=7.071877259302858\n",
      "[LightGBM] [Warning] bagging_fraction is set=0.8884600539759572, subsample=1.0 will be ignored. Current value: bagging_fraction=0.8884600539759572\n",
      "[LightGBM] [Warning] lambda_l1 is set=2.8147219876791094e-05, reg_alpha=0.0 will be ignored. Current value: lambda_l1=2.8147219876791094e-05\n",
      "[LightGBM] [Warning] lambda_l2 is set=0.00032701645052517144, reg_lambda=0.0 will be ignored. Current value: lambda_l2=0.00032701645052517144\n",
      "[LightGBM] [Warning] bagging_freq is set=5, subsample_freq=0 will be ignored. Current value: bagging_freq=5\n",
      "[LightGBM] [Warning] feature_fraction is set=0.9558424884956402, colsample_bytree=0.3 will be ignored. Current value: feature_fraction=0.9558424884956402\n",
      "[LightGBM] [Warning] min_data_in_leaf is set=1300, min_child_samples=67 will be ignored. Current value: min_data_in_leaf=1300\n",
      "[LightGBM] [Warning] min_gain_to_split is set=7.071877259302858, min_split_gain=0.0 will be ignored. Current value: min_gain_to_split=7.071877259302858\n",
      "[LightGBM] [Warning] bagging_fraction is set=0.8884600539759572, subsample=1.0 will be ignored. Current value: bagging_fraction=0.8884600539759572\n",
      "[LightGBM] [Warning] lambda_l1 is set=2.8147219876791094e-05, reg_alpha=0.0 will be ignored. Current value: lambda_l1=2.8147219876791094e-05\n",
      "[LightGBM] [Warning] lambda_l2 is set=0.00032701645052517144, reg_lambda=0.0 will be ignored. Current value: lambda_l2=0.00032701645052517144\n",
      "[LightGBM] [Warning] bagging_freq is set=5, subsample_freq=0 will be ignored. Current value: bagging_freq=5\n",
      "[LightGBM] [Warning] feature_fraction is set=0.9558424884956402, colsample_bytree=0.3 will be ignored. Current value: feature_fraction=0.9558424884956402\n",
      "[LightGBM] [Warning] min_data_in_leaf is set=1300, min_child_samples=67 will be ignored. Current value: min_data_in_leaf=1300\n",
      "[LightGBM] [Warning] min_gain_to_split is set=7.071877259302858, min_split_gain=0.0 will be ignored. Current value: min_gain_to_split=7.071877259302858\n",
      "[LightGBM] [Warning] bagging_fraction is set=0.8884600539759572, subsample=1.0 will be ignored. Current value: bagging_fraction=0.8884600539759572\n",
      "[LightGBM] [Warning] lambda_l1 is set=2.8147219876791094e-05, reg_alpha=0.0 will be ignored. Current value: lambda_l1=2.8147219876791094e-05\n",
      "[LightGBM] [Warning] lambda_l2 is set=0.00032701645052517144, reg_lambda=0.0 will be ignored. Current value: lambda_l2=0.00032701645052517144\n",
      "[LightGBM] [Warning] bagging_freq is set=5, subsample_freq=0 will be ignored. Current value: bagging_freq=5\n",
      "[LightGBM] [Warning] feature_fraction is set=0.9558424884956402, colsample_bytree=0.3 will be ignored. Current value: feature_fraction=0.9558424884956402\n",
      "[LightGBM] [Warning] min_data_in_leaf is set=1300, min_child_samples=67 will be ignored. Current value: min_data_in_leaf=1300\n",
      "[LightGBM] [Warning] min_gain_to_split is set=7.071877259302858, min_split_gain=0.0 will be ignored. Current value: min_gain_to_split=7.071877259302858\n",
      "[LightGBM] [Warning] bagging_fraction is set=0.8884600539759572, subsample=1.0 will be ignored. Current value: bagging_fraction=0.8884600539759572\n",
      "[LightGBM] [Warning] lambda_l1 is set=2.8147219876791094e-05, reg_alpha=0.0 will be ignored. Current value: lambda_l1=2.8147219876791094e-05\n",
      "[LightGBM] [Warning] lambda_l2 is set=0.00032701645052517144, reg_lambda=0.0 will be ignored. Current value: lambda_l2=0.00032701645052517144\n",
      "[LightGBM] [Warning] bagging_freq is set=5, subsample_freq=0 will be ignored. Current value: bagging_freq=5\n"
     ]
    },
    {
     "name": "stderr",
     "output_type": "stream",
     "text": [
      "\u001b[32m[I 2022-11-22 00:13:06,015]\u001b[0m Trial 63 finished with value: 0.5854137477920588 and parameters: {'n_estimators': 400, 'learning_rate': 0.2053429371233342, 'max_depth': 11, 'num_leaves': 9, 'min_data_in_leaf': 1300, 'min_child_samples': 67, 'lambda_l1': 2.8147219876791094e-05, 'lambda_l2': 0.00032701645052517144, 'min_gain_to_split': 7.071877259302858, 'feature_fraction': 0.9558424884956402, 'bagging_fraction': 0.8884600539759572, 'bagging_freq': 5, 'colsample_bytree': 0.3}. Best is trial 19 with value: 0.5850164607858175.\u001b[0m\n"
     ]
    },
    {
     "name": "stdout",
     "output_type": "stream",
     "text": [
      "[LightGBM] [Warning] feature_fraction is set=0.9506984244378284, colsample_bytree=0.3 will be ignored. Current value: feature_fraction=0.9506984244378284\n",
      "[LightGBM] [Warning] min_data_in_leaf is set=1300, min_child_samples=67 will be ignored. Current value: min_data_in_leaf=1300\n",
      "[LightGBM] [Warning] min_gain_to_split is set=8.494776584373508, min_split_gain=0.0 will be ignored. Current value: min_gain_to_split=8.494776584373508\n",
      "[LightGBM] [Warning] bagging_fraction is set=0.8940456267232704, subsample=1.0 will be ignored. Current value: bagging_fraction=0.8940456267232704\n",
      "[LightGBM] [Warning] lambda_l1 is set=3.450915398740849e-05, reg_alpha=0.0 will be ignored. Current value: lambda_l1=3.450915398740849e-05\n",
      "[LightGBM] [Warning] lambda_l2 is set=0.0018796612242858951, reg_lambda=0.0 will be ignored. Current value: lambda_l2=0.0018796612242858951\n",
      "[LightGBM] [Warning] bagging_freq is set=4, subsample_freq=0 will be ignored. Current value: bagging_freq=4\n",
      "[LightGBM] [Warning] feature_fraction is set=0.9506984244378284, colsample_bytree=0.3 will be ignored. Current value: feature_fraction=0.9506984244378284\n",
      "[LightGBM] [Warning] min_data_in_leaf is set=1300, min_child_samples=67 will be ignored. Current value: min_data_in_leaf=1300\n",
      "[LightGBM] [Warning] min_gain_to_split is set=8.494776584373508, min_split_gain=0.0 will be ignored. Current value: min_gain_to_split=8.494776584373508\n",
      "[LightGBM] [Warning] bagging_fraction is set=0.8940456267232704, subsample=1.0 will be ignored. Current value: bagging_fraction=0.8940456267232704\n",
      "[LightGBM] [Warning] lambda_l1 is set=3.450915398740849e-05, reg_alpha=0.0 will be ignored. Current value: lambda_l1=3.450915398740849e-05\n",
      "[LightGBM] [Warning] lambda_l2 is set=0.0018796612242858951, reg_lambda=0.0 will be ignored. Current value: lambda_l2=0.0018796612242858951\n",
      "[LightGBM] [Warning] bagging_freq is set=4, subsample_freq=0 will be ignored. Current value: bagging_freq=4\n",
      "[LightGBM] [Warning] feature_fraction is set=0.9506984244378284, colsample_bytree=0.3 will be ignored. Current value: feature_fraction=0.9506984244378284\n",
      "[LightGBM] [Warning] min_data_in_leaf is set=1300, min_child_samples=67 will be ignored. Current value: min_data_in_leaf=1300\n",
      "[LightGBM] [Warning] min_gain_to_split is set=8.494776584373508, min_split_gain=0.0 will be ignored. Current value: min_gain_to_split=8.494776584373508\n",
      "[LightGBM] [Warning] bagging_fraction is set=0.8940456267232704, subsample=1.0 will be ignored. Current value: bagging_fraction=0.8940456267232704\n",
      "[LightGBM] [Warning] lambda_l1 is set=3.450915398740849e-05, reg_alpha=0.0 will be ignored. Current value: lambda_l1=3.450915398740849e-05\n",
      "[LightGBM] [Warning] lambda_l2 is set=0.0018796612242858951, reg_lambda=0.0 will be ignored. Current value: lambda_l2=0.0018796612242858951\n",
      "[LightGBM] [Warning] bagging_freq is set=4, subsample_freq=0 will be ignored. Current value: bagging_freq=4\n",
      "[LightGBM] [Warning] feature_fraction is set=0.9506984244378284, colsample_bytree=0.3 will be ignored. Current value: feature_fraction=0.9506984244378284\n",
      "[LightGBM] [Warning] min_data_in_leaf is set=1300, min_child_samples=67 will be ignored. Current value: min_data_in_leaf=1300\n",
      "[LightGBM] [Warning] min_gain_to_split is set=8.494776584373508, min_split_gain=0.0 will be ignored. Current value: min_gain_to_split=8.494776584373508\n",
      "[LightGBM] [Warning] bagging_fraction is set=0.8940456267232704, subsample=1.0 will be ignored. Current value: bagging_fraction=0.8940456267232704\n",
      "[LightGBM] [Warning] lambda_l1 is set=3.450915398740849e-05, reg_alpha=0.0 will be ignored. Current value: lambda_l1=3.450915398740849e-05\n",
      "[LightGBM] [Warning] lambda_l2 is set=0.0018796612242858951, reg_lambda=0.0 will be ignored. Current value: lambda_l2=0.0018796612242858951\n",
      "[LightGBM] [Warning] bagging_freq is set=4, subsample_freq=0 will be ignored. Current value: bagging_freq=4\n",
      "[LightGBM] [Warning] feature_fraction is set=0.9506984244378284, colsample_bytree=0.3 will be ignored. Current value: feature_fraction=0.9506984244378284\n",
      "[LightGBM] [Warning] min_data_in_leaf is set=1300, min_child_samples=67 will be ignored. Current value: min_data_in_leaf=1300\n",
      "[LightGBM] [Warning] min_gain_to_split is set=8.494776584373508, min_split_gain=0.0 will be ignored. Current value: min_gain_to_split=8.494776584373508\n",
      "[LightGBM] [Warning] bagging_fraction is set=0.8940456267232704, subsample=1.0 will be ignored. Current value: bagging_fraction=0.8940456267232704\n",
      "[LightGBM] [Warning] lambda_l1 is set=3.450915398740849e-05, reg_alpha=0.0 will be ignored. Current value: lambda_l1=3.450915398740849e-05\n",
      "[LightGBM] [Warning] lambda_l2 is set=0.0018796612242858951, reg_lambda=0.0 will be ignored. Current value: lambda_l2=0.0018796612242858951\n",
      "[LightGBM] [Warning] bagging_freq is set=4, subsample_freq=0 will be ignored. Current value: bagging_freq=4\n"
     ]
    },
    {
     "name": "stderr",
     "output_type": "stream",
     "text": [
      "\u001b[32m[I 2022-11-22 00:13:19,510]\u001b[0m Trial 64 finished with value: 0.5861439425267491 and parameters: {'n_estimators': 450, 'learning_rate': 0.20772640471162845, 'max_depth': 11, 'num_leaves': 9, 'min_data_in_leaf': 1300, 'min_child_samples': 67, 'lambda_l1': 3.450915398740849e-05, 'lambda_l2': 0.0018796612242858951, 'min_gain_to_split': 8.494776584373508, 'feature_fraction': 0.9506984244378284, 'bagging_fraction': 0.8940456267232704, 'bagging_freq': 4, 'colsample_bytree': 0.3}. Best is trial 19 with value: 0.5850164607858175.\u001b[0m\n"
     ]
    },
    {
     "name": "stdout",
     "output_type": "stream",
     "text": [
      "[LightGBM] [Warning] feature_fraction is set=0.9543008865214723, colsample_bytree=0.3 will be ignored. Current value: feature_fraction=0.9543008865214723\n",
      "[LightGBM] [Warning] min_data_in_leaf is set=1400, min_child_samples=66 will be ignored. Current value: min_data_in_leaf=1400\n",
      "[LightGBM] [Warning] min_gain_to_split is set=7.1034709350158, min_split_gain=0.0 will be ignored. Current value: min_gain_to_split=7.1034709350158\n",
      "[LightGBM] [Warning] bagging_fraction is set=0.8934044813716641, subsample=1.0 will be ignored. Current value: bagging_fraction=0.8934044813716641\n",
      "[LightGBM] [Warning] lambda_l1 is set=5.2631710128569044e-05, reg_alpha=0.0 will be ignored. Current value: lambda_l1=5.2631710128569044e-05\n",
      "[LightGBM] [Warning] lambda_l2 is set=0.002434264875350806, reg_lambda=0.0 will be ignored. Current value: lambda_l2=0.002434264875350806\n",
      "[LightGBM] [Warning] bagging_freq is set=5, subsample_freq=0 will be ignored. Current value: bagging_freq=5\n"
     ]
    },
    {
     "name": "stderr",
     "output_type": "stream",
     "text": [
      "\u001b[32m[I 2022-11-22 00:13:20,304]\u001b[0m Trial 65 pruned. Trial was pruned at iteration 0.\u001b[0m\n",
      "\u001b[32m[I 2022-11-22 00:13:21,223]\u001b[0m Trial 66 pruned. Trial was pruned at iteration 0.\u001b[0m\n"
     ]
    },
    {
     "name": "stdout",
     "output_type": "stream",
     "text": [
      "[LightGBM] [Warning] feature_fraction is set=0.9221689154826762, colsample_bytree=0.3 will be ignored. Current value: feature_fraction=0.9221689154826762\n",
      "[LightGBM] [Warning] min_data_in_leaf is set=1200, min_child_samples=60 will be ignored. Current value: min_data_in_leaf=1200\n",
      "[LightGBM] [Warning] min_gain_to_split is set=5.563627241808593, min_split_gain=0.0 will be ignored. Current value: min_gain_to_split=5.563627241808593\n",
      "[LightGBM] [Warning] bagging_fraction is set=0.8168858656466477, subsample=1.0 will be ignored. Current value: bagging_fraction=0.8168858656466477\n",
      "[LightGBM] [Warning] lambda_l1 is set=0.004233790489690113, reg_alpha=0.0 will be ignored. Current value: lambda_l1=0.004233790489690113\n",
      "[LightGBM] [Warning] lambda_l2 is set=0.019956206462183105, reg_lambda=0.0 will be ignored. Current value: lambda_l2=0.019956206462183105\n",
      "[LightGBM] [Warning] bagging_freq is set=6, subsample_freq=0 will be ignored. Current value: bagging_freq=6\n",
      "[LightGBM] [Warning] feature_fraction is set=0.9221689154826762, colsample_bytree=0.3 will be ignored. Current value: feature_fraction=0.9221689154826762\n",
      "[LightGBM] [Warning] min_data_in_leaf is set=1200, min_child_samples=60 will be ignored. Current value: min_data_in_leaf=1200\n",
      "[LightGBM] [Warning] min_gain_to_split is set=5.563627241808593, min_split_gain=0.0 will be ignored. Current value: min_gain_to_split=5.563627241808593\n",
      "[LightGBM] [Warning] bagging_fraction is set=0.8168858656466477, subsample=1.0 will be ignored. Current value: bagging_fraction=0.8168858656466477\n",
      "[LightGBM] [Warning] lambda_l1 is set=0.004233790489690113, reg_alpha=0.0 will be ignored. Current value: lambda_l1=0.004233790489690113\n",
      "[LightGBM] [Warning] lambda_l2 is set=0.019956206462183105, reg_lambda=0.0 will be ignored. Current value: lambda_l2=0.019956206462183105\n",
      "[LightGBM] [Warning] bagging_freq is set=6, subsample_freq=0 will be ignored. Current value: bagging_freq=6\n",
      "[LightGBM] [Warning] feature_fraction is set=0.9221689154826762, colsample_bytree=0.3 will be ignored. Current value: feature_fraction=0.9221689154826762\n",
      "[LightGBM] [Warning] min_data_in_leaf is set=1200, min_child_samples=60 will be ignored. Current value: min_data_in_leaf=1200\n",
      "[LightGBM] [Warning] min_gain_to_split is set=5.563627241808593, min_split_gain=0.0 will be ignored. Current value: min_gain_to_split=5.563627241808593\n",
      "[LightGBM] [Warning] bagging_fraction is set=0.8168858656466477, subsample=1.0 will be ignored. Current value: bagging_fraction=0.8168858656466477\n",
      "[LightGBM] [Warning] lambda_l1 is set=0.004233790489690113, reg_alpha=0.0 will be ignored. Current value: lambda_l1=0.004233790489690113\n",
      "[LightGBM] [Warning] lambda_l2 is set=0.019956206462183105, reg_lambda=0.0 will be ignored. Current value: lambda_l2=0.019956206462183105\n",
      "[LightGBM] [Warning] bagging_freq is set=6, subsample_freq=0 will be ignored. Current value: bagging_freq=6\n",
      "[LightGBM] [Warning] feature_fraction is set=0.9221689154826762, colsample_bytree=0.3 will be ignored. Current value: feature_fraction=0.9221689154826762\n",
      "[LightGBM] [Warning] min_data_in_leaf is set=1200, min_child_samples=60 will be ignored. Current value: min_data_in_leaf=1200\n",
      "[LightGBM] [Warning] min_gain_to_split is set=5.563627241808593, min_split_gain=0.0 will be ignored. Current value: min_gain_to_split=5.563627241808593\n",
      "[LightGBM] [Warning] bagging_fraction is set=0.8168858656466477, subsample=1.0 will be ignored. Current value: bagging_fraction=0.8168858656466477\n",
      "[LightGBM] [Warning] lambda_l1 is set=0.004233790489690113, reg_alpha=0.0 will be ignored. Current value: lambda_l1=0.004233790489690113\n",
      "[LightGBM] [Warning] lambda_l2 is set=0.019956206462183105, reg_lambda=0.0 will be ignored. Current value: lambda_l2=0.019956206462183105\n",
      "[LightGBM] [Warning] bagging_freq is set=6, subsample_freq=0 will be ignored. Current value: bagging_freq=6\n"
     ]
    },
    {
     "name": "stderr",
     "output_type": "stream",
     "text": [
      "\u001b[32m[I 2022-11-22 00:13:36,497]\u001b[0m Trial 67 finished with value: 0.5818120552040741 and parameters: {'n_estimators': 450, 'learning_rate': 0.21604535264308827, 'max_depth': 11, 'num_leaves': 9, 'min_data_in_leaf': 1200, 'min_child_samples': 60, 'lambda_l1': 0.004233790489690113, 'lambda_l2': 0.019956206462183105, 'min_gain_to_split': 5.563627241808593, 'feature_fraction': 0.9221689154826762, 'bagging_fraction': 0.8168858656466477, 'bagging_freq': 6, 'colsample_bytree': 0.3}. Best is trial 67 with value: 0.5818120552040741.\u001b[0m\n"
     ]
    },
    {
     "name": "stdout",
     "output_type": "stream",
     "text": [
      "[LightGBM] [Warning] feature_fraction is set=0.9212619833294899, colsample_bytree=0.3 will be ignored. Current value: feature_fraction=0.9212619833294899\n",
      "[LightGBM] [Warning] min_data_in_leaf is set=1200, min_child_samples=59 will be ignored. Current value: min_data_in_leaf=1200\n",
      "[LightGBM] [Warning] min_gain_to_split is set=5.534759385523466, min_split_gain=0.0 will be ignored. Current value: min_gain_to_split=5.534759385523466\n",
      "[LightGBM] [Warning] bagging_fraction is set=0.7982566845654614, subsample=1.0 will be ignored. Current value: bagging_fraction=0.7982566845654614\n",
      "[LightGBM] [Warning] lambda_l1 is set=0.010004815538306587, reg_alpha=0.0 will be ignored. Current value: lambda_l1=0.010004815538306587\n",
      "[LightGBM] [Warning] lambda_l2 is set=0.6592654215892683, reg_lambda=0.0 will be ignored. Current value: lambda_l2=0.6592654215892683\n",
      "[LightGBM] [Warning] bagging_freq is set=7, subsample_freq=0 will be ignored. Current value: bagging_freq=7\n"
     ]
    },
    {
     "name": "stderr",
     "output_type": "stream",
     "text": [
      "\u001b[32m[I 2022-11-22 00:13:37,329]\u001b[0m Trial 68 pruned. Trial was pruned at iteration 0.\u001b[0m\n"
     ]
    },
    {
     "name": "stdout",
     "output_type": "stream",
     "text": [
      "[LightGBM] [Warning] feature_fraction is set=0.9704718204621234, colsample_bytree=0.3 will be ignored. Current value: feature_fraction=0.9704718204621234\n",
      "[LightGBM] [Warning] min_data_in_leaf is set=500, min_child_samples=67 will be ignored. Current value: min_data_in_leaf=500\n",
      "[LightGBM] [Warning] min_gain_to_split is set=6.040419090582643, min_split_gain=0.0 will be ignored. Current value: min_gain_to_split=6.040419090582643\n",
      "[LightGBM] [Warning] bagging_fraction is set=0.8489336357035585, subsample=1.0 will be ignored. Current value: bagging_fraction=0.8489336357035585\n",
      "[LightGBM] [Warning] lambda_l1 is set=0.004873128720089644, reg_alpha=0.0 will be ignored. Current value: lambda_l1=0.004873128720089644\n",
      "[LightGBM] [Warning] lambda_l2 is set=0.03654149646913754, reg_lambda=0.0 will be ignored. Current value: lambda_l2=0.03654149646913754\n",
      "[LightGBM] [Warning] bagging_freq is set=6, subsample_freq=0 will be ignored. Current value: bagging_freq=6\n",
      "[LightGBM] [Warning] feature_fraction is set=0.9704718204621234, colsample_bytree=0.3 will be ignored. Current value: feature_fraction=0.9704718204621234\n",
      "[LightGBM] [Warning] min_data_in_leaf is set=500, min_child_samples=67 will be ignored. Current value: min_data_in_leaf=500\n",
      "[LightGBM] [Warning] min_gain_to_split is set=6.040419090582643, min_split_gain=0.0 will be ignored. Current value: min_gain_to_split=6.040419090582643\n",
      "[LightGBM] [Warning] bagging_fraction is set=0.8489336357035585, subsample=1.0 will be ignored. Current value: bagging_fraction=0.8489336357035585\n",
      "[LightGBM] [Warning] lambda_l1 is set=0.004873128720089644, reg_alpha=0.0 will be ignored. Current value: lambda_l1=0.004873128720089644\n",
      "[LightGBM] [Warning] lambda_l2 is set=0.03654149646913754, reg_lambda=0.0 will be ignored. Current value: lambda_l2=0.03654149646913754\n",
      "[LightGBM] [Warning] bagging_freq is set=6, subsample_freq=0 will be ignored. Current value: bagging_freq=6\n",
      "[LightGBM] [Warning] feature_fraction is set=0.9704718204621234, colsample_bytree=0.3 will be ignored. Current value: feature_fraction=0.9704718204621234\n",
      "[LightGBM] [Warning] min_data_in_leaf is set=500, min_child_samples=67 will be ignored. Current value: min_data_in_leaf=500\n",
      "[LightGBM] [Warning] min_gain_to_split is set=6.040419090582643, min_split_gain=0.0 will be ignored. Current value: min_gain_to_split=6.040419090582643\n",
      "[LightGBM] [Warning] bagging_fraction is set=0.8489336357035585, subsample=1.0 will be ignored. Current value: bagging_fraction=0.8489336357035585\n",
      "[LightGBM] [Warning] lambda_l1 is set=0.004873128720089644, reg_alpha=0.0 will be ignored. Current value: lambda_l1=0.004873128720089644\n",
      "[LightGBM] [Warning] lambda_l2 is set=0.03654149646913754, reg_lambda=0.0 will be ignored. Current value: lambda_l2=0.03654149646913754\n",
      "[LightGBM] [Warning] bagging_freq is set=6, subsample_freq=0 will be ignored. Current value: bagging_freq=6\n",
      "[LightGBM] [Warning] feature_fraction is set=0.9704718204621234, colsample_bytree=0.3 will be ignored. Current value: feature_fraction=0.9704718204621234\n",
      "[LightGBM] [Warning] min_data_in_leaf is set=500, min_child_samples=67 will be ignored. Current value: min_data_in_leaf=500\n",
      "[LightGBM] [Warning] min_gain_to_split is set=6.040419090582643, min_split_gain=0.0 will be ignored. Current value: min_gain_to_split=6.040419090582643\n",
      "[LightGBM] [Warning] bagging_fraction is set=0.8489336357035585, subsample=1.0 will be ignored. Current value: bagging_fraction=0.8489336357035585\n",
      "[LightGBM] [Warning] lambda_l1 is set=0.004873128720089644, reg_alpha=0.0 will be ignored. Current value: lambda_l1=0.004873128720089644\n",
      "[LightGBM] [Warning] lambda_l2 is set=0.03654149646913754, reg_lambda=0.0 will be ignored. Current value: lambda_l2=0.03654149646913754\n",
      "[LightGBM] [Warning] bagging_freq is set=6, subsample_freq=0 will be ignored. Current value: bagging_freq=6\n"
     ]
    },
    {
     "name": "stderr",
     "output_type": "stream",
     "text": [
      "\u001b[32m[I 2022-11-22 00:13:51,802]\u001b[0m Trial 69 finished with value: 0.5819823449882545 and parameters: {'n_estimators': 450, 'learning_rate': 0.2301955552779585, 'max_depth': 11, 'num_leaves': 9, 'min_data_in_leaf': 500, 'min_child_samples': 67, 'lambda_l1': 0.004873128720089644, 'lambda_l2': 0.03654149646913754, 'min_gain_to_split': 6.040419090582643, 'feature_fraction': 0.9704718204621234, 'bagging_fraction': 0.8489336357035585, 'bagging_freq': 6, 'colsample_bytree': 0.3}. Best is trial 67 with value: 0.5818120552040741.\u001b[0m\n"
     ]
    },
    {
     "name": "stdout",
     "output_type": "stream",
     "text": [
      "[LightGBM] [Warning] feature_fraction is set=0.9683518705171356, colsample_bytree=0.3 will be ignored. Current value: feature_fraction=0.9683518705171356\n",
      "[LightGBM] [Warning] min_data_in_leaf is set=600, min_child_samples=68 will be ignored. Current value: min_data_in_leaf=600\n",
      "[LightGBM] [Warning] min_gain_to_split is set=6.290451513753323, min_split_gain=0.0 will be ignored. Current value: min_gain_to_split=6.290451513753323\n",
      "[LightGBM] [Warning] bagging_fraction is set=0.8498197551726128, subsample=1.0 will be ignored. Current value: bagging_fraction=0.8498197551726128\n",
      "[LightGBM] [Warning] lambda_l1 is set=0.003897411311148782, reg_alpha=0.0 will be ignored. Current value: lambda_l1=0.003897411311148782\n",
      "[LightGBM] [Warning] lambda_l2 is set=0.06744557660573305, reg_lambda=0.0 will be ignored. Current value: lambda_l2=0.06744557660573305\n",
      "[LightGBM] [Warning] bagging_freq is set=6, subsample_freq=0 will be ignored. Current value: bagging_freq=6\n"
     ]
    },
    {
     "name": "stderr",
     "output_type": "stream",
     "text": [
      "\u001b[32m[I 2022-11-22 00:13:52,615]\u001b[0m Trial 70 pruned. Trial was pruned at iteration 0.\u001b[0m\n"
     ]
    },
    {
     "name": "stdout",
     "output_type": "stream",
     "text": [
      "[LightGBM] [Warning] feature_fraction is set=0.954318433189034, colsample_bytree=0.3 will be ignored. Current value: feature_fraction=0.954318433189034\n",
      "[LightGBM] [Warning] min_data_in_leaf is set=200, min_child_samples=60 will be ignored. Current value: min_data_in_leaf=200\n",
      "[LightGBM] [Warning] min_gain_to_split is set=4.836908648647768, min_split_gain=0.0 will be ignored. Current value: min_gain_to_split=4.836908648647768\n",
      "[LightGBM] [Warning] bagging_fraction is set=0.8131546831186582, subsample=1.0 will be ignored. Current value: bagging_fraction=0.8131546831186582\n",
      "[LightGBM] [Warning] lambda_l1 is set=0.03177803293599928, reg_alpha=0.0 will be ignored. Current value: lambda_l1=0.03177803293599928\n",
      "[LightGBM] [Warning] lambda_l2 is set=0.026425837855477145, reg_lambda=0.0 will be ignored. Current value: lambda_l2=0.026425837855477145\n",
      "[LightGBM] [Warning] bagging_freq is set=6, subsample_freq=0 will be ignored. Current value: bagging_freq=6\n",
      "[LightGBM] [Warning] feature_fraction is set=0.954318433189034, colsample_bytree=0.3 will be ignored. Current value: feature_fraction=0.954318433189034\n",
      "[LightGBM] [Warning] min_data_in_leaf is set=200, min_child_samples=60 will be ignored. Current value: min_data_in_leaf=200\n",
      "[LightGBM] [Warning] min_gain_to_split is set=4.836908648647768, min_split_gain=0.0 will be ignored. Current value: min_gain_to_split=4.836908648647768\n",
      "[LightGBM] [Warning] bagging_fraction is set=0.8131546831186582, subsample=1.0 will be ignored. Current value: bagging_fraction=0.8131546831186582\n",
      "[LightGBM] [Warning] lambda_l1 is set=0.03177803293599928, reg_alpha=0.0 will be ignored. Current value: lambda_l1=0.03177803293599928\n",
      "[LightGBM] [Warning] lambda_l2 is set=0.026425837855477145, reg_lambda=0.0 will be ignored. Current value: lambda_l2=0.026425837855477145\n",
      "[LightGBM] [Warning] bagging_freq is set=6, subsample_freq=0 will be ignored. Current value: bagging_freq=6\n",
      "[LightGBM] [Warning] feature_fraction is set=0.954318433189034, colsample_bytree=0.3 will be ignored. Current value: feature_fraction=0.954318433189034\n",
      "[LightGBM] [Warning] min_data_in_leaf is set=200, min_child_samples=60 will be ignored. Current value: min_data_in_leaf=200\n",
      "[LightGBM] [Warning] min_gain_to_split is set=4.836908648647768, min_split_gain=0.0 will be ignored. Current value: min_gain_to_split=4.836908648647768\n",
      "[LightGBM] [Warning] bagging_fraction is set=0.8131546831186582, subsample=1.0 will be ignored. Current value: bagging_fraction=0.8131546831186582\n",
      "[LightGBM] [Warning] lambda_l1 is set=0.03177803293599928, reg_alpha=0.0 will be ignored. Current value: lambda_l1=0.03177803293599928\n",
      "[LightGBM] [Warning] lambda_l2 is set=0.026425837855477145, reg_lambda=0.0 will be ignored. Current value: lambda_l2=0.026425837855477145\n",
      "[LightGBM] [Warning] bagging_freq is set=6, subsample_freq=0 will be ignored. Current value: bagging_freq=6\n",
      "[LightGBM] [Warning] feature_fraction is set=0.954318433189034, colsample_bytree=0.3 will be ignored. Current value: feature_fraction=0.954318433189034\n",
      "[LightGBM] [Warning] min_data_in_leaf is set=200, min_child_samples=60 will be ignored. Current value: min_data_in_leaf=200\n",
      "[LightGBM] [Warning] min_gain_to_split is set=4.836908648647768, min_split_gain=0.0 will be ignored. Current value: min_gain_to_split=4.836908648647768\n",
      "[LightGBM] [Warning] bagging_fraction is set=0.8131546831186582, subsample=1.0 will be ignored. Current value: bagging_fraction=0.8131546831186582\n",
      "[LightGBM] [Warning] lambda_l1 is set=0.03177803293599928, reg_alpha=0.0 will be ignored. Current value: lambda_l1=0.03177803293599928\n",
      "[LightGBM] [Warning] lambda_l2 is set=0.026425837855477145, reg_lambda=0.0 will be ignored. Current value: lambda_l2=0.026425837855477145\n",
      "[LightGBM] [Warning] bagging_freq is set=6, subsample_freq=0 will be ignored. Current value: bagging_freq=6\n"
     ]
    },
    {
     "name": "stderr",
     "output_type": "stream",
     "text": [
      "\u001b[32m[I 2022-11-22 00:14:09,963]\u001b[0m Trial 71 finished with value: 0.5747553423862902 and parameters: {'n_estimators': 450, 'learning_rate': 0.27394826651163146, 'max_depth': 11, 'num_leaves': 9, 'min_data_in_leaf': 200, 'min_child_samples': 60, 'lambda_l1': 0.03177803293599928, 'lambda_l2': 0.026425837855477145, 'min_gain_to_split': 4.836908648647768, 'feature_fraction': 0.954318433189034, 'bagging_fraction': 0.8131546831186582, 'bagging_freq': 6, 'colsample_bytree': 0.3}. Best is trial 71 with value: 0.5747553423862902.\u001b[0m\n"
     ]
    },
    {
     "name": "stdout",
     "output_type": "stream",
     "text": [
      "[LightGBM] [Warning] feature_fraction is set=0.9507738801786358, colsample_bytree=0.3 will be ignored. Current value: feature_fraction=0.9507738801786358\n",
      "[LightGBM] [Warning] min_data_in_leaf is set=1300, min_child_samples=60 will be ignored. Current value: min_data_in_leaf=1300\n",
      "[LightGBM] [Warning] min_gain_to_split is set=3.100879620163898, min_split_gain=0.0 will be ignored. Current value: min_gain_to_split=3.100879620163898\n",
      "[LightGBM] [Warning] bagging_fraction is set=0.8115143676625083, subsample=1.0 will be ignored. Current value: bagging_fraction=0.8115143676625083\n",
      "[LightGBM] [Warning] lambda_l1 is set=0.061875074752868915, reg_alpha=0.0 will be ignored. Current value: lambda_l1=0.061875074752868915\n",
      "[LightGBM] [Warning] lambda_l2 is set=0.04005798724607144, reg_lambda=0.0 will be ignored. Current value: lambda_l2=0.04005798724607144\n",
      "[LightGBM] [Warning] bagging_freq is set=6, subsample_freq=0 will be ignored. Current value: bagging_freq=6\n",
      "[LightGBM] [Warning] feature_fraction is set=0.9507738801786358, colsample_bytree=0.3 will be ignored. Current value: feature_fraction=0.9507738801786358\n",
      "[LightGBM] [Warning] min_data_in_leaf is set=1300, min_child_samples=60 will be ignored. Current value: min_data_in_leaf=1300\n",
      "[LightGBM] [Warning] min_gain_to_split is set=3.100879620163898, min_split_gain=0.0 will be ignored. Current value: min_gain_to_split=3.100879620163898\n",
      "[LightGBM] [Warning] bagging_fraction is set=0.8115143676625083, subsample=1.0 will be ignored. Current value: bagging_fraction=0.8115143676625083\n",
      "[LightGBM] [Warning] lambda_l1 is set=0.061875074752868915, reg_alpha=0.0 will be ignored. Current value: lambda_l1=0.061875074752868915\n",
      "[LightGBM] [Warning] lambda_l2 is set=0.04005798724607144, reg_lambda=0.0 will be ignored. Current value: lambda_l2=0.04005798724607144\n",
      "[LightGBM] [Warning] bagging_freq is set=6, subsample_freq=0 will be ignored. Current value: bagging_freq=6\n",
      "[LightGBM] [Warning] feature_fraction is set=0.9507738801786358, colsample_bytree=0.3 will be ignored. Current value: feature_fraction=0.9507738801786358\n",
      "[LightGBM] [Warning] min_data_in_leaf is set=1300, min_child_samples=60 will be ignored. Current value: min_data_in_leaf=1300\n",
      "[LightGBM] [Warning] min_gain_to_split is set=3.100879620163898, min_split_gain=0.0 will be ignored. Current value: min_gain_to_split=3.100879620163898\n",
      "[LightGBM] [Warning] bagging_fraction is set=0.8115143676625083, subsample=1.0 will be ignored. Current value: bagging_fraction=0.8115143676625083\n",
      "[LightGBM] [Warning] lambda_l1 is set=0.061875074752868915, reg_alpha=0.0 will be ignored. Current value: lambda_l1=0.061875074752868915\n",
      "[LightGBM] [Warning] lambda_l2 is set=0.04005798724607144, reg_lambda=0.0 will be ignored. Current value: lambda_l2=0.04005798724607144\n",
      "[LightGBM] [Warning] bagging_freq is set=6, subsample_freq=0 will be ignored. Current value: bagging_freq=6\n",
      "[LightGBM] [Warning] feature_fraction is set=0.9507738801786358, colsample_bytree=0.3 will be ignored. Current value: feature_fraction=0.9507738801786358\n",
      "[LightGBM] [Warning] min_data_in_leaf is set=1300, min_child_samples=60 will be ignored. Current value: min_data_in_leaf=1300\n",
      "[LightGBM] [Warning] min_gain_to_split is set=3.100879620163898, min_split_gain=0.0 will be ignored. Current value: min_gain_to_split=3.100879620163898\n",
      "[LightGBM] [Warning] bagging_fraction is set=0.8115143676625083, subsample=1.0 will be ignored. Current value: bagging_fraction=0.8115143676625083\n",
      "[LightGBM] [Warning] lambda_l1 is set=0.061875074752868915, reg_alpha=0.0 will be ignored. Current value: lambda_l1=0.061875074752868915\n",
      "[LightGBM] [Warning] lambda_l2 is set=0.04005798724607144, reg_lambda=0.0 will be ignored. Current value: lambda_l2=0.04005798724607144\n",
      "[LightGBM] [Warning] bagging_freq is set=6, subsample_freq=0 will be ignored. Current value: bagging_freq=6\n",
      "[LightGBM] [Warning] feature_fraction is set=0.9507738801786358, colsample_bytree=0.3 will be ignored. Current value: feature_fraction=0.9507738801786358\n",
      "[LightGBM] [Warning] min_data_in_leaf is set=1300, min_child_samples=60 will be ignored. Current value: min_data_in_leaf=1300\n",
      "[LightGBM] [Warning] min_gain_to_split is set=3.100879620163898, min_split_gain=0.0 will be ignored. Current value: min_gain_to_split=3.100879620163898\n",
      "[LightGBM] [Warning] bagging_fraction is set=0.8115143676625083, subsample=1.0 will be ignored. Current value: bagging_fraction=0.8115143676625083\n",
      "[LightGBM] [Warning] lambda_l1 is set=0.061875074752868915, reg_alpha=0.0 will be ignored. Current value: lambda_l1=0.061875074752868915\n",
      "[LightGBM] [Warning] lambda_l2 is set=0.04005798724607144, reg_lambda=0.0 will be ignored. Current value: lambda_l2=0.04005798724607144\n",
      "[LightGBM] [Warning] bagging_freq is set=6, subsample_freq=0 will be ignored. Current value: bagging_freq=6\n"
     ]
    },
    {
     "name": "stderr",
     "output_type": "stream",
     "text": [
      "\u001b[32m[I 2022-11-22 00:14:36,802]\u001b[0m Trial 72 finished with value: 0.5684502487695214 and parameters: {'n_estimators': 450, 'learning_rate': 0.20341816108978578, 'max_depth': 11, 'num_leaves': 9, 'min_data_in_leaf': 1300, 'min_child_samples': 60, 'lambda_l1': 0.061875074752868915, 'lambda_l2': 0.04005798724607144, 'min_gain_to_split': 3.100879620163898, 'feature_fraction': 0.9507738801786358, 'bagging_fraction': 0.8115143676625083, 'bagging_freq': 6, 'colsample_bytree': 0.3}. Best is trial 72 with value: 0.5684502487695214.\u001b[0m\n"
     ]
    },
    {
     "name": "stdout",
     "output_type": "stream",
     "text": [
      "[LightGBM] [Warning] feature_fraction is set=0.9488624199790826, colsample_bytree=0.3 will be ignored. Current value: feature_fraction=0.9488624199790826\n",
      "[LightGBM] [Warning] min_data_in_leaf is set=700, min_child_samples=59 will be ignored. Current value: min_data_in_leaf=700\n",
      "[LightGBM] [Warning] min_gain_to_split is set=3.0228496824431845, min_split_gain=0.0 will be ignored. Current value: min_gain_to_split=3.0228496824431845\n",
      "[LightGBM] [Warning] bagging_fraction is set=0.8227979868037615, subsample=1.0 will be ignored. Current value: bagging_fraction=0.8227979868037615\n",
      "[LightGBM] [Warning] lambda_l1 is set=0.058564803608507965, reg_alpha=0.0 will be ignored. Current value: lambda_l1=0.058564803608507965\n",
      "[LightGBM] [Warning] lambda_l2 is set=0.023621419054093245, reg_lambda=0.0 will be ignored. Current value: lambda_l2=0.023621419054093245\n",
      "[LightGBM] [Warning] bagging_freq is set=7, subsample_freq=0 will be ignored. Current value: bagging_freq=7\n"
     ]
    },
    {
     "name": "stderr",
     "output_type": "stream",
     "text": [
      "\u001b[32m[I 2022-11-22 00:14:37,659]\u001b[0m Trial 73 pruned. Trial was pruned at iteration 0.\u001b[0m\n",
      "\u001b[32m[I 2022-11-22 00:14:38,537]\u001b[0m Trial 74 pruned. Trial was pruned at iteration 0.\u001b[0m\n"
     ]
    },
    {
     "name": "stdout",
     "output_type": "stream",
     "text": [
      "[LightGBM] [Warning] feature_fraction is set=0.9253867774675841, colsample_bytree=0.3 will be ignored. Current value: feature_fraction=0.9253867774675841\n",
      "[LightGBM] [Warning] min_data_in_leaf is set=1400, min_child_samples=66 will be ignored. Current value: min_data_in_leaf=1400\n",
      "[LightGBM] [Warning] min_gain_to_split is set=3.796265591264363, min_split_gain=0.0 will be ignored. Current value: min_gain_to_split=3.796265591264363\n",
      "[LightGBM] [Warning] bagging_fraction is set=0.8116428693199372, subsample=1.0 will be ignored. Current value: bagging_fraction=0.8116428693199372\n",
      "[LightGBM] [Warning] lambda_l1 is set=0.03675217031528435, reg_alpha=0.0 will be ignored. Current value: lambda_l1=0.03675217031528435\n",
      "[LightGBM] [Warning] lambda_l2 is set=0.025772318223821113, reg_lambda=0.0 will be ignored. Current value: lambda_l2=0.025772318223821113\n",
      "[LightGBM] [Warning] bagging_freq is set=6, subsample_freq=0 will be ignored. Current value: bagging_freq=6\n",
      "[LightGBM] [Warning] feature_fraction is set=0.9253867774675841, colsample_bytree=0.3 will be ignored. Current value: feature_fraction=0.9253867774675841\n",
      "[LightGBM] [Warning] min_data_in_leaf is set=1400, min_child_samples=66 will be ignored. Current value: min_data_in_leaf=1400\n",
      "[LightGBM] [Warning] min_gain_to_split is set=3.796265591264363, min_split_gain=0.0 will be ignored. Current value: min_gain_to_split=3.796265591264363\n",
      "[LightGBM] [Warning] bagging_fraction is set=0.8116428693199372, subsample=1.0 will be ignored. Current value: bagging_fraction=0.8116428693199372\n",
      "[LightGBM] [Warning] lambda_l1 is set=0.03675217031528435, reg_alpha=0.0 will be ignored. Current value: lambda_l1=0.03675217031528435\n",
      "[LightGBM] [Warning] lambda_l2 is set=0.025772318223821113, reg_lambda=0.0 will be ignored. Current value: lambda_l2=0.025772318223821113\n",
      "[LightGBM] [Warning] bagging_freq is set=6, subsample_freq=0 will be ignored. Current value: bagging_freq=6\n",
      "[LightGBM] [Warning] feature_fraction is set=0.9253867774675841, colsample_bytree=0.3 will be ignored. Current value: feature_fraction=0.9253867774675841\n",
      "[LightGBM] [Warning] min_data_in_leaf is set=1400, min_child_samples=66 will be ignored. Current value: min_data_in_leaf=1400\n",
      "[LightGBM] [Warning] min_gain_to_split is set=3.796265591264363, min_split_gain=0.0 will be ignored. Current value: min_gain_to_split=3.796265591264363\n",
      "[LightGBM] [Warning] bagging_fraction is set=0.8116428693199372, subsample=1.0 will be ignored. Current value: bagging_fraction=0.8116428693199372\n",
      "[LightGBM] [Warning] lambda_l1 is set=0.03675217031528435, reg_alpha=0.0 will be ignored. Current value: lambda_l1=0.03675217031528435\n",
      "[LightGBM] [Warning] lambda_l2 is set=0.025772318223821113, reg_lambda=0.0 will be ignored. Current value: lambda_l2=0.025772318223821113\n",
      "[LightGBM] [Warning] bagging_freq is set=6, subsample_freq=0 will be ignored. Current value: bagging_freq=6\n",
      "[LightGBM] [Warning] feature_fraction is set=0.9253867774675841, colsample_bytree=0.3 will be ignored. Current value: feature_fraction=0.9253867774675841\n",
      "[LightGBM] [Warning] min_data_in_leaf is set=1400, min_child_samples=66 will be ignored. Current value: min_data_in_leaf=1400\n",
      "[LightGBM] [Warning] min_gain_to_split is set=3.796265591264363, min_split_gain=0.0 will be ignored. Current value: min_gain_to_split=3.796265591264363\n",
      "[LightGBM] [Warning] bagging_fraction is set=0.8116428693199372, subsample=1.0 will be ignored. Current value: bagging_fraction=0.8116428693199372\n",
      "[LightGBM] [Warning] lambda_l1 is set=0.03675217031528435, reg_alpha=0.0 will be ignored. Current value: lambda_l1=0.03675217031528435\n",
      "[LightGBM] [Warning] lambda_l2 is set=0.025772318223821113, reg_lambda=0.0 will be ignored. Current value: lambda_l2=0.025772318223821113\n",
      "[LightGBM] [Warning] bagging_freq is set=6, subsample_freq=0 will be ignored. Current value: bagging_freq=6\n"
     ]
    },
    {
     "name": "stderr",
     "output_type": "stream",
     "text": [
      "\u001b[32m[I 2022-11-22 00:14:59,770]\u001b[0m Trial 75 finished with value: 0.5745021952554875 and parameters: {'n_estimators': 450, 'learning_rate': 0.21696779905433242, 'max_depth': 11, 'num_leaves': 9, 'min_data_in_leaf': 1400, 'min_child_samples': 66, 'lambda_l1': 0.03675217031528435, 'lambda_l2': 0.025772318223821113, 'min_gain_to_split': 3.796265591264363, 'feature_fraction': 0.9253867774675841, 'bagging_fraction': 0.8116428693199372, 'bagging_freq': 6, 'colsample_bytree': 0.3}. Best is trial 72 with value: 0.5684502487695214.\u001b[0m\n"
     ]
    },
    {
     "name": "stdout",
     "output_type": "stream",
     "text": [
      "[LightGBM] [Warning] feature_fraction is set=0.9271469328036163, colsample_bytree=0.3 will be ignored. Current value: feature_fraction=0.9271469328036163\n",
      "[LightGBM] [Warning] min_data_in_leaf is set=1300, min_child_samples=75 will be ignored. Current value: min_data_in_leaf=1300\n",
      "[LightGBM] [Warning] min_gain_to_split is set=3.7444036332755166, min_split_gain=0.0 will be ignored. Current value: min_gain_to_split=3.7444036332755166\n",
      "[LightGBM] [Warning] bagging_fraction is set=0.8066771984305522, subsample=1.0 will be ignored. Current value: bagging_fraction=0.8066771984305522\n",
      "[LightGBM] [Warning] lambda_l1 is set=0.03946164914396867, reg_alpha=0.0 will be ignored. Current value: lambda_l1=0.03946164914396867\n",
      "[LightGBM] [Warning] lambda_l2 is set=0.02982447405085667, reg_lambda=0.0 will be ignored. Current value: lambda_l2=0.02982447405085667\n",
      "[LightGBM] [Warning] bagging_freq is set=6, subsample_freq=0 will be ignored. Current value: bagging_freq=6\n",
      "[LightGBM] [Warning] feature_fraction is set=0.9271469328036163, colsample_bytree=0.3 will be ignored. Current value: feature_fraction=0.9271469328036163\n",
      "[LightGBM] [Warning] min_data_in_leaf is set=1300, min_child_samples=75 will be ignored. Current value: min_data_in_leaf=1300\n",
      "[LightGBM] [Warning] min_gain_to_split is set=3.7444036332755166, min_split_gain=0.0 will be ignored. Current value: min_gain_to_split=3.7444036332755166\n",
      "[LightGBM] [Warning] bagging_fraction is set=0.8066771984305522, subsample=1.0 will be ignored. Current value: bagging_fraction=0.8066771984305522\n",
      "[LightGBM] [Warning] lambda_l1 is set=0.03946164914396867, reg_alpha=0.0 will be ignored. Current value: lambda_l1=0.03946164914396867\n",
      "[LightGBM] [Warning] lambda_l2 is set=0.02982447405085667, reg_lambda=0.0 will be ignored. Current value: lambda_l2=0.02982447405085667\n",
      "[LightGBM] [Warning] bagging_freq is set=6, subsample_freq=0 will be ignored. Current value: bagging_freq=6\n",
      "[LightGBM] [Warning] feature_fraction is set=0.9271469328036163, colsample_bytree=0.3 will be ignored. Current value: feature_fraction=0.9271469328036163\n",
      "[LightGBM] [Warning] min_data_in_leaf is set=1300, min_child_samples=75 will be ignored. Current value: min_data_in_leaf=1300\n",
      "[LightGBM] [Warning] min_gain_to_split is set=3.7444036332755166, min_split_gain=0.0 will be ignored. Current value: min_gain_to_split=3.7444036332755166\n",
      "[LightGBM] [Warning] bagging_fraction is set=0.8066771984305522, subsample=1.0 will be ignored. Current value: bagging_fraction=0.8066771984305522\n",
      "[LightGBM] [Warning] lambda_l1 is set=0.03946164914396867, reg_alpha=0.0 will be ignored. Current value: lambda_l1=0.03946164914396867\n",
      "[LightGBM] [Warning] lambda_l2 is set=0.02982447405085667, reg_lambda=0.0 will be ignored. Current value: lambda_l2=0.02982447405085667\n",
      "[LightGBM] [Warning] bagging_freq is set=6, subsample_freq=0 will be ignored. Current value: bagging_freq=6\n",
      "[LightGBM] [Warning] feature_fraction is set=0.9271469328036163, colsample_bytree=0.3 will be ignored. Current value: feature_fraction=0.9271469328036163\n",
      "[LightGBM] [Warning] min_data_in_leaf is set=1300, min_child_samples=75 will be ignored. Current value: min_data_in_leaf=1300\n",
      "[LightGBM] [Warning] min_gain_to_split is set=3.7444036332755166, min_split_gain=0.0 will be ignored. Current value: min_gain_to_split=3.7444036332755166\n",
      "[LightGBM] [Warning] bagging_fraction is set=0.8066771984305522, subsample=1.0 will be ignored. Current value: bagging_fraction=0.8066771984305522\n",
      "[LightGBM] [Warning] lambda_l1 is set=0.03946164914396867, reg_alpha=0.0 will be ignored. Current value: lambda_l1=0.03946164914396867\n",
      "[LightGBM] [Warning] lambda_l2 is set=0.02982447405085667, reg_lambda=0.0 will be ignored. Current value: lambda_l2=0.02982447405085667\n",
      "[LightGBM] [Warning] bagging_freq is set=6, subsample_freq=0 will be ignored. Current value: bagging_freq=6\n",
      "[LightGBM] [Warning] feature_fraction is set=0.9271469328036163, colsample_bytree=0.3 will be ignored. Current value: feature_fraction=0.9271469328036163\n",
      "[LightGBM] [Warning] min_data_in_leaf is set=1300, min_child_samples=75 will be ignored. Current value: min_data_in_leaf=1300\n",
      "[LightGBM] [Warning] min_gain_to_split is set=3.7444036332755166, min_split_gain=0.0 will be ignored. Current value: min_gain_to_split=3.7444036332755166\n",
      "[LightGBM] [Warning] bagging_fraction is set=0.8066771984305522, subsample=1.0 will be ignored. Current value: bagging_fraction=0.8066771984305522\n",
      "[LightGBM] [Warning] lambda_l1 is set=0.03946164914396867, reg_alpha=0.0 will be ignored. Current value: lambda_l1=0.03946164914396867\n",
      "[LightGBM] [Warning] lambda_l2 is set=0.02982447405085667, reg_lambda=0.0 will be ignored. Current value: lambda_l2=0.02982447405085667\n",
      "[LightGBM] [Warning] bagging_freq is set=6, subsample_freq=0 will be ignored. Current value: bagging_freq=6\n"
     ]
    },
    {
     "name": "stderr",
     "output_type": "stream",
     "text": [
      "\u001b[32m[I 2022-11-22 00:15:22,772]\u001b[0m Trial 76 finished with value: 0.5730440657738314 and parameters: {'n_estimators': 450, 'learning_rate': 0.2084265460220502, 'max_depth': 11, 'num_leaves': 9, 'min_data_in_leaf': 1300, 'min_child_samples': 75, 'lambda_l1': 0.03946164914396867, 'lambda_l2': 0.02982447405085667, 'min_gain_to_split': 3.7444036332755166, 'feature_fraction': 0.9271469328036163, 'bagging_fraction': 0.8066771984305522, 'bagging_freq': 6, 'colsample_bytree': 0.3}. Best is trial 72 with value: 0.5684502487695214.\u001b[0m\n"
     ]
    },
    {
     "name": "stdout",
     "output_type": "stream",
     "text": [
      "[LightGBM] [Warning] feature_fraction is set=0.9850202201148994, colsample_bytree=0.3 will be ignored. Current value: feature_fraction=0.9850202201148994\n",
      "[LightGBM] [Warning] min_data_in_leaf is set=500, min_child_samples=75 will be ignored. Current value: min_data_in_leaf=500\n",
      "[LightGBM] [Warning] min_gain_to_split is set=4.0139888158253285, min_split_gain=0.0 will be ignored. Current value: min_gain_to_split=4.0139888158253285\n",
      "[LightGBM] [Warning] bagging_fraction is set=0.8030144720755196, subsample=1.0 will be ignored. Current value: bagging_fraction=0.8030144720755196\n",
      "[LightGBM] [Warning] lambda_l1 is set=0.036810647316926993, reg_alpha=0.0 will be ignored. Current value: lambda_l1=0.036810647316926993\n",
      "[LightGBM] [Warning] lambda_l2 is set=0.04066584584925405, reg_lambda=0.0 will be ignored. Current value: lambda_l2=0.04066584584925405\n",
      "[LightGBM] [Warning] bagging_freq is set=6, subsample_freq=0 will be ignored. Current value: bagging_freq=6\n"
     ]
    },
    {
     "name": "stderr",
     "output_type": "stream",
     "text": [
      "\u001b[32m[I 2022-11-22 00:15:23,607]\u001b[0m Trial 77 pruned. Trial was pruned at iteration 0.\u001b[0m\n",
      "\u001b[32m[I 2022-11-22 00:15:24,976]\u001b[0m Trial 78 pruned. Trial was pruned at iteration 0.\u001b[0m\n",
      "\u001b[32m[I 2022-11-22 00:15:25,834]\u001b[0m Trial 79 pruned. Trial was pruned at iteration 0.\u001b[0m\n",
      "\u001b[32m[I 2022-11-22 00:15:26,778]\u001b[0m Trial 80 pruned. Trial was pruned at iteration 1.\u001b[0m\n"
     ]
    },
    {
     "name": "stdout",
     "output_type": "stream",
     "text": [
      "[LightGBM] [Warning] feature_fraction is set=0.9491662289605584, colsample_bytree=0.3 will be ignored. Current value: feature_fraction=0.9491662289605584\n",
      "[LightGBM] [Warning] min_data_in_leaf is set=200, min_child_samples=67 will be ignored. Current value: min_data_in_leaf=200\n",
      "[LightGBM] [Warning] min_gain_to_split is set=3.661926457909116, min_split_gain=0.0 will be ignored. Current value: min_gain_to_split=3.661926457909116\n",
      "[LightGBM] [Warning] bagging_fraction is set=0.7568634109091169, subsample=1.0 will be ignored. Current value: bagging_fraction=0.7568634109091169\n",
      "[LightGBM] [Warning] lambda_l1 is set=0.003531639880379705, reg_alpha=0.0 will be ignored. Current value: lambda_l1=0.003531639880379705\n",
      "[LightGBM] [Warning] lambda_l2 is set=0.017411423071971265, reg_lambda=0.0 will be ignored. Current value: lambda_l2=0.017411423071971265\n",
      "[LightGBM] [Warning] bagging_freq is set=6, subsample_freq=0 will be ignored. Current value: bagging_freq=6\n",
      "[LightGBM] [Warning] feature_fraction is set=0.9491662289605584, colsample_bytree=0.3 will be ignored. Current value: feature_fraction=0.9491662289605584\n",
      "[LightGBM] [Warning] min_data_in_leaf is set=200, min_child_samples=67 will be ignored. Current value: min_data_in_leaf=200\n",
      "[LightGBM] [Warning] min_gain_to_split is set=3.661926457909116, min_split_gain=0.0 will be ignored. Current value: min_gain_to_split=3.661926457909116\n",
      "[LightGBM] [Warning] bagging_fraction is set=0.7568634109091169, subsample=1.0 will be ignored. Current value: bagging_fraction=0.7568634109091169\n",
      "[LightGBM] [Warning] lambda_l1 is set=0.003531639880379705, reg_alpha=0.0 will be ignored. Current value: lambda_l1=0.003531639880379705\n",
      "[LightGBM] [Warning] lambda_l2 is set=0.017411423071971265, reg_lambda=0.0 will be ignored. Current value: lambda_l2=0.017411423071971265\n",
      "[LightGBM] [Warning] bagging_freq is set=6, subsample_freq=0 will be ignored. Current value: bagging_freq=6\n",
      "[LightGBM] [Warning] feature_fraction is set=0.9491662289605584, colsample_bytree=0.3 will be ignored. Current value: feature_fraction=0.9491662289605584\n",
      "[LightGBM] [Warning] min_data_in_leaf is set=200, min_child_samples=67 will be ignored. Current value: min_data_in_leaf=200\n",
      "[LightGBM] [Warning] min_gain_to_split is set=3.661926457909116, min_split_gain=0.0 will be ignored. Current value: min_gain_to_split=3.661926457909116\n",
      "[LightGBM] [Warning] bagging_fraction is set=0.7568634109091169, subsample=1.0 will be ignored. Current value: bagging_fraction=0.7568634109091169\n",
      "[LightGBM] [Warning] lambda_l1 is set=0.003531639880379705, reg_alpha=0.0 will be ignored. Current value: lambda_l1=0.003531639880379705\n",
      "[LightGBM] [Warning] lambda_l2 is set=0.017411423071971265, reg_lambda=0.0 will be ignored. Current value: lambda_l2=0.017411423071971265\n",
      "[LightGBM] [Warning] bagging_freq is set=6, subsample_freq=0 will be ignored. Current value: bagging_freq=6\n",
      "[LightGBM] [Warning] feature_fraction is set=0.9491662289605584, colsample_bytree=0.3 will be ignored. Current value: feature_fraction=0.9491662289605584\n",
      "[LightGBM] [Warning] min_data_in_leaf is set=200, min_child_samples=67 will be ignored. Current value: min_data_in_leaf=200\n",
      "[LightGBM] [Warning] min_gain_to_split is set=3.661926457909116, min_split_gain=0.0 will be ignored. Current value: min_gain_to_split=3.661926457909116\n",
      "[LightGBM] [Warning] bagging_fraction is set=0.7568634109091169, subsample=1.0 will be ignored. Current value: bagging_fraction=0.7568634109091169\n",
      "[LightGBM] [Warning] lambda_l1 is set=0.003531639880379705, reg_alpha=0.0 will be ignored. Current value: lambda_l1=0.003531639880379705\n",
      "[LightGBM] [Warning] lambda_l2 is set=0.017411423071971265, reg_lambda=0.0 will be ignored. Current value: lambda_l2=0.017411423071971265\n",
      "[LightGBM] [Warning] bagging_freq is set=6, subsample_freq=0 will be ignored. Current value: bagging_freq=6\n"
     ]
    },
    {
     "name": "stderr",
     "output_type": "stream",
     "text": [
      "\u001b[32m[I 2022-11-22 00:15:52,138]\u001b[0m Trial 81 finished with value: 0.5628537689168287 and parameters: {'n_estimators': 450, 'learning_rate': 0.21760790896537022, 'max_depth': 11, 'num_leaves': 9, 'min_data_in_leaf': 200, 'min_child_samples': 67, 'lambda_l1': 0.003531639880379705, 'lambda_l2': 0.017411423071971265, 'min_gain_to_split': 3.661926457909116, 'feature_fraction': 0.9491662289605584, 'bagging_fraction': 0.7568634109091169, 'bagging_freq': 6, 'colsample_bytree': 0.3}. Best is trial 81 with value: 0.5628537689168287.\u001b[0m\n"
     ]
    },
    {
     "name": "stdout",
     "output_type": "stream",
     "text": [
      "[LightGBM] [Warning] feature_fraction is set=0.9347713350842661, colsample_bytree=0.3 will be ignored. Current value: feature_fraction=0.9347713350842661\n",
      "[LightGBM] [Warning] min_data_in_leaf is set=400, min_child_samples=65 will be ignored. Current value: min_data_in_leaf=400\n",
      "[LightGBM] [Warning] min_gain_to_split is set=3.5446752368205137, min_split_gain=0.0 will be ignored. Current value: min_gain_to_split=3.5446752368205137\n",
      "[LightGBM] [Warning] bagging_fraction is set=0.7518409044225945, subsample=1.0 will be ignored. Current value: bagging_fraction=0.7518409044225945\n",
      "[LightGBM] [Warning] lambda_l1 is set=0.00476150805276999, reg_alpha=0.0 will be ignored. Current value: lambda_l1=0.00476150805276999\n",
      "[LightGBM] [Warning] lambda_l2 is set=0.009278358751163503, reg_lambda=0.0 will be ignored. Current value: lambda_l2=0.009278358751163503\n",
      "[LightGBM] [Warning] bagging_freq is set=6, subsample_freq=0 will be ignored. Current value: bagging_freq=6\n"
     ]
    },
    {
     "name": "stderr",
     "output_type": "stream",
     "text": [
      "\u001b[32m[I 2022-11-22 00:15:53,017]\u001b[0m Trial 82 pruned. Trial was pruned at iteration 0.\u001b[0m\n"
     ]
    },
    {
     "name": "stdout",
     "output_type": "stream",
     "text": [
      "[LightGBM] [Warning] feature_fraction is set=0.9963767211023259, colsample_bytree=0.3 will be ignored. Current value: feature_fraction=0.9963767211023259\n",
      "[LightGBM] [Warning] min_data_in_leaf is set=900, min_child_samples=77 will be ignored. Current value: min_data_in_leaf=900\n",
      "[LightGBM] [Warning] min_gain_to_split is set=2.7657206312718783, min_split_gain=0.0 will be ignored. Current value: min_gain_to_split=2.7657206312718783\n",
      "[LightGBM] [Warning] bagging_fraction is set=0.7235717411624366, subsample=1.0 will be ignored. Current value: bagging_fraction=0.7235717411624366\n",
      "[LightGBM] [Warning] lambda_l1 is set=0.002280961314691265, reg_alpha=0.0 will be ignored. Current value: lambda_l1=0.002280961314691265\n",
      "[LightGBM] [Warning] lambda_l2 is set=0.21730528017613782, reg_lambda=0.0 will be ignored. Current value: lambda_l2=0.21730528017613782\n",
      "[LightGBM] [Warning] bagging_freq is set=6, subsample_freq=0 will be ignored. Current value: bagging_freq=6\n",
      "[LightGBM] [Warning] feature_fraction is set=0.9963767211023259, colsample_bytree=0.3 will be ignored. Current value: feature_fraction=0.9963767211023259\n",
      "[LightGBM] [Warning] min_data_in_leaf is set=900, min_child_samples=77 will be ignored. Current value: min_data_in_leaf=900\n",
      "[LightGBM] [Warning] min_gain_to_split is set=2.7657206312718783, min_split_gain=0.0 will be ignored. Current value: min_gain_to_split=2.7657206312718783\n",
      "[LightGBM] [Warning] bagging_fraction is set=0.7235717411624366, subsample=1.0 will be ignored. Current value: bagging_fraction=0.7235717411624366\n",
      "[LightGBM] [Warning] lambda_l1 is set=0.002280961314691265, reg_alpha=0.0 will be ignored. Current value: lambda_l1=0.002280961314691265\n",
      "[LightGBM] [Warning] lambda_l2 is set=0.21730528017613782, reg_lambda=0.0 will be ignored. Current value: lambda_l2=0.21730528017613782\n",
      "[LightGBM] [Warning] bagging_freq is set=6, subsample_freq=0 will be ignored. Current value: bagging_freq=6\n",
      "[LightGBM] [Warning] feature_fraction is set=0.9963767211023259, colsample_bytree=0.3 will be ignored. Current value: feature_fraction=0.9963767211023259\n",
      "[LightGBM] [Warning] min_data_in_leaf is set=900, min_child_samples=77 will be ignored. Current value: min_data_in_leaf=900\n",
      "[LightGBM] [Warning] min_gain_to_split is set=2.7657206312718783, min_split_gain=0.0 will be ignored. Current value: min_gain_to_split=2.7657206312718783\n",
      "[LightGBM] [Warning] bagging_fraction is set=0.7235717411624366, subsample=1.0 will be ignored. Current value: bagging_fraction=0.7235717411624366\n",
      "[LightGBM] [Warning] lambda_l1 is set=0.002280961314691265, reg_alpha=0.0 will be ignored. Current value: lambda_l1=0.002280961314691265\n",
      "[LightGBM] [Warning] lambda_l2 is set=0.21730528017613782, reg_lambda=0.0 will be ignored. Current value: lambda_l2=0.21730528017613782\n",
      "[LightGBM] [Warning] bagging_freq is set=6, subsample_freq=0 will be ignored. Current value: bagging_freq=6\n",
      "[LightGBM] [Warning] feature_fraction is set=0.9963767211023259, colsample_bytree=0.3 will be ignored. Current value: feature_fraction=0.9963767211023259\n",
      "[LightGBM] [Warning] min_data_in_leaf is set=900, min_child_samples=77 will be ignored. Current value: min_data_in_leaf=900\n",
      "[LightGBM] [Warning] min_gain_to_split is set=2.7657206312718783, min_split_gain=0.0 will be ignored. Current value: min_gain_to_split=2.7657206312718783\n",
      "[LightGBM] [Warning] bagging_fraction is set=0.7235717411624366, subsample=1.0 will be ignored. Current value: bagging_fraction=0.7235717411624366\n",
      "[LightGBM] [Warning] lambda_l1 is set=0.002280961314691265, reg_alpha=0.0 will be ignored. Current value: lambda_l1=0.002280961314691265\n",
      "[LightGBM] [Warning] lambda_l2 is set=0.21730528017613782, reg_lambda=0.0 will be ignored. Current value: lambda_l2=0.21730528017613782\n",
      "[LightGBM] [Warning] bagging_freq is set=6, subsample_freq=0 will be ignored. Current value: bagging_freq=6\n"
     ]
    },
    {
     "name": "stderr",
     "output_type": "stream",
     "text": [
      "\u001b[32m[I 2022-11-22 00:16:18,955]\u001b[0m Trial 83 finished with value: 0.5642919614793803 and parameters: {'n_estimators': 450, 'learning_rate': 0.22640434195877204, 'max_depth': 11, 'num_leaves': 9, 'min_data_in_leaf': 900, 'min_child_samples': 77, 'lambda_l1': 0.002280961314691265, 'lambda_l2': 0.21730528017613782, 'min_gain_to_split': 2.7657206312718783, 'feature_fraction': 0.9963767211023259, 'bagging_fraction': 0.7235717411624366, 'bagging_freq': 6, 'colsample_bytree': 0.3}. Best is trial 81 with value: 0.5628537689168287.\u001b[0m\n"
     ]
    },
    {
     "name": "stdout",
     "output_type": "stream",
     "text": [
      "[LightGBM] [Warning] feature_fraction is set=0.9965040245298742, colsample_bytree=0.3 will be ignored. Current value: feature_fraction=0.9965040245298742\n",
      "[LightGBM] [Warning] min_data_in_leaf is set=200, min_child_samples=78 will be ignored. Current value: min_data_in_leaf=200\n",
      "[LightGBM] [Warning] min_gain_to_split is set=3.1880319853082715, min_split_gain=0.0 will be ignored. Current value: min_gain_to_split=3.1880319853082715\n",
      "[LightGBM] [Warning] bagging_fraction is set=0.727568677333111, subsample=1.0 will be ignored. Current value: bagging_fraction=0.727568677333111\n",
      "[LightGBM] [Warning] lambda_l1 is set=0.0016800132590157988, reg_alpha=0.0 will be ignored. Current value: lambda_l1=0.0016800132590157988\n",
      "[LightGBM] [Warning] lambda_l2 is set=0.2557965180637498, reg_lambda=0.0 will be ignored. Current value: lambda_l2=0.2557965180637498\n",
      "[LightGBM] [Warning] bagging_freq is set=6, subsample_freq=0 will be ignored. Current value: bagging_freq=6\n",
      "[LightGBM] [Warning] feature_fraction is set=0.9965040245298742, colsample_bytree=0.3 will be ignored. Current value: feature_fraction=0.9965040245298742\n",
      "[LightGBM] [Warning] min_data_in_leaf is set=200, min_child_samples=78 will be ignored. Current value: min_data_in_leaf=200\n",
      "[LightGBM] [Warning] min_gain_to_split is set=3.1880319853082715, min_split_gain=0.0 will be ignored. Current value: min_gain_to_split=3.1880319853082715\n",
      "[LightGBM] [Warning] bagging_fraction is set=0.727568677333111, subsample=1.0 will be ignored. Current value: bagging_fraction=0.727568677333111\n",
      "[LightGBM] [Warning] lambda_l1 is set=0.0016800132590157988, reg_alpha=0.0 will be ignored. Current value: lambda_l1=0.0016800132590157988\n",
      "[LightGBM] [Warning] lambda_l2 is set=0.2557965180637498, reg_lambda=0.0 will be ignored. Current value: lambda_l2=0.2557965180637498\n",
      "[LightGBM] [Warning] bagging_freq is set=6, subsample_freq=0 will be ignored. Current value: bagging_freq=6\n",
      "[LightGBM] [Warning] feature_fraction is set=0.9965040245298742, colsample_bytree=0.3 will be ignored. Current value: feature_fraction=0.9965040245298742\n",
      "[LightGBM] [Warning] min_data_in_leaf is set=200, min_child_samples=78 will be ignored. Current value: min_data_in_leaf=200\n",
      "[LightGBM] [Warning] min_gain_to_split is set=3.1880319853082715, min_split_gain=0.0 will be ignored. Current value: min_gain_to_split=3.1880319853082715\n",
      "[LightGBM] [Warning] bagging_fraction is set=0.727568677333111, subsample=1.0 will be ignored. Current value: bagging_fraction=0.727568677333111\n",
      "[LightGBM] [Warning] lambda_l1 is set=0.0016800132590157988, reg_alpha=0.0 will be ignored. Current value: lambda_l1=0.0016800132590157988\n",
      "[LightGBM] [Warning] lambda_l2 is set=0.2557965180637498, reg_lambda=0.0 will be ignored. Current value: lambda_l2=0.2557965180637498\n",
      "[LightGBM] [Warning] bagging_freq is set=6, subsample_freq=0 will be ignored. Current value: bagging_freq=6\n",
      "[LightGBM] [Warning] feature_fraction is set=0.9965040245298742, colsample_bytree=0.3 will be ignored. Current value: feature_fraction=0.9965040245298742\n",
      "[LightGBM] [Warning] min_data_in_leaf is set=200, min_child_samples=78 will be ignored. Current value: min_data_in_leaf=200\n",
      "[LightGBM] [Warning] min_gain_to_split is set=3.1880319853082715, min_split_gain=0.0 will be ignored. Current value: min_gain_to_split=3.1880319853082715\n",
      "[LightGBM] [Warning] bagging_fraction is set=0.727568677333111, subsample=1.0 will be ignored. Current value: bagging_fraction=0.727568677333111\n",
      "[LightGBM] [Warning] lambda_l1 is set=0.0016800132590157988, reg_alpha=0.0 will be ignored. Current value: lambda_l1=0.0016800132590157988\n",
      "[LightGBM] [Warning] lambda_l2 is set=0.2557965180637498, reg_lambda=0.0 will be ignored. Current value: lambda_l2=0.2557965180637498\n",
      "[LightGBM] [Warning] bagging_freq is set=6, subsample_freq=0 will be ignored. Current value: bagging_freq=6\n",
      "[LightGBM] [Warning] feature_fraction is set=0.9965040245298742, colsample_bytree=0.3 will be ignored. Current value: feature_fraction=0.9965040245298742\n",
      "[LightGBM] [Warning] min_data_in_leaf is set=200, min_child_samples=78 will be ignored. Current value: min_data_in_leaf=200\n",
      "[LightGBM] [Warning] min_gain_to_split is set=3.1880319853082715, min_split_gain=0.0 will be ignored. Current value: min_gain_to_split=3.1880319853082715\n",
      "[LightGBM] [Warning] bagging_fraction is set=0.727568677333111, subsample=1.0 will be ignored. Current value: bagging_fraction=0.727568677333111\n",
      "[LightGBM] [Warning] lambda_l1 is set=0.0016800132590157988, reg_alpha=0.0 will be ignored. Current value: lambda_l1=0.0016800132590157988\n",
      "[LightGBM] [Warning] lambda_l2 is set=0.2557965180637498, reg_lambda=0.0 will be ignored. Current value: lambda_l2=0.2557965180637498\n",
      "[LightGBM] [Warning] bagging_freq is set=6, subsample_freq=0 will be ignored. Current value: bagging_freq=6\n"
     ]
    },
    {
     "name": "stderr",
     "output_type": "stream",
     "text": [
      "\u001b[32m[I 2022-11-22 00:16:43,140]\u001b[0m Trial 84 finished with value: 0.558674181319027 and parameters: {'n_estimators': 450, 'learning_rate': 0.27228413292926246, 'max_depth': 11, 'num_leaves': 9, 'min_data_in_leaf': 200, 'min_child_samples': 78, 'lambda_l1': 0.0016800132590157988, 'lambda_l2': 0.2557965180637498, 'min_gain_to_split': 3.1880319853082715, 'feature_fraction': 0.9965040245298742, 'bagging_fraction': 0.727568677333111, 'bagging_freq': 6, 'colsample_bytree': 0.3}. Best is trial 84 with value: 0.558674181319027.\u001b[0m\n"
     ]
    },
    {
     "name": "stdout",
     "output_type": "stream",
     "text": [
      "[LightGBM] [Warning] feature_fraction is set=0.9965147470833561, colsample_bytree=0.3 will be ignored. Current value: feature_fraction=0.9965147470833561\n",
      "[LightGBM] [Warning] min_data_in_leaf is set=200, min_child_samples=78 will be ignored. Current value: min_data_in_leaf=200\n",
      "[LightGBM] [Warning] min_gain_to_split is set=2.833103629372347, min_split_gain=0.0 will be ignored. Current value: min_gain_to_split=2.833103629372347\n",
      "[LightGBM] [Warning] bagging_fraction is set=0.6877610736630443, subsample=1.0 will be ignored. Current value: bagging_fraction=0.6877610736630443\n",
      "[LightGBM] [Warning] lambda_l1 is set=0.0018405400213566143, reg_alpha=0.0 will be ignored. Current value: lambda_l1=0.0018405400213566143\n",
      "[LightGBM] [Warning] lambda_l2 is set=0.26155556124331053, reg_lambda=0.0 will be ignored. Current value: lambda_l2=0.26155556124331053\n",
      "[LightGBM] [Warning] bagging_freq is set=6, subsample_freq=0 will be ignored. Current value: bagging_freq=6\n"
     ]
    },
    {
     "name": "stderr",
     "output_type": "stream",
     "text": [
      "\u001b[32m[I 2022-11-22 00:16:43,960]\u001b[0m Trial 85 pruned. Trial was pruned at iteration 0.\u001b[0m\n",
      "\u001b[32m[I 2022-11-22 00:16:44,834]\u001b[0m Trial 86 pruned. Trial was pruned at iteration 0.\u001b[0m\n"
     ]
    },
    {
     "name": "stdout",
     "output_type": "stream",
     "text": [
      "[LightGBM] [Warning] feature_fraction is set=0.9705363308994664, colsample_bytree=0.3 will be ignored. Current value: feature_fraction=0.9705363308994664\n",
      "[LightGBM] [Warning] min_data_in_leaf is set=700, min_child_samples=80 will be ignored. Current value: min_data_in_leaf=700\n",
      "[LightGBM] [Warning] min_gain_to_split is set=1.3605053512464007, min_split_gain=0.0 will be ignored. Current value: min_gain_to_split=1.3605053512464007\n",
      "[LightGBM] [Warning] bagging_fraction is set=0.7323144921113475, subsample=1.0 will be ignored. Current value: bagging_fraction=0.7323144921113475\n",
      "[LightGBM] [Warning] lambda_l1 is set=0.0024624039840716047, reg_alpha=0.0 will be ignored. Current value: lambda_l1=0.0024624039840716047\n",
      "[LightGBM] [Warning] lambda_l2 is set=0.4010620930489985, reg_lambda=0.0 will be ignored. Current value: lambda_l2=0.4010620930489985\n",
      "[LightGBM] [Warning] bagging_freq is set=6, subsample_freq=0 will be ignored. Current value: bagging_freq=6\n",
      "[LightGBM] [Warning] feature_fraction is set=0.9705363308994664, colsample_bytree=0.3 will be ignored. Current value: feature_fraction=0.9705363308994664\n",
      "[LightGBM] [Warning] min_data_in_leaf is set=700, min_child_samples=80 will be ignored. Current value: min_data_in_leaf=700\n",
      "[LightGBM] [Warning] min_gain_to_split is set=1.3605053512464007, min_split_gain=0.0 will be ignored. Current value: min_gain_to_split=1.3605053512464007\n",
      "[LightGBM] [Warning] bagging_fraction is set=0.7323144921113475, subsample=1.0 will be ignored. Current value: bagging_fraction=0.7323144921113475\n",
      "[LightGBM] [Warning] lambda_l1 is set=0.0024624039840716047, reg_alpha=0.0 will be ignored. Current value: lambda_l1=0.0024624039840716047\n",
      "[LightGBM] [Warning] lambda_l2 is set=0.4010620930489985, reg_lambda=0.0 will be ignored. Current value: lambda_l2=0.4010620930489985\n",
      "[LightGBM] [Warning] bagging_freq is set=6, subsample_freq=0 will be ignored. Current value: bagging_freq=6\n",
      "[LightGBM] [Warning] feature_fraction is set=0.9705363308994664, colsample_bytree=0.3 will be ignored. Current value: feature_fraction=0.9705363308994664\n",
      "[LightGBM] [Warning] min_data_in_leaf is set=700, min_child_samples=80 will be ignored. Current value: min_data_in_leaf=700\n",
      "[LightGBM] [Warning] min_gain_to_split is set=1.3605053512464007, min_split_gain=0.0 will be ignored. Current value: min_gain_to_split=1.3605053512464007\n",
      "[LightGBM] [Warning] bagging_fraction is set=0.7323144921113475, subsample=1.0 will be ignored. Current value: bagging_fraction=0.7323144921113475\n",
      "[LightGBM] [Warning] lambda_l1 is set=0.0024624039840716047, reg_alpha=0.0 will be ignored. Current value: lambda_l1=0.0024624039840716047\n",
      "[LightGBM] [Warning] lambda_l2 is set=0.4010620930489985, reg_lambda=0.0 will be ignored. Current value: lambda_l2=0.4010620930489985\n",
      "[LightGBM] [Warning] bagging_freq is set=6, subsample_freq=0 will be ignored. Current value: bagging_freq=6\n",
      "[LightGBM] [Warning] feature_fraction is set=0.9705363308994664, colsample_bytree=0.3 will be ignored. Current value: feature_fraction=0.9705363308994664\n",
      "[LightGBM] [Warning] min_data_in_leaf is set=700, min_child_samples=80 will be ignored. Current value: min_data_in_leaf=700\n",
      "[LightGBM] [Warning] min_gain_to_split is set=1.3605053512464007, min_split_gain=0.0 will be ignored. Current value: min_gain_to_split=1.3605053512464007\n",
      "[LightGBM] [Warning] bagging_fraction is set=0.7323144921113475, subsample=1.0 will be ignored. Current value: bagging_fraction=0.7323144921113475\n",
      "[LightGBM] [Warning] lambda_l1 is set=0.0024624039840716047, reg_alpha=0.0 will be ignored. Current value: lambda_l1=0.0024624039840716047\n",
      "[LightGBM] [Warning] lambda_l2 is set=0.4010620930489985, reg_lambda=0.0 will be ignored. Current value: lambda_l2=0.4010620930489985\n",
      "[LightGBM] [Warning] bagging_freq is set=6, subsample_freq=0 will be ignored. Current value: bagging_freq=6\n"
     ]
    },
    {
     "name": "stderr",
     "output_type": "stream",
     "text": [
      "\u001b[32m[I 2022-11-22 00:17:11,550]\u001b[0m Trial 87 finished with value: 0.5550368913590782 and parameters: {'n_estimators': 500, 'learning_rate': 0.2986214973968026, 'max_depth': 11, 'num_leaves': 9, 'min_data_in_leaf': 700, 'min_child_samples': 80, 'lambda_l1': 0.0024624039840716047, 'lambda_l2': 0.4010620930489985, 'min_gain_to_split': 1.3605053512464007, 'feature_fraction': 0.9705363308994664, 'bagging_fraction': 0.7323144921113475, 'bagging_freq': 6, 'colsample_bytree': 0.3}. Best is trial 87 with value: 0.5550368913590782.\u001b[0m\n"
     ]
    },
    {
     "name": "stdout",
     "output_type": "stream",
     "text": [
      "[LightGBM] [Warning] feature_fraction is set=0.5218892344107418, colsample_bytree=0.3 will be ignored. Current value: feature_fraction=0.5218892344107418\n",
      "[LightGBM] [Warning] min_data_in_leaf is set=1000, min_child_samples=85 will be ignored. Current value: min_data_in_leaf=1000\n",
      "[LightGBM] [Warning] min_gain_to_split is set=1.0759772128399057, min_split_gain=0.0 will be ignored. Current value: min_gain_to_split=1.0759772128399057\n",
      "[LightGBM] [Warning] bagging_fraction is set=0.7410161418018586, subsample=1.0 will be ignored. Current value: bagging_fraction=0.7410161418018586\n",
      "[LightGBM] [Warning] lambda_l1 is set=0.020121966727405734, reg_alpha=0.0 will be ignored. Current value: lambda_l1=0.020121966727405734\n",
      "[LightGBM] [Warning] lambda_l2 is set=0.45769836357147076, reg_lambda=0.0 will be ignored. Current value: lambda_l2=0.45769836357147076\n",
      "[LightGBM] [Warning] bagging_freq is set=6, subsample_freq=0 will be ignored. Current value: bagging_freq=6\n"
     ]
    },
    {
     "name": "stderr",
     "output_type": "stream",
     "text": [
      "\u001b[32m[I 2022-11-22 00:17:12,943]\u001b[0m Trial 88 pruned. Trial was pruned at iteration 0.\u001b[0m\n"
     ]
    },
    {
     "name": "stdout",
     "output_type": "stream",
     "text": [
      "[LightGBM] [Warning] feature_fraction is set=0.9961684608391045, colsample_bytree=0.3 will be ignored. Current value: feature_fraction=0.9961684608391045\n",
      "[LightGBM] [Warning] min_data_in_leaf is set=200, min_child_samples=81 will be ignored. Current value: min_data_in_leaf=200\n",
      "[LightGBM] [Warning] min_gain_to_split is set=3.1934811705898127, min_split_gain=0.0 will be ignored. Current value: min_gain_to_split=3.1934811705898127\n",
      "[LightGBM] [Warning] bagging_fraction is set=0.7636585806938062, subsample=1.0 will be ignored. Current value: bagging_fraction=0.7636585806938062\n",
      "[LightGBM] [Warning] lambda_l1 is set=0.001906484654815075, reg_alpha=0.0 will be ignored. Current value: lambda_l1=0.001906484654815075\n",
      "[LightGBM] [Warning] lambda_l2 is set=1.0819992697026455, reg_lambda=0.0 will be ignored. Current value: lambda_l2=1.0819992697026455\n",
      "[LightGBM] [Warning] bagging_freq is set=7, subsample_freq=0 will be ignored. Current value: bagging_freq=7\n",
      "[LightGBM] [Warning] feature_fraction is set=0.9961684608391045, colsample_bytree=0.3 will be ignored. Current value: feature_fraction=0.9961684608391045\n",
      "[LightGBM] [Warning] min_data_in_leaf is set=200, min_child_samples=81 will be ignored. Current value: min_data_in_leaf=200\n",
      "[LightGBM] [Warning] min_gain_to_split is set=3.1934811705898127, min_split_gain=0.0 will be ignored. Current value: min_gain_to_split=3.1934811705898127\n",
      "[LightGBM] [Warning] bagging_fraction is set=0.7636585806938062, subsample=1.0 will be ignored. Current value: bagging_fraction=0.7636585806938062\n",
      "[LightGBM] [Warning] lambda_l1 is set=0.001906484654815075, reg_alpha=0.0 will be ignored. Current value: lambda_l1=0.001906484654815075\n",
      "[LightGBM] [Warning] lambda_l2 is set=1.0819992697026455, reg_lambda=0.0 will be ignored. Current value: lambda_l2=1.0819992697026455\n",
      "[LightGBM] [Warning] bagging_freq is set=7, subsample_freq=0 will be ignored. Current value: bagging_freq=7\n",
      "[LightGBM] [Warning] feature_fraction is set=0.9961684608391045, colsample_bytree=0.3 will be ignored. Current value: feature_fraction=0.9961684608391045\n",
      "[LightGBM] [Warning] min_data_in_leaf is set=200, min_child_samples=81 will be ignored. Current value: min_data_in_leaf=200\n",
      "[LightGBM] [Warning] min_gain_to_split is set=3.1934811705898127, min_split_gain=0.0 will be ignored. Current value: min_gain_to_split=3.1934811705898127\n",
      "[LightGBM] [Warning] bagging_fraction is set=0.7636585806938062, subsample=1.0 will be ignored. Current value: bagging_fraction=0.7636585806938062\n",
      "[LightGBM] [Warning] lambda_l1 is set=0.001906484654815075, reg_alpha=0.0 will be ignored. Current value: lambda_l1=0.001906484654815075\n",
      "[LightGBM] [Warning] lambda_l2 is set=1.0819992697026455, reg_lambda=0.0 will be ignored. Current value: lambda_l2=1.0819992697026455\n",
      "[LightGBM] [Warning] bagging_freq is set=7, subsample_freq=0 will be ignored. Current value: bagging_freq=7\n",
      "[LightGBM] [Warning] feature_fraction is set=0.9961684608391045, colsample_bytree=0.3 will be ignored. Current value: feature_fraction=0.9961684608391045\n",
      "[LightGBM] [Warning] min_data_in_leaf is set=200, min_child_samples=81 will be ignored. Current value: min_data_in_leaf=200\n",
      "[LightGBM] [Warning] min_gain_to_split is set=3.1934811705898127, min_split_gain=0.0 will be ignored. Current value: min_gain_to_split=3.1934811705898127\n",
      "[LightGBM] [Warning] bagging_fraction is set=0.7636585806938062, subsample=1.0 will be ignored. Current value: bagging_fraction=0.7636585806938062\n",
      "[LightGBM] [Warning] lambda_l1 is set=0.001906484654815075, reg_alpha=0.0 will be ignored. Current value: lambda_l1=0.001906484654815075\n",
      "[LightGBM] [Warning] lambda_l2 is set=1.0819992697026455, reg_lambda=0.0 will be ignored. Current value: lambda_l2=1.0819992697026455\n",
      "[LightGBM] [Warning] bagging_freq is set=7, subsample_freq=0 will be ignored. Current value: bagging_freq=7\n"
     ]
    },
    {
     "name": "stderr",
     "output_type": "stream",
     "text": [
      "\u001b[32m[I 2022-11-22 00:17:39,483]\u001b[0m Trial 89 finished with value: 0.5546370996224228 and parameters: {'n_estimators': 500, 'learning_rate': 0.286159730128344, 'max_depth': 11, 'num_leaves': 9, 'min_data_in_leaf': 200, 'min_child_samples': 81, 'lambda_l1': 0.001906484654815075, 'lambda_l2': 1.0819992697026455, 'min_gain_to_split': 3.1934811705898127, 'feature_fraction': 0.9961684608391045, 'bagging_fraction': 0.7636585806938062, 'bagging_freq': 7, 'colsample_bytree': 0.3}. Best is trial 89 with value: 0.5546370996224228.\u001b[0m\n"
     ]
    },
    {
     "name": "stdout",
     "output_type": "stream",
     "text": [
      "[LightGBM] [Warning] feature_fraction is set=0.9958371855167022, colsample_bytree=0.3 will be ignored. Current value: feature_fraction=0.9958371855167022\n",
      "[LightGBM] [Warning] min_data_in_leaf is set=200, min_child_samples=93 will be ignored. Current value: min_data_in_leaf=200\n",
      "[LightGBM] [Warning] min_gain_to_split is set=1.383317736227455, min_split_gain=0.0 will be ignored. Current value: min_gain_to_split=1.383317736227455\n",
      "[LightGBM] [Warning] bagging_fraction is set=0.7307928340204244, subsample=1.0 will be ignored. Current value: bagging_fraction=0.7307928340204244\n",
      "[LightGBM] [Warning] lambda_l1 is set=0.0003932283066698051, reg_alpha=0.0 will be ignored. Current value: lambda_l1=0.0003932283066698051\n",
      "[LightGBM] [Warning] lambda_l2 is set=1.3802250066575648, reg_lambda=0.0 will be ignored. Current value: lambda_l2=1.3802250066575648\n",
      "[LightGBM] [Warning] bagging_freq is set=7, subsample_freq=0 will be ignored. Current value: bagging_freq=7\n",
      "[LightGBM] [Warning] feature_fraction is set=0.9958371855167022, colsample_bytree=0.3 will be ignored. Current value: feature_fraction=0.9958371855167022\n",
      "[LightGBM] [Warning] min_data_in_leaf is set=200, min_child_samples=93 will be ignored. Current value: min_data_in_leaf=200\n",
      "[LightGBM] [Warning] min_gain_to_split is set=1.383317736227455, min_split_gain=0.0 will be ignored. Current value: min_gain_to_split=1.383317736227455\n",
      "[LightGBM] [Warning] bagging_fraction is set=0.7307928340204244, subsample=1.0 will be ignored. Current value: bagging_fraction=0.7307928340204244\n",
      "[LightGBM] [Warning] lambda_l1 is set=0.0003932283066698051, reg_alpha=0.0 will be ignored. Current value: lambda_l1=0.0003932283066698051\n",
      "[LightGBM] [Warning] lambda_l2 is set=1.3802250066575648, reg_lambda=0.0 will be ignored. Current value: lambda_l2=1.3802250066575648\n",
      "[LightGBM] [Warning] bagging_freq is set=7, subsample_freq=0 will be ignored. Current value: bagging_freq=7\n",
      "[LightGBM] [Warning] feature_fraction is set=0.9958371855167022, colsample_bytree=0.3 will be ignored. Current value: feature_fraction=0.9958371855167022\n",
      "[LightGBM] [Warning] min_data_in_leaf is set=200, min_child_samples=93 will be ignored. Current value: min_data_in_leaf=200\n",
      "[LightGBM] [Warning] min_gain_to_split is set=1.383317736227455, min_split_gain=0.0 will be ignored. Current value: min_gain_to_split=1.383317736227455\n",
      "[LightGBM] [Warning] bagging_fraction is set=0.7307928340204244, subsample=1.0 will be ignored. Current value: bagging_fraction=0.7307928340204244\n",
      "[LightGBM] [Warning] lambda_l1 is set=0.0003932283066698051, reg_alpha=0.0 will be ignored. Current value: lambda_l1=0.0003932283066698051\n",
      "[LightGBM] [Warning] lambda_l2 is set=1.3802250066575648, reg_lambda=0.0 will be ignored. Current value: lambda_l2=1.3802250066575648\n",
      "[LightGBM] [Warning] bagging_freq is set=7, subsample_freq=0 will be ignored. Current value: bagging_freq=7\n",
      "[LightGBM] [Warning] feature_fraction is set=0.9958371855167022, colsample_bytree=0.3 will be ignored. Current value: feature_fraction=0.9958371855167022\n",
      "[LightGBM] [Warning] min_data_in_leaf is set=200, min_child_samples=93 will be ignored. Current value: min_data_in_leaf=200\n",
      "[LightGBM] [Warning] min_gain_to_split is set=1.383317736227455, min_split_gain=0.0 will be ignored. Current value: min_gain_to_split=1.383317736227455\n",
      "[LightGBM] [Warning] bagging_fraction is set=0.7307928340204244, subsample=1.0 will be ignored. Current value: bagging_fraction=0.7307928340204244\n",
      "[LightGBM] [Warning] lambda_l1 is set=0.0003932283066698051, reg_alpha=0.0 will be ignored. Current value: lambda_l1=0.0003932283066698051\n",
      "[LightGBM] [Warning] lambda_l2 is set=1.3802250066575648, reg_lambda=0.0 will be ignored. Current value: lambda_l2=1.3802250066575648\n",
      "[LightGBM] [Warning] bagging_freq is set=7, subsample_freq=0 will be ignored. Current value: bagging_freq=7\n",
      "[LightGBM] [Warning] feature_fraction is set=0.9958371855167022, colsample_bytree=0.3 will be ignored. Current value: feature_fraction=0.9958371855167022\n",
      "[LightGBM] [Warning] min_data_in_leaf is set=200, min_child_samples=93 will be ignored. Current value: min_data_in_leaf=200\n",
      "[LightGBM] [Warning] min_gain_to_split is set=1.383317736227455, min_split_gain=0.0 will be ignored. Current value: min_gain_to_split=1.383317736227455\n",
      "[LightGBM] [Warning] bagging_fraction is set=0.7307928340204244, subsample=1.0 will be ignored. Current value: bagging_fraction=0.7307928340204244\n",
      "[LightGBM] [Warning] lambda_l1 is set=0.0003932283066698051, reg_alpha=0.0 will be ignored. Current value: lambda_l1=0.0003932283066698051\n",
      "[LightGBM] [Warning] lambda_l2 is set=1.3802250066575648, reg_lambda=0.0 will be ignored. Current value: lambda_l2=1.3802250066575648\n",
      "[LightGBM] [Warning] bagging_freq is set=7, subsample_freq=0 will be ignored. Current value: bagging_freq=7\n"
     ]
    },
    {
     "name": "stderr",
     "output_type": "stream",
     "text": [
      "\u001b[32m[I 2022-11-22 00:18:05,249]\u001b[0m Trial 90 finished with value: 0.5532851735399701 and parameters: {'n_estimators': 500, 'learning_rate': 0.28835831732808553, 'max_depth': 11, 'num_leaves': 9, 'min_data_in_leaf': 200, 'min_child_samples': 93, 'lambda_l1': 0.0003932283066698051, 'lambda_l2': 1.3802250066575648, 'min_gain_to_split': 1.383317736227455, 'feature_fraction': 0.9958371855167022, 'bagging_fraction': 0.7307928340204244, 'bagging_freq': 7, 'colsample_bytree': 0.3}. Best is trial 90 with value: 0.5532851735399701.\u001b[0m\n"
     ]
    },
    {
     "name": "stdout",
     "output_type": "stream",
     "text": [
      "[LightGBM] [Warning] feature_fraction is set=0.995467086703303, colsample_bytree=0.3 will be ignored. Current value: feature_fraction=0.995467086703303\n",
      "[LightGBM] [Warning] min_data_in_leaf is set=200, min_child_samples=94 will be ignored. Current value: min_data_in_leaf=200\n",
      "[LightGBM] [Warning] min_gain_to_split is set=1.308481455696723, min_split_gain=0.0 will be ignored. Current value: min_gain_to_split=1.308481455696723\n",
      "[LightGBM] [Warning] bagging_fraction is set=0.7298807492869053, subsample=1.0 will be ignored. Current value: bagging_fraction=0.7298807492869053\n",
      "[LightGBM] [Warning] lambda_l1 is set=0.00047384022242740695, reg_alpha=0.0 will be ignored. Current value: lambda_l1=0.00047384022242740695\n",
      "[LightGBM] [Warning] lambda_l2 is set=8.951919527441643, reg_lambda=0.0 will be ignored. Current value: lambda_l2=8.951919527441643\n",
      "[LightGBM] [Warning] bagging_freq is set=7, subsample_freq=0 will be ignored. Current value: bagging_freq=7\n"
     ]
    },
    {
     "name": "stderr",
     "output_type": "stream",
     "text": [
      "\u001b[32m[I 2022-11-22 00:18:06,084]\u001b[0m Trial 91 pruned. Trial was pruned at iteration 0.\u001b[0m\n",
      "\u001b[32m[I 2022-11-22 00:18:10,685]\u001b[0m Trial 92 pruned. Trial was pruned at iteration 358.\u001b[0m\n",
      "\u001b[32m[I 2022-11-22 00:18:16,517]\u001b[0m Trial 93 pruned. Trial was pruned at iteration 455.\u001b[0m\n",
      "\u001b[32m[I 2022-11-22 00:18:17,705]\u001b[0m Trial 94 pruned. Trial was pruned at iteration 0.\u001b[0m\n",
      "\u001b[32m[I 2022-11-22 00:18:18,647]\u001b[0m Trial 95 pruned. Trial was pruned at iteration 0.\u001b[0m\n",
      "\u001b[32m[I 2022-11-22 00:18:19,670]\u001b[0m Trial 96 pruned. Trial was pruned at iteration 0.\u001b[0m\n",
      "\u001b[32m[I 2022-11-22 00:18:20,617]\u001b[0m Trial 97 pruned. Trial was pruned at iteration 0.\u001b[0m\n",
      "\u001b[32m[I 2022-11-22 00:18:21,497]\u001b[0m Trial 98 pruned. Trial was pruned at iteration 0.\u001b[0m\n"
     ]
    },
    {
     "name": "stdout",
     "output_type": "stream",
     "text": [
      "[LightGBM] [Warning] feature_fraction is set=0.938821602327136, colsample_bytree=0.3 will be ignored. Current value: feature_fraction=0.938821602327136\n",
      "[LightGBM] [Warning] min_data_in_leaf is set=1600, min_child_samples=76 will be ignored. Current value: min_data_in_leaf=1600\n",
      "[LightGBM] [Warning] min_gain_to_split is set=4.263770583837612, min_split_gain=0.0 will be ignored. Current value: min_gain_to_split=4.263770583837612\n",
      "[LightGBM] [Warning] bagging_fraction is set=0.7463932348434837, subsample=1.0 will be ignored. Current value: bagging_fraction=0.7463932348434837\n",
      "[LightGBM] [Warning] lambda_l1 is set=0.02053471232287076, reg_alpha=0.0 will be ignored. Current value: lambda_l1=0.02053471232287076\n",
      "[LightGBM] [Warning] lambda_l2 is set=0.8203668491379319, reg_lambda=0.0 will be ignored. Current value: lambda_l2=0.8203668491379319\n",
      "[LightGBM] [Warning] bagging_freq is set=6, subsample_freq=0 will be ignored. Current value: bagging_freq=6\n",
      "[LightGBM] [Warning] feature_fraction is set=0.938821602327136, colsample_bytree=0.3 will be ignored. Current value: feature_fraction=0.938821602327136\n",
      "[LightGBM] [Warning] min_data_in_leaf is set=1600, min_child_samples=76 will be ignored. Current value: min_data_in_leaf=1600\n",
      "[LightGBM] [Warning] min_gain_to_split is set=4.263770583837612, min_split_gain=0.0 will be ignored. Current value: min_gain_to_split=4.263770583837612\n",
      "[LightGBM] [Warning] bagging_fraction is set=0.7463932348434837, subsample=1.0 will be ignored. Current value: bagging_fraction=0.7463932348434837\n",
      "[LightGBM] [Warning] lambda_l1 is set=0.02053471232287076, reg_alpha=0.0 will be ignored. Current value: lambda_l1=0.02053471232287076\n",
      "[LightGBM] [Warning] lambda_l2 is set=0.8203668491379319, reg_lambda=0.0 will be ignored. Current value: lambda_l2=0.8203668491379319\n",
      "[LightGBM] [Warning] bagging_freq is set=6, subsample_freq=0 will be ignored. Current value: bagging_freq=6\n",
      "[LightGBM] [Warning] feature_fraction is set=0.938821602327136, colsample_bytree=0.3 will be ignored. Current value: feature_fraction=0.938821602327136\n",
      "[LightGBM] [Warning] min_data_in_leaf is set=1600, min_child_samples=76 will be ignored. Current value: min_data_in_leaf=1600\n",
      "[LightGBM] [Warning] min_gain_to_split is set=4.263770583837612, min_split_gain=0.0 will be ignored. Current value: min_gain_to_split=4.263770583837612\n",
      "[LightGBM] [Warning] bagging_fraction is set=0.7463932348434837, subsample=1.0 will be ignored. Current value: bagging_fraction=0.7463932348434837\n",
      "[LightGBM] [Warning] lambda_l1 is set=0.02053471232287076, reg_alpha=0.0 will be ignored. Current value: lambda_l1=0.02053471232287076\n",
      "[LightGBM] [Warning] lambda_l2 is set=0.8203668491379319, reg_lambda=0.0 will be ignored. Current value: lambda_l2=0.8203668491379319\n",
      "[LightGBM] [Warning] bagging_freq is set=6, subsample_freq=0 will be ignored. Current value: bagging_freq=6\n",
      "[LightGBM] [Warning] feature_fraction is set=0.938821602327136, colsample_bytree=0.3 will be ignored. Current value: feature_fraction=0.938821602327136\n",
      "[LightGBM] [Warning] min_data_in_leaf is set=1600, min_child_samples=76 will be ignored. Current value: min_data_in_leaf=1600\n",
      "[LightGBM] [Warning] min_gain_to_split is set=4.263770583837612, min_split_gain=0.0 will be ignored. Current value: min_gain_to_split=4.263770583837612\n",
      "[LightGBM] [Warning] bagging_fraction is set=0.7463932348434837, subsample=1.0 will be ignored. Current value: bagging_fraction=0.7463932348434837\n",
      "[LightGBM] [Warning] lambda_l1 is set=0.02053471232287076, reg_alpha=0.0 will be ignored. Current value: lambda_l1=0.02053471232287076\n",
      "[LightGBM] [Warning] lambda_l2 is set=0.8203668491379319, reg_lambda=0.0 will be ignored. Current value: lambda_l2=0.8203668491379319\n",
      "[LightGBM] [Warning] bagging_freq is set=6, subsample_freq=0 will be ignored. Current value: bagging_freq=6\n"
     ]
    },
    {
     "name": "stderr",
     "output_type": "stream",
     "text": [
      "\u001b[32m[I 2022-11-22 00:18:35,390]\u001b[0m Trial 99 finished with value: 0.5768753090741011 and parameters: {'n_estimators': 450, 'learning_rate': 0.2993334000370497, 'max_depth': 11, 'num_leaves': 11, 'min_data_in_leaf': 1600, 'min_child_samples': 76, 'lambda_l1': 0.02053471232287076, 'lambda_l2': 0.8203668491379319, 'min_gain_to_split': 4.263770583837612, 'feature_fraction': 0.938821602327136, 'bagging_fraction': 0.7463932348434837, 'bagging_freq': 6, 'colsample_bytree': 0.3}. Best is trial 90 with value: 0.5532851735399701.\u001b[0m\n"
     ]
    },
    {
     "name": "stdout",
     "output_type": "stream",
     "text": [
      "[LightGBM] [Warning] feature_fraction is set=0.9819152757466606, colsample_bytree=0.3 will be ignored. Current value: feature_fraction=0.9819152757466606\n",
      "[LightGBM] [Warning] min_data_in_leaf is set=800, min_child_samples=70 will be ignored. Current value: min_data_in_leaf=800\n",
      "[LightGBM] [Warning] min_gain_to_split is set=1.4508644809353912, min_split_gain=0.0 will be ignored. Current value: min_gain_to_split=1.4508644809353912\n",
      "[LightGBM] [Warning] bagging_fraction is set=0.7840421731424816, subsample=1.0 will be ignored. Current value: bagging_fraction=0.7840421731424816\n",
      "[LightGBM] [Warning] lambda_l1 is set=0.08654502908810682, reg_alpha=0.0 will be ignored. Current value: lambda_l1=0.08654502908810682\n",
      "[LightGBM] [Warning] lambda_l2 is set=0.06192955013517872, reg_lambda=0.0 will be ignored. Current value: lambda_l2=0.06192955013517872\n",
      "[LightGBM] [Warning] bagging_freq is set=6, subsample_freq=0 will be ignored. Current value: bagging_freq=6\n"
     ]
    },
    {
     "name": "stderr",
     "output_type": "stream",
     "text": [
      "\u001b[32m[I 2022-11-22 00:18:36,153]\u001b[0m Trial 100 pruned. Trial was pruned at iteration 0.\u001b[0m\n",
      "\u001b[32m[I 2022-11-22 00:18:39,766]\u001b[0m Trial 101 pruned. Trial was pruned at iteration 318.\u001b[0m\n",
      "\u001b[32m[I 2022-11-22 00:18:40,564]\u001b[0m Trial 102 pruned. Trial was pruned at iteration 0.\u001b[0m\n"
     ]
    },
    {
     "name": "stdout",
     "output_type": "stream",
     "text": [
      "[LightGBM] [Warning] feature_fraction is set=0.9682312510219164, colsample_bytree=0.3 will be ignored. Current value: feature_fraction=0.9682312510219164\n",
      "[LightGBM] [Warning] min_data_in_leaf is set=1000, min_child_samples=76 will be ignored. Current value: min_data_in_leaf=1000\n",
      "[LightGBM] [Warning] min_gain_to_split is set=2.879126786261643, min_split_gain=0.0 will be ignored. Current value: min_gain_to_split=2.879126786261643\n",
      "[LightGBM] [Warning] bagging_fraction is set=0.7258792699938126, subsample=1.0 will be ignored. Current value: bagging_fraction=0.7258792699938126\n",
      "[LightGBM] [Warning] lambda_l1 is set=0.007315354837886567, reg_alpha=0.0 will be ignored. Current value: lambda_l1=0.007315354837886567\n",
      "[LightGBM] [Warning] lambda_l2 is set=2.103773018557209, reg_lambda=0.0 will be ignored. Current value: lambda_l2=2.103773018557209\n",
      "[LightGBM] [Warning] bagging_freq is set=6, subsample_freq=0 will be ignored. Current value: bagging_freq=6\n",
      "[LightGBM] [Warning] feature_fraction is set=0.9682312510219164, colsample_bytree=0.3 will be ignored. Current value: feature_fraction=0.9682312510219164\n",
      "[LightGBM] [Warning] min_data_in_leaf is set=1000, min_child_samples=76 will be ignored. Current value: min_data_in_leaf=1000\n",
      "[LightGBM] [Warning] min_gain_to_split is set=2.879126786261643, min_split_gain=0.0 will be ignored. Current value: min_gain_to_split=2.879126786261643\n",
      "[LightGBM] [Warning] bagging_fraction is set=0.7258792699938126, subsample=1.0 will be ignored. Current value: bagging_fraction=0.7258792699938126\n",
      "[LightGBM] [Warning] lambda_l1 is set=0.007315354837886567, reg_alpha=0.0 will be ignored. Current value: lambda_l1=0.007315354837886567\n",
      "[LightGBM] [Warning] lambda_l2 is set=2.103773018557209, reg_lambda=0.0 will be ignored. Current value: lambda_l2=2.103773018557209\n",
      "[LightGBM] [Warning] bagging_freq is set=6, subsample_freq=0 will be ignored. Current value: bagging_freq=6\n",
      "[LightGBM] [Warning] feature_fraction is set=0.9682312510219164, colsample_bytree=0.3 will be ignored. Current value: feature_fraction=0.9682312510219164\n",
      "[LightGBM] [Warning] min_data_in_leaf is set=1000, min_child_samples=76 will be ignored. Current value: min_data_in_leaf=1000\n",
      "[LightGBM] [Warning] min_gain_to_split is set=2.879126786261643, min_split_gain=0.0 will be ignored. Current value: min_gain_to_split=2.879126786261643\n",
      "[LightGBM] [Warning] bagging_fraction is set=0.7258792699938126, subsample=1.0 will be ignored. Current value: bagging_fraction=0.7258792699938126\n",
      "[LightGBM] [Warning] lambda_l1 is set=0.007315354837886567, reg_alpha=0.0 will be ignored. Current value: lambda_l1=0.007315354837886567\n",
      "[LightGBM] [Warning] lambda_l2 is set=2.103773018557209, reg_lambda=0.0 will be ignored. Current value: lambda_l2=2.103773018557209\n",
      "[LightGBM] [Warning] bagging_freq is set=6, subsample_freq=0 will be ignored. Current value: bagging_freq=6\n",
      "[LightGBM] [Warning] feature_fraction is set=0.9682312510219164, colsample_bytree=0.3 will be ignored. Current value: feature_fraction=0.9682312510219164\n",
      "[LightGBM] [Warning] min_data_in_leaf is set=1000, min_child_samples=76 will be ignored. Current value: min_data_in_leaf=1000\n",
      "[LightGBM] [Warning] min_gain_to_split is set=2.879126786261643, min_split_gain=0.0 will be ignored. Current value: min_gain_to_split=2.879126786261643\n",
      "[LightGBM] [Warning] bagging_fraction is set=0.7258792699938126, subsample=1.0 will be ignored. Current value: bagging_fraction=0.7258792699938126\n",
      "[LightGBM] [Warning] lambda_l1 is set=0.007315354837886567, reg_alpha=0.0 will be ignored. Current value: lambda_l1=0.007315354837886567\n",
      "[LightGBM] [Warning] lambda_l2 is set=2.103773018557209, reg_lambda=0.0 will be ignored. Current value: lambda_l2=2.103773018557209\n",
      "[LightGBM] [Warning] bagging_freq is set=6, subsample_freq=0 will be ignored. Current value: bagging_freq=6\n"
     ]
    },
    {
     "name": "stderr",
     "output_type": "stream",
     "text": [
      "\u001b[32m[I 2022-11-22 00:19:04,433]\u001b[0m Trial 103 finished with value: 0.5600704748861786 and parameters: {'n_estimators': 450, 'learning_rate': 0.20813063883901647, 'max_depth': 11, 'num_leaves': 11, 'min_data_in_leaf': 1000, 'min_child_samples': 76, 'lambda_l1': 0.007315354837886567, 'lambda_l2': 2.103773018557209, 'min_gain_to_split': 2.879126786261643, 'feature_fraction': 0.9682312510219164, 'bagging_fraction': 0.7258792699938126, 'bagging_freq': 6, 'colsample_bytree': 0.3}. Best is trial 90 with value: 0.5532851735399701.\u001b[0m\n"
     ]
    },
    {
     "name": "stdout",
     "output_type": "stream",
     "text": [
      "[LightGBM] [Warning] feature_fraction is set=0.9680132799102302, colsample_bytree=0.3 will be ignored. Current value: feature_fraction=0.9680132799102302\n",
      "[LightGBM] [Warning] min_data_in_leaf is set=1000, min_child_samples=82 will be ignored. Current value: min_data_in_leaf=1000\n",
      "[LightGBM] [Warning] min_gain_to_split is set=2.636641353965245, min_split_gain=0.0 will be ignored. Current value: min_gain_to_split=2.636641353965245\n",
      "[LightGBM] [Warning] bagging_fraction is set=0.7274236377167423, subsample=1.0 will be ignored. Current value: bagging_fraction=0.7274236377167423\n",
      "[LightGBM] [Warning] lambda_l1 is set=0.0067578790924956314, reg_alpha=0.0 will be ignored. Current value: lambda_l1=0.0067578790924956314\n",
      "[LightGBM] [Warning] lambda_l2 is set=3.9083663331777485, reg_lambda=0.0 will be ignored. Current value: lambda_l2=3.9083663331777485\n",
      "[LightGBM] [Warning] bagging_freq is set=6, subsample_freq=0 will be ignored. Current value: bagging_freq=6\n"
     ]
    },
    {
     "name": "stderr",
     "output_type": "stream",
     "text": [
      "\u001b[32m[I 2022-11-22 00:19:05,229]\u001b[0m Trial 104 pruned. Trial was pruned at iteration 0.\u001b[0m\n",
      "\u001b[32m[I 2022-11-22 00:19:06,033]\u001b[0m Trial 105 pruned. Trial was pruned at iteration 0.\u001b[0m\n",
      "\u001b[32m[I 2022-11-22 00:19:06,861]\u001b[0m Trial 106 pruned. Trial was pruned at iteration 0.\u001b[0m\n",
      "\u001b[32m[I 2022-11-22 00:19:07,796]\u001b[0m Trial 107 pruned. Trial was pruned at iteration 0.\u001b[0m\n",
      "\u001b[32m[I 2022-11-22 00:19:09,152]\u001b[0m Trial 108 pruned. Trial was pruned at iteration 50.\u001b[0m\n",
      "\u001b[32m[I 2022-11-22 00:19:09,977]\u001b[0m Trial 109 pruned. Trial was pruned at iteration 0.\u001b[0m\n",
      "\u001b[32m[I 2022-11-22 00:19:10,813]\u001b[0m Trial 110 pruned. Trial was pruned at iteration 0.\u001b[0m\n",
      "\u001b[32m[I 2022-11-22 00:19:13,535]\u001b[0m Trial 111 pruned. Trial was pruned at iteration 240.\u001b[0m\n"
     ]
    },
    {
     "name": "stdout",
     "output_type": "stream",
     "text": [
      "[LightGBM] [Warning] feature_fraction is set=0.9369580598800084, colsample_bytree=0.3 will be ignored. Current value: feature_fraction=0.9369580598800084\n",
      "[LightGBM] [Warning] min_data_in_leaf is set=1700, min_child_samples=75 will be ignored. Current value: min_data_in_leaf=1700\n",
      "[LightGBM] [Warning] min_gain_to_split is set=2.939850489690368, min_split_gain=0.0 will be ignored. Current value: min_gain_to_split=2.939850489690368\n",
      "[LightGBM] [Warning] bagging_fraction is set=0.7101880207078922, subsample=1.0 will be ignored. Current value: bagging_fraction=0.7101880207078922\n",
      "[LightGBM] [Warning] lambda_l1 is set=0.02901740338819302, reg_alpha=0.0 will be ignored. Current value: lambda_l1=0.02901740338819302\n",
      "[LightGBM] [Warning] lambda_l2 is set=1.0890196612133716, reg_lambda=0.0 will be ignored. Current value: lambda_l2=1.0890196612133716\n",
      "[LightGBM] [Warning] bagging_freq is set=6, subsample_freq=0 will be ignored. Current value: bagging_freq=6\n",
      "[LightGBM] [Warning] feature_fraction is set=0.9369580598800084, colsample_bytree=0.3 will be ignored. Current value: feature_fraction=0.9369580598800084\n",
      "[LightGBM] [Warning] min_data_in_leaf is set=1700, min_child_samples=75 will be ignored. Current value: min_data_in_leaf=1700\n",
      "[LightGBM] [Warning] min_gain_to_split is set=2.939850489690368, min_split_gain=0.0 will be ignored. Current value: min_gain_to_split=2.939850489690368\n",
      "[LightGBM] [Warning] bagging_fraction is set=0.7101880207078922, subsample=1.0 will be ignored. Current value: bagging_fraction=0.7101880207078922\n",
      "[LightGBM] [Warning] lambda_l1 is set=0.02901740338819302, reg_alpha=0.0 will be ignored. Current value: lambda_l1=0.02901740338819302\n",
      "[LightGBM] [Warning] lambda_l2 is set=1.0890196612133716, reg_lambda=0.0 will be ignored. Current value: lambda_l2=1.0890196612133716\n",
      "[LightGBM] [Warning] bagging_freq is set=6, subsample_freq=0 will be ignored. Current value: bagging_freq=6\n",
      "[LightGBM] [Warning] feature_fraction is set=0.9369580598800084, colsample_bytree=0.3 will be ignored. Current value: feature_fraction=0.9369580598800084\n",
      "[LightGBM] [Warning] min_data_in_leaf is set=1700, min_child_samples=75 will be ignored. Current value: min_data_in_leaf=1700\n",
      "[LightGBM] [Warning] min_gain_to_split is set=2.939850489690368, min_split_gain=0.0 will be ignored. Current value: min_gain_to_split=2.939850489690368\n",
      "[LightGBM] [Warning] bagging_fraction is set=0.7101880207078922, subsample=1.0 will be ignored. Current value: bagging_fraction=0.7101880207078922\n",
      "[LightGBM] [Warning] lambda_l1 is set=0.02901740338819302, reg_alpha=0.0 will be ignored. Current value: lambda_l1=0.02901740338819302\n",
      "[LightGBM] [Warning] lambda_l2 is set=1.0890196612133716, reg_lambda=0.0 will be ignored. Current value: lambda_l2=1.0890196612133716\n",
      "[LightGBM] [Warning] bagging_freq is set=6, subsample_freq=0 will be ignored. Current value: bagging_freq=6\n",
      "[LightGBM] [Warning] feature_fraction is set=0.9369580598800084, colsample_bytree=0.3 will be ignored. Current value: feature_fraction=0.9369580598800084\n",
      "[LightGBM] [Warning] min_data_in_leaf is set=1700, min_child_samples=75 will be ignored. Current value: min_data_in_leaf=1700\n",
      "[LightGBM] [Warning] min_gain_to_split is set=2.939850489690368, min_split_gain=0.0 will be ignored. Current value: min_gain_to_split=2.939850489690368\n",
      "[LightGBM] [Warning] bagging_fraction is set=0.7101880207078922, subsample=1.0 will be ignored. Current value: bagging_fraction=0.7101880207078922\n",
      "[LightGBM] [Warning] lambda_l1 is set=0.02901740338819302, reg_alpha=0.0 will be ignored. Current value: lambda_l1=0.02901740338819302\n",
      "[LightGBM] [Warning] lambda_l2 is set=1.0890196612133716, reg_lambda=0.0 will be ignored. Current value: lambda_l2=1.0890196612133716\n",
      "[LightGBM] [Warning] bagging_freq is set=6, subsample_freq=0 will be ignored. Current value: bagging_freq=6\n"
     ]
    },
    {
     "name": "stderr",
     "output_type": "stream",
     "text": [
      "\u001b[32m[I 2022-11-22 00:19:43,010]\u001b[0m Trial 112 finished with value: 0.5583738828024819 and parameters: {'n_estimators': 450, 'learning_rate': 0.2871540712186436, 'max_depth': 11, 'num_leaves': 11, 'min_data_in_leaf': 1700, 'min_child_samples': 75, 'lambda_l1': 0.02901740338819302, 'lambda_l2': 1.0890196612133716, 'min_gain_to_split': 2.939850489690368, 'feature_fraction': 0.9369580598800084, 'bagging_fraction': 0.7101880207078922, 'bagging_freq': 6, 'colsample_bytree': 0.3}. Best is trial 90 with value: 0.5532851735399701.\u001b[0m\n"
     ]
    },
    {
     "name": "stdout",
     "output_type": "stream",
     "text": [
      "[LightGBM] [Warning] feature_fraction is set=0.9619446026062878, colsample_bytree=0.3 will be ignored. Current value: feature_fraction=0.9619446026062878\n",
      "[LightGBM] [Warning] min_data_in_leaf is set=1100, min_child_samples=79 will be ignored. Current value: min_data_in_leaf=1100\n",
      "[LightGBM] [Warning] min_gain_to_split is set=2.8906547466983024, min_split_gain=0.0 will be ignored. Current value: min_gain_to_split=2.8906547466983024\n",
      "[LightGBM] [Warning] bagging_fraction is set=0.6970646030455566, subsample=1.0 will be ignored. Current value: bagging_fraction=0.6970646030455566\n",
      "[LightGBM] [Warning] lambda_l1 is set=0.029954502188531348, reg_alpha=0.0 will be ignored. Current value: lambda_l1=0.029954502188531348\n",
      "[LightGBM] [Warning] lambda_l2 is set=4.941940471621534, reg_lambda=0.0 will be ignored. Current value: lambda_l2=4.941940471621534\n",
      "[LightGBM] [Warning] bagging_freq is set=6, subsample_freq=0 will be ignored. Current value: bagging_freq=6\n"
     ]
    },
    {
     "name": "stderr",
     "output_type": "stream",
     "text": [
      "\u001b[32m[I 2022-11-22 00:19:43,888]\u001b[0m Trial 113 pruned. Trial was pruned at iteration 0.\u001b[0m\n",
      "\u001b[32m[I 2022-11-22 00:19:44,788]\u001b[0m Trial 114 pruned. Trial was pruned at iteration 0.\u001b[0m\n",
      "\u001b[32m[I 2022-11-22 00:19:45,619]\u001b[0m Trial 115 pruned. Trial was pruned at iteration 0.\u001b[0m\n",
      "\u001b[32m[I 2022-11-22 00:19:46,474]\u001b[0m Trial 116 pruned. Trial was pruned at iteration 0.\u001b[0m\n",
      "\u001b[32m[I 2022-11-22 00:19:50,179]\u001b[0m Trial 117 pruned. Trial was pruned at iteration 310.\u001b[0m\n",
      "\u001b[32m[I 2022-11-22 00:19:51,507]\u001b[0m Trial 118 pruned. Trial was pruned at iteration 0.\u001b[0m\n",
      "\u001b[32m[I 2022-11-22 00:19:52,352]\u001b[0m Trial 119 pruned. Trial was pruned at iteration 0.\u001b[0m\n",
      "\u001b[32m[I 2022-11-22 00:19:56,600]\u001b[0m Trial 120 pruned. Trial was pruned at iteration 354.\u001b[0m\n",
      "\u001b[32m[I 2022-11-22 00:19:59,908]\u001b[0m Trial 121 pruned. Trial was pruned at iteration 302.\u001b[0m\n",
      "\u001b[32m[I 2022-11-22 00:20:00,774]\u001b[0m Trial 122 pruned. Trial was pruned at iteration 0.\u001b[0m\n"
     ]
    },
    {
     "name": "stdout",
     "output_type": "stream",
     "text": [
      "[LightGBM] [Warning] feature_fraction is set=0.972350497058719, colsample_bytree=0.3 will be ignored. Current value: feature_fraction=0.972350497058719\n",
      "[LightGBM] [Warning] min_data_in_leaf is set=400, min_child_samples=73 will be ignored. Current value: min_data_in_leaf=400\n",
      "[LightGBM] [Warning] min_gain_to_split is set=4.499650864279443, min_split_gain=0.0 will be ignored. Current value: min_gain_to_split=4.499650864279443\n",
      "[LightGBM] [Warning] bagging_fraction is set=0.7252594246386679, subsample=1.0 will be ignored. Current value: bagging_fraction=0.7252594246386679\n",
      "[LightGBM] [Warning] lambda_l1 is set=0.016708593972833276, reg_alpha=0.0 will be ignored. Current value: lambda_l1=0.016708593972833276\n",
      "[LightGBM] [Warning] lambda_l2 is set=0.7380301614189195, reg_lambda=0.0 will be ignored. Current value: lambda_l2=0.7380301614189195\n",
      "[LightGBM] [Warning] bagging_freq is set=6, subsample_freq=0 will be ignored. Current value: bagging_freq=6\n"
     ]
    },
    {
     "name": "stderr",
     "output_type": "stream",
     "text": [
      "\u001b[32m[I 2022-11-22 00:20:07,923]\u001b[0m Trial 123 pruned. Trial was pruned at iteration 358.\u001b[0m\n",
      "\u001b[32m[I 2022-11-22 00:20:08,768]\u001b[0m Trial 124 pruned. Trial was pruned at iteration 0.\u001b[0m\n",
      "\u001b[32m[I 2022-11-22 00:20:09,606]\u001b[0m Trial 125 pruned. Trial was pruned at iteration 0.\u001b[0m\n",
      "\u001b[32m[I 2022-11-22 00:20:10,444]\u001b[0m Trial 126 pruned. Trial was pruned at iteration 0.\u001b[0m\n",
      "\u001b[32m[I 2022-11-22 00:20:11,647]\u001b[0m Trial 127 pruned. Trial was pruned at iteration 23.\u001b[0m\n"
     ]
    },
    {
     "name": "stdout",
     "output_type": "stream",
     "text": [
      "[LightGBM] [Warning] feature_fraction is set=0.9990262621478092, colsample_bytree=0.3 will be ignored. Current value: feature_fraction=0.9990262621478092\n",
      "[LightGBM] [Warning] min_data_in_leaf is set=2400, min_child_samples=76 will be ignored. Current value: min_data_in_leaf=2400\n",
      "[LightGBM] [Warning] min_gain_to_split is set=5.2930108190342775, min_split_gain=0.0 will be ignored. Current value: min_gain_to_split=5.2930108190342775\n",
      "[LightGBM] [Warning] bagging_fraction is set=0.8115135477649251, subsample=1.0 will be ignored. Current value: bagging_fraction=0.8115135477649251\n",
      "[LightGBM] [Warning] lambda_l1 is set=1.7858405103602253, reg_alpha=0.0 will be ignored. Current value: lambda_l1=1.7858405103602253\n",
      "[LightGBM] [Warning] lambda_l2 is set=0.47343722205785915, reg_lambda=0.0 will be ignored. Current value: lambda_l2=0.47343722205785915\n",
      "[LightGBM] [Warning] bagging_freq is set=6, subsample_freq=0 will be ignored. Current value: bagging_freq=6\n",
      "[LightGBM] [Warning] feature_fraction is set=0.9990262621478092, colsample_bytree=0.3 will be ignored. Current value: feature_fraction=0.9990262621478092\n",
      "[LightGBM] [Warning] min_data_in_leaf is set=2400, min_child_samples=76 will be ignored. Current value: min_data_in_leaf=2400\n",
      "[LightGBM] [Warning] min_gain_to_split is set=5.2930108190342775, min_split_gain=0.0 will be ignored. Current value: min_gain_to_split=5.2930108190342775\n",
      "[LightGBM] [Warning] bagging_fraction is set=0.8115135477649251, subsample=1.0 will be ignored. Current value: bagging_fraction=0.8115135477649251\n",
      "[LightGBM] [Warning] lambda_l1 is set=1.7858405103602253, reg_alpha=0.0 will be ignored. Current value: lambda_l1=1.7858405103602253\n",
      "[LightGBM] [Warning] lambda_l2 is set=0.47343722205785915, reg_lambda=0.0 will be ignored. Current value: lambda_l2=0.47343722205785915\n",
      "[LightGBM] [Warning] bagging_freq is set=6, subsample_freq=0 will be ignored. Current value: bagging_freq=6\n",
      "[LightGBM] [Warning] feature_fraction is set=0.9990262621478092, colsample_bytree=0.3 will be ignored. Current value: feature_fraction=0.9990262621478092\n",
      "[LightGBM] [Warning] min_data_in_leaf is set=2400, min_child_samples=76 will be ignored. Current value: min_data_in_leaf=2400\n",
      "[LightGBM] [Warning] min_gain_to_split is set=5.2930108190342775, min_split_gain=0.0 will be ignored. Current value: min_gain_to_split=5.2930108190342775\n",
      "[LightGBM] [Warning] bagging_fraction is set=0.8115135477649251, subsample=1.0 will be ignored. Current value: bagging_fraction=0.8115135477649251\n",
      "[LightGBM] [Warning] lambda_l1 is set=1.7858405103602253, reg_alpha=0.0 will be ignored. Current value: lambda_l1=1.7858405103602253\n",
      "[LightGBM] [Warning] lambda_l2 is set=0.47343722205785915, reg_lambda=0.0 will be ignored. Current value: lambda_l2=0.47343722205785915\n",
      "[LightGBM] [Warning] bagging_freq is set=6, subsample_freq=0 will be ignored. Current value: bagging_freq=6\n",
      "[LightGBM] [Warning] feature_fraction is set=0.9990262621478092, colsample_bytree=0.3 will be ignored. Current value: feature_fraction=0.9990262621478092\n",
      "[LightGBM] [Warning] min_data_in_leaf is set=2400, min_child_samples=76 will be ignored. Current value: min_data_in_leaf=2400\n",
      "[LightGBM] [Warning] min_gain_to_split is set=5.2930108190342775, min_split_gain=0.0 will be ignored. Current value: min_gain_to_split=5.2930108190342775\n",
      "[LightGBM] [Warning] bagging_fraction is set=0.8115135477649251, subsample=1.0 will be ignored. Current value: bagging_fraction=0.8115135477649251\n",
      "[LightGBM] [Warning] lambda_l1 is set=1.7858405103602253, reg_alpha=0.0 will be ignored. Current value: lambda_l1=1.7858405103602253\n",
      "[LightGBM] [Warning] lambda_l2 is set=0.47343722205785915, reg_lambda=0.0 will be ignored. Current value: lambda_l2=0.47343722205785915\n",
      "[LightGBM] [Warning] bagging_freq is set=6, subsample_freq=0 will be ignored. Current value: bagging_freq=6\n"
     ]
    },
    {
     "name": "stderr",
     "output_type": "stream",
     "text": [
      "\u001b[32m[I 2022-11-22 00:20:23,845]\u001b[0m Trial 128 finished with value: 0.5848766581484592 and parameters: {'n_estimators': 450, 'learning_rate': 0.299807865273347, 'max_depth': 11, 'num_leaves': 9, 'min_data_in_leaf': 2400, 'min_child_samples': 76, 'lambda_l1': 1.7858405103602253, 'lambda_l2': 0.47343722205785915, 'min_gain_to_split': 5.2930108190342775, 'feature_fraction': 0.9990262621478092, 'bagging_fraction': 0.8115135477649251, 'bagging_freq': 6, 'colsample_bytree': 0.3}. Best is trial 90 with value: 0.5532851735399701.\u001b[0m\n"
     ]
    },
    {
     "name": "stdout",
     "output_type": "stream",
     "text": [
      "[LightGBM] [Warning] feature_fraction is set=0.9368634719245803, colsample_bytree=0.3 will be ignored. Current value: feature_fraction=0.9368634719245803\n",
      "[LightGBM] [Warning] min_data_in_leaf is set=600, min_child_samples=66 will be ignored. Current value: min_data_in_leaf=600\n",
      "[LightGBM] [Warning] min_gain_to_split is set=3.512259097782434, min_split_gain=0.0 will be ignored. Current value: min_gain_to_split=3.512259097782434\n",
      "[LightGBM] [Warning] bagging_fraction is set=0.778441382285043, subsample=1.0 will be ignored. Current value: bagging_fraction=0.778441382285043\n",
      "[LightGBM] [Warning] lambda_l1 is set=0.0001981306480047472, reg_alpha=0.0 will be ignored. Current value: lambda_l1=0.0001981306480047472\n",
      "[LightGBM] [Warning] lambda_l2 is set=0.010815631905187147, reg_lambda=0.0 will be ignored. Current value: lambda_l2=0.010815631905187147\n",
      "[LightGBM] [Warning] bagging_freq is set=6, subsample_freq=0 will be ignored. Current value: bagging_freq=6\n"
     ]
    },
    {
     "name": "stderr",
     "output_type": "stream",
     "text": [
      "\u001b[32m[I 2022-11-22 00:20:24,721]\u001b[0m Trial 129 pruned. Trial was pruned at iteration 0.\u001b[0m\n",
      "\u001b[32m[I 2022-11-22 00:20:25,590]\u001b[0m Trial 130 pruned. Trial was pruned at iteration 0.\u001b[0m\n",
      "\u001b[32m[I 2022-11-22 00:20:26,479]\u001b[0m Trial 131 pruned. Trial was pruned at iteration 0.\u001b[0m\n",
      "\u001b[32m[I 2022-11-22 00:20:30,022]\u001b[0m Trial 132 pruned. Trial was pruned at iteration 278.\u001b[0m\n",
      "\u001b[32m[I 2022-11-22 00:20:30,888]\u001b[0m Trial 133 pruned. Trial was pruned at iteration 0.\u001b[0m\n",
      "\u001b[32m[I 2022-11-22 00:20:31,745]\u001b[0m Trial 134 pruned. Trial was pruned at iteration 0.\u001b[0m\n",
      "\u001b[32m[I 2022-11-22 00:20:32,857]\u001b[0m Trial 135 pruned. Trial was pruned at iteration 17.\u001b[0m\n",
      "\u001b[32m[I 2022-11-22 00:20:33,750]\u001b[0m Trial 136 pruned. Trial was pruned at iteration 0.\u001b[0m\n",
      "\u001b[32m[I 2022-11-22 00:20:34,573]\u001b[0m Trial 137 pruned. Trial was pruned at iteration 0.\u001b[0m\n",
      "\u001b[32m[I 2022-11-22 00:20:35,488]\u001b[0m Trial 138 pruned. Trial was pruned at iteration 0.\u001b[0m\n",
      "\u001b[32m[I 2022-11-22 00:20:36,359]\u001b[0m Trial 139 pruned. Trial was pruned at iteration 1.\u001b[0m\n",
      "\u001b[32m[I 2022-11-22 00:20:37,207]\u001b[0m Trial 140 pruned. Trial was pruned at iteration 0.\u001b[0m\n"
     ]
    },
    {
     "name": "stdout",
     "output_type": "stream",
     "text": [
      "[LightGBM] [Warning] feature_fraction is set=0.9782884274366906, colsample_bytree=0.3 will be ignored. Current value: feature_fraction=0.9782884274366906\n",
      "[LightGBM] [Warning] min_data_in_leaf is set=500, min_child_samples=68 will be ignored. Current value: min_data_in_leaf=500\n",
      "[LightGBM] [Warning] min_gain_to_split is set=0.8286427052932591, min_split_gain=0.0 will be ignored. Current value: min_gain_to_split=0.8286427052932591\n",
      "[LightGBM] [Warning] bagging_fraction is set=0.8554903320151708, subsample=1.0 will be ignored. Current value: bagging_fraction=0.8554903320151708\n",
      "[LightGBM] [Warning] lambda_l1 is set=0.003779355372206727, reg_alpha=0.0 will be ignored. Current value: lambda_l1=0.003779355372206727\n",
      "[LightGBM] [Warning] lambda_l2 is set=0.07519987575545474, reg_lambda=0.0 will be ignored. Current value: lambda_l2=0.07519987575545474\n",
      "[LightGBM] [Warning] bagging_freq is set=6, subsample_freq=0 will be ignored. Current value: bagging_freq=6\n",
      "[LightGBM] [Warning] feature_fraction is set=0.9782884274366906, colsample_bytree=0.3 will be ignored. Current value: feature_fraction=0.9782884274366906\n",
      "[LightGBM] [Warning] min_data_in_leaf is set=500, min_child_samples=68 will be ignored. Current value: min_data_in_leaf=500\n",
      "[LightGBM] [Warning] min_gain_to_split is set=0.8286427052932591, min_split_gain=0.0 will be ignored. Current value: min_gain_to_split=0.8286427052932591\n",
      "[LightGBM] [Warning] bagging_fraction is set=0.8554903320151708, subsample=1.0 will be ignored. Current value: bagging_fraction=0.8554903320151708\n",
      "[LightGBM] [Warning] lambda_l1 is set=0.003779355372206727, reg_alpha=0.0 will be ignored. Current value: lambda_l1=0.003779355372206727\n",
      "[LightGBM] [Warning] lambda_l2 is set=0.07519987575545474, reg_lambda=0.0 will be ignored. Current value: lambda_l2=0.07519987575545474\n",
      "[LightGBM] [Warning] bagging_freq is set=6, subsample_freq=0 will be ignored. Current value: bagging_freq=6\n",
      "[LightGBM] [Warning] feature_fraction is set=0.9782884274366906, colsample_bytree=0.3 will be ignored. Current value: feature_fraction=0.9782884274366906\n",
      "[LightGBM] [Warning] min_data_in_leaf is set=500, min_child_samples=68 will be ignored. Current value: min_data_in_leaf=500\n",
      "[LightGBM] [Warning] min_gain_to_split is set=0.8286427052932591, min_split_gain=0.0 will be ignored. Current value: min_gain_to_split=0.8286427052932591\n",
      "[LightGBM] [Warning] bagging_fraction is set=0.8554903320151708, subsample=1.0 will be ignored. Current value: bagging_fraction=0.8554903320151708\n",
      "[LightGBM] [Warning] lambda_l1 is set=0.003779355372206727, reg_alpha=0.0 will be ignored. Current value: lambda_l1=0.003779355372206727\n",
      "[LightGBM] [Warning] lambda_l2 is set=0.07519987575545474, reg_lambda=0.0 will be ignored. Current value: lambda_l2=0.07519987575545474\n",
      "[LightGBM] [Warning] bagging_freq is set=6, subsample_freq=0 will be ignored. Current value: bagging_freq=6\n",
      "[LightGBM] [Warning] feature_fraction is set=0.9782884274366906, colsample_bytree=0.3 will be ignored. Current value: feature_fraction=0.9782884274366906\n",
      "[LightGBM] [Warning] min_data_in_leaf is set=500, min_child_samples=68 will be ignored. Current value: min_data_in_leaf=500\n",
      "[LightGBM] [Warning] min_gain_to_split is set=0.8286427052932591, min_split_gain=0.0 will be ignored. Current value: min_gain_to_split=0.8286427052932591\n",
      "[LightGBM] [Warning] bagging_fraction is set=0.8554903320151708, subsample=1.0 will be ignored. Current value: bagging_fraction=0.8554903320151708\n",
      "[LightGBM] [Warning] lambda_l1 is set=0.003779355372206727, reg_alpha=0.0 will be ignored. Current value: lambda_l1=0.003779355372206727\n",
      "[LightGBM] [Warning] lambda_l2 is set=0.07519987575545474, reg_lambda=0.0 will be ignored. Current value: lambda_l2=0.07519987575545474\n",
      "[LightGBM] [Warning] bagging_freq is set=6, subsample_freq=0 will be ignored. Current value: bagging_freq=6\n"
     ]
    },
    {
     "name": "stderr",
     "output_type": "stream",
     "text": [
      "\u001b[32m[I 2022-11-22 00:21:03,837]\u001b[0m Trial 141 finished with value: 0.5598067200253614 and parameters: {'n_estimators': 450, 'learning_rate': 0.24207544971653924, 'max_depth': 11, 'num_leaves': 9, 'min_data_in_leaf': 500, 'min_child_samples': 68, 'lambda_l1': 0.003779355372206727, 'lambda_l2': 0.07519987575545474, 'min_gain_to_split': 0.8286427052932591, 'feature_fraction': 0.9782884274366906, 'bagging_fraction': 0.8554903320151708, 'bagging_freq': 6, 'colsample_bytree': 0.3}. Best is trial 90 with value: 0.5532851735399701.\u001b[0m\n"
     ]
    },
    {
     "name": "stdout",
     "output_type": "stream",
     "text": [
      "[LightGBM] [Warning] feature_fraction is set=0.5562256318741559, colsample_bytree=0.3 will be ignored. Current value: feature_fraction=0.5562256318741559\n",
      "[LightGBM] [Warning] min_data_in_leaf is set=400, min_child_samples=73 will be ignored. Current value: min_data_in_leaf=400\n",
      "[LightGBM] [Warning] min_gain_to_split is set=0.44212683503284966, min_split_gain=0.0 will be ignored. Current value: min_gain_to_split=0.44212683503284966\n",
      "[LightGBM] [Warning] bagging_fraction is set=0.8717842349814012, subsample=1.0 will be ignored. Current value: bagging_fraction=0.8717842349814012\n",
      "[LightGBM] [Warning] lambda_l1 is set=0.002270457716109855, reg_alpha=0.0 will be ignored. Current value: lambda_l1=0.002270457716109855\n",
      "[LightGBM] [Warning] lambda_l2 is set=0.08775557470355545, reg_lambda=0.0 will be ignored. Current value: lambda_l2=0.08775557470355545\n",
      "[LightGBM] [Warning] bagging_freq is set=6, subsample_freq=0 will be ignored. Current value: bagging_freq=6\n"
     ]
    },
    {
     "name": "stderr",
     "output_type": "stream",
     "text": [
      "\u001b[32m[I 2022-11-22 00:21:10,038]\u001b[0m Trial 142 pruned. Trial was pruned at iteration 362.\u001b[0m\n",
      "\u001b[32m[I 2022-11-22 00:21:10,876]\u001b[0m Trial 143 pruned. Trial was pruned at iteration 0.\u001b[0m\n"
     ]
    },
    {
     "name": "stdout",
     "output_type": "stream",
     "text": [
      "[LightGBM] [Warning] feature_fraction is set=0.9481211370793287, colsample_bytree=0.3 will be ignored. Current value: feature_fraction=0.9481211370793287\n",
      "[LightGBM] [Warning] min_data_in_leaf is set=600, min_child_samples=81 will be ignored. Current value: min_data_in_leaf=600\n",
      "[LightGBM] [Warning] min_gain_to_split is set=0.09634865038624674, min_split_gain=0.0 will be ignored. Current value: min_gain_to_split=0.09634865038624674\n",
      "[LightGBM] [Warning] bagging_fraction is set=0.8149782234329364, subsample=1.0 will be ignored. Current value: bagging_fraction=0.8149782234329364\n",
      "[LightGBM] [Warning] lambda_l1 is set=0.008965862970399146, reg_alpha=0.0 will be ignored. Current value: lambda_l1=0.008965862970399146\n",
      "[LightGBM] [Warning] lambda_l2 is set=0.04913411978725846, reg_lambda=0.0 will be ignored. Current value: lambda_l2=0.04913411978725846\n",
      "[LightGBM] [Warning] bagging_freq is set=6, subsample_freq=0 will be ignored. Current value: bagging_freq=6\n",
      "[LightGBM] [Warning] feature_fraction is set=0.9481211370793287, colsample_bytree=0.3 will be ignored. Current value: feature_fraction=0.9481211370793287\n",
      "[LightGBM] [Warning] min_data_in_leaf is set=600, min_child_samples=81 will be ignored. Current value: min_data_in_leaf=600\n",
      "[LightGBM] [Warning] min_gain_to_split is set=0.09634865038624674, min_split_gain=0.0 will be ignored. Current value: min_gain_to_split=0.09634865038624674\n",
      "[LightGBM] [Warning] bagging_fraction is set=0.8149782234329364, subsample=1.0 will be ignored. Current value: bagging_fraction=0.8149782234329364\n",
      "[LightGBM] [Warning] lambda_l1 is set=0.008965862970399146, reg_alpha=0.0 will be ignored. Current value: lambda_l1=0.008965862970399146\n",
      "[LightGBM] [Warning] lambda_l2 is set=0.04913411978725846, reg_lambda=0.0 will be ignored. Current value: lambda_l2=0.04913411978725846\n",
      "[LightGBM] [Warning] bagging_freq is set=6, subsample_freq=0 will be ignored. Current value: bagging_freq=6\n",
      "[LightGBM] [Warning] feature_fraction is set=0.9481211370793287, colsample_bytree=0.3 will be ignored. Current value: feature_fraction=0.9481211370793287\n",
      "[LightGBM] [Warning] min_data_in_leaf is set=600, min_child_samples=81 will be ignored. Current value: min_data_in_leaf=600\n",
      "[LightGBM] [Warning] min_gain_to_split is set=0.09634865038624674, min_split_gain=0.0 will be ignored. Current value: min_gain_to_split=0.09634865038624674\n",
      "[LightGBM] [Warning] bagging_fraction is set=0.8149782234329364, subsample=1.0 will be ignored. Current value: bagging_fraction=0.8149782234329364\n",
      "[LightGBM] [Warning] lambda_l1 is set=0.008965862970399146, reg_alpha=0.0 will be ignored. Current value: lambda_l1=0.008965862970399146\n",
      "[LightGBM] [Warning] lambda_l2 is set=0.04913411978725846, reg_lambda=0.0 will be ignored. Current value: lambda_l2=0.04913411978725846\n",
      "[LightGBM] [Warning] bagging_freq is set=6, subsample_freq=0 will be ignored. Current value: bagging_freq=6\n",
      "[LightGBM] [Warning] feature_fraction is set=0.9481211370793287, colsample_bytree=0.3 will be ignored. Current value: feature_fraction=0.9481211370793287\n",
      "[LightGBM] [Warning] min_data_in_leaf is set=600, min_child_samples=81 will be ignored. Current value: min_data_in_leaf=600\n",
      "[LightGBM] [Warning] min_gain_to_split is set=0.09634865038624674, min_split_gain=0.0 will be ignored. Current value: min_gain_to_split=0.09634865038624674\n",
      "[LightGBM] [Warning] bagging_fraction is set=0.8149782234329364, subsample=1.0 will be ignored. Current value: bagging_fraction=0.8149782234329364\n",
      "[LightGBM] [Warning] lambda_l1 is set=0.008965862970399146, reg_alpha=0.0 will be ignored. Current value: lambda_l1=0.008965862970399146\n",
      "[LightGBM] [Warning] lambda_l2 is set=0.04913411978725846, reg_lambda=0.0 will be ignored. Current value: lambda_l2=0.04913411978725846\n",
      "[LightGBM] [Warning] bagging_freq is set=6, subsample_freq=0 will be ignored. Current value: bagging_freq=6\n"
     ]
    },
    {
     "name": "stderr",
     "output_type": "stream",
     "text": [
      "\u001b[32m[I 2022-11-22 00:21:36,478]\u001b[0m Trial 144 finished with value: 0.55559249789334 and parameters: {'n_estimators': 450, 'learning_rate': 0.2939685483122273, 'max_depth': 11, 'num_leaves': 9, 'min_data_in_leaf': 600, 'min_child_samples': 81, 'lambda_l1': 0.008965862970399146, 'lambda_l2': 0.04913411978725846, 'min_gain_to_split': 0.09634865038624674, 'feature_fraction': 0.9481211370793287, 'bagging_fraction': 0.8149782234329364, 'bagging_freq': 6, 'colsample_bytree': 0.3}. Best is trial 90 with value: 0.5532851735399701.\u001b[0m\n"
     ]
    },
    {
     "name": "stdout",
     "output_type": "stream",
     "text": [
      "[LightGBM] [Warning] feature_fraction is set=0.9539103301467973, colsample_bytree=0.3 will be ignored. Current value: feature_fraction=0.9539103301467973\n",
      "[LightGBM] [Warning] min_data_in_leaf is set=600, min_child_samples=82 will be ignored. Current value: min_data_in_leaf=600\n",
      "[LightGBM] [Warning] min_gain_to_split is set=0.7276340487380537, min_split_gain=0.0 will be ignored. Current value: min_gain_to_split=0.7276340487380537\n",
      "[LightGBM] [Warning] bagging_fraction is set=0.8534334823080443, subsample=1.0 will be ignored. Current value: bagging_fraction=0.8534334823080443\n",
      "[LightGBM] [Warning] lambda_l1 is set=0.008612712402571917, reg_alpha=0.0 will be ignored. Current value: lambda_l1=0.008612712402571917\n",
      "[LightGBM] [Warning] lambda_l2 is set=0.055917224214832494, reg_lambda=0.0 will be ignored. Current value: lambda_l2=0.055917224214832494\n",
      "[LightGBM] [Warning] bagging_freq is set=6, subsample_freq=0 will be ignored. Current value: bagging_freq=6\n"
     ]
    },
    {
     "name": "stderr",
     "output_type": "stream",
     "text": [
      "\u001b[32m[I 2022-11-22 00:21:37,306]\u001b[0m Trial 145 pruned. Trial was pruned at iteration 0.\u001b[0m\n",
      "\u001b[32m[I 2022-11-22 00:21:38,167]\u001b[0m Trial 146 pruned. Trial was pruned at iteration 0.\u001b[0m\n",
      "\u001b[32m[I 2022-11-22 00:21:39,014]\u001b[0m Trial 147 pruned. Trial was pruned at iteration 0.\u001b[0m\n",
      "\u001b[32m[I 2022-11-22 00:21:39,896]\u001b[0m Trial 148 pruned. Trial was pruned at iteration 4.\u001b[0m\n"
     ]
    },
    {
     "name": "stdout",
     "output_type": "stream",
     "text": [
      "[LightGBM] [Warning] feature_fraction is set=0.9742554022680361, colsample_bytree=0.3 will be ignored. Current value: feature_fraction=0.9742554022680361\n",
      "[LightGBM] [Warning] min_data_in_leaf is set=1500, min_child_samples=71 will be ignored. Current value: min_data_in_leaf=1500\n",
      "[LightGBM] [Warning] min_gain_to_split is set=0.2744307678242969, min_split_gain=0.0 will be ignored. Current value: min_gain_to_split=0.2744307678242969\n",
      "[LightGBM] [Warning] bagging_fraction is set=0.8036405421119105, subsample=1.0 will be ignored. Current value: bagging_fraction=0.8036405421119105\n",
      "[LightGBM] [Warning] lambda_l1 is set=0.056977077132986574, reg_alpha=0.0 will be ignored. Current value: lambda_l1=0.056977077132986574\n",
      "[LightGBM] [Warning] lambda_l2 is set=0.0786381966275926, reg_lambda=0.0 will be ignored. Current value: lambda_l2=0.0786381966275926\n",
      "[LightGBM] [Warning] bagging_freq is set=7, subsample_freq=0 will be ignored. Current value: bagging_freq=7\n",
      "[LightGBM] [Warning] feature_fraction is set=0.9742554022680361, colsample_bytree=0.3 will be ignored. Current value: feature_fraction=0.9742554022680361\n",
      "[LightGBM] [Warning] min_data_in_leaf is set=1500, min_child_samples=71 will be ignored. Current value: min_data_in_leaf=1500\n",
      "[LightGBM] [Warning] min_gain_to_split is set=0.2744307678242969, min_split_gain=0.0 will be ignored. Current value: min_gain_to_split=0.2744307678242969\n",
      "[LightGBM] [Warning] bagging_fraction is set=0.8036405421119105, subsample=1.0 will be ignored. Current value: bagging_fraction=0.8036405421119105\n",
      "[LightGBM] [Warning] lambda_l1 is set=0.056977077132986574, reg_alpha=0.0 will be ignored. Current value: lambda_l1=0.056977077132986574\n",
      "[LightGBM] [Warning] lambda_l2 is set=0.0786381966275926, reg_lambda=0.0 will be ignored. Current value: lambda_l2=0.0786381966275926\n",
      "[LightGBM] [Warning] bagging_freq is set=7, subsample_freq=0 will be ignored. Current value: bagging_freq=7\n",
      "[LightGBM] [Warning] feature_fraction is set=0.9742554022680361, colsample_bytree=0.3 will be ignored. Current value: feature_fraction=0.9742554022680361\n",
      "[LightGBM] [Warning] min_data_in_leaf is set=1500, min_child_samples=71 will be ignored. Current value: min_data_in_leaf=1500\n",
      "[LightGBM] [Warning] min_gain_to_split is set=0.2744307678242969, min_split_gain=0.0 will be ignored. Current value: min_gain_to_split=0.2744307678242969\n",
      "[LightGBM] [Warning] bagging_fraction is set=0.8036405421119105, subsample=1.0 will be ignored. Current value: bagging_fraction=0.8036405421119105\n",
      "[LightGBM] [Warning] lambda_l1 is set=0.056977077132986574, reg_alpha=0.0 will be ignored. Current value: lambda_l1=0.056977077132986574\n",
      "[LightGBM] [Warning] lambda_l2 is set=0.0786381966275926, reg_lambda=0.0 will be ignored. Current value: lambda_l2=0.0786381966275926\n",
      "[LightGBM] [Warning] bagging_freq is set=7, subsample_freq=0 will be ignored. Current value: bagging_freq=7\n",
      "[LightGBM] [Warning] feature_fraction is set=0.9742554022680361, colsample_bytree=0.3 will be ignored. Current value: feature_fraction=0.9742554022680361\n",
      "[LightGBM] [Warning] min_data_in_leaf is set=1500, min_child_samples=71 will be ignored. Current value: min_data_in_leaf=1500\n",
      "[LightGBM] [Warning] min_gain_to_split is set=0.2744307678242969, min_split_gain=0.0 will be ignored. Current value: min_gain_to_split=0.2744307678242969\n",
      "[LightGBM] [Warning] bagging_fraction is set=0.8036405421119105, subsample=1.0 will be ignored. Current value: bagging_fraction=0.8036405421119105\n",
      "[LightGBM] [Warning] lambda_l1 is set=0.056977077132986574, reg_alpha=0.0 will be ignored. Current value: lambda_l1=0.056977077132986574\n",
      "[LightGBM] [Warning] lambda_l2 is set=0.0786381966275926, reg_lambda=0.0 will be ignored. Current value: lambda_l2=0.0786381966275926\n",
      "[LightGBM] [Warning] bagging_freq is set=7, subsample_freq=0 will be ignored. Current value: bagging_freq=7\n"
     ]
    },
    {
     "name": "stderr",
     "output_type": "stream",
     "text": [
      "\u001b[32m[I 2022-11-22 00:22:10,219]\u001b[0m Trial 149 finished with value: 0.5490233313398681 and parameters: {'n_estimators': 500, 'learning_rate': 0.2909645171927052, 'max_depth': 11, 'num_leaves': 11, 'min_data_in_leaf': 1500, 'min_child_samples': 71, 'lambda_l1': 0.056977077132986574, 'lambda_l2': 0.0786381966275926, 'min_gain_to_split': 0.2744307678242969, 'feature_fraction': 0.9742554022680361, 'bagging_fraction': 0.8036405421119105, 'bagging_freq': 7, 'colsample_bytree': 0.3}. Best is trial 149 with value: 0.5490233313398681.\u001b[0m\n"
     ]
    },
    {
     "name": "stdout",
     "output_type": "stream",
     "text": [
      "[LightGBM] [Warning] feature_fraction is set=0.9756808718607378, colsample_bytree=0.3 will be ignored. Current value: feature_fraction=0.9756808718607378\n",
      "[LightGBM] [Warning] min_data_in_leaf is set=800, min_child_samples=68 will be ignored. Current value: min_data_in_leaf=800\n",
      "[LightGBM] [Warning] min_gain_to_split is set=0.1827538210626059, min_split_gain=0.0 will be ignored. Current value: min_gain_to_split=0.1827538210626059\n",
      "[LightGBM] [Warning] bagging_fraction is set=0.8219394988465734, subsample=1.0 will be ignored. Current value: bagging_fraction=0.8219394988465734\n",
      "[LightGBM] [Warning] lambda_l1 is set=0.06188686313590885, reg_alpha=0.0 will be ignored. Current value: lambda_l1=0.06188686313590885\n",
      "[LightGBM] [Warning] lambda_l2 is set=0.13267157750778485, reg_lambda=0.0 will be ignored. Current value: lambda_l2=0.13267157750778485\n",
      "[LightGBM] [Warning] bagging_freq is set=7, subsample_freq=0 will be ignored. Current value: bagging_freq=7\n"
     ]
    },
    {
     "name": "stderr",
     "output_type": "stream",
     "text": [
      "\u001b[32m[I 2022-11-22 00:22:11,085]\u001b[0m Trial 150 pruned. Trial was pruned at iteration 0.\u001b[0m\n",
      "\u001b[32m[I 2022-11-22 00:22:11,957]\u001b[0m Trial 151 pruned. Trial was pruned at iteration 0.\u001b[0m\n",
      "\u001b[32m[I 2022-11-22 00:22:12,897]\u001b[0m Trial 152 pruned. Trial was pruned at iteration 0.\u001b[0m\n"
     ]
    },
    {
     "name": "stdout",
     "output_type": "stream",
     "text": [
      "[LightGBM] [Warning] feature_fraction is set=0.9590585323056352, colsample_bytree=0.3 will be ignored. Current value: feature_fraction=0.9590585323056352\n",
      "[LightGBM] [Warning] min_data_in_leaf is set=1100, min_child_samples=81 will be ignored. Current value: min_data_in_leaf=1100\n",
      "[LightGBM] [Warning] min_gain_to_split is set=0.9796881199453984, min_split_gain=0.0 will be ignored. Current value: min_gain_to_split=0.9796881199453984\n",
      "[LightGBM] [Warning] bagging_fraction is set=0.8433447666397241, subsample=1.0 will be ignored. Current value: bagging_fraction=0.8433447666397241\n",
      "[LightGBM] [Warning] lambda_l1 is set=0.19008777978621538, reg_alpha=0.0 will be ignored. Current value: lambda_l1=0.19008777978621538\n",
      "[LightGBM] [Warning] lambda_l2 is set=1.403010394756675, reg_lambda=0.0 will be ignored. Current value: lambda_l2=1.403010394756675\n",
      "[LightGBM] [Warning] bagging_freq is set=7, subsample_freq=0 will be ignored. Current value: bagging_freq=7\n",
      "[LightGBM] [Warning] feature_fraction is set=0.9590585323056352, colsample_bytree=0.3 will be ignored. Current value: feature_fraction=0.9590585323056352\n",
      "[LightGBM] [Warning] min_data_in_leaf is set=1100, min_child_samples=81 will be ignored. Current value: min_data_in_leaf=1100\n",
      "[LightGBM] [Warning] min_gain_to_split is set=0.9796881199453984, min_split_gain=0.0 will be ignored. Current value: min_gain_to_split=0.9796881199453984\n",
      "[LightGBM] [Warning] bagging_fraction is set=0.8433447666397241, subsample=1.0 will be ignored. Current value: bagging_fraction=0.8433447666397241\n",
      "[LightGBM] [Warning] lambda_l1 is set=0.19008777978621538, reg_alpha=0.0 will be ignored. Current value: lambda_l1=0.19008777978621538\n",
      "[LightGBM] [Warning] lambda_l2 is set=1.403010394756675, reg_lambda=0.0 will be ignored. Current value: lambda_l2=1.403010394756675\n",
      "[LightGBM] [Warning] bagging_freq is set=7, subsample_freq=0 will be ignored. Current value: bagging_freq=7\n",
      "[LightGBM] [Warning] feature_fraction is set=0.9590585323056352, colsample_bytree=0.3 will be ignored. Current value: feature_fraction=0.9590585323056352\n",
      "[LightGBM] [Warning] min_data_in_leaf is set=1100, min_child_samples=81 will be ignored. Current value: min_data_in_leaf=1100\n",
      "[LightGBM] [Warning] min_gain_to_split is set=0.9796881199453984, min_split_gain=0.0 will be ignored. Current value: min_gain_to_split=0.9796881199453984\n",
      "[LightGBM] [Warning] bagging_fraction is set=0.8433447666397241, subsample=1.0 will be ignored. Current value: bagging_fraction=0.8433447666397241\n",
      "[LightGBM] [Warning] lambda_l1 is set=0.19008777978621538, reg_alpha=0.0 will be ignored. Current value: lambda_l1=0.19008777978621538\n",
      "[LightGBM] [Warning] lambda_l2 is set=1.403010394756675, reg_lambda=0.0 will be ignored. Current value: lambda_l2=1.403010394756675\n",
      "[LightGBM] [Warning] bagging_freq is set=7, subsample_freq=0 will be ignored. Current value: bagging_freq=7\n",
      "[LightGBM] [Warning] feature_fraction is set=0.9590585323056352, colsample_bytree=0.3 will be ignored. Current value: feature_fraction=0.9590585323056352\n",
      "[LightGBM] [Warning] min_data_in_leaf is set=1100, min_child_samples=81 will be ignored. Current value: min_data_in_leaf=1100\n",
      "[LightGBM] [Warning] min_gain_to_split is set=0.9796881199453984, min_split_gain=0.0 will be ignored. Current value: min_gain_to_split=0.9796881199453984\n",
      "[LightGBM] [Warning] bagging_fraction is set=0.8433447666397241, subsample=1.0 will be ignored. Current value: bagging_fraction=0.8433447666397241\n",
      "[LightGBM] [Warning] lambda_l1 is set=0.19008777978621538, reg_alpha=0.0 will be ignored. Current value: lambda_l1=0.19008777978621538\n",
      "[LightGBM] [Warning] lambda_l2 is set=1.403010394756675, reg_lambda=0.0 will be ignored. Current value: lambda_l2=1.403010394756675\n",
      "[LightGBM] [Warning] bagging_freq is set=7, subsample_freq=0 will be ignored. Current value: bagging_freq=7\n"
     ]
    },
    {
     "name": "stderr",
     "output_type": "stream",
     "text": [
      "\u001b[32m[I 2022-11-22 00:22:40,194]\u001b[0m Trial 153 finished with value: 0.5514292060396527 and parameters: {'n_estimators': 450, 'learning_rate': 0.2959792458634525, 'max_depth': 11, 'num_leaves': 11, 'min_data_in_leaf': 1100, 'min_child_samples': 81, 'lambda_l1': 0.19008777978621538, 'lambda_l2': 1.403010394756675, 'min_gain_to_split': 0.9796881199453984, 'feature_fraction': 0.9590585323056352, 'bagging_fraction': 0.8433447666397241, 'bagging_freq': 7, 'colsample_bytree': 0.3}. Best is trial 149 with value: 0.5490233313398681.\u001b[0m\n"
     ]
    },
    {
     "name": "stdout",
     "output_type": "stream",
     "text": [
      "[LightGBM] [Warning] feature_fraction is set=0.9584504794499511, colsample_bytree=0.3 will be ignored. Current value: feature_fraction=0.9584504794499511\n",
      "[LightGBM] [Warning] min_data_in_leaf is set=1000, min_child_samples=81 will be ignored. Current value: min_data_in_leaf=1000\n",
      "[LightGBM] [Warning] min_gain_to_split is set=0.3684093966332713, min_split_gain=0.0 will be ignored. Current value: min_gain_to_split=0.3684093966332713\n",
      "[LightGBM] [Warning] bagging_fraction is set=0.8331236359448544, subsample=1.0 will be ignored. Current value: bagging_fraction=0.8331236359448544\n",
      "[LightGBM] [Warning] lambda_l1 is set=0.17781513617706773, reg_alpha=0.0 will be ignored. Current value: lambda_l1=0.17781513617706773\n",
      "[LightGBM] [Warning] lambda_l2 is set=1.3928143227843028, reg_lambda=0.0 will be ignored. Current value: lambda_l2=1.3928143227843028\n",
      "[LightGBM] [Warning] bagging_freq is set=7, subsample_freq=0 will be ignored. Current value: bagging_freq=7\n"
     ]
    },
    {
     "name": "stderr",
     "output_type": "stream",
     "text": [
      "\u001b[32m[I 2022-11-22 00:22:41,046]\u001b[0m Trial 154 pruned. Trial was pruned at iteration 0.\u001b[0m\n"
     ]
    },
    {
     "name": "stdout",
     "output_type": "stream",
     "text": [
      "[LightGBM] [Warning] feature_fraction is set=0.9726215772222329, colsample_bytree=0.3 will be ignored. Current value: feature_fraction=0.9726215772222329\n",
      "[LightGBM] [Warning] min_data_in_leaf is set=500, min_child_samples=70 will be ignored. Current value: min_data_in_leaf=500\n",
      "[LightGBM] [Warning] min_gain_to_split is set=1.1398833862682003, min_split_gain=0.0 will be ignored. Current value: min_gain_to_split=1.1398833862682003\n",
      "[LightGBM] [Warning] bagging_fraction is set=0.8380927810277897, subsample=1.0 will be ignored. Current value: bagging_fraction=0.8380927810277897\n",
      "[LightGBM] [Warning] lambda_l1 is set=0.43839013816059663, reg_alpha=0.0 will be ignored. Current value: lambda_l1=0.43839013816059663\n",
      "[LightGBM] [Warning] lambda_l2 is set=0.037739991586756734, reg_lambda=0.0 will be ignored. Current value: lambda_l2=0.037739991586756734\n",
      "[LightGBM] [Warning] bagging_freq is set=7, subsample_freq=0 will be ignored. Current value: bagging_freq=7\n",
      "[LightGBM] [Warning] feature_fraction is set=0.9726215772222329, colsample_bytree=0.3 will be ignored. Current value: feature_fraction=0.9726215772222329\n",
      "[LightGBM] [Warning] min_data_in_leaf is set=500, min_child_samples=70 will be ignored. Current value: min_data_in_leaf=500\n",
      "[LightGBM] [Warning] min_gain_to_split is set=1.1398833862682003, min_split_gain=0.0 will be ignored. Current value: min_gain_to_split=1.1398833862682003\n",
      "[LightGBM] [Warning] bagging_fraction is set=0.8380927810277897, subsample=1.0 will be ignored. Current value: bagging_fraction=0.8380927810277897\n",
      "[LightGBM] [Warning] lambda_l1 is set=0.43839013816059663, reg_alpha=0.0 will be ignored. Current value: lambda_l1=0.43839013816059663\n",
      "[LightGBM] [Warning] lambda_l2 is set=0.037739991586756734, reg_lambda=0.0 will be ignored. Current value: lambda_l2=0.037739991586756734\n",
      "[LightGBM] [Warning] bagging_freq is set=7, subsample_freq=0 will be ignored. Current value: bagging_freq=7\n",
      "[LightGBM] [Warning] feature_fraction is set=0.9726215772222329, colsample_bytree=0.3 will be ignored. Current value: feature_fraction=0.9726215772222329\n",
      "[LightGBM] [Warning] min_data_in_leaf is set=500, min_child_samples=70 will be ignored. Current value: min_data_in_leaf=500\n",
      "[LightGBM] [Warning] min_gain_to_split is set=1.1398833862682003, min_split_gain=0.0 will be ignored. Current value: min_gain_to_split=1.1398833862682003\n",
      "[LightGBM] [Warning] bagging_fraction is set=0.8380927810277897, subsample=1.0 will be ignored. Current value: bagging_fraction=0.8380927810277897\n",
      "[LightGBM] [Warning] lambda_l1 is set=0.43839013816059663, reg_alpha=0.0 will be ignored. Current value: lambda_l1=0.43839013816059663\n",
      "[LightGBM] [Warning] lambda_l2 is set=0.037739991586756734, reg_lambda=0.0 will be ignored. Current value: lambda_l2=0.037739991586756734\n",
      "[LightGBM] [Warning] bagging_freq is set=7, subsample_freq=0 will be ignored. Current value: bagging_freq=7\n",
      "[LightGBM] [Warning] feature_fraction is set=0.9726215772222329, colsample_bytree=0.3 will be ignored. Current value: feature_fraction=0.9726215772222329\n",
      "[LightGBM] [Warning] min_data_in_leaf is set=500, min_child_samples=70 will be ignored. Current value: min_data_in_leaf=500\n",
      "[LightGBM] [Warning] min_gain_to_split is set=1.1398833862682003, min_split_gain=0.0 will be ignored. Current value: min_gain_to_split=1.1398833862682003\n",
      "[LightGBM] [Warning] bagging_fraction is set=0.8380927810277897, subsample=1.0 will be ignored. Current value: bagging_fraction=0.8380927810277897\n",
      "[LightGBM] [Warning] lambda_l1 is set=0.43839013816059663, reg_alpha=0.0 will be ignored. Current value: lambda_l1=0.43839013816059663\n",
      "[LightGBM] [Warning] lambda_l2 is set=0.037739991586756734, reg_lambda=0.0 will be ignored. Current value: lambda_l2=0.037739991586756734\n",
      "[LightGBM] [Warning] bagging_freq is set=7, subsample_freq=0 will be ignored. Current value: bagging_freq=7\n"
     ]
    },
    {
     "name": "stderr",
     "output_type": "stream",
     "text": [
      "\u001b[32m[I 2022-11-22 00:23:09,519]\u001b[0m Trial 155 finished with value: 0.5441269036509032 and parameters: {'n_estimators': 500, 'learning_rate': 0.2997290523414134, 'max_depth': 11, 'num_leaves': 11, 'min_data_in_leaf': 500, 'min_child_samples': 70, 'lambda_l1': 0.43839013816059663, 'lambda_l2': 0.037739991586756734, 'min_gain_to_split': 1.1398833862682003, 'feature_fraction': 0.9726215772222329, 'bagging_fraction': 0.8380927810277897, 'bagging_freq': 7, 'colsample_bytree': 0.3}. Best is trial 155 with value: 0.5441269036509032.\u001b[0m\n"
     ]
    },
    {
     "name": "stdout",
     "output_type": "stream",
     "text": [
      "[LightGBM] [Warning] feature_fraction is set=0.9777210495382238, colsample_bytree=0.3 will be ignored. Current value: feature_fraction=0.9777210495382238\n",
      "[LightGBM] [Warning] min_data_in_leaf is set=1200, min_child_samples=70 will be ignored. Current value: min_data_in_leaf=1200\n",
      "[LightGBM] [Warning] min_gain_to_split is set=1.2026565098783721, min_split_gain=0.0 will be ignored. Current value: min_gain_to_split=1.2026565098783721\n",
      "[LightGBM] [Warning] bagging_fraction is set=0.8434675516413175, subsample=1.0 will be ignored. Current value: bagging_fraction=0.8434675516413175\n",
      "[LightGBM] [Warning] lambda_l1 is set=0.8988156335301756, reg_alpha=0.0 will be ignored. Current value: lambda_l1=0.8988156335301756\n",
      "[LightGBM] [Warning] lambda_l2 is set=0.04186413882739994, reg_lambda=0.0 will be ignored. Current value: lambda_l2=0.04186413882739994\n",
      "[LightGBM] [Warning] bagging_freq is set=7, subsample_freq=0 will be ignored. Current value: bagging_freq=7\n"
     ]
    },
    {
     "name": "stderr",
     "output_type": "stream",
     "text": [
      "\u001b[32m[I 2022-11-22 00:23:10,866]\u001b[0m Trial 156 pruned. Trial was pruned at iteration 0.\u001b[0m\n",
      "\u001b[32m[I 2022-11-22 00:23:12,478]\u001b[0m Trial 157 pruned. Trial was pruned at iteration 53.\u001b[0m\n",
      "\u001b[32m[I 2022-11-22 00:23:13,352]\u001b[0m Trial 158 pruned. Trial was pruned at iteration 0.\u001b[0m\n",
      "\u001b[32m[I 2022-11-22 00:23:14,194]\u001b[0m Trial 159 pruned. Trial was pruned at iteration 0.\u001b[0m\n",
      "\u001b[32m[I 2022-11-22 00:23:15,135]\u001b[0m Trial 160 pruned. Trial was pruned at iteration 0.\u001b[0m\n"
     ]
    },
    {
     "name": "stdout",
     "output_type": "stream",
     "text": [
      "[LightGBM] [Warning] feature_fraction is set=0.9658860715788002, colsample_bytree=0.3 will be ignored. Current value: feature_fraction=0.9658860715788002\n",
      "[LightGBM] [Warning] min_data_in_leaf is set=200, min_child_samples=65 will be ignored. Current value: min_data_in_leaf=200\n",
      "[LightGBM] [Warning] min_gain_to_split is set=0.08923307831047483, min_split_gain=0.0 will be ignored. Current value: min_gain_to_split=0.08923307831047483\n",
      "[LightGBM] [Warning] bagging_fraction is set=0.8049613776082775, subsample=1.0 will be ignored. Current value: bagging_fraction=0.8049613776082775\n",
      "[LightGBM] [Warning] lambda_l1 is set=0.4186722633659382, reg_alpha=0.0 will be ignored. Current value: lambda_l1=0.4186722633659382\n",
      "[LightGBM] [Warning] lambda_l2 is set=0.016020081505247554, reg_lambda=0.0 will be ignored. Current value: lambda_l2=0.016020081505247554\n",
      "[LightGBM] [Warning] bagging_freq is set=7, subsample_freq=0 will be ignored. Current value: bagging_freq=7\n",
      "[LightGBM] [Warning] feature_fraction is set=0.9658860715788002, colsample_bytree=0.3 will be ignored. Current value: feature_fraction=0.9658860715788002\n",
      "[LightGBM] [Warning] min_data_in_leaf is set=200, min_child_samples=65 will be ignored. Current value: min_data_in_leaf=200\n",
      "[LightGBM] [Warning] min_gain_to_split is set=0.08923307831047483, min_split_gain=0.0 will be ignored. Current value: min_gain_to_split=0.08923307831047483\n",
      "[LightGBM] [Warning] bagging_fraction is set=0.8049613776082775, subsample=1.0 will be ignored. Current value: bagging_fraction=0.8049613776082775\n",
      "[LightGBM] [Warning] lambda_l1 is set=0.4186722633659382, reg_alpha=0.0 will be ignored. Current value: lambda_l1=0.4186722633659382\n",
      "[LightGBM] [Warning] lambda_l2 is set=0.016020081505247554, reg_lambda=0.0 will be ignored. Current value: lambda_l2=0.016020081505247554\n",
      "[LightGBM] [Warning] bagging_freq is set=7, subsample_freq=0 will be ignored. Current value: bagging_freq=7\n",
      "[LightGBM] [Warning] feature_fraction is set=0.9658860715788002, colsample_bytree=0.3 will be ignored. Current value: feature_fraction=0.9658860715788002\n",
      "[LightGBM] [Warning] min_data_in_leaf is set=200, min_child_samples=65 will be ignored. Current value: min_data_in_leaf=200\n",
      "[LightGBM] [Warning] min_gain_to_split is set=0.08923307831047483, min_split_gain=0.0 will be ignored. Current value: min_gain_to_split=0.08923307831047483\n",
      "[LightGBM] [Warning] bagging_fraction is set=0.8049613776082775, subsample=1.0 will be ignored. Current value: bagging_fraction=0.8049613776082775\n",
      "[LightGBM] [Warning] lambda_l1 is set=0.4186722633659382, reg_alpha=0.0 will be ignored. Current value: lambda_l1=0.4186722633659382\n",
      "[LightGBM] [Warning] lambda_l2 is set=0.016020081505247554, reg_lambda=0.0 will be ignored. Current value: lambda_l2=0.016020081505247554\n",
      "[LightGBM] [Warning] bagging_freq is set=7, subsample_freq=0 will be ignored. Current value: bagging_freq=7\n",
      "[LightGBM] [Warning] feature_fraction is set=0.9658860715788002, colsample_bytree=0.3 will be ignored. Current value: feature_fraction=0.9658860715788002\n",
      "[LightGBM] [Warning] min_data_in_leaf is set=200, min_child_samples=65 will be ignored. Current value: min_data_in_leaf=200\n",
      "[LightGBM] [Warning] min_gain_to_split is set=0.08923307831047483, min_split_gain=0.0 will be ignored. Current value: min_gain_to_split=0.08923307831047483\n",
      "[LightGBM] [Warning] bagging_fraction is set=0.8049613776082775, subsample=1.0 will be ignored. Current value: bagging_fraction=0.8049613776082775\n",
      "[LightGBM] [Warning] lambda_l1 is set=0.4186722633659382, reg_alpha=0.0 will be ignored. Current value: lambda_l1=0.4186722633659382\n",
      "[LightGBM] [Warning] lambda_l2 is set=0.016020081505247554, reg_lambda=0.0 will be ignored. Current value: lambda_l2=0.016020081505247554\n",
      "[LightGBM] [Warning] bagging_freq is set=7, subsample_freq=0 will be ignored. Current value: bagging_freq=7\n"
     ]
    },
    {
     "name": "stderr",
     "output_type": "stream",
     "text": [
      "\u001b[32m[I 2022-11-22 00:23:39,615]\u001b[0m Trial 161 finished with value: 0.5532454538911509 and parameters: {'n_estimators': 450, 'learning_rate': 0.2979544990163873, 'max_depth': 11, 'num_leaves': 9, 'min_data_in_leaf': 200, 'min_child_samples': 65, 'lambda_l1': 0.4186722633659382, 'lambda_l2': 0.016020081505247554, 'min_gain_to_split': 0.08923307831047483, 'feature_fraction': 0.9658860715788002, 'bagging_fraction': 0.8049613776082775, 'bagging_freq': 7, 'colsample_bytree': 0.3}. Best is trial 155 with value: 0.5441269036509032.\u001b[0m\n"
     ]
    },
    {
     "name": "stdout",
     "output_type": "stream",
     "text": [
      "[LightGBM] [Warning] feature_fraction is set=0.9664008039778414, colsample_bytree=0.3 will be ignored. Current value: feature_fraction=0.9664008039778414\n",
      "[LightGBM] [Warning] min_data_in_leaf is set=200, min_child_samples=66 will be ignored. Current value: min_data_in_leaf=200\n",
      "[LightGBM] [Warning] min_gain_to_split is set=0.29349204139324525, min_split_gain=0.0 will be ignored. Current value: min_gain_to_split=0.29349204139324525\n",
      "[LightGBM] [Warning] bagging_fraction is set=0.879212682152858, subsample=1.0 will be ignored. Current value: bagging_fraction=0.879212682152858\n",
      "[LightGBM] [Warning] lambda_l1 is set=0.5913680657648178, reg_alpha=0.0 will be ignored. Current value: lambda_l1=0.5913680657648178\n",
      "[LightGBM] [Warning] lambda_l2 is set=0.01369830794123693, reg_lambda=0.0 will be ignored. Current value: lambda_l2=0.01369830794123693\n",
      "[LightGBM] [Warning] bagging_freq is set=7, subsample_freq=0 will be ignored. Current value: bagging_freq=7\n",
      "[LightGBM] [Warning] feature_fraction is set=0.9664008039778414, colsample_bytree=0.3 will be ignored. Current value: feature_fraction=0.9664008039778414\n",
      "[LightGBM] [Warning] min_data_in_leaf is set=200, min_child_samples=66 will be ignored. Current value: min_data_in_leaf=200\n",
      "[LightGBM] [Warning] min_gain_to_split is set=0.29349204139324525, min_split_gain=0.0 will be ignored. Current value: min_gain_to_split=0.29349204139324525\n",
      "[LightGBM] [Warning] bagging_fraction is set=0.879212682152858, subsample=1.0 will be ignored. Current value: bagging_fraction=0.879212682152858\n",
      "[LightGBM] [Warning] lambda_l1 is set=0.5913680657648178, reg_alpha=0.0 will be ignored. Current value: lambda_l1=0.5913680657648178\n",
      "[LightGBM] [Warning] lambda_l2 is set=0.01369830794123693, reg_lambda=0.0 will be ignored. Current value: lambda_l2=0.01369830794123693\n",
      "[LightGBM] [Warning] bagging_freq is set=7, subsample_freq=0 will be ignored. Current value: bagging_freq=7\n",
      "[LightGBM] [Warning] feature_fraction is set=0.9664008039778414, colsample_bytree=0.3 will be ignored. Current value: feature_fraction=0.9664008039778414\n",
      "[LightGBM] [Warning] min_data_in_leaf is set=200, min_child_samples=66 will be ignored. Current value: min_data_in_leaf=200\n",
      "[LightGBM] [Warning] min_gain_to_split is set=0.29349204139324525, min_split_gain=0.0 will be ignored. Current value: min_gain_to_split=0.29349204139324525\n",
      "[LightGBM] [Warning] bagging_fraction is set=0.879212682152858, subsample=1.0 will be ignored. Current value: bagging_fraction=0.879212682152858\n",
      "[LightGBM] [Warning] lambda_l1 is set=0.5913680657648178, reg_alpha=0.0 will be ignored. Current value: lambda_l1=0.5913680657648178\n",
      "[LightGBM] [Warning] lambda_l2 is set=0.01369830794123693, reg_lambda=0.0 will be ignored. Current value: lambda_l2=0.01369830794123693\n",
      "[LightGBM] [Warning] bagging_freq is set=7, subsample_freq=0 will be ignored. Current value: bagging_freq=7\n",
      "[LightGBM] [Warning] feature_fraction is set=0.9664008039778414, colsample_bytree=0.3 will be ignored. Current value: feature_fraction=0.9664008039778414\n",
      "[LightGBM] [Warning] min_data_in_leaf is set=200, min_child_samples=66 will be ignored. Current value: min_data_in_leaf=200\n",
      "[LightGBM] [Warning] min_gain_to_split is set=0.29349204139324525, min_split_gain=0.0 will be ignored. Current value: min_gain_to_split=0.29349204139324525\n",
      "[LightGBM] [Warning] bagging_fraction is set=0.879212682152858, subsample=1.0 will be ignored. Current value: bagging_fraction=0.879212682152858\n",
      "[LightGBM] [Warning] lambda_l1 is set=0.5913680657648178, reg_alpha=0.0 will be ignored. Current value: lambda_l1=0.5913680657648178\n",
      "[LightGBM] [Warning] lambda_l2 is set=0.01369830794123693, reg_lambda=0.0 will be ignored. Current value: lambda_l2=0.01369830794123693\n",
      "[LightGBM] [Warning] bagging_freq is set=7, subsample_freq=0 will be ignored. Current value: bagging_freq=7\n",
      "[LightGBM] [Warning] feature_fraction is set=0.9664008039778414, colsample_bytree=0.3 will be ignored. Current value: feature_fraction=0.9664008039778414\n",
      "[LightGBM] [Warning] min_data_in_leaf is set=200, min_child_samples=66 will be ignored. Current value: min_data_in_leaf=200\n",
      "[LightGBM] [Warning] min_gain_to_split is set=0.29349204139324525, min_split_gain=0.0 will be ignored. Current value: min_gain_to_split=0.29349204139324525\n",
      "[LightGBM] [Warning] bagging_fraction is set=0.879212682152858, subsample=1.0 will be ignored. Current value: bagging_fraction=0.879212682152858\n",
      "[LightGBM] [Warning] lambda_l1 is set=0.5913680657648178, reg_alpha=0.0 will be ignored. Current value: lambda_l1=0.5913680657648178\n",
      "[LightGBM] [Warning] lambda_l2 is set=0.01369830794123693, reg_lambda=0.0 will be ignored. Current value: lambda_l2=0.01369830794123693\n",
      "[LightGBM] [Warning] bagging_freq is set=7, subsample_freq=0 will be ignored. Current value: bagging_freq=7\n"
     ]
    },
    {
     "name": "stderr",
     "output_type": "stream",
     "text": [
      "\u001b[32m[I 2022-11-22 00:24:05,142]\u001b[0m Trial 162 finished with value: 0.552449815123968 and parameters: {'n_estimators': 450, 'learning_rate': 0.29234427091369675, 'max_depth': 11, 'num_leaves': 9, 'min_data_in_leaf': 200, 'min_child_samples': 66, 'lambda_l1': 0.5913680657648178, 'lambda_l2': 0.01369830794123693, 'min_gain_to_split': 0.29349204139324525, 'feature_fraction': 0.9664008039778414, 'bagging_fraction': 0.879212682152858, 'bagging_freq': 7, 'colsample_bytree': 0.3}. Best is trial 155 with value: 0.5441269036509032.\u001b[0m\n"
     ]
    },
    {
     "name": "stdout",
     "output_type": "stream",
     "text": [
      "[LightGBM] [Warning] feature_fraction is set=0.9665926926384726, colsample_bytree=0.3 will be ignored. Current value: feature_fraction=0.9665926926384726\n",
      "[LightGBM] [Warning] min_data_in_leaf is set=300, min_child_samples=67 will be ignored. Current value: min_data_in_leaf=300\n",
      "[LightGBM] [Warning] min_gain_to_split is set=0.1435062665523719, min_split_gain=0.0 will be ignored. Current value: min_gain_to_split=0.1435062665523719\n",
      "[LightGBM] [Warning] bagging_fraction is set=0.8772774679767877, subsample=1.0 will be ignored. Current value: bagging_fraction=0.8772774679767877\n",
      "[LightGBM] [Warning] lambda_l1 is set=0.46029524991896836, reg_alpha=0.0 will be ignored. Current value: lambda_l1=0.46029524991896836\n",
      "[LightGBM] [Warning] lambda_l2 is set=0.013486748829818776, reg_lambda=0.0 will be ignored. Current value: lambda_l2=0.013486748829818776\n",
      "[LightGBM] [Warning] bagging_freq is set=7, subsample_freq=0 will be ignored. Current value: bagging_freq=7\n",
      "[LightGBM] [Warning] feature_fraction is set=0.9665926926384726, colsample_bytree=0.3 will be ignored. Current value: feature_fraction=0.9665926926384726\n",
      "[LightGBM] [Warning] min_data_in_leaf is set=300, min_child_samples=67 will be ignored. Current value: min_data_in_leaf=300\n",
      "[LightGBM] [Warning] min_gain_to_split is set=0.1435062665523719, min_split_gain=0.0 will be ignored. Current value: min_gain_to_split=0.1435062665523719\n",
      "[LightGBM] [Warning] bagging_fraction is set=0.8772774679767877, subsample=1.0 will be ignored. Current value: bagging_fraction=0.8772774679767877\n",
      "[LightGBM] [Warning] lambda_l1 is set=0.46029524991896836, reg_alpha=0.0 will be ignored. Current value: lambda_l1=0.46029524991896836\n",
      "[LightGBM] [Warning] lambda_l2 is set=0.013486748829818776, reg_lambda=0.0 will be ignored. Current value: lambda_l2=0.013486748829818776\n",
      "[LightGBM] [Warning] bagging_freq is set=7, subsample_freq=0 will be ignored. Current value: bagging_freq=7\n",
      "[LightGBM] [Warning] feature_fraction is set=0.9665926926384726, colsample_bytree=0.3 will be ignored. Current value: feature_fraction=0.9665926926384726\n",
      "[LightGBM] [Warning] min_data_in_leaf is set=300, min_child_samples=67 will be ignored. Current value: min_data_in_leaf=300\n",
      "[LightGBM] [Warning] min_gain_to_split is set=0.1435062665523719, min_split_gain=0.0 will be ignored. Current value: min_gain_to_split=0.1435062665523719\n",
      "[LightGBM] [Warning] bagging_fraction is set=0.8772774679767877, subsample=1.0 will be ignored. Current value: bagging_fraction=0.8772774679767877\n",
      "[LightGBM] [Warning] lambda_l1 is set=0.46029524991896836, reg_alpha=0.0 will be ignored. Current value: lambda_l1=0.46029524991896836\n",
      "[LightGBM] [Warning] lambda_l2 is set=0.013486748829818776, reg_lambda=0.0 will be ignored. Current value: lambda_l2=0.013486748829818776\n",
      "[LightGBM] [Warning] bagging_freq is set=7, subsample_freq=0 will be ignored. Current value: bagging_freq=7\n",
      "[LightGBM] [Warning] feature_fraction is set=0.9665926926384726, colsample_bytree=0.3 will be ignored. Current value: feature_fraction=0.9665926926384726\n",
      "[LightGBM] [Warning] min_data_in_leaf is set=300, min_child_samples=67 will be ignored. Current value: min_data_in_leaf=300\n",
      "[LightGBM] [Warning] min_gain_to_split is set=0.1435062665523719, min_split_gain=0.0 will be ignored. Current value: min_gain_to_split=0.1435062665523719\n",
      "[LightGBM] [Warning] bagging_fraction is set=0.8772774679767877, subsample=1.0 will be ignored. Current value: bagging_fraction=0.8772774679767877\n",
      "[LightGBM] [Warning] lambda_l1 is set=0.46029524991896836, reg_alpha=0.0 will be ignored. Current value: lambda_l1=0.46029524991896836\n",
      "[LightGBM] [Warning] lambda_l2 is set=0.013486748829818776, reg_lambda=0.0 will be ignored. Current value: lambda_l2=0.013486748829818776\n",
      "[LightGBM] [Warning] bagging_freq is set=7, subsample_freq=0 will be ignored. Current value: bagging_freq=7\n",
      "[LightGBM] [Warning] feature_fraction is set=0.9665926926384726, colsample_bytree=0.3 will be ignored. Current value: feature_fraction=0.9665926926384726\n",
      "[LightGBM] [Warning] min_data_in_leaf is set=300, min_child_samples=67 will be ignored. Current value: min_data_in_leaf=300\n",
      "[LightGBM] [Warning] min_gain_to_split is set=0.1435062665523719, min_split_gain=0.0 will be ignored. Current value: min_gain_to_split=0.1435062665523719\n",
      "[LightGBM] [Warning] bagging_fraction is set=0.8772774679767877, subsample=1.0 will be ignored. Current value: bagging_fraction=0.8772774679767877\n",
      "[LightGBM] [Warning] lambda_l1 is set=0.46029524991896836, reg_alpha=0.0 will be ignored. Current value: lambda_l1=0.46029524991896836\n",
      "[LightGBM] [Warning] lambda_l2 is set=0.013486748829818776, reg_lambda=0.0 will be ignored. Current value: lambda_l2=0.013486748829818776\n",
      "[LightGBM] [Warning] bagging_freq is set=7, subsample_freq=0 will be ignored. Current value: bagging_freq=7\n"
     ]
    },
    {
     "name": "stderr",
     "output_type": "stream",
     "text": [
      "\u001b[32m[I 2022-11-22 00:24:31,633]\u001b[0m Trial 163 finished with value: 0.5445614010773181 and parameters: {'n_estimators': 450, 'learning_rate': 0.2882173099794449, 'max_depth': 11, 'num_leaves': 11, 'min_data_in_leaf': 300, 'min_child_samples': 67, 'lambda_l1': 0.46029524991896836, 'lambda_l2': 0.013486748829818776, 'min_gain_to_split': 0.1435062665523719, 'feature_fraction': 0.9665926926384726, 'bagging_fraction': 0.8772774679767877, 'bagging_freq': 7, 'colsample_bytree': 0.3}. Best is trial 155 with value: 0.5441269036509032.\u001b[0m\n"
     ]
    },
    {
     "name": "stdout",
     "output_type": "stream",
     "text": [
      "[LightGBM] [Warning] feature_fraction is set=0.9676672758222321, colsample_bytree=0.3 will be ignored. Current value: feature_fraction=0.9676672758222321\n",
      "[LightGBM] [Warning] min_data_in_leaf is set=200, min_child_samples=66 will be ignored. Current value: min_data_in_leaf=200\n",
      "[LightGBM] [Warning] min_gain_to_split is set=0.011056370988755213, min_split_gain=0.0 will be ignored. Current value: min_gain_to_split=0.011056370988755213\n",
      "[LightGBM] [Warning] bagging_fraction is set=0.8751696789927199, subsample=1.0 will be ignored. Current value: bagging_fraction=0.8751696789927199\n",
      "[LightGBM] [Warning] lambda_l1 is set=0.42068802596446875, reg_alpha=0.0 will be ignored. Current value: lambda_l1=0.42068802596446875\n",
      "[LightGBM] [Warning] lambda_l2 is set=0.014458067047433293, reg_lambda=0.0 will be ignored. Current value: lambda_l2=0.014458067047433293\n",
      "[LightGBM] [Warning] bagging_freq is set=7, subsample_freq=0 will be ignored. Current value: bagging_freq=7\n",
      "[LightGBM] [Warning] feature_fraction is set=0.9676672758222321, colsample_bytree=0.3 will be ignored. Current value: feature_fraction=0.9676672758222321\n",
      "[LightGBM] [Warning] min_data_in_leaf is set=200, min_child_samples=66 will be ignored. Current value: min_data_in_leaf=200\n",
      "[LightGBM] [Warning] min_gain_to_split is set=0.011056370988755213, min_split_gain=0.0 will be ignored. Current value: min_gain_to_split=0.011056370988755213\n",
      "[LightGBM] [Warning] bagging_fraction is set=0.8751696789927199, subsample=1.0 will be ignored. Current value: bagging_fraction=0.8751696789927199\n",
      "[LightGBM] [Warning] lambda_l1 is set=0.42068802596446875, reg_alpha=0.0 will be ignored. Current value: lambda_l1=0.42068802596446875\n",
      "[LightGBM] [Warning] lambda_l2 is set=0.014458067047433293, reg_lambda=0.0 will be ignored. Current value: lambda_l2=0.014458067047433293\n",
      "[LightGBM] [Warning] bagging_freq is set=7, subsample_freq=0 will be ignored. Current value: bagging_freq=7\n",
      "[LightGBM] [Warning] feature_fraction is set=0.9676672758222321, colsample_bytree=0.3 will be ignored. Current value: feature_fraction=0.9676672758222321\n",
      "[LightGBM] [Warning] min_data_in_leaf is set=200, min_child_samples=66 will be ignored. Current value: min_data_in_leaf=200\n",
      "[LightGBM] [Warning] min_gain_to_split is set=0.011056370988755213, min_split_gain=0.0 will be ignored. Current value: min_gain_to_split=0.011056370988755213\n",
      "[LightGBM] [Warning] bagging_fraction is set=0.8751696789927199, subsample=1.0 will be ignored. Current value: bagging_fraction=0.8751696789927199\n",
      "[LightGBM] [Warning] lambda_l1 is set=0.42068802596446875, reg_alpha=0.0 will be ignored. Current value: lambda_l1=0.42068802596446875\n",
      "[LightGBM] [Warning] lambda_l2 is set=0.014458067047433293, reg_lambda=0.0 will be ignored. Current value: lambda_l2=0.014458067047433293\n",
      "[LightGBM] [Warning] bagging_freq is set=7, subsample_freq=0 will be ignored. Current value: bagging_freq=7\n",
      "[LightGBM] [Warning] feature_fraction is set=0.9676672758222321, colsample_bytree=0.3 will be ignored. Current value: feature_fraction=0.9676672758222321\n",
      "[LightGBM] [Warning] min_data_in_leaf is set=200, min_child_samples=66 will be ignored. Current value: min_data_in_leaf=200\n",
      "[LightGBM] [Warning] min_gain_to_split is set=0.011056370988755213, min_split_gain=0.0 will be ignored. Current value: min_gain_to_split=0.011056370988755213\n",
      "[LightGBM] [Warning] bagging_fraction is set=0.8751696789927199, subsample=1.0 will be ignored. Current value: bagging_fraction=0.8751696789927199\n",
      "[LightGBM] [Warning] lambda_l1 is set=0.42068802596446875, reg_alpha=0.0 will be ignored. Current value: lambda_l1=0.42068802596446875\n",
      "[LightGBM] [Warning] lambda_l2 is set=0.014458067047433293, reg_lambda=0.0 will be ignored. Current value: lambda_l2=0.014458067047433293\n",
      "[LightGBM] [Warning] bagging_freq is set=7, subsample_freq=0 will be ignored. Current value: bagging_freq=7\n",
      "[LightGBM] [Warning] feature_fraction is set=0.9676672758222321, colsample_bytree=0.3 will be ignored. Current value: feature_fraction=0.9676672758222321\n",
      "[LightGBM] [Warning] min_data_in_leaf is set=200, min_child_samples=66 will be ignored. Current value: min_data_in_leaf=200\n",
      "[LightGBM] [Warning] min_gain_to_split is set=0.011056370988755213, min_split_gain=0.0 will be ignored. Current value: min_gain_to_split=0.011056370988755213\n",
      "[LightGBM] [Warning] bagging_fraction is set=0.8751696789927199, subsample=1.0 will be ignored. Current value: bagging_fraction=0.8751696789927199\n",
      "[LightGBM] [Warning] lambda_l1 is set=0.42068802596446875, reg_alpha=0.0 will be ignored. Current value: lambda_l1=0.42068802596446875\n",
      "[LightGBM] [Warning] lambda_l2 is set=0.014458067047433293, reg_lambda=0.0 will be ignored. Current value: lambda_l2=0.014458067047433293\n",
      "[LightGBM] [Warning] bagging_freq is set=7, subsample_freq=0 will be ignored. Current value: bagging_freq=7\n"
     ]
    },
    {
     "name": "stderr",
     "output_type": "stream",
     "text": [
      "\u001b[32m[I 2022-11-22 00:24:58,596]\u001b[0m Trial 164 finished with value: 0.5450285150286182 and parameters: {'n_estimators': 450, 'learning_rate': 0.27331633182606313, 'max_depth': 11, 'num_leaves': 11, 'min_data_in_leaf': 200, 'min_child_samples': 66, 'lambda_l1': 0.42068802596446875, 'lambda_l2': 0.014458067047433293, 'min_gain_to_split': 0.011056370988755213, 'feature_fraction': 0.9676672758222321, 'bagging_fraction': 0.8751696789927199, 'bagging_freq': 7, 'colsample_bytree': 0.3}. Best is trial 155 with value: 0.5441269036509032.\u001b[0m\n"
     ]
    },
    {
     "name": "stdout",
     "output_type": "stream",
     "text": [
      "[LightGBM] [Warning] feature_fraction is set=0.9701670396786689, colsample_bytree=0.3 will be ignored. Current value: feature_fraction=0.9701670396786689\n",
      "[LightGBM] [Warning] min_data_in_leaf is set=200, min_child_samples=67 will be ignored. Current value: min_data_in_leaf=200\n",
      "[LightGBM] [Warning] min_gain_to_split is set=0.10001887009110835, min_split_gain=0.0 will be ignored. Current value: min_gain_to_split=0.10001887009110835\n",
      "[LightGBM] [Warning] bagging_fraction is set=0.9086109405710193, subsample=1.0 will be ignored. Current value: bagging_fraction=0.9086109405710193\n",
      "[LightGBM] [Warning] lambda_l1 is set=0.602532096576175, reg_alpha=0.0 will be ignored. Current value: lambda_l1=0.602532096576175\n",
      "[LightGBM] [Warning] lambda_l2 is set=0.004014169906334629, reg_lambda=0.0 will be ignored. Current value: lambda_l2=0.004014169906334629\n",
      "[LightGBM] [Warning] bagging_freq is set=7, subsample_freq=0 will be ignored. Current value: bagging_freq=7\n",
      "[LightGBM] [Warning] feature_fraction is set=0.9701670396786689, colsample_bytree=0.3 will be ignored. Current value: feature_fraction=0.9701670396786689\n",
      "[LightGBM] [Warning] min_data_in_leaf is set=200, min_child_samples=67 will be ignored. Current value: min_data_in_leaf=200\n",
      "[LightGBM] [Warning] min_gain_to_split is set=0.10001887009110835, min_split_gain=0.0 will be ignored. Current value: min_gain_to_split=0.10001887009110835\n",
      "[LightGBM] [Warning] bagging_fraction is set=0.9086109405710193, subsample=1.0 will be ignored. Current value: bagging_fraction=0.9086109405710193\n",
      "[LightGBM] [Warning] lambda_l1 is set=0.602532096576175, reg_alpha=0.0 will be ignored. Current value: lambda_l1=0.602532096576175\n",
      "[LightGBM] [Warning] lambda_l2 is set=0.004014169906334629, reg_lambda=0.0 will be ignored. Current value: lambda_l2=0.004014169906334629\n",
      "[LightGBM] [Warning] bagging_freq is set=7, subsample_freq=0 will be ignored. Current value: bagging_freq=7\n",
      "[LightGBM] [Warning] feature_fraction is set=0.9701670396786689, colsample_bytree=0.3 will be ignored. Current value: feature_fraction=0.9701670396786689\n",
      "[LightGBM] [Warning] min_data_in_leaf is set=200, min_child_samples=67 will be ignored. Current value: min_data_in_leaf=200\n",
      "[LightGBM] [Warning] min_gain_to_split is set=0.10001887009110835, min_split_gain=0.0 will be ignored. Current value: min_gain_to_split=0.10001887009110835\n",
      "[LightGBM] [Warning] bagging_fraction is set=0.9086109405710193, subsample=1.0 will be ignored. Current value: bagging_fraction=0.9086109405710193\n",
      "[LightGBM] [Warning] lambda_l1 is set=0.602532096576175, reg_alpha=0.0 will be ignored. Current value: lambda_l1=0.602532096576175\n",
      "[LightGBM] [Warning] lambda_l2 is set=0.004014169906334629, reg_lambda=0.0 will be ignored. Current value: lambda_l2=0.004014169906334629\n",
      "[LightGBM] [Warning] bagging_freq is set=7, subsample_freq=0 will be ignored. Current value: bagging_freq=7\n",
      "[LightGBM] [Warning] feature_fraction is set=0.9701670396786689, colsample_bytree=0.3 will be ignored. Current value: feature_fraction=0.9701670396786689\n",
      "[LightGBM] [Warning] min_data_in_leaf is set=200, min_child_samples=67 will be ignored. Current value: min_data_in_leaf=200\n",
      "[LightGBM] [Warning] min_gain_to_split is set=0.10001887009110835, min_split_gain=0.0 will be ignored. Current value: min_gain_to_split=0.10001887009110835\n",
      "[LightGBM] [Warning] bagging_fraction is set=0.9086109405710193, subsample=1.0 will be ignored. Current value: bagging_fraction=0.9086109405710193\n",
      "[LightGBM] [Warning] lambda_l1 is set=0.602532096576175, reg_alpha=0.0 will be ignored. Current value: lambda_l1=0.602532096576175\n",
      "[LightGBM] [Warning] lambda_l2 is set=0.004014169906334629, reg_lambda=0.0 will be ignored. Current value: lambda_l2=0.004014169906334629\n",
      "[LightGBM] [Warning] bagging_freq is set=7, subsample_freq=0 will be ignored. Current value: bagging_freq=7\n",
      "[LightGBM] [Warning] feature_fraction is set=0.9701670396786689, colsample_bytree=0.3 will be ignored. Current value: feature_fraction=0.9701670396786689\n",
      "[LightGBM] [Warning] min_data_in_leaf is set=200, min_child_samples=67 will be ignored. Current value: min_data_in_leaf=200\n",
      "[LightGBM] [Warning] min_gain_to_split is set=0.10001887009110835, min_split_gain=0.0 will be ignored. Current value: min_gain_to_split=0.10001887009110835\n",
      "[LightGBM] [Warning] bagging_fraction is set=0.9086109405710193, subsample=1.0 will be ignored. Current value: bagging_fraction=0.9086109405710193\n",
      "[LightGBM] [Warning] lambda_l1 is set=0.602532096576175, reg_alpha=0.0 will be ignored. Current value: lambda_l1=0.602532096576175\n",
      "[LightGBM] [Warning] lambda_l2 is set=0.004014169906334629, reg_lambda=0.0 will be ignored. Current value: lambda_l2=0.004014169906334629\n",
      "[LightGBM] [Warning] bagging_freq is set=7, subsample_freq=0 will be ignored. Current value: bagging_freq=7\n"
     ]
    },
    {
     "name": "stderr",
     "output_type": "stream",
     "text": [
      "\u001b[32m[I 2022-11-22 00:25:25,399]\u001b[0m Trial 165 finished with value: 0.5452812961064304 and parameters: {'n_estimators': 450, 'learning_rate': 0.27201167876678367, 'max_depth': 11, 'num_leaves': 11, 'min_data_in_leaf': 200, 'min_child_samples': 67, 'lambda_l1': 0.602532096576175, 'lambda_l2': 0.004014169906334629, 'min_gain_to_split': 0.10001887009110835, 'feature_fraction': 0.9701670396786689, 'bagging_fraction': 0.9086109405710193, 'bagging_freq': 7, 'colsample_bytree': 0.3}. Best is trial 155 with value: 0.5441269036509032.\u001b[0m\n"
     ]
    },
    {
     "name": "stdout",
     "output_type": "stream",
     "text": [
      "[LightGBM] [Warning] feature_fraction is set=0.9671912596928844, colsample_bytree=0.3 will be ignored. Current value: feature_fraction=0.9671912596928844\n",
      "[LightGBM] [Warning] min_data_in_leaf is set=200, min_child_samples=67 will be ignored. Current value: min_data_in_leaf=200\n",
      "[LightGBM] [Warning] min_gain_to_split is set=0.10373910919714756, min_split_gain=0.0 will be ignored. Current value: min_gain_to_split=0.10373910919714756\n",
      "[LightGBM] [Warning] bagging_fraction is set=0.8794666796555343, subsample=1.0 will be ignored. Current value: bagging_fraction=0.8794666796555343\n",
      "[LightGBM] [Warning] lambda_l1 is set=3.214572233202928, reg_alpha=0.0 will be ignored. Current value: lambda_l1=3.214572233202928\n",
      "[LightGBM] [Warning] lambda_l2 is set=0.004133936624786282, reg_lambda=0.0 will be ignored. Current value: lambda_l2=0.004133936624786282\n",
      "[LightGBM] [Warning] bagging_freq is set=7, subsample_freq=0 will be ignored. Current value: bagging_freq=7\n",
      "[LightGBM] [Warning] feature_fraction is set=0.9671912596928844, colsample_bytree=0.3 will be ignored. Current value: feature_fraction=0.9671912596928844\n",
      "[LightGBM] [Warning] min_data_in_leaf is set=200, min_child_samples=67 will be ignored. Current value: min_data_in_leaf=200\n",
      "[LightGBM] [Warning] min_gain_to_split is set=0.10373910919714756, min_split_gain=0.0 will be ignored. Current value: min_gain_to_split=0.10373910919714756\n",
      "[LightGBM] [Warning] bagging_fraction is set=0.8794666796555343, subsample=1.0 will be ignored. Current value: bagging_fraction=0.8794666796555343\n",
      "[LightGBM] [Warning] lambda_l1 is set=3.214572233202928, reg_alpha=0.0 will be ignored. Current value: lambda_l1=3.214572233202928\n",
      "[LightGBM] [Warning] lambda_l2 is set=0.004133936624786282, reg_lambda=0.0 will be ignored. Current value: lambda_l2=0.004133936624786282\n",
      "[LightGBM] [Warning] bagging_freq is set=7, subsample_freq=0 will be ignored. Current value: bagging_freq=7\n",
      "[LightGBM] [Warning] feature_fraction is set=0.9671912596928844, colsample_bytree=0.3 will be ignored. Current value: feature_fraction=0.9671912596928844\n",
      "[LightGBM] [Warning] min_data_in_leaf is set=200, min_child_samples=67 will be ignored. Current value: min_data_in_leaf=200\n",
      "[LightGBM] [Warning] min_gain_to_split is set=0.10373910919714756, min_split_gain=0.0 will be ignored. Current value: min_gain_to_split=0.10373910919714756\n",
      "[LightGBM] [Warning] bagging_fraction is set=0.8794666796555343, subsample=1.0 will be ignored. Current value: bagging_fraction=0.8794666796555343\n",
      "[LightGBM] [Warning] lambda_l1 is set=3.214572233202928, reg_alpha=0.0 will be ignored. Current value: lambda_l1=3.214572233202928\n",
      "[LightGBM] [Warning] lambda_l2 is set=0.004133936624786282, reg_lambda=0.0 will be ignored. Current value: lambda_l2=0.004133936624786282\n",
      "[LightGBM] [Warning] bagging_freq is set=7, subsample_freq=0 will be ignored. Current value: bagging_freq=7\n",
      "[LightGBM] [Warning] feature_fraction is set=0.9671912596928844, colsample_bytree=0.3 will be ignored. Current value: feature_fraction=0.9671912596928844\n",
      "[LightGBM] [Warning] min_data_in_leaf is set=200, min_child_samples=67 will be ignored. Current value: min_data_in_leaf=200\n",
      "[LightGBM] [Warning] min_gain_to_split is set=0.10373910919714756, min_split_gain=0.0 will be ignored. Current value: min_gain_to_split=0.10373910919714756\n",
      "[LightGBM] [Warning] bagging_fraction is set=0.8794666796555343, subsample=1.0 will be ignored. Current value: bagging_fraction=0.8794666796555343\n",
      "[LightGBM] [Warning] lambda_l1 is set=3.214572233202928, reg_alpha=0.0 will be ignored. Current value: lambda_l1=3.214572233202928\n",
      "[LightGBM] [Warning] lambda_l2 is set=0.004133936624786282, reg_lambda=0.0 will be ignored. Current value: lambda_l2=0.004133936624786282\n",
      "[LightGBM] [Warning] bagging_freq is set=7, subsample_freq=0 will be ignored. Current value: bagging_freq=7\n",
      "[LightGBM] [Warning] feature_fraction is set=0.9671912596928844, colsample_bytree=0.3 will be ignored. Current value: feature_fraction=0.9671912596928844\n",
      "[LightGBM] [Warning] min_data_in_leaf is set=200, min_child_samples=67 will be ignored. Current value: min_data_in_leaf=200\n",
      "[LightGBM] [Warning] min_gain_to_split is set=0.10373910919714756, min_split_gain=0.0 will be ignored. Current value: min_gain_to_split=0.10373910919714756\n",
      "[LightGBM] [Warning] bagging_fraction is set=0.8794666796555343, subsample=1.0 will be ignored. Current value: bagging_fraction=0.8794666796555343\n",
      "[LightGBM] [Warning] lambda_l1 is set=3.214572233202928, reg_alpha=0.0 will be ignored. Current value: lambda_l1=3.214572233202928\n",
      "[LightGBM] [Warning] lambda_l2 is set=0.004133936624786282, reg_lambda=0.0 will be ignored. Current value: lambda_l2=0.004133936624786282\n",
      "[LightGBM] [Warning] bagging_freq is set=7, subsample_freq=0 will be ignored. Current value: bagging_freq=7\n"
     ]
    },
    {
     "name": "stderr",
     "output_type": "stream",
     "text": [
      "\u001b[32m[I 2022-11-22 00:25:54,567]\u001b[0m Trial 166 finished with value: 0.5392493462625481 and parameters: {'n_estimators': 500, 'learning_rate': 0.29913930009975076, 'max_depth': 11, 'num_leaves': 11, 'min_data_in_leaf': 200, 'min_child_samples': 67, 'lambda_l1': 3.214572233202928, 'lambda_l2': 0.004133936624786282, 'min_gain_to_split': 0.10373910919714756, 'feature_fraction': 0.9671912596928844, 'bagging_fraction': 0.8794666796555343, 'bagging_freq': 7, 'colsample_bytree': 0.3}. Best is trial 166 with value: 0.5392493462625481.\u001b[0m\n"
     ]
    },
    {
     "name": "stdout",
     "output_type": "stream",
     "text": [
      "[LightGBM] [Warning] feature_fraction is set=0.9696328420644631, colsample_bytree=0.3 will be ignored. Current value: feature_fraction=0.9696328420644631\n",
      "[LightGBM] [Warning] min_data_in_leaf is set=200, min_child_samples=65 will be ignored. Current value: min_data_in_leaf=200\n",
      "[LightGBM] [Warning] min_gain_to_split is set=0.23783806632526577, min_split_gain=0.0 will be ignored. Current value: min_gain_to_split=0.23783806632526577\n",
      "[LightGBM] [Warning] bagging_fraction is set=0.8791117766533089, subsample=1.0 will be ignored. Current value: bagging_fraction=0.8791117766533089\n",
      "[LightGBM] [Warning] lambda_l1 is set=2.9598207175428213, reg_alpha=0.0 will be ignored. Current value: lambda_l1=2.9598207175428213\n",
      "[LightGBM] [Warning] lambda_l2 is set=0.012292191005962067, reg_lambda=0.0 will be ignored. Current value: lambda_l2=0.012292191005962067\n",
      "[LightGBM] [Warning] bagging_freq is set=7, subsample_freq=0 will be ignored. Current value: bagging_freq=7\n",
      "[LightGBM] [Warning] feature_fraction is set=0.9696328420644631, colsample_bytree=0.3 will be ignored. Current value: feature_fraction=0.9696328420644631\n",
      "[LightGBM] [Warning] min_data_in_leaf is set=200, min_child_samples=65 will be ignored. Current value: min_data_in_leaf=200\n",
      "[LightGBM] [Warning] min_gain_to_split is set=0.23783806632526577, min_split_gain=0.0 will be ignored. Current value: min_gain_to_split=0.23783806632526577\n",
      "[LightGBM] [Warning] bagging_fraction is set=0.8791117766533089, subsample=1.0 will be ignored. Current value: bagging_fraction=0.8791117766533089\n",
      "[LightGBM] [Warning] lambda_l1 is set=2.9598207175428213, reg_alpha=0.0 will be ignored. Current value: lambda_l1=2.9598207175428213\n",
      "[LightGBM] [Warning] lambda_l2 is set=0.012292191005962067, reg_lambda=0.0 will be ignored. Current value: lambda_l2=0.012292191005962067\n",
      "[LightGBM] [Warning] bagging_freq is set=7, subsample_freq=0 will be ignored. Current value: bagging_freq=7\n",
      "[LightGBM] [Warning] feature_fraction is set=0.9696328420644631, colsample_bytree=0.3 will be ignored. Current value: feature_fraction=0.9696328420644631\n",
      "[LightGBM] [Warning] min_data_in_leaf is set=200, min_child_samples=65 will be ignored. Current value: min_data_in_leaf=200\n",
      "[LightGBM] [Warning] min_gain_to_split is set=0.23783806632526577, min_split_gain=0.0 will be ignored. Current value: min_gain_to_split=0.23783806632526577\n",
      "[LightGBM] [Warning] bagging_fraction is set=0.8791117766533089, subsample=1.0 will be ignored. Current value: bagging_fraction=0.8791117766533089\n",
      "[LightGBM] [Warning] lambda_l1 is set=2.9598207175428213, reg_alpha=0.0 will be ignored. Current value: lambda_l1=2.9598207175428213\n",
      "[LightGBM] [Warning] lambda_l2 is set=0.012292191005962067, reg_lambda=0.0 will be ignored. Current value: lambda_l2=0.012292191005962067\n",
      "[LightGBM] [Warning] bagging_freq is set=7, subsample_freq=0 will be ignored. Current value: bagging_freq=7\n",
      "[LightGBM] [Warning] feature_fraction is set=0.9696328420644631, colsample_bytree=0.3 will be ignored. Current value: feature_fraction=0.9696328420644631\n",
      "[LightGBM] [Warning] min_data_in_leaf is set=200, min_child_samples=65 will be ignored. Current value: min_data_in_leaf=200\n",
      "[LightGBM] [Warning] min_gain_to_split is set=0.23783806632526577, min_split_gain=0.0 will be ignored. Current value: min_gain_to_split=0.23783806632526577\n",
      "[LightGBM] [Warning] bagging_fraction is set=0.8791117766533089, subsample=1.0 will be ignored. Current value: bagging_fraction=0.8791117766533089\n",
      "[LightGBM] [Warning] lambda_l1 is set=2.9598207175428213, reg_alpha=0.0 will be ignored. Current value: lambda_l1=2.9598207175428213\n",
      "[LightGBM] [Warning] lambda_l2 is set=0.012292191005962067, reg_lambda=0.0 will be ignored. Current value: lambda_l2=0.012292191005962067\n",
      "[LightGBM] [Warning] bagging_freq is set=7, subsample_freq=0 will be ignored. Current value: bagging_freq=7\n",
      "[LightGBM] [Warning] feature_fraction is set=0.9696328420644631, colsample_bytree=0.3 will be ignored. Current value: feature_fraction=0.9696328420644631\n",
      "[LightGBM] [Warning] min_data_in_leaf is set=200, min_child_samples=65 will be ignored. Current value: min_data_in_leaf=200\n",
      "[LightGBM] [Warning] min_gain_to_split is set=0.23783806632526577, min_split_gain=0.0 will be ignored. Current value: min_gain_to_split=0.23783806632526577\n",
      "[LightGBM] [Warning] bagging_fraction is set=0.8791117766533089, subsample=1.0 will be ignored. Current value: bagging_fraction=0.8791117766533089\n",
      "[LightGBM] [Warning] lambda_l1 is set=2.9598207175428213, reg_alpha=0.0 will be ignored. Current value: lambda_l1=2.9598207175428213\n",
      "[LightGBM] [Warning] lambda_l2 is set=0.012292191005962067, reg_lambda=0.0 will be ignored. Current value: lambda_l2=0.012292191005962067\n",
      "[LightGBM] [Warning] bagging_freq is set=7, subsample_freq=0 will be ignored. Current value: bagging_freq=7\n"
     ]
    },
    {
     "name": "stderr",
     "output_type": "stream",
     "text": [
      "\u001b[32m[I 2022-11-22 00:26:26,430]\u001b[0m Trial 167 finished with value: 0.5415626506292879 and parameters: {'n_estimators': 500, 'learning_rate': 0.27522124203876214, 'max_depth': 11, 'num_leaves': 11, 'min_data_in_leaf': 200, 'min_child_samples': 65, 'lambda_l1': 2.9598207175428213, 'lambda_l2': 0.012292191005962067, 'min_gain_to_split': 0.23783806632526577, 'feature_fraction': 0.9696328420644631, 'bagging_fraction': 0.8791117766533089, 'bagging_freq': 7, 'colsample_bytree': 0.3}. Best is trial 166 with value: 0.5392493462625481.\u001b[0m\n"
     ]
    },
    {
     "name": "stdout",
     "output_type": "stream",
     "text": [
      "[LightGBM] [Warning] feature_fraction is set=0.9774182265782769, colsample_bytree=0.3 will be ignored. Current value: feature_fraction=0.9774182265782769\n",
      "[LightGBM] [Warning] min_data_in_leaf is set=200, min_child_samples=65 will be ignored. Current value: min_data_in_leaf=200\n",
      "[LightGBM] [Warning] min_gain_to_split is set=0.07398944891977316, min_split_gain=0.0 will be ignored. Current value: min_gain_to_split=0.07398944891977316\n",
      "[LightGBM] [Warning] bagging_fraction is set=0.8799691710893429, subsample=1.0 will be ignored. Current value: bagging_fraction=0.8799691710893429\n",
      "[LightGBM] [Warning] lambda_l1 is set=5.538258424553351, reg_alpha=0.0 will be ignored. Current value: lambda_l1=5.538258424553351\n",
      "[LightGBM] [Warning] lambda_l2 is set=0.004648738283661649, reg_lambda=0.0 will be ignored. Current value: lambda_l2=0.004648738283661649\n",
      "[LightGBM] [Warning] bagging_freq is set=7, subsample_freq=0 will be ignored. Current value: bagging_freq=7\n",
      "[LightGBM] [Warning] feature_fraction is set=0.9774182265782769, colsample_bytree=0.3 will be ignored. Current value: feature_fraction=0.9774182265782769\n",
      "[LightGBM] [Warning] min_data_in_leaf is set=200, min_child_samples=65 will be ignored. Current value: min_data_in_leaf=200\n",
      "[LightGBM] [Warning] min_gain_to_split is set=0.07398944891977316, min_split_gain=0.0 will be ignored. Current value: min_gain_to_split=0.07398944891977316\n",
      "[LightGBM] [Warning] bagging_fraction is set=0.8799691710893429, subsample=1.0 will be ignored. Current value: bagging_fraction=0.8799691710893429\n",
      "[LightGBM] [Warning] lambda_l1 is set=5.538258424553351, reg_alpha=0.0 will be ignored. Current value: lambda_l1=5.538258424553351\n",
      "[LightGBM] [Warning] lambda_l2 is set=0.004648738283661649, reg_lambda=0.0 will be ignored. Current value: lambda_l2=0.004648738283661649\n",
      "[LightGBM] [Warning] bagging_freq is set=7, subsample_freq=0 will be ignored. Current value: bagging_freq=7\n",
      "[LightGBM] [Warning] feature_fraction is set=0.9774182265782769, colsample_bytree=0.3 will be ignored. Current value: feature_fraction=0.9774182265782769\n",
      "[LightGBM] [Warning] min_data_in_leaf is set=200, min_child_samples=65 will be ignored. Current value: min_data_in_leaf=200\n",
      "[LightGBM] [Warning] min_gain_to_split is set=0.07398944891977316, min_split_gain=0.0 will be ignored. Current value: min_gain_to_split=0.07398944891977316\n",
      "[LightGBM] [Warning] bagging_fraction is set=0.8799691710893429, subsample=1.0 will be ignored. Current value: bagging_fraction=0.8799691710893429\n",
      "[LightGBM] [Warning] lambda_l1 is set=5.538258424553351, reg_alpha=0.0 will be ignored. Current value: lambda_l1=5.538258424553351\n",
      "[LightGBM] [Warning] lambda_l2 is set=0.004648738283661649, reg_lambda=0.0 will be ignored. Current value: lambda_l2=0.004648738283661649\n",
      "[LightGBM] [Warning] bagging_freq is set=7, subsample_freq=0 will be ignored. Current value: bagging_freq=7\n",
      "[LightGBM] [Warning] feature_fraction is set=0.9774182265782769, colsample_bytree=0.3 will be ignored. Current value: feature_fraction=0.9774182265782769\n",
      "[LightGBM] [Warning] min_data_in_leaf is set=200, min_child_samples=65 will be ignored. Current value: min_data_in_leaf=200\n",
      "[LightGBM] [Warning] min_gain_to_split is set=0.07398944891977316, min_split_gain=0.0 will be ignored. Current value: min_gain_to_split=0.07398944891977316\n",
      "[LightGBM] [Warning] bagging_fraction is set=0.8799691710893429, subsample=1.0 will be ignored. Current value: bagging_fraction=0.8799691710893429\n",
      "[LightGBM] [Warning] lambda_l1 is set=5.538258424553351, reg_alpha=0.0 will be ignored. Current value: lambda_l1=5.538258424553351\n",
      "[LightGBM] [Warning] lambda_l2 is set=0.004648738283661649, reg_lambda=0.0 will be ignored. Current value: lambda_l2=0.004648738283661649\n",
      "[LightGBM] [Warning] bagging_freq is set=7, subsample_freq=0 will be ignored. Current value: bagging_freq=7\n",
      "[LightGBM] [Warning] feature_fraction is set=0.9774182265782769, colsample_bytree=0.3 will be ignored. Current value: feature_fraction=0.9774182265782769\n",
      "[LightGBM] [Warning] min_data_in_leaf is set=200, min_child_samples=65 will be ignored. Current value: min_data_in_leaf=200\n",
      "[LightGBM] [Warning] min_gain_to_split is set=0.07398944891977316, min_split_gain=0.0 will be ignored. Current value: min_gain_to_split=0.07398944891977316\n",
      "[LightGBM] [Warning] bagging_fraction is set=0.8799691710893429, subsample=1.0 will be ignored. Current value: bagging_fraction=0.8799691710893429\n",
      "[LightGBM] [Warning] lambda_l1 is set=5.538258424553351, reg_alpha=0.0 will be ignored. Current value: lambda_l1=5.538258424553351\n",
      "[LightGBM] [Warning] lambda_l2 is set=0.004648738283661649, reg_lambda=0.0 will be ignored. Current value: lambda_l2=0.004648738283661649\n",
      "[LightGBM] [Warning] bagging_freq is set=7, subsample_freq=0 will be ignored. Current value: bagging_freq=7\n"
     ]
    },
    {
     "name": "stderr",
     "output_type": "stream",
     "text": [
      "\u001b[32m[I 2022-11-22 00:27:00,645]\u001b[0m Trial 168 finished with value: 0.5425987873714648 and parameters: {'n_estimators': 500, 'learning_rate': 0.26624339589748647, 'max_depth': 11, 'num_leaves': 11, 'min_data_in_leaf': 200, 'min_child_samples': 65, 'lambda_l1': 5.538258424553351, 'lambda_l2': 0.004648738283661649, 'min_gain_to_split': 0.07398944891977316, 'feature_fraction': 0.9774182265782769, 'bagging_fraction': 0.8799691710893429, 'bagging_freq': 7, 'colsample_bytree': 0.3}. Best is trial 166 with value: 0.5392493462625481.\u001b[0m\n"
     ]
    },
    {
     "name": "stdout",
     "output_type": "stream",
     "text": [
      "[LightGBM] [Warning] feature_fraction is set=0.9625729418088769, colsample_bytree=0.3 will be ignored. Current value: feature_fraction=0.9625729418088769\n",
      "[LightGBM] [Warning] min_data_in_leaf is set=200, min_child_samples=64 will be ignored. Current value: min_data_in_leaf=200\n",
      "[LightGBM] [Warning] min_gain_to_split is set=0.0366954457041902, min_split_gain=0.0 will be ignored. Current value: min_gain_to_split=0.0366954457041902\n",
      "[LightGBM] [Warning] bagging_fraction is set=0.9081197426406462, subsample=1.0 will be ignored. Current value: bagging_fraction=0.9081197426406462\n",
      "[LightGBM] [Warning] lambda_l1 is set=4.834411658252083, reg_alpha=0.0 will be ignored. Current value: lambda_l1=4.834411658252083\n",
      "[LightGBM] [Warning] lambda_l2 is set=0.004074645611013744, reg_lambda=0.0 will be ignored. Current value: lambda_l2=0.004074645611013744\n",
      "[LightGBM] [Warning] bagging_freq is set=7, subsample_freq=0 will be ignored. Current value: bagging_freq=7\n",
      "[LightGBM] [Warning] feature_fraction is set=0.9625729418088769, colsample_bytree=0.3 will be ignored. Current value: feature_fraction=0.9625729418088769\n",
      "[LightGBM] [Warning] min_data_in_leaf is set=200, min_child_samples=64 will be ignored. Current value: min_data_in_leaf=200\n",
      "[LightGBM] [Warning] min_gain_to_split is set=0.0366954457041902, min_split_gain=0.0 will be ignored. Current value: min_gain_to_split=0.0366954457041902\n",
      "[LightGBM] [Warning] bagging_fraction is set=0.9081197426406462, subsample=1.0 will be ignored. Current value: bagging_fraction=0.9081197426406462\n",
      "[LightGBM] [Warning] lambda_l1 is set=4.834411658252083, reg_alpha=0.0 will be ignored. Current value: lambda_l1=4.834411658252083\n",
      "[LightGBM] [Warning] lambda_l2 is set=0.004074645611013744, reg_lambda=0.0 will be ignored. Current value: lambda_l2=0.004074645611013744\n",
      "[LightGBM] [Warning] bagging_freq is set=7, subsample_freq=0 will be ignored. Current value: bagging_freq=7\n",
      "[LightGBM] [Warning] feature_fraction is set=0.9625729418088769, colsample_bytree=0.3 will be ignored. Current value: feature_fraction=0.9625729418088769\n",
      "[LightGBM] [Warning] min_data_in_leaf is set=200, min_child_samples=64 will be ignored. Current value: min_data_in_leaf=200\n",
      "[LightGBM] [Warning] min_gain_to_split is set=0.0366954457041902, min_split_gain=0.0 will be ignored. Current value: min_gain_to_split=0.0366954457041902\n",
      "[LightGBM] [Warning] bagging_fraction is set=0.9081197426406462, subsample=1.0 will be ignored. Current value: bagging_fraction=0.9081197426406462\n",
      "[LightGBM] [Warning] lambda_l1 is set=4.834411658252083, reg_alpha=0.0 will be ignored. Current value: lambda_l1=4.834411658252083\n",
      "[LightGBM] [Warning] lambda_l2 is set=0.004074645611013744, reg_lambda=0.0 will be ignored. Current value: lambda_l2=0.004074645611013744\n",
      "[LightGBM] [Warning] bagging_freq is set=7, subsample_freq=0 will be ignored. Current value: bagging_freq=7\n",
      "[LightGBM] [Warning] feature_fraction is set=0.9625729418088769, colsample_bytree=0.3 will be ignored. Current value: feature_fraction=0.9625729418088769\n",
      "[LightGBM] [Warning] min_data_in_leaf is set=200, min_child_samples=64 will be ignored. Current value: min_data_in_leaf=200\n",
      "[LightGBM] [Warning] min_gain_to_split is set=0.0366954457041902, min_split_gain=0.0 will be ignored. Current value: min_gain_to_split=0.0366954457041902\n",
      "[LightGBM] [Warning] bagging_fraction is set=0.9081197426406462, subsample=1.0 will be ignored. Current value: bagging_fraction=0.9081197426406462\n",
      "[LightGBM] [Warning] lambda_l1 is set=4.834411658252083, reg_alpha=0.0 will be ignored. Current value: lambda_l1=4.834411658252083\n",
      "[LightGBM] [Warning] lambda_l2 is set=0.004074645611013744, reg_lambda=0.0 will be ignored. Current value: lambda_l2=0.004074645611013744\n",
      "[LightGBM] [Warning] bagging_freq is set=7, subsample_freq=0 will be ignored. Current value: bagging_freq=7\n",
      "[LightGBM] [Warning] feature_fraction is set=0.9625729418088769, colsample_bytree=0.3 will be ignored. Current value: feature_fraction=0.9625729418088769\n",
      "[LightGBM] [Warning] min_data_in_leaf is set=200, min_child_samples=64 will be ignored. Current value: min_data_in_leaf=200\n",
      "[LightGBM] [Warning] min_gain_to_split is set=0.0366954457041902, min_split_gain=0.0 will be ignored. Current value: min_gain_to_split=0.0366954457041902\n",
      "[LightGBM] [Warning] bagging_fraction is set=0.9081197426406462, subsample=1.0 will be ignored. Current value: bagging_fraction=0.9081197426406462\n",
      "[LightGBM] [Warning] lambda_l1 is set=4.834411658252083, reg_alpha=0.0 will be ignored. Current value: lambda_l1=4.834411658252083\n",
      "[LightGBM] [Warning] lambda_l2 is set=0.004074645611013744, reg_lambda=0.0 will be ignored. Current value: lambda_l2=0.004074645611013744\n",
      "[LightGBM] [Warning] bagging_freq is set=7, subsample_freq=0 will be ignored. Current value: bagging_freq=7\n"
     ]
    },
    {
     "name": "stderr",
     "output_type": "stream",
     "text": [
      "\u001b[32m[I 2022-11-22 00:27:30,375]\u001b[0m Trial 169 finished with value: 0.5387611715279631 and parameters: {'n_estimators': 500, 'learning_rate': 0.29594636653565465, 'max_depth': 11, 'num_leaves': 11, 'min_data_in_leaf': 200, 'min_child_samples': 64, 'lambda_l1': 4.834411658252083, 'lambda_l2': 0.004074645611013744, 'min_gain_to_split': 0.0366954457041902, 'feature_fraction': 0.9625729418088769, 'bagging_fraction': 0.9081197426406462, 'bagging_freq': 7, 'colsample_bytree': 0.3}. Best is trial 169 with value: 0.5387611715279631.\u001b[0m\n"
     ]
    },
    {
     "name": "stdout",
     "output_type": "stream",
     "text": [
      "[LightGBM] [Warning] feature_fraction is set=0.9634242249862471, colsample_bytree=0.3 will be ignored. Current value: feature_fraction=0.9634242249862471\n",
      "[LightGBM] [Warning] min_data_in_leaf is set=200, min_child_samples=65 will be ignored. Current value: min_data_in_leaf=200\n",
      "[LightGBM] [Warning] min_gain_to_split is set=0.012865219645006365, min_split_gain=0.0 will be ignored. Current value: min_gain_to_split=0.012865219645006365\n",
      "[LightGBM] [Warning] bagging_fraction is set=0.9011749120585238, subsample=1.0 will be ignored. Current value: bagging_fraction=0.9011749120585238\n",
      "[LightGBM] [Warning] lambda_l1 is set=5.743350364026467, reg_alpha=0.0 will be ignored. Current value: lambda_l1=5.743350364026467\n",
      "[LightGBM] [Warning] lambda_l2 is set=0.0054945497110130736, reg_lambda=0.0 will be ignored. Current value: lambda_l2=0.0054945497110130736\n",
      "[LightGBM] [Warning] bagging_freq is set=7, subsample_freq=0 will be ignored. Current value: bagging_freq=7\n",
      "[LightGBM] [Warning] feature_fraction is set=0.9634242249862471, colsample_bytree=0.3 will be ignored. Current value: feature_fraction=0.9634242249862471\n",
      "[LightGBM] [Warning] min_data_in_leaf is set=200, min_child_samples=65 will be ignored. Current value: min_data_in_leaf=200\n",
      "[LightGBM] [Warning] min_gain_to_split is set=0.012865219645006365, min_split_gain=0.0 will be ignored. Current value: min_gain_to_split=0.012865219645006365\n",
      "[LightGBM] [Warning] bagging_fraction is set=0.9011749120585238, subsample=1.0 will be ignored. Current value: bagging_fraction=0.9011749120585238\n",
      "[LightGBM] [Warning] lambda_l1 is set=5.743350364026467, reg_alpha=0.0 will be ignored. Current value: lambda_l1=5.743350364026467\n",
      "[LightGBM] [Warning] lambda_l2 is set=0.0054945497110130736, reg_lambda=0.0 will be ignored. Current value: lambda_l2=0.0054945497110130736\n",
      "[LightGBM] [Warning] bagging_freq is set=7, subsample_freq=0 will be ignored. Current value: bagging_freq=7\n",
      "[LightGBM] [Warning] feature_fraction is set=0.9634242249862471, colsample_bytree=0.3 will be ignored. Current value: feature_fraction=0.9634242249862471\n",
      "[LightGBM] [Warning] min_data_in_leaf is set=200, min_child_samples=65 will be ignored. Current value: min_data_in_leaf=200\n",
      "[LightGBM] [Warning] min_gain_to_split is set=0.012865219645006365, min_split_gain=0.0 will be ignored. Current value: min_gain_to_split=0.012865219645006365\n",
      "[LightGBM] [Warning] bagging_fraction is set=0.9011749120585238, subsample=1.0 will be ignored. Current value: bagging_fraction=0.9011749120585238\n",
      "[LightGBM] [Warning] lambda_l1 is set=5.743350364026467, reg_alpha=0.0 will be ignored. Current value: lambda_l1=5.743350364026467\n",
      "[LightGBM] [Warning] lambda_l2 is set=0.0054945497110130736, reg_lambda=0.0 will be ignored. Current value: lambda_l2=0.0054945497110130736\n",
      "[LightGBM] [Warning] bagging_freq is set=7, subsample_freq=0 will be ignored. Current value: bagging_freq=7\n",
      "[LightGBM] [Warning] feature_fraction is set=0.9634242249862471, colsample_bytree=0.3 will be ignored. Current value: feature_fraction=0.9634242249862471\n",
      "[LightGBM] [Warning] min_data_in_leaf is set=200, min_child_samples=65 will be ignored. Current value: min_data_in_leaf=200\n",
      "[LightGBM] [Warning] min_gain_to_split is set=0.012865219645006365, min_split_gain=0.0 will be ignored. Current value: min_gain_to_split=0.012865219645006365\n",
      "[LightGBM] [Warning] bagging_fraction is set=0.9011749120585238, subsample=1.0 will be ignored. Current value: bagging_fraction=0.9011749120585238\n",
      "[LightGBM] [Warning] lambda_l1 is set=5.743350364026467, reg_alpha=0.0 will be ignored. Current value: lambda_l1=5.743350364026467\n",
      "[LightGBM] [Warning] lambda_l2 is set=0.0054945497110130736, reg_lambda=0.0 will be ignored. Current value: lambda_l2=0.0054945497110130736\n",
      "[LightGBM] [Warning] bagging_freq is set=7, subsample_freq=0 will be ignored. Current value: bagging_freq=7\n",
      "[LightGBM] [Warning] feature_fraction is set=0.9634242249862471, colsample_bytree=0.3 will be ignored. Current value: feature_fraction=0.9634242249862471\n",
      "[LightGBM] [Warning] min_data_in_leaf is set=200, min_child_samples=65 will be ignored. Current value: min_data_in_leaf=200\n",
      "[LightGBM] [Warning] min_gain_to_split is set=0.012865219645006365, min_split_gain=0.0 will be ignored. Current value: min_gain_to_split=0.012865219645006365\n",
      "[LightGBM] [Warning] bagging_fraction is set=0.9011749120585238, subsample=1.0 will be ignored. Current value: bagging_fraction=0.9011749120585238\n",
      "[LightGBM] [Warning] lambda_l1 is set=5.743350364026467, reg_alpha=0.0 will be ignored. Current value: lambda_l1=5.743350364026467\n",
      "[LightGBM] [Warning] lambda_l2 is set=0.0054945497110130736, reg_lambda=0.0 will be ignored. Current value: lambda_l2=0.0054945497110130736\n",
      "[LightGBM] [Warning] bagging_freq is set=7, subsample_freq=0 will be ignored. Current value: bagging_freq=7\n"
     ]
    },
    {
     "name": "stderr",
     "output_type": "stream",
     "text": [
      "\u001b[32m[I 2022-11-22 00:28:01,067]\u001b[0m Trial 170 finished with value: 0.5411464590236561 and parameters: {'n_estimators': 500, 'learning_rate': 0.2827157177820087, 'max_depth': 11, 'num_leaves': 11, 'min_data_in_leaf': 200, 'min_child_samples': 65, 'lambda_l1': 5.743350364026467, 'lambda_l2': 0.0054945497110130736, 'min_gain_to_split': 0.012865219645006365, 'feature_fraction': 0.9634242249862471, 'bagging_fraction': 0.9011749120585238, 'bagging_freq': 7, 'colsample_bytree': 0.3}. Best is trial 169 with value: 0.5387611715279631.\u001b[0m\n"
     ]
    },
    {
     "name": "stdout",
     "output_type": "stream",
     "text": [
      "[LightGBM] [Warning] feature_fraction is set=0.9643270928520207, colsample_bytree=0.3 will be ignored. Current value: feature_fraction=0.9643270928520207\n",
      "[LightGBM] [Warning] min_data_in_leaf is set=200, min_child_samples=64 will be ignored. Current value: min_data_in_leaf=200\n",
      "[LightGBM] [Warning] min_gain_to_split is set=0.02022452596497354, min_split_gain=0.0 will be ignored. Current value: min_gain_to_split=0.02022452596497354\n",
      "[LightGBM] [Warning] bagging_fraction is set=0.909488090336279, subsample=1.0 will be ignored. Current value: bagging_fraction=0.909488090336279\n",
      "[LightGBM] [Warning] lambda_l1 is set=4.899245914266274, reg_alpha=0.0 will be ignored. Current value: lambda_l1=4.899245914266274\n",
      "[LightGBM] [Warning] lambda_l2 is set=0.006418139103186359, reg_lambda=0.0 will be ignored. Current value: lambda_l2=0.006418139103186359\n",
      "[LightGBM] [Warning] bagging_freq is set=7, subsample_freq=0 will be ignored. Current value: bagging_freq=7\n",
      "[LightGBM] [Warning] feature_fraction is set=0.9643270928520207, colsample_bytree=0.3 will be ignored. Current value: feature_fraction=0.9643270928520207\n",
      "[LightGBM] [Warning] min_data_in_leaf is set=200, min_child_samples=64 will be ignored. Current value: min_data_in_leaf=200\n",
      "[LightGBM] [Warning] min_gain_to_split is set=0.02022452596497354, min_split_gain=0.0 will be ignored. Current value: min_gain_to_split=0.02022452596497354\n",
      "[LightGBM] [Warning] bagging_fraction is set=0.909488090336279, subsample=1.0 will be ignored. Current value: bagging_fraction=0.909488090336279\n",
      "[LightGBM] [Warning] lambda_l1 is set=4.899245914266274, reg_alpha=0.0 will be ignored. Current value: lambda_l1=4.899245914266274\n",
      "[LightGBM] [Warning] lambda_l2 is set=0.006418139103186359, reg_lambda=0.0 will be ignored. Current value: lambda_l2=0.006418139103186359\n",
      "[LightGBM] [Warning] bagging_freq is set=7, subsample_freq=0 will be ignored. Current value: bagging_freq=7\n",
      "[LightGBM] [Warning] feature_fraction is set=0.9643270928520207, colsample_bytree=0.3 will be ignored. Current value: feature_fraction=0.9643270928520207\n",
      "[LightGBM] [Warning] min_data_in_leaf is set=200, min_child_samples=64 will be ignored. Current value: min_data_in_leaf=200\n",
      "[LightGBM] [Warning] min_gain_to_split is set=0.02022452596497354, min_split_gain=0.0 will be ignored. Current value: min_gain_to_split=0.02022452596497354\n",
      "[LightGBM] [Warning] bagging_fraction is set=0.909488090336279, subsample=1.0 will be ignored. Current value: bagging_fraction=0.909488090336279\n",
      "[LightGBM] [Warning] lambda_l1 is set=4.899245914266274, reg_alpha=0.0 will be ignored. Current value: lambda_l1=4.899245914266274\n",
      "[LightGBM] [Warning] lambda_l2 is set=0.006418139103186359, reg_lambda=0.0 will be ignored. Current value: lambda_l2=0.006418139103186359\n",
      "[LightGBM] [Warning] bagging_freq is set=7, subsample_freq=0 will be ignored. Current value: bagging_freq=7\n",
      "[LightGBM] [Warning] feature_fraction is set=0.9643270928520207, colsample_bytree=0.3 will be ignored. Current value: feature_fraction=0.9643270928520207\n",
      "[LightGBM] [Warning] min_data_in_leaf is set=200, min_child_samples=64 will be ignored. Current value: min_data_in_leaf=200\n",
      "[LightGBM] [Warning] min_gain_to_split is set=0.02022452596497354, min_split_gain=0.0 will be ignored. Current value: min_gain_to_split=0.02022452596497354\n",
      "[LightGBM] [Warning] bagging_fraction is set=0.909488090336279, subsample=1.0 will be ignored. Current value: bagging_fraction=0.909488090336279\n",
      "[LightGBM] [Warning] lambda_l1 is set=4.899245914266274, reg_alpha=0.0 will be ignored. Current value: lambda_l1=4.899245914266274\n",
      "[LightGBM] [Warning] lambda_l2 is set=0.006418139103186359, reg_lambda=0.0 will be ignored. Current value: lambda_l2=0.006418139103186359\n",
      "[LightGBM] [Warning] bagging_freq is set=7, subsample_freq=0 will be ignored. Current value: bagging_freq=7\n",
      "[LightGBM] [Warning] feature_fraction is set=0.9643270928520207, colsample_bytree=0.3 will be ignored. Current value: feature_fraction=0.9643270928520207\n",
      "[LightGBM] [Warning] min_data_in_leaf is set=200, min_child_samples=64 will be ignored. Current value: min_data_in_leaf=200\n",
      "[LightGBM] [Warning] min_gain_to_split is set=0.02022452596497354, min_split_gain=0.0 will be ignored. Current value: min_gain_to_split=0.02022452596497354\n",
      "[LightGBM] [Warning] bagging_fraction is set=0.909488090336279, subsample=1.0 will be ignored. Current value: bagging_fraction=0.909488090336279\n",
      "[LightGBM] [Warning] lambda_l1 is set=4.899245914266274, reg_alpha=0.0 will be ignored. Current value: lambda_l1=4.899245914266274\n",
      "[LightGBM] [Warning] lambda_l2 is set=0.006418139103186359, reg_lambda=0.0 will be ignored. Current value: lambda_l2=0.006418139103186359\n",
      "[LightGBM] [Warning] bagging_freq is set=7, subsample_freq=0 will be ignored. Current value: bagging_freq=7\n"
     ]
    },
    {
     "name": "stderr",
     "output_type": "stream",
     "text": [
      "\u001b[32m[I 2022-11-22 00:28:31,935]\u001b[0m Trial 171 finished with value: 0.539718445159315 and parameters: {'n_estimators': 500, 'learning_rate': 0.2870430414678926, 'max_depth': 11, 'num_leaves': 11, 'min_data_in_leaf': 200, 'min_child_samples': 64, 'lambda_l1': 4.899245914266274, 'lambda_l2': 0.006418139103186359, 'min_gain_to_split': 0.02022452596497354, 'feature_fraction': 0.9643270928520207, 'bagging_fraction': 0.909488090336279, 'bagging_freq': 7, 'colsample_bytree': 0.3}. Best is trial 169 with value: 0.5387611715279631.\u001b[0m\n"
     ]
    },
    {
     "name": "stdout",
     "output_type": "stream",
     "text": [
      "[LightGBM] [Warning] feature_fraction is set=0.9634842760268226, colsample_bytree=0.3 will be ignored. Current value: feature_fraction=0.9634842760268226\n",
      "[LightGBM] [Warning] min_data_in_leaf is set=200, min_child_samples=65 will be ignored. Current value: min_data_in_leaf=200\n",
      "[LightGBM] [Warning] min_gain_to_split is set=0.036791477279796814, min_split_gain=0.0 will be ignored. Current value: min_gain_to_split=0.036791477279796814\n",
      "[LightGBM] [Warning] bagging_fraction is set=0.906163484735318, subsample=1.0 will be ignored. Current value: bagging_fraction=0.906163484735318\n",
      "[LightGBM] [Warning] lambda_l1 is set=6.33470109552989, reg_alpha=0.0 will be ignored. Current value: lambda_l1=6.33470109552989\n",
      "[LightGBM] [Warning] lambda_l2 is set=0.0035925070587279197, reg_lambda=0.0 will be ignored. Current value: lambda_l2=0.0035925070587279197\n",
      "[LightGBM] [Warning] bagging_freq is set=7, subsample_freq=0 will be ignored. Current value: bagging_freq=7\n",
      "[LightGBM] [Warning] feature_fraction is set=0.9634842760268226, colsample_bytree=0.3 will be ignored. Current value: feature_fraction=0.9634842760268226\n",
      "[LightGBM] [Warning] min_data_in_leaf is set=200, min_child_samples=65 will be ignored. Current value: min_data_in_leaf=200\n",
      "[LightGBM] [Warning] min_gain_to_split is set=0.036791477279796814, min_split_gain=0.0 will be ignored. Current value: min_gain_to_split=0.036791477279796814\n",
      "[LightGBM] [Warning] bagging_fraction is set=0.906163484735318, subsample=1.0 will be ignored. Current value: bagging_fraction=0.906163484735318\n",
      "[LightGBM] [Warning] lambda_l1 is set=6.33470109552989, reg_alpha=0.0 will be ignored. Current value: lambda_l1=6.33470109552989\n",
      "[LightGBM] [Warning] lambda_l2 is set=0.0035925070587279197, reg_lambda=0.0 will be ignored. Current value: lambda_l2=0.0035925070587279197\n",
      "[LightGBM] [Warning] bagging_freq is set=7, subsample_freq=0 will be ignored. Current value: bagging_freq=7\n",
      "[LightGBM] [Warning] feature_fraction is set=0.9634842760268226, colsample_bytree=0.3 will be ignored. Current value: feature_fraction=0.9634842760268226\n",
      "[LightGBM] [Warning] min_data_in_leaf is set=200, min_child_samples=65 will be ignored. Current value: min_data_in_leaf=200\n",
      "[LightGBM] [Warning] min_gain_to_split is set=0.036791477279796814, min_split_gain=0.0 will be ignored. Current value: min_gain_to_split=0.036791477279796814\n",
      "[LightGBM] [Warning] bagging_fraction is set=0.906163484735318, subsample=1.0 will be ignored. Current value: bagging_fraction=0.906163484735318\n",
      "[LightGBM] [Warning] lambda_l1 is set=6.33470109552989, reg_alpha=0.0 will be ignored. Current value: lambda_l1=6.33470109552989\n",
      "[LightGBM] [Warning] lambda_l2 is set=0.0035925070587279197, reg_lambda=0.0 will be ignored. Current value: lambda_l2=0.0035925070587279197\n",
      "[LightGBM] [Warning] bagging_freq is set=7, subsample_freq=0 will be ignored. Current value: bagging_freq=7\n",
      "[LightGBM] [Warning] feature_fraction is set=0.9634842760268226, colsample_bytree=0.3 will be ignored. Current value: feature_fraction=0.9634842760268226\n",
      "[LightGBM] [Warning] min_data_in_leaf is set=200, min_child_samples=65 will be ignored. Current value: min_data_in_leaf=200\n",
      "[LightGBM] [Warning] min_gain_to_split is set=0.036791477279796814, min_split_gain=0.0 will be ignored. Current value: min_gain_to_split=0.036791477279796814\n",
      "[LightGBM] [Warning] bagging_fraction is set=0.906163484735318, subsample=1.0 will be ignored. Current value: bagging_fraction=0.906163484735318\n",
      "[LightGBM] [Warning] lambda_l1 is set=6.33470109552989, reg_alpha=0.0 will be ignored. Current value: lambda_l1=6.33470109552989\n",
      "[LightGBM] [Warning] lambda_l2 is set=0.0035925070587279197, reg_lambda=0.0 will be ignored. Current value: lambda_l2=0.0035925070587279197\n",
      "[LightGBM] [Warning] bagging_freq is set=7, subsample_freq=0 will be ignored. Current value: bagging_freq=7\n",
      "[LightGBM] [Warning] feature_fraction is set=0.9634842760268226, colsample_bytree=0.3 will be ignored. Current value: feature_fraction=0.9634842760268226\n",
      "[LightGBM] [Warning] min_data_in_leaf is set=200, min_child_samples=65 will be ignored. Current value: min_data_in_leaf=200\n",
      "[LightGBM] [Warning] min_gain_to_split is set=0.036791477279796814, min_split_gain=0.0 will be ignored. Current value: min_gain_to_split=0.036791477279796814\n",
      "[LightGBM] [Warning] bagging_fraction is set=0.906163484735318, subsample=1.0 will be ignored. Current value: bagging_fraction=0.906163484735318\n",
      "[LightGBM] [Warning] lambda_l1 is set=6.33470109552989, reg_alpha=0.0 will be ignored. Current value: lambda_l1=6.33470109552989\n",
      "[LightGBM] [Warning] lambda_l2 is set=0.0035925070587279197, reg_lambda=0.0 will be ignored. Current value: lambda_l2=0.0035925070587279197\n",
      "[LightGBM] [Warning] bagging_freq is set=7, subsample_freq=0 will be ignored. Current value: bagging_freq=7\n"
     ]
    },
    {
     "name": "stderr",
     "output_type": "stream",
     "text": [
      "\u001b[32m[I 2022-11-22 00:29:03,542]\u001b[0m Trial 172 finished with value: 0.5408973639794847 and parameters: {'n_estimators': 500, 'learning_rate': 0.28345572823058574, 'max_depth': 11, 'num_leaves': 11, 'min_data_in_leaf': 200, 'min_child_samples': 65, 'lambda_l1': 6.33470109552989, 'lambda_l2': 0.0035925070587279197, 'min_gain_to_split': 0.036791477279796814, 'feature_fraction': 0.9634842760268226, 'bagging_fraction': 0.906163484735318, 'bagging_freq': 7, 'colsample_bytree': 0.3}. Best is trial 169 with value: 0.5387611715279631.\u001b[0m\n"
     ]
    },
    {
     "name": "stdout",
     "output_type": "stream",
     "text": [
      "[LightGBM] [Warning] feature_fraction is set=0.9642702164486678, colsample_bytree=0.3 will be ignored. Current value: feature_fraction=0.9642702164486678\n",
      "[LightGBM] [Warning] min_data_in_leaf is set=200, min_child_samples=63 will be ignored. Current value: min_data_in_leaf=200\n",
      "[LightGBM] [Warning] min_gain_to_split is set=0.04927037890594477, min_split_gain=0.0 will be ignored. Current value: min_gain_to_split=0.04927037890594477\n",
      "[LightGBM] [Warning] bagging_fraction is set=0.9045289619319545, subsample=1.0 will be ignored. Current value: bagging_fraction=0.9045289619319545\n",
      "[LightGBM] [Warning] lambda_l1 is set=5.641069916215892, reg_alpha=0.0 will be ignored. Current value: lambda_l1=5.641069916215892\n",
      "[LightGBM] [Warning] lambda_l2 is set=0.0037078576265656047, reg_lambda=0.0 will be ignored. Current value: lambda_l2=0.0037078576265656047\n",
      "[LightGBM] [Warning] bagging_freq is set=7, subsample_freq=0 will be ignored. Current value: bagging_freq=7\n",
      "[LightGBM] [Warning] feature_fraction is set=0.9642702164486678, colsample_bytree=0.3 will be ignored. Current value: feature_fraction=0.9642702164486678\n",
      "[LightGBM] [Warning] min_data_in_leaf is set=200, min_child_samples=63 will be ignored. Current value: min_data_in_leaf=200\n",
      "[LightGBM] [Warning] min_gain_to_split is set=0.04927037890594477, min_split_gain=0.0 will be ignored. Current value: min_gain_to_split=0.04927037890594477\n",
      "[LightGBM] [Warning] bagging_fraction is set=0.9045289619319545, subsample=1.0 will be ignored. Current value: bagging_fraction=0.9045289619319545\n",
      "[LightGBM] [Warning] lambda_l1 is set=5.641069916215892, reg_alpha=0.0 will be ignored. Current value: lambda_l1=5.641069916215892\n",
      "[LightGBM] [Warning] lambda_l2 is set=0.0037078576265656047, reg_lambda=0.0 will be ignored. Current value: lambda_l2=0.0037078576265656047\n",
      "[LightGBM] [Warning] bagging_freq is set=7, subsample_freq=0 will be ignored. Current value: bagging_freq=7\n",
      "[LightGBM] [Warning] feature_fraction is set=0.9642702164486678, colsample_bytree=0.3 will be ignored. Current value: feature_fraction=0.9642702164486678\n",
      "[LightGBM] [Warning] min_data_in_leaf is set=200, min_child_samples=63 will be ignored. Current value: min_data_in_leaf=200\n",
      "[LightGBM] [Warning] min_gain_to_split is set=0.04927037890594477, min_split_gain=0.0 will be ignored. Current value: min_gain_to_split=0.04927037890594477\n",
      "[LightGBM] [Warning] bagging_fraction is set=0.9045289619319545, subsample=1.0 will be ignored. Current value: bagging_fraction=0.9045289619319545\n",
      "[LightGBM] [Warning] lambda_l1 is set=5.641069916215892, reg_alpha=0.0 will be ignored. Current value: lambda_l1=5.641069916215892\n",
      "[LightGBM] [Warning] lambda_l2 is set=0.0037078576265656047, reg_lambda=0.0 will be ignored. Current value: lambda_l2=0.0037078576265656047\n",
      "[LightGBM] [Warning] bagging_freq is set=7, subsample_freq=0 will be ignored. Current value: bagging_freq=7\n",
      "[LightGBM] [Warning] feature_fraction is set=0.9642702164486678, colsample_bytree=0.3 will be ignored. Current value: feature_fraction=0.9642702164486678\n",
      "[LightGBM] [Warning] min_data_in_leaf is set=200, min_child_samples=63 will be ignored. Current value: min_data_in_leaf=200\n",
      "[LightGBM] [Warning] min_gain_to_split is set=0.04927037890594477, min_split_gain=0.0 will be ignored. Current value: min_gain_to_split=0.04927037890594477\n",
      "[LightGBM] [Warning] bagging_fraction is set=0.9045289619319545, subsample=1.0 will be ignored. Current value: bagging_fraction=0.9045289619319545\n",
      "[LightGBM] [Warning] lambda_l1 is set=5.641069916215892, reg_alpha=0.0 will be ignored. Current value: lambda_l1=5.641069916215892\n",
      "[LightGBM] [Warning] lambda_l2 is set=0.0037078576265656047, reg_lambda=0.0 will be ignored. Current value: lambda_l2=0.0037078576265656047\n",
      "[LightGBM] [Warning] bagging_freq is set=7, subsample_freq=0 will be ignored. Current value: bagging_freq=7\n",
      "[LightGBM] [Warning] feature_fraction is set=0.9642702164486678, colsample_bytree=0.3 will be ignored. Current value: feature_fraction=0.9642702164486678\n",
      "[LightGBM] [Warning] min_data_in_leaf is set=200, min_child_samples=63 will be ignored. Current value: min_data_in_leaf=200\n",
      "[LightGBM] [Warning] min_gain_to_split is set=0.04927037890594477, min_split_gain=0.0 will be ignored. Current value: min_gain_to_split=0.04927037890594477\n",
      "[LightGBM] [Warning] bagging_fraction is set=0.9045289619319545, subsample=1.0 will be ignored. Current value: bagging_fraction=0.9045289619319545\n",
      "[LightGBM] [Warning] lambda_l1 is set=5.641069916215892, reg_alpha=0.0 will be ignored. Current value: lambda_l1=5.641069916215892\n",
      "[LightGBM] [Warning] lambda_l2 is set=0.0037078576265656047, reg_lambda=0.0 will be ignored. Current value: lambda_l2=0.0037078576265656047\n",
      "[LightGBM] [Warning] bagging_freq is set=7, subsample_freq=0 will be ignored. Current value: bagging_freq=7\n"
     ]
    },
    {
     "name": "stderr",
     "output_type": "stream",
     "text": [
      "\u001b[32m[I 2022-11-22 00:29:34,313]\u001b[0m Trial 173 finished with value: 0.5389596239005482 and parameters: {'n_estimators': 500, 'learning_rate': 0.2996151336392304, 'max_depth': 11, 'num_leaves': 11, 'min_data_in_leaf': 200, 'min_child_samples': 63, 'lambda_l1': 5.641069916215892, 'lambda_l2': 0.0037078576265656047, 'min_gain_to_split': 0.04927037890594477, 'feature_fraction': 0.9642702164486678, 'bagging_fraction': 0.9045289619319545, 'bagging_freq': 7, 'colsample_bytree': 0.3}. Best is trial 169 with value: 0.5387611715279631.\u001b[0m\n"
     ]
    },
    {
     "name": "stdout",
     "output_type": "stream",
     "text": [
      "[LightGBM] [Warning] feature_fraction is set=0.9665725566723986, colsample_bytree=0.3 will be ignored. Current value: feature_fraction=0.9665725566723986\n",
      "[LightGBM] [Warning] min_data_in_leaf is set=200, min_child_samples=63 will be ignored. Current value: min_data_in_leaf=200\n",
      "[LightGBM] [Warning] min_gain_to_split is set=0.0814803227336437, min_split_gain=0.0 will be ignored. Current value: min_gain_to_split=0.0814803227336437\n",
      "[LightGBM] [Warning] bagging_fraction is set=0.9061209055739458, subsample=1.0 will be ignored. Current value: bagging_fraction=0.9061209055739458\n",
      "[LightGBM] [Warning] lambda_l1 is set=5.722651770360788, reg_alpha=0.0 will be ignored. Current value: lambda_l1=5.722651770360788\n",
      "[LightGBM] [Warning] lambda_l2 is set=0.0041044788086088795, reg_lambda=0.0 will be ignored. Current value: lambda_l2=0.0041044788086088795\n",
      "[LightGBM] [Warning] bagging_freq is set=7, subsample_freq=0 will be ignored. Current value: bagging_freq=7\n"
     ]
    },
    {
     "name": "stderr",
     "output_type": "stream",
     "text": [
      "\u001b[32m[I 2022-11-22 00:29:35,147]\u001b[0m Trial 174 pruned. Trial was pruned at iteration 0.\u001b[0m\n"
     ]
    },
    {
     "name": "stdout",
     "output_type": "stream",
     "text": [
      "[LightGBM] [Warning] feature_fraction is set=0.9632695776209635, colsample_bytree=0.3 will be ignored. Current value: feature_fraction=0.9632695776209635\n",
      "[LightGBM] [Warning] min_data_in_leaf is set=300, min_child_samples=65 will be ignored. Current value: min_data_in_leaf=300\n",
      "[LightGBM] [Warning] min_gain_to_split is set=0.005797224344121235, min_split_gain=0.0 will be ignored. Current value: min_gain_to_split=0.005797224344121235\n",
      "[LightGBM] [Warning] bagging_fraction is set=0.8786128412077455, subsample=1.0 will be ignored. Current value: bagging_fraction=0.8786128412077455\n",
      "[LightGBM] [Warning] lambda_l1 is set=3.7083956015132076, reg_alpha=0.0 will be ignored. Current value: lambda_l1=3.7083956015132076\n",
      "[LightGBM] [Warning] lambda_l2 is set=0.0015316500288854171, reg_lambda=0.0 will be ignored. Current value: lambda_l2=0.0015316500288854171\n",
      "[LightGBM] [Warning] bagging_freq is set=7, subsample_freq=0 will be ignored. Current value: bagging_freq=7\n",
      "[LightGBM] [Warning] feature_fraction is set=0.9632695776209635, colsample_bytree=0.3 will be ignored. Current value: feature_fraction=0.9632695776209635\n",
      "[LightGBM] [Warning] min_data_in_leaf is set=300, min_child_samples=65 will be ignored. Current value: min_data_in_leaf=300\n",
      "[LightGBM] [Warning] min_gain_to_split is set=0.005797224344121235, min_split_gain=0.0 will be ignored. Current value: min_gain_to_split=0.005797224344121235\n",
      "[LightGBM] [Warning] bagging_fraction is set=0.8786128412077455, subsample=1.0 will be ignored. Current value: bagging_fraction=0.8786128412077455\n",
      "[LightGBM] [Warning] lambda_l1 is set=3.7083956015132076, reg_alpha=0.0 will be ignored. Current value: lambda_l1=3.7083956015132076\n",
      "[LightGBM] [Warning] lambda_l2 is set=0.0015316500288854171, reg_lambda=0.0 will be ignored. Current value: lambda_l2=0.0015316500288854171\n",
      "[LightGBM] [Warning] bagging_freq is set=7, subsample_freq=0 will be ignored. Current value: bagging_freq=7\n",
      "[LightGBM] [Warning] feature_fraction is set=0.9632695776209635, colsample_bytree=0.3 will be ignored. Current value: feature_fraction=0.9632695776209635\n",
      "[LightGBM] [Warning] min_data_in_leaf is set=300, min_child_samples=65 will be ignored. Current value: min_data_in_leaf=300\n",
      "[LightGBM] [Warning] min_gain_to_split is set=0.005797224344121235, min_split_gain=0.0 will be ignored. Current value: min_gain_to_split=0.005797224344121235\n",
      "[LightGBM] [Warning] bagging_fraction is set=0.8786128412077455, subsample=1.0 will be ignored. Current value: bagging_fraction=0.8786128412077455\n",
      "[LightGBM] [Warning] lambda_l1 is set=3.7083956015132076, reg_alpha=0.0 will be ignored. Current value: lambda_l1=3.7083956015132076\n",
      "[LightGBM] [Warning] lambda_l2 is set=0.0015316500288854171, reg_lambda=0.0 will be ignored. Current value: lambda_l2=0.0015316500288854171\n",
      "[LightGBM] [Warning] bagging_freq is set=7, subsample_freq=0 will be ignored. Current value: bagging_freq=7\n",
      "[LightGBM] [Warning] feature_fraction is set=0.9632695776209635, colsample_bytree=0.3 will be ignored. Current value: feature_fraction=0.9632695776209635\n",
      "[LightGBM] [Warning] min_data_in_leaf is set=300, min_child_samples=65 will be ignored. Current value: min_data_in_leaf=300\n",
      "[LightGBM] [Warning] min_gain_to_split is set=0.005797224344121235, min_split_gain=0.0 will be ignored. Current value: min_gain_to_split=0.005797224344121235\n",
      "[LightGBM] [Warning] bagging_fraction is set=0.8786128412077455, subsample=1.0 will be ignored. Current value: bagging_fraction=0.8786128412077455\n",
      "[LightGBM] [Warning] lambda_l1 is set=3.7083956015132076, reg_alpha=0.0 will be ignored. Current value: lambda_l1=3.7083956015132076\n",
      "[LightGBM] [Warning] lambda_l2 is set=0.0015316500288854171, reg_lambda=0.0 will be ignored. Current value: lambda_l2=0.0015316500288854171\n",
      "[LightGBM] [Warning] bagging_freq is set=7, subsample_freq=0 will be ignored. Current value: bagging_freq=7\n"
     ]
    },
    {
     "name": "stderr",
     "output_type": "stream",
     "text": [
      "\u001b[32m[I 2022-11-22 00:30:06,987]\u001b[0m Trial 175 finished with value: 0.5392322319928782 and parameters: {'n_estimators': 500, 'learning_rate': 0.2992333469174046, 'max_depth': 11, 'num_leaves': 11, 'min_data_in_leaf': 300, 'min_child_samples': 65, 'lambda_l1': 3.7083956015132076, 'lambda_l2': 0.0015316500288854171, 'min_gain_to_split': 0.005797224344121235, 'feature_fraction': 0.9632695776209635, 'bagging_fraction': 0.8786128412077455, 'bagging_freq': 7, 'colsample_bytree': 0.3}. Best is trial 169 with value: 0.5387611715279631.\u001b[0m\n"
     ]
    },
    {
     "name": "stdout",
     "output_type": "stream",
     "text": [
      "[LightGBM] [Warning] feature_fraction is set=0.9621029296749913, colsample_bytree=0.3 will be ignored. Current value: feature_fraction=0.9621029296749913\n",
      "[LightGBM] [Warning] min_data_in_leaf is set=400, min_child_samples=65 will be ignored. Current value: min_data_in_leaf=400\n",
      "[LightGBM] [Warning] min_gain_to_split is set=0.47527986939801686, min_split_gain=0.0 will be ignored. Current value: min_gain_to_split=0.47527986939801686\n",
      "[LightGBM] [Warning] bagging_fraction is set=0.9264259203281212, subsample=1.0 will be ignored. Current value: bagging_fraction=0.9264259203281212\n",
      "[LightGBM] [Warning] lambda_l1 is set=4.392075605963893, reg_alpha=0.0 will be ignored. Current value: lambda_l1=4.392075605963893\n",
      "[LightGBM] [Warning] lambda_l2 is set=0.002005747154283272, reg_lambda=0.0 will be ignored. Current value: lambda_l2=0.002005747154283272\n",
      "[LightGBM] [Warning] bagging_freq is set=7, subsample_freq=0 will be ignored. Current value: bagging_freq=7\n"
     ]
    },
    {
     "name": "stderr",
     "output_type": "stream",
     "text": [
      "\u001b[32m[I 2022-11-22 00:30:07,858]\u001b[0m Trial 176 pruned. Trial was pruned at iteration 0.\u001b[0m\n",
      "\u001b[32m[I 2022-11-22 00:30:08,747]\u001b[0m Trial 177 pruned. Trial was pruned at iteration 0.\u001b[0m\n",
      "\u001b[32m[I 2022-11-22 00:30:09,629]\u001b[0m Trial 178 pruned. Trial was pruned at iteration 0.\u001b[0m\n",
      "\u001b[32m[I 2022-11-22 00:30:15,816]\u001b[0m Trial 179 pruned. Trial was pruned at iteration 450.\u001b[0m\n"
     ]
    },
    {
     "name": "stdout",
     "output_type": "stream",
     "text": [
      "[LightGBM] [Warning] feature_fraction is set=0.9759860021333681, colsample_bytree=0.3 will be ignored. Current value: feature_fraction=0.9759860021333681\n",
      "[LightGBM] [Warning] min_data_in_leaf is set=400, min_child_samples=64 will be ignored. Current value: min_data_in_leaf=400\n",
      "[LightGBM] [Warning] min_gain_to_split is set=0.045067093623184507, min_split_gain=0.0 will be ignored. Current value: min_gain_to_split=0.045067093623184507\n",
      "[LightGBM] [Warning] bagging_fraction is set=0.8784125683783421, subsample=1.0 will be ignored. Current value: bagging_fraction=0.8784125683783421\n",
      "[LightGBM] [Warning] lambda_l1 is set=3.6656602491556005, reg_alpha=0.0 will be ignored. Current value: lambda_l1=3.6656602491556005\n",
      "[LightGBM] [Warning] lambda_l2 is set=0.003293457747414288, reg_lambda=0.0 will be ignored. Current value: lambda_l2=0.003293457747414288\n",
      "[LightGBM] [Warning] bagging_freq is set=7, subsample_freq=0 will be ignored. Current value: bagging_freq=7\n",
      "[LightGBM] [Warning] feature_fraction is set=0.9759860021333681, colsample_bytree=0.3 will be ignored. Current value: feature_fraction=0.9759860021333681\n",
      "[LightGBM] [Warning] min_data_in_leaf is set=400, min_child_samples=64 will be ignored. Current value: min_data_in_leaf=400\n",
      "[LightGBM] [Warning] min_gain_to_split is set=0.045067093623184507, min_split_gain=0.0 will be ignored. Current value: min_gain_to_split=0.045067093623184507\n",
      "[LightGBM] [Warning] bagging_fraction is set=0.8784125683783421, subsample=1.0 will be ignored. Current value: bagging_fraction=0.8784125683783421\n",
      "[LightGBM] [Warning] lambda_l1 is set=3.6656602491556005, reg_alpha=0.0 will be ignored. Current value: lambda_l1=3.6656602491556005\n",
      "[LightGBM] [Warning] lambda_l2 is set=0.003293457747414288, reg_lambda=0.0 will be ignored. Current value: lambda_l2=0.003293457747414288\n",
      "[LightGBM] [Warning] bagging_freq is set=7, subsample_freq=0 will be ignored. Current value: bagging_freq=7\n",
      "[LightGBM] [Warning] feature_fraction is set=0.9759860021333681, colsample_bytree=0.3 will be ignored. Current value: feature_fraction=0.9759860021333681\n",
      "[LightGBM] [Warning] min_data_in_leaf is set=400, min_child_samples=64 will be ignored. Current value: min_data_in_leaf=400\n",
      "[LightGBM] [Warning] min_gain_to_split is set=0.045067093623184507, min_split_gain=0.0 will be ignored. Current value: min_gain_to_split=0.045067093623184507\n",
      "[LightGBM] [Warning] bagging_fraction is set=0.8784125683783421, subsample=1.0 will be ignored. Current value: bagging_fraction=0.8784125683783421\n",
      "[LightGBM] [Warning] lambda_l1 is set=3.6656602491556005, reg_alpha=0.0 will be ignored. Current value: lambda_l1=3.6656602491556005\n",
      "[LightGBM] [Warning] lambda_l2 is set=0.003293457747414288, reg_lambda=0.0 will be ignored. Current value: lambda_l2=0.003293457747414288\n",
      "[LightGBM] [Warning] bagging_freq is set=7, subsample_freq=0 will be ignored. Current value: bagging_freq=7\n",
      "[LightGBM] [Warning] feature_fraction is set=0.9759860021333681, colsample_bytree=0.3 will be ignored. Current value: feature_fraction=0.9759860021333681\n",
      "[LightGBM] [Warning] min_data_in_leaf is set=400, min_child_samples=64 will be ignored. Current value: min_data_in_leaf=400\n",
      "[LightGBM] [Warning] min_gain_to_split is set=0.045067093623184507, min_split_gain=0.0 will be ignored. Current value: min_gain_to_split=0.045067093623184507\n",
      "[LightGBM] [Warning] bagging_fraction is set=0.8784125683783421, subsample=1.0 will be ignored. Current value: bagging_fraction=0.8784125683783421\n",
      "[LightGBM] [Warning] lambda_l1 is set=3.6656602491556005, reg_alpha=0.0 will be ignored. Current value: lambda_l1=3.6656602491556005\n",
      "[LightGBM] [Warning] lambda_l2 is set=0.003293457747414288, reg_lambda=0.0 will be ignored. Current value: lambda_l2=0.003293457747414288\n",
      "[LightGBM] [Warning] bagging_freq is set=7, subsample_freq=0 will be ignored. Current value: bagging_freq=7\n"
     ]
    },
    {
     "name": "stderr",
     "output_type": "stream",
     "text": [
      "\u001b[32m[I 2022-11-22 00:30:47,606]\u001b[0m Trial 180 finished with value: 0.5417713529280617 and parameters: {'n_estimators': 500, 'learning_rate': 0.2948002961672889, 'max_depth': 11, 'num_leaves': 11, 'min_data_in_leaf': 400, 'min_child_samples': 64, 'lambda_l1': 3.6656602491556005, 'lambda_l2': 0.003293457747414288, 'min_gain_to_split': 0.045067093623184507, 'feature_fraction': 0.9759860021333681, 'bagging_fraction': 0.8784125683783421, 'bagging_freq': 7, 'colsample_bytree': 0.3}. Best is trial 169 with value: 0.5387611715279631.\u001b[0m\n"
     ]
    },
    {
     "name": "stdout",
     "output_type": "stream",
     "text": [
      "[LightGBM] [Warning] feature_fraction is set=0.973547092623913, colsample_bytree=0.3 will be ignored. Current value: feature_fraction=0.973547092623913\n",
      "[LightGBM] [Warning] min_data_in_leaf is set=400, min_child_samples=64 will be ignored. Current value: min_data_in_leaf=400\n",
      "[LightGBM] [Warning] min_gain_to_split is set=0.0207459295043569, min_split_gain=0.0 will be ignored. Current value: min_gain_to_split=0.0207459295043569\n",
      "[LightGBM] [Warning] bagging_fraction is set=0.8820597052290041, subsample=1.0 will be ignored. Current value: bagging_fraction=0.8820597052290041\n",
      "[LightGBM] [Warning] lambda_l1 is set=3.7045413256542954, reg_alpha=0.0 will be ignored. Current value: lambda_l1=3.7045413256542954\n",
      "[LightGBM] [Warning] lambda_l2 is set=0.003399444734707993, reg_lambda=0.0 will be ignored. Current value: lambda_l2=0.003399444734707993\n",
      "[LightGBM] [Warning] bagging_freq is set=7, subsample_freq=0 will be ignored. Current value: bagging_freq=7\n"
     ]
    },
    {
     "name": "stderr",
     "output_type": "stream",
     "text": [
      "\u001b[32m[I 2022-11-22 00:30:48,466]\u001b[0m Trial 181 pruned. Trial was pruned at iteration 0.\u001b[0m\n",
      "\u001b[32m[I 2022-11-22 00:30:54,235]\u001b[0m Trial 182 pruned. Trial was pruned at iteration 489.\u001b[0m\n",
      "\u001b[32m[I 2022-11-22 00:30:55,128]\u001b[0m Trial 183 pruned. Trial was pruned at iteration 0.\u001b[0m\n"
     ]
    },
    {
     "name": "stdout",
     "output_type": "stream",
     "text": [
      "[LightGBM] [Warning] feature_fraction is set=0.9546406131009624, colsample_bytree=0.3 will be ignored. Current value: feature_fraction=0.9546406131009624\n",
      "[LightGBM] [Warning] min_data_in_leaf is set=200, min_child_samples=64 will be ignored. Current value: min_data_in_leaf=200\n",
      "[LightGBM] [Warning] min_gain_to_split is set=0.2736193258804501, min_split_gain=0.0 will be ignored. Current value: min_gain_to_split=0.2736193258804501\n",
      "[LightGBM] [Warning] bagging_fraction is set=0.8925362033643846, subsample=1.0 will be ignored. Current value: bagging_fraction=0.8925362033643846\n",
      "[LightGBM] [Warning] lambda_l1 is set=0.45280991705009993, reg_alpha=0.0 will be ignored. Current value: lambda_l1=0.45280991705009993\n",
      "[LightGBM] [Warning] lambda_l2 is set=0.01033822978145861, reg_lambda=0.0 will be ignored. Current value: lambda_l2=0.01033822978145861\n",
      "[LightGBM] [Warning] bagging_freq is set=7, subsample_freq=0 will be ignored. Current value: bagging_freq=7\n",
      "[LightGBM] [Warning] feature_fraction is set=0.9546406131009624, colsample_bytree=0.3 will be ignored. Current value: feature_fraction=0.9546406131009624\n",
      "[LightGBM] [Warning] min_data_in_leaf is set=200, min_child_samples=64 will be ignored. Current value: min_data_in_leaf=200\n",
      "[LightGBM] [Warning] min_gain_to_split is set=0.2736193258804501, min_split_gain=0.0 will be ignored. Current value: min_gain_to_split=0.2736193258804501\n",
      "[LightGBM] [Warning] bagging_fraction is set=0.8925362033643846, subsample=1.0 will be ignored. Current value: bagging_fraction=0.8925362033643846\n",
      "[LightGBM] [Warning] lambda_l1 is set=0.45280991705009993, reg_alpha=0.0 will be ignored. Current value: lambda_l1=0.45280991705009993\n",
      "[LightGBM] [Warning] lambda_l2 is set=0.01033822978145861, reg_lambda=0.0 will be ignored. Current value: lambda_l2=0.01033822978145861\n",
      "[LightGBM] [Warning] bagging_freq is set=7, subsample_freq=0 will be ignored. Current value: bagging_freq=7\n",
      "[LightGBM] [Warning] feature_fraction is set=0.9546406131009624, colsample_bytree=0.3 will be ignored. Current value: feature_fraction=0.9546406131009624\n",
      "[LightGBM] [Warning] min_data_in_leaf is set=200, min_child_samples=64 will be ignored. Current value: min_data_in_leaf=200\n",
      "[LightGBM] [Warning] min_gain_to_split is set=0.2736193258804501, min_split_gain=0.0 will be ignored. Current value: min_gain_to_split=0.2736193258804501\n",
      "[LightGBM] [Warning] bagging_fraction is set=0.8925362033643846, subsample=1.0 will be ignored. Current value: bagging_fraction=0.8925362033643846\n",
      "[LightGBM] [Warning] lambda_l1 is set=0.45280991705009993, reg_alpha=0.0 will be ignored. Current value: lambda_l1=0.45280991705009993\n",
      "[LightGBM] [Warning] lambda_l2 is set=0.01033822978145861, reg_lambda=0.0 will be ignored. Current value: lambda_l2=0.01033822978145861\n",
      "[LightGBM] [Warning] bagging_freq is set=7, subsample_freq=0 will be ignored. Current value: bagging_freq=7\n",
      "[LightGBM] [Warning] feature_fraction is set=0.9546406131009624, colsample_bytree=0.3 will be ignored. Current value: feature_fraction=0.9546406131009624\n",
      "[LightGBM] [Warning] min_data_in_leaf is set=200, min_child_samples=64 will be ignored. Current value: min_data_in_leaf=200\n",
      "[LightGBM] [Warning] min_gain_to_split is set=0.2736193258804501, min_split_gain=0.0 will be ignored. Current value: min_gain_to_split=0.2736193258804501\n",
      "[LightGBM] [Warning] bagging_fraction is set=0.8925362033643846, subsample=1.0 will be ignored. Current value: bagging_fraction=0.8925362033643846\n",
      "[LightGBM] [Warning] lambda_l1 is set=0.45280991705009993, reg_alpha=0.0 will be ignored. Current value: lambda_l1=0.45280991705009993\n",
      "[LightGBM] [Warning] lambda_l2 is set=0.01033822978145861, reg_lambda=0.0 will be ignored. Current value: lambda_l2=0.01033822978145861\n",
      "[LightGBM] [Warning] bagging_freq is set=7, subsample_freq=0 will be ignored. Current value: bagging_freq=7\n"
     ]
    },
    {
     "name": "stderr",
     "output_type": "stream",
     "text": [
      "\u001b[32m[I 2022-11-22 00:31:25,933]\u001b[0m Trial 184 finished with value: 0.5391237385115002 and parameters: {'n_estimators': 500, 'learning_rate': 0.29749815602154683, 'max_depth': 11, 'num_leaves': 11, 'min_data_in_leaf': 200, 'min_child_samples': 64, 'lambda_l1': 0.45280991705009993, 'lambda_l2': 0.01033822978145861, 'min_gain_to_split': 0.2736193258804501, 'feature_fraction': 0.9546406131009624, 'bagging_fraction': 0.8925362033643846, 'bagging_freq': 7, 'colsample_bytree': 0.3}. Best is trial 169 with value: 0.5387611715279631.\u001b[0m\n"
     ]
    },
    {
     "name": "stdout",
     "output_type": "stream",
     "text": [
      "[LightGBM] [Warning] feature_fraction is set=0.9442744213438122, colsample_bytree=0.3 will be ignored. Current value: feature_fraction=0.9442744213438122\n",
      "[LightGBM] [Warning] min_data_in_leaf is set=400, min_child_samples=61 will be ignored. Current value: min_data_in_leaf=400\n",
      "[LightGBM] [Warning] min_gain_to_split is set=0.24818648349524702, min_split_gain=0.0 will be ignored. Current value: min_gain_to_split=0.24818648349524702\n",
      "[LightGBM] [Warning] bagging_fraction is set=0.8735791730424097, subsample=1.0 will be ignored. Current value: bagging_fraction=0.8735791730424097\n",
      "[LightGBM] [Warning] lambda_l1 is set=0.4517488427654404, reg_alpha=0.0 will be ignored. Current value: lambda_l1=0.4517488427654404\n",
      "[LightGBM] [Warning] lambda_l2 is set=0.010925172143440224, reg_lambda=0.0 will be ignored. Current value: lambda_l2=0.010925172143440224\n",
      "[LightGBM] [Warning] bagging_freq is set=7, subsample_freq=0 will be ignored. Current value: bagging_freq=7\n"
     ]
    },
    {
     "name": "stderr",
     "output_type": "stream",
     "text": [
      "\u001b[32m[I 2022-11-22 00:31:26,837]\u001b[0m Trial 185 pruned. Trial was pruned at iteration 0.\u001b[0m\n",
      "\u001b[32m[I 2022-11-22 00:31:28,195]\u001b[0m Trial 186 pruned. Trial was pruned at iteration 0.\u001b[0m\n",
      "\u001b[32m[I 2022-11-22 00:31:34,004]\u001b[0m Trial 187 pruned. Trial was pruned at iteration 450.\u001b[0m\n",
      "\u001b[32m[I 2022-11-22 00:31:39,765]\u001b[0m Trial 188 pruned. Trial was pruned at iteration 450.\u001b[0m\n",
      "\u001b[32m[I 2022-11-22 00:31:40,665]\u001b[0m Trial 189 pruned. Trial was pruned at iteration 0.\u001b[0m\n",
      "\u001b[32m[I 2022-11-22 00:31:41,665]\u001b[0m Trial 190 pruned. Trial was pruned at iteration 0.\u001b[0m\n"
     ]
    },
    {
     "name": "stdout",
     "output_type": "stream",
     "text": [
      "[LightGBM] [Warning] feature_fraction is set=0.9734418159724482, colsample_bytree=0.3 will be ignored. Current value: feature_fraction=0.9734418159724482\n",
      "[LightGBM] [Warning] min_data_in_leaf is set=200, min_child_samples=63 will be ignored. Current value: min_data_in_leaf=200\n",
      "[LightGBM] [Warning] min_gain_to_split is set=0.3546545499759619, min_split_gain=0.0 will be ignored. Current value: min_gain_to_split=0.3546545499759619\n",
      "[LightGBM] [Warning] bagging_fraction is set=0.8792137589691249, subsample=1.0 will be ignored. Current value: bagging_fraction=0.8792137589691249\n",
      "[LightGBM] [Warning] lambda_l1 is set=4.150171839368313, reg_alpha=0.0 will be ignored. Current value: lambda_l1=4.150171839368313\n",
      "[LightGBM] [Warning] lambda_l2 is set=0.0028663257053068263, reg_lambda=0.0 will be ignored. Current value: lambda_l2=0.0028663257053068263\n",
      "[LightGBM] [Warning] bagging_freq is set=7, subsample_freq=0 will be ignored. Current value: bagging_freq=7\n",
      "[LightGBM] [Warning] feature_fraction is set=0.9734418159724482, colsample_bytree=0.3 will be ignored. Current value: feature_fraction=0.9734418159724482\n",
      "[LightGBM] [Warning] min_data_in_leaf is set=200, min_child_samples=63 will be ignored. Current value: min_data_in_leaf=200\n",
      "[LightGBM] [Warning] min_gain_to_split is set=0.3546545499759619, min_split_gain=0.0 will be ignored. Current value: min_gain_to_split=0.3546545499759619\n",
      "[LightGBM] [Warning] bagging_fraction is set=0.8792137589691249, subsample=1.0 will be ignored. Current value: bagging_fraction=0.8792137589691249\n",
      "[LightGBM] [Warning] lambda_l1 is set=4.150171839368313, reg_alpha=0.0 will be ignored. Current value: lambda_l1=4.150171839368313\n",
      "[LightGBM] [Warning] lambda_l2 is set=0.0028663257053068263, reg_lambda=0.0 will be ignored. Current value: lambda_l2=0.0028663257053068263\n",
      "[LightGBM] [Warning] bagging_freq is set=7, subsample_freq=0 will be ignored. Current value: bagging_freq=7\n",
      "[LightGBM] [Warning] feature_fraction is set=0.9734418159724482, colsample_bytree=0.3 will be ignored. Current value: feature_fraction=0.9734418159724482\n",
      "[LightGBM] [Warning] min_data_in_leaf is set=200, min_child_samples=63 will be ignored. Current value: min_data_in_leaf=200\n",
      "[LightGBM] [Warning] min_gain_to_split is set=0.3546545499759619, min_split_gain=0.0 will be ignored. Current value: min_gain_to_split=0.3546545499759619\n",
      "[LightGBM] [Warning] bagging_fraction is set=0.8792137589691249, subsample=1.0 will be ignored. Current value: bagging_fraction=0.8792137589691249\n",
      "[LightGBM] [Warning] lambda_l1 is set=4.150171839368313, reg_alpha=0.0 will be ignored. Current value: lambda_l1=4.150171839368313\n",
      "[LightGBM] [Warning] lambda_l2 is set=0.0028663257053068263, reg_lambda=0.0 will be ignored. Current value: lambda_l2=0.0028663257053068263\n",
      "[LightGBM] [Warning] bagging_freq is set=7, subsample_freq=0 will be ignored. Current value: bagging_freq=7\n",
      "[LightGBM] [Warning] feature_fraction is set=0.9734418159724482, colsample_bytree=0.3 will be ignored. Current value: feature_fraction=0.9734418159724482\n",
      "[LightGBM] [Warning] min_data_in_leaf is set=200, min_child_samples=63 will be ignored. Current value: min_data_in_leaf=200\n",
      "[LightGBM] [Warning] min_gain_to_split is set=0.3546545499759619, min_split_gain=0.0 will be ignored. Current value: min_gain_to_split=0.3546545499759619\n",
      "[LightGBM] [Warning] bagging_fraction is set=0.8792137589691249, subsample=1.0 will be ignored. Current value: bagging_fraction=0.8792137589691249\n",
      "[LightGBM] [Warning] lambda_l1 is set=4.150171839368313, reg_alpha=0.0 will be ignored. Current value: lambda_l1=4.150171839368313\n",
      "[LightGBM] [Warning] lambda_l2 is set=0.0028663257053068263, reg_lambda=0.0 will be ignored. Current value: lambda_l2=0.0028663257053068263\n",
      "[LightGBM] [Warning] bagging_freq is set=7, subsample_freq=0 will be ignored. Current value: bagging_freq=7\n"
     ]
    },
    {
     "name": "stderr",
     "output_type": "stream",
     "text": [
      "\u001b[32m[I 2022-11-22 00:32:12,830]\u001b[0m Trial 191 finished with value: 0.5396784143323565 and parameters: {'n_estimators': 500, 'learning_rate': 0.2985249064948257, 'max_depth': 11, 'num_leaves': 11, 'min_data_in_leaf': 200, 'min_child_samples': 63, 'lambda_l1': 4.150171839368313, 'lambda_l2': 0.0028663257053068263, 'min_gain_to_split': 0.3546545499759619, 'feature_fraction': 0.9734418159724482, 'bagging_fraction': 0.8792137589691249, 'bagging_freq': 7, 'colsample_bytree': 0.3}. Best is trial 169 with value: 0.5387611715279631.\u001b[0m\n"
     ]
    },
    {
     "name": "stdout",
     "output_type": "stream",
     "text": [
      "[LightGBM] [Warning] feature_fraction is set=0.9732360474420021, colsample_bytree=0.3 will be ignored. Current value: feature_fraction=0.9732360474420021\n",
      "[LightGBM] [Warning] min_data_in_leaf is set=200, min_child_samples=62 will be ignored. Current value: min_data_in_leaf=200\n",
      "[LightGBM] [Warning] min_gain_to_split is set=0.30981102796179033, min_split_gain=0.0 will be ignored. Current value: min_gain_to_split=0.30981102796179033\n",
      "[LightGBM] [Warning] bagging_fraction is set=0.883495382428465, subsample=1.0 will be ignored. Current value: bagging_fraction=0.883495382428465\n",
      "[LightGBM] [Warning] lambda_l1 is set=3.471341942379285, reg_alpha=0.0 will be ignored. Current value: lambda_l1=3.471341942379285\n",
      "[LightGBM] [Warning] lambda_l2 is set=0.002845629819130316, reg_lambda=0.0 will be ignored. Current value: lambda_l2=0.002845629819130316\n",
      "[LightGBM] [Warning] bagging_freq is set=7, subsample_freq=0 will be ignored. Current value: bagging_freq=7\n"
     ]
    },
    {
     "name": "stderr",
     "output_type": "stream",
     "text": [
      "\u001b[32m[I 2022-11-22 00:32:13,707]\u001b[0m Trial 192 pruned. Trial was pruned at iteration 0.\u001b[0m\n",
      "\u001b[32m[I 2022-11-22 00:32:14,592]\u001b[0m Trial 193 pruned. Trial was pruned at iteration 0.\u001b[0m\n",
      "\u001b[32m[I 2022-11-22 00:32:20,328]\u001b[0m Trial 194 pruned. Trial was pruned at iteration 450.\u001b[0m\n",
      "\u001b[32m[I 2022-11-22 00:32:21,204]\u001b[0m Trial 195 pruned. Trial was pruned at iteration 0.\u001b[0m\n",
      "\u001b[32m[I 2022-11-22 00:32:22,142]\u001b[0m Trial 196 pruned. Trial was pruned at iteration 0.\u001b[0m\n",
      "\u001b[32m[I 2022-11-22 00:32:27,784]\u001b[0m Trial 197 pruned. Trial was pruned at iteration 450.\u001b[0m\n",
      "\u001b[32m[I 2022-11-22 00:32:28,687]\u001b[0m Trial 198 pruned. Trial was pruned at iteration 0.\u001b[0m\n",
      "\u001b[32m[I 2022-11-22 00:32:30,097]\u001b[0m Trial 199 pruned. Trial was pruned at iteration 0.\u001b[0m\n",
      "\u001b[32m[I 2022-11-22 00:32:30,971]\u001b[0m Trial 200 pruned. Trial was pruned at iteration 0.\u001b[0m\n",
      "\u001b[32m[I 2022-11-22 00:32:31,991]\u001b[0m Trial 201 pruned. Trial was pruned at iteration 0.\u001b[0m\n",
      "\u001b[32m[I 2022-11-22 00:32:32,887]\u001b[0m Trial 202 pruned. Trial was pruned at iteration 0.\u001b[0m\n",
      "\u001b[32m[I 2022-11-22 00:32:38,604]\u001b[0m Trial 203 pruned. Trial was pruned at iteration 450.\u001b[0m\n",
      "\u001b[32m[I 2022-11-22 00:32:39,488]\u001b[0m Trial 204 pruned. Trial was pruned at iteration 0.\u001b[0m\n",
      "\u001b[32m[I 2022-11-22 00:32:40,367]\u001b[0m Trial 205 pruned. Trial was pruned at iteration 0.\u001b[0m\n",
      "\u001b[32m[I 2022-11-22 00:32:46,208]\u001b[0m Trial 206 pruned. Trial was pruned at iteration 450.\u001b[0m\n",
      "\u001b[32m[I 2022-11-22 00:32:47,078]\u001b[0m Trial 207 pruned. Trial was pruned at iteration 0.\u001b[0m\n",
      "\u001b[32m[I 2022-11-22 00:32:48,025]\u001b[0m Trial 208 pruned. Trial was pruned at iteration 0.\u001b[0m\n",
      "\u001b[32m[I 2022-11-22 00:32:49,410]\u001b[0m Trial 209 pruned. Trial was pruned at iteration 0.\u001b[0m\n",
      "\u001b[32m[I 2022-11-22 00:32:55,063]\u001b[0m Trial 210 pruned. Trial was pruned at iteration 450.\u001b[0m\n"
     ]
    },
    {
     "name": "stdout",
     "output_type": "stream",
     "text": [
      "[LightGBM] [Warning] feature_fraction is set=0.9781832896329951, colsample_bytree=0.3 will be ignored. Current value: feature_fraction=0.9781832896329951\n",
      "[LightGBM] [Warning] min_data_in_leaf is set=300, min_child_samples=66 will be ignored. Current value: min_data_in_leaf=300\n",
      "[LightGBM] [Warning] min_gain_to_split is set=0.008898946781637676, min_split_gain=0.0 will be ignored. Current value: min_gain_to_split=0.008898946781637676\n",
      "[LightGBM] [Warning] bagging_fraction is set=0.9154513933988658, subsample=1.0 will be ignored. Current value: bagging_fraction=0.9154513933988658\n",
      "[LightGBM] [Warning] lambda_l1 is set=3.924462948316927, reg_alpha=0.0 will be ignored. Current value: lambda_l1=3.924462948316927\n",
      "[LightGBM] [Warning] lambda_l2 is set=0.0034057121107031138, reg_lambda=0.0 will be ignored. Current value: lambda_l2=0.0034057121107031138\n",
      "[LightGBM] [Warning] bagging_freq is set=7, subsample_freq=0 will be ignored. Current value: bagging_freq=7\n",
      "[LightGBM] [Warning] feature_fraction is set=0.9781832896329951, colsample_bytree=0.3 will be ignored. Current value: feature_fraction=0.9781832896329951\n",
      "[LightGBM] [Warning] min_data_in_leaf is set=300, min_child_samples=66 will be ignored. Current value: min_data_in_leaf=300\n",
      "[LightGBM] [Warning] min_gain_to_split is set=0.008898946781637676, min_split_gain=0.0 will be ignored. Current value: min_gain_to_split=0.008898946781637676\n",
      "[LightGBM] [Warning] bagging_fraction is set=0.9154513933988658, subsample=1.0 will be ignored. Current value: bagging_fraction=0.9154513933988658\n",
      "[LightGBM] [Warning] lambda_l1 is set=3.924462948316927, reg_alpha=0.0 will be ignored. Current value: lambda_l1=3.924462948316927\n",
      "[LightGBM] [Warning] lambda_l2 is set=0.0034057121107031138, reg_lambda=0.0 will be ignored. Current value: lambda_l2=0.0034057121107031138\n",
      "[LightGBM] [Warning] bagging_freq is set=7, subsample_freq=0 will be ignored. Current value: bagging_freq=7\n",
      "[LightGBM] [Warning] feature_fraction is set=0.9781832896329951, colsample_bytree=0.3 will be ignored. Current value: feature_fraction=0.9781832896329951\n",
      "[LightGBM] [Warning] min_data_in_leaf is set=300, min_child_samples=66 will be ignored. Current value: min_data_in_leaf=300\n",
      "[LightGBM] [Warning] min_gain_to_split is set=0.008898946781637676, min_split_gain=0.0 will be ignored. Current value: min_gain_to_split=0.008898946781637676\n",
      "[LightGBM] [Warning] bagging_fraction is set=0.9154513933988658, subsample=1.0 will be ignored. Current value: bagging_fraction=0.9154513933988658\n",
      "[LightGBM] [Warning] lambda_l1 is set=3.924462948316927, reg_alpha=0.0 will be ignored. Current value: lambda_l1=3.924462948316927\n",
      "[LightGBM] [Warning] lambda_l2 is set=0.0034057121107031138, reg_lambda=0.0 will be ignored. Current value: lambda_l2=0.0034057121107031138\n",
      "[LightGBM] [Warning] bagging_freq is set=7, subsample_freq=0 will be ignored. Current value: bagging_freq=7\n",
      "[LightGBM] [Warning] feature_fraction is set=0.9781832896329951, colsample_bytree=0.3 will be ignored. Current value: feature_fraction=0.9781832896329951\n",
      "[LightGBM] [Warning] min_data_in_leaf is set=300, min_child_samples=66 will be ignored. Current value: min_data_in_leaf=300\n",
      "[LightGBM] [Warning] min_gain_to_split is set=0.008898946781637676, min_split_gain=0.0 will be ignored. Current value: min_gain_to_split=0.008898946781637676\n",
      "[LightGBM] [Warning] bagging_fraction is set=0.9154513933988658, subsample=1.0 will be ignored. Current value: bagging_fraction=0.9154513933988658\n",
      "[LightGBM] [Warning] lambda_l1 is set=3.924462948316927, reg_alpha=0.0 will be ignored. Current value: lambda_l1=3.924462948316927\n",
      "[LightGBM] [Warning] lambda_l2 is set=0.0034057121107031138, reg_lambda=0.0 will be ignored. Current value: lambda_l2=0.0034057121107031138\n",
      "[LightGBM] [Warning] bagging_freq is set=7, subsample_freq=0 will be ignored. Current value: bagging_freq=7\n"
     ]
    },
    {
     "name": "stderr",
     "output_type": "stream",
     "text": [
      "\u001b[32m[I 2022-11-22 00:33:26,775]\u001b[0m Trial 211 finished with value: 0.5388750516944112 and parameters: {'n_estimators': 500, 'learning_rate': 0.29530345883146397, 'max_depth': 11, 'num_leaves': 11, 'min_data_in_leaf': 300, 'min_child_samples': 66, 'lambda_l1': 3.924462948316927, 'lambda_l2': 0.0034057121107031138, 'min_gain_to_split': 0.008898946781637676, 'feature_fraction': 0.9781832896329951, 'bagging_fraction': 0.9154513933988658, 'bagging_freq': 7, 'colsample_bytree': 0.3}. Best is trial 169 with value: 0.5387611715279631.\u001b[0m\n"
     ]
    },
    {
     "name": "stdout",
     "output_type": "stream",
     "text": [
      "[LightGBM] [Warning] feature_fraction is set=0.9757412440353559, colsample_bytree=0.3 will be ignored. Current value: feature_fraction=0.9757412440353559\n",
      "[LightGBM] [Warning] min_data_in_leaf is set=200, min_child_samples=67 will be ignored. Current value: min_data_in_leaf=200\n",
      "[LightGBM] [Warning] min_gain_to_split is set=0.20942874024445537, min_split_gain=0.0 will be ignored. Current value: min_gain_to_split=0.20942874024445537\n",
      "[LightGBM] [Warning] bagging_fraction is set=0.9089474868085002, subsample=1.0 will be ignored. Current value: bagging_fraction=0.9089474868085002\n",
      "[LightGBM] [Warning] lambda_l1 is set=4.328678366838621, reg_alpha=0.0 will be ignored. Current value: lambda_l1=4.328678366838621\n",
      "[LightGBM] [Warning] lambda_l2 is set=0.00333588658386196, reg_lambda=0.0 will be ignored. Current value: lambda_l2=0.00333588658386196\n",
      "[LightGBM] [Warning] bagging_freq is set=7, subsample_freq=0 will be ignored. Current value: bagging_freq=7\n"
     ]
    },
    {
     "name": "stderr",
     "output_type": "stream",
     "text": [
      "\u001b[32m[I 2022-11-22 00:33:27,689]\u001b[0m Trial 212 pruned. Trial was pruned at iteration 0.\u001b[0m\n"
     ]
    },
    {
     "name": "stdout",
     "output_type": "stream",
     "text": [
      "[LightGBM] [Warning] feature_fraction is set=0.9782382009023587, colsample_bytree=0.3 will be ignored. Current value: feature_fraction=0.9782382009023587\n",
      "[LightGBM] [Warning] min_data_in_leaf is set=500, min_child_samples=95 will be ignored. Current value: min_data_in_leaf=500\n",
      "[LightGBM] [Warning] min_gain_to_split is set=0.029262818131711728, min_split_gain=0.0 will be ignored. Current value: min_gain_to_split=0.029262818131711728\n",
      "[LightGBM] [Warning] bagging_fraction is set=0.9321596450854234, subsample=1.0 will be ignored. Current value: bagging_fraction=0.9321596450854234\n",
      "[LightGBM] [Warning] lambda_l1 is set=1.7200309696262182, reg_alpha=0.0 will be ignored. Current value: lambda_l1=1.7200309696262182\n",
      "[LightGBM] [Warning] lambda_l2 is set=0.004818398450628892, reg_lambda=0.0 will be ignored. Current value: lambda_l2=0.004818398450628892\n",
      "[LightGBM] [Warning] bagging_freq is set=7, subsample_freq=0 will be ignored. Current value: bagging_freq=7\n",
      "[LightGBM] [Warning] feature_fraction is set=0.9782382009023587, colsample_bytree=0.3 will be ignored. Current value: feature_fraction=0.9782382009023587\n",
      "[LightGBM] [Warning] min_data_in_leaf is set=500, min_child_samples=95 will be ignored. Current value: min_data_in_leaf=500\n",
      "[LightGBM] [Warning] min_gain_to_split is set=0.029262818131711728, min_split_gain=0.0 will be ignored. Current value: min_gain_to_split=0.029262818131711728\n",
      "[LightGBM] [Warning] bagging_fraction is set=0.9321596450854234, subsample=1.0 will be ignored. Current value: bagging_fraction=0.9321596450854234\n",
      "[LightGBM] [Warning] lambda_l1 is set=1.7200309696262182, reg_alpha=0.0 will be ignored. Current value: lambda_l1=1.7200309696262182\n",
      "[LightGBM] [Warning] lambda_l2 is set=0.004818398450628892, reg_lambda=0.0 will be ignored. Current value: lambda_l2=0.004818398450628892\n",
      "[LightGBM] [Warning] bagging_freq is set=7, subsample_freq=0 will be ignored. Current value: bagging_freq=7\n",
      "[LightGBM] [Warning] feature_fraction is set=0.9782382009023587, colsample_bytree=0.3 will be ignored. Current value: feature_fraction=0.9782382009023587\n",
      "[LightGBM] [Warning] min_data_in_leaf is set=500, min_child_samples=95 will be ignored. Current value: min_data_in_leaf=500\n",
      "[LightGBM] [Warning] min_gain_to_split is set=0.029262818131711728, min_split_gain=0.0 will be ignored. Current value: min_gain_to_split=0.029262818131711728\n",
      "[LightGBM] [Warning] bagging_fraction is set=0.9321596450854234, subsample=1.0 will be ignored. Current value: bagging_fraction=0.9321596450854234\n",
      "[LightGBM] [Warning] lambda_l1 is set=1.7200309696262182, reg_alpha=0.0 will be ignored. Current value: lambda_l1=1.7200309696262182\n",
      "[LightGBM] [Warning] lambda_l2 is set=0.004818398450628892, reg_lambda=0.0 will be ignored. Current value: lambda_l2=0.004818398450628892\n",
      "[LightGBM] [Warning] bagging_freq is set=7, subsample_freq=0 will be ignored. Current value: bagging_freq=7\n",
      "[LightGBM] [Warning] feature_fraction is set=0.9782382009023587, colsample_bytree=0.3 will be ignored. Current value: feature_fraction=0.9782382009023587\n",
      "[LightGBM] [Warning] min_data_in_leaf is set=500, min_child_samples=95 will be ignored. Current value: min_data_in_leaf=500\n",
      "[LightGBM] [Warning] min_gain_to_split is set=0.029262818131711728, min_split_gain=0.0 will be ignored. Current value: min_gain_to_split=0.029262818131711728\n",
      "[LightGBM] [Warning] bagging_fraction is set=0.9321596450854234, subsample=1.0 will be ignored. Current value: bagging_fraction=0.9321596450854234\n",
      "[LightGBM] [Warning] lambda_l1 is set=1.7200309696262182, reg_alpha=0.0 will be ignored. Current value: lambda_l1=1.7200309696262182\n",
      "[LightGBM] [Warning] lambda_l2 is set=0.004818398450628892, reg_lambda=0.0 will be ignored. Current value: lambda_l2=0.004818398450628892\n",
      "[LightGBM] [Warning] bagging_freq is set=7, subsample_freq=0 will be ignored. Current value: bagging_freq=7\n"
     ]
    },
    {
     "name": "stderr",
     "output_type": "stream",
     "text": [
      "\u001b[32m[I 2022-11-22 00:34:01,162]\u001b[0m Trial 213 finished with value: 0.5403715501551988 and parameters: {'n_estimators': 500, 'learning_rate': 0.2999289196525093, 'max_depth': 11, 'num_leaves': 11, 'min_data_in_leaf': 500, 'min_child_samples': 95, 'lambda_l1': 1.7200309696262182, 'lambda_l2': 0.004818398450628892, 'min_gain_to_split': 0.029262818131711728, 'feature_fraction': 0.9782382009023587, 'bagging_fraction': 0.9321596450854234, 'bagging_freq': 7, 'colsample_bytree': 0.3}. Best is trial 169 with value: 0.5387611715279631.\u001b[0m\n"
     ]
    },
    {
     "name": "stdout",
     "output_type": "stream",
     "text": [
      "[LightGBM] [Warning] feature_fraction is set=0.9589480605518129, colsample_bytree=0.3 will be ignored. Current value: feature_fraction=0.9589480605518129\n",
      "[LightGBM] [Warning] min_data_in_leaf is set=600, min_child_samples=65 will be ignored. Current value: min_data_in_leaf=600\n",
      "[LightGBM] [Warning] min_gain_to_split is set=13.821036342782776, min_split_gain=0.0 will be ignored. Current value: min_gain_to_split=13.821036342782776\n",
      "[LightGBM] [Warning] bagging_fraction is set=0.9296635541431746, subsample=1.0 will be ignored. Current value: bagging_fraction=0.9296635541431746\n",
      "[LightGBM] [Warning] lambda_l1 is set=1.9340921424329325, reg_alpha=0.0 will be ignored. Current value: lambda_l1=1.9340921424329325\n",
      "[LightGBM] [Warning] lambda_l2 is set=0.001989196839049976, reg_lambda=0.0 will be ignored. Current value: lambda_l2=0.001989196839049976\n",
      "[LightGBM] [Warning] bagging_freq is set=7, subsample_freq=0 will be ignored. Current value: bagging_freq=7\n"
     ]
    },
    {
     "name": "stderr",
     "output_type": "stream",
     "text": [
      "\u001b[32m[I 2022-11-22 00:34:02,874]\u001b[0m Trial 214 pruned. Trial was pruned at iteration 60.\u001b[0m\n",
      "\u001b[32m[I 2022-11-22 00:34:03,816]\u001b[0m Trial 215 pruned. Trial was pruned at iteration 0.\u001b[0m\n",
      "\u001b[32m[I 2022-11-22 00:34:05,222]\u001b[0m Trial 216 pruned. Trial was pruned at iteration 0.\u001b[0m\n",
      "\u001b[32m[I 2022-11-22 00:34:06,352]\u001b[0m Trial 217 pruned. Trial was pruned at iteration 0.\u001b[0m\n",
      "\u001b[32m[I 2022-11-22 00:34:07,276]\u001b[0m Trial 218 pruned. Trial was pruned at iteration 0.\u001b[0m\n",
      "\u001b[32m[I 2022-11-22 00:34:08,189]\u001b[0m Trial 219 pruned. Trial was pruned at iteration 0.\u001b[0m\n"
     ]
    },
    {
     "name": "stdout",
     "output_type": "stream",
     "text": [
      "[LightGBM] [Warning] feature_fraction is set=0.9703080856827887, colsample_bytree=0.3 will be ignored. Current value: feature_fraction=0.9703080856827887\n",
      "[LightGBM] [Warning] min_data_in_leaf is set=500, min_child_samples=71 will be ignored. Current value: min_data_in_leaf=500\n",
      "[LightGBM] [Warning] min_gain_to_split is set=0.7431501593382295, min_split_gain=0.0 will be ignored. Current value: min_gain_to_split=0.7431501593382295\n",
      "[LightGBM] [Warning] bagging_fraction is set=0.9132437404126964, subsample=1.0 will be ignored. Current value: bagging_fraction=0.9132437404126964\n",
      "[LightGBM] [Warning] lambda_l1 is set=3.786520549876875, reg_alpha=0.0 will be ignored. Current value: lambda_l1=3.786520549876875\n",
      "[LightGBM] [Warning] lambda_l2 is set=0.0025746256471817033, reg_lambda=0.0 will be ignored. Current value: lambda_l2=0.0025746256471817033\n",
      "[LightGBM] [Warning] bagging_freq is set=7, subsample_freq=0 will be ignored. Current value: bagging_freq=7\n",
      "[LightGBM] [Warning] feature_fraction is set=0.9703080856827887, colsample_bytree=0.3 will be ignored. Current value: feature_fraction=0.9703080856827887\n",
      "[LightGBM] [Warning] min_data_in_leaf is set=500, min_child_samples=71 will be ignored. Current value: min_data_in_leaf=500\n",
      "[LightGBM] [Warning] min_gain_to_split is set=0.7431501593382295, min_split_gain=0.0 will be ignored. Current value: min_gain_to_split=0.7431501593382295\n",
      "[LightGBM] [Warning] bagging_fraction is set=0.9132437404126964, subsample=1.0 will be ignored. Current value: bagging_fraction=0.9132437404126964\n",
      "[LightGBM] [Warning] lambda_l1 is set=3.786520549876875, reg_alpha=0.0 will be ignored. Current value: lambda_l1=3.786520549876875\n",
      "[LightGBM] [Warning] lambda_l2 is set=0.0025746256471817033, reg_lambda=0.0 will be ignored. Current value: lambda_l2=0.0025746256471817033\n",
      "[LightGBM] [Warning] bagging_freq is set=7, subsample_freq=0 will be ignored. Current value: bagging_freq=7\n",
      "[LightGBM] [Warning] feature_fraction is set=0.9703080856827887, colsample_bytree=0.3 will be ignored. Current value: feature_fraction=0.9703080856827887\n",
      "[LightGBM] [Warning] min_data_in_leaf is set=500, min_child_samples=71 will be ignored. Current value: min_data_in_leaf=500\n",
      "[LightGBM] [Warning] min_gain_to_split is set=0.7431501593382295, min_split_gain=0.0 will be ignored. Current value: min_gain_to_split=0.7431501593382295\n",
      "[LightGBM] [Warning] bagging_fraction is set=0.9132437404126964, subsample=1.0 will be ignored. Current value: bagging_fraction=0.9132437404126964\n",
      "[LightGBM] [Warning] lambda_l1 is set=3.786520549876875, reg_alpha=0.0 will be ignored. Current value: lambda_l1=3.786520549876875\n",
      "[LightGBM] [Warning] lambda_l2 is set=0.0025746256471817033, reg_lambda=0.0 will be ignored. Current value: lambda_l2=0.0025746256471817033\n",
      "[LightGBM] [Warning] bagging_freq is set=7, subsample_freq=0 will be ignored. Current value: bagging_freq=7\n",
      "[LightGBM] [Warning] feature_fraction is set=0.9703080856827887, colsample_bytree=0.3 will be ignored. Current value: feature_fraction=0.9703080856827887\n",
      "[LightGBM] [Warning] min_data_in_leaf is set=500, min_child_samples=71 will be ignored. Current value: min_data_in_leaf=500\n",
      "[LightGBM] [Warning] min_gain_to_split is set=0.7431501593382295, min_split_gain=0.0 will be ignored. Current value: min_gain_to_split=0.7431501593382295\n",
      "[LightGBM] [Warning] bagging_fraction is set=0.9132437404126964, subsample=1.0 will be ignored. Current value: bagging_fraction=0.9132437404126964\n",
      "[LightGBM] [Warning] lambda_l1 is set=3.786520549876875, reg_alpha=0.0 will be ignored. Current value: lambda_l1=3.786520549876875\n",
      "[LightGBM] [Warning] lambda_l2 is set=0.0025746256471817033, reg_lambda=0.0 will be ignored. Current value: lambda_l2=0.0025746256471817033\n",
      "[LightGBM] [Warning] bagging_freq is set=7, subsample_freq=0 will be ignored. Current value: bagging_freq=7\n"
     ]
    },
    {
     "name": "stderr",
     "output_type": "stream",
     "text": [
      "\u001b[32m[I 2022-11-22 00:34:30,753]\u001b[0m Trial 220 finished with value: 0.5597749588850464 and parameters: {'n_estimators': 300, 'learning_rate': 0.29382493557677114, 'max_depth': 11, 'num_leaves': 11, 'min_data_in_leaf': 500, 'min_child_samples': 71, 'lambda_l1': 3.786520549876875, 'lambda_l2': 0.0025746256471817033, 'min_gain_to_split': 0.7431501593382295, 'feature_fraction': 0.9703080856827887, 'bagging_fraction': 0.9132437404126964, 'bagging_freq': 7, 'colsample_bytree': 0.3}. Best is trial 169 with value: 0.5387611715279631.\u001b[0m\n"
     ]
    },
    {
     "name": "stdout",
     "output_type": "stream",
     "text": [
      "[LightGBM] [Warning] feature_fraction is set=0.9890004848274703, colsample_bytree=0.3 will be ignored. Current value: feature_fraction=0.9890004848274703\n",
      "[LightGBM] [Warning] min_data_in_leaf is set=200, min_child_samples=93 will be ignored. Current value: min_data_in_leaf=200\n",
      "[LightGBM] [Warning] min_gain_to_split is set=0.2450861159156241, min_split_gain=0.0 will be ignored. Current value: min_gain_to_split=0.2450861159156241\n",
      "[LightGBM] [Warning] bagging_fraction is set=0.8717310394870579, subsample=1.0 will be ignored. Current value: bagging_fraction=0.8717310394870579\n",
      "[LightGBM] [Warning] lambda_l1 is set=2.1368691135410285, reg_alpha=0.0 will be ignored. Current value: lambda_l1=2.1368691135410285\n",
      "[LightGBM] [Warning] lambda_l2 is set=0.004567054845123045, reg_lambda=0.0 will be ignored. Current value: lambda_l2=0.004567054845123045\n",
      "[LightGBM] [Warning] bagging_freq is set=7, subsample_freq=0 will be ignored. Current value: bagging_freq=7\n"
     ]
    },
    {
     "name": "stderr",
     "output_type": "stream",
     "text": [
      "\u001b[32m[I 2022-11-22 00:34:31,601]\u001b[0m Trial 221 pruned. Trial was pruned at iteration 0.\u001b[0m\n",
      "\u001b[32m[I 2022-11-22 00:34:37,473]\u001b[0m Trial 222 pruned. Trial was pruned at iteration 424.\u001b[0m\n"
     ]
    },
    {
     "name": "stdout",
     "output_type": "stream",
     "text": [
      "[LightGBM] [Warning] feature_fraction is set=0.9658507086246584, colsample_bytree=0.3 will be ignored. Current value: feature_fraction=0.9658507086246584\n",
      "[LightGBM] [Warning] min_data_in_leaf is set=200, min_child_samples=98 will be ignored. Current value: min_data_in_leaf=200\n",
      "[LightGBM] [Warning] min_gain_to_split is set=0.007551036778260303, min_split_gain=0.0 will be ignored. Current value: min_gain_to_split=0.007551036778260303\n",
      "[LightGBM] [Warning] bagging_fraction is set=0.8476232920140797, subsample=1.0 will be ignored. Current value: bagging_fraction=0.8476232920140797\n",
      "[LightGBM] [Warning] lambda_l1 is set=0.9037886944882865, reg_alpha=0.0 will be ignored. Current value: lambda_l1=0.9037886944882865\n",
      "[LightGBM] [Warning] lambda_l2 is set=0.011906183063897397, reg_lambda=0.0 will be ignored. Current value: lambda_l2=0.011906183063897397\n",
      "[LightGBM] [Warning] bagging_freq is set=7, subsample_freq=0 will be ignored. Current value: bagging_freq=7\n",
      "[LightGBM] [Warning] feature_fraction is set=0.9658507086246584, colsample_bytree=0.3 will be ignored. Current value: feature_fraction=0.9658507086246584\n",
      "[LightGBM] [Warning] min_data_in_leaf is set=200, min_child_samples=98 will be ignored. Current value: min_data_in_leaf=200\n",
      "[LightGBM] [Warning] min_gain_to_split is set=0.007551036778260303, min_split_gain=0.0 will be ignored. Current value: min_gain_to_split=0.007551036778260303\n",
      "[LightGBM] [Warning] bagging_fraction is set=0.8476232920140797, subsample=1.0 will be ignored. Current value: bagging_fraction=0.8476232920140797\n",
      "[LightGBM] [Warning] lambda_l1 is set=0.9037886944882865, reg_alpha=0.0 will be ignored. Current value: lambda_l1=0.9037886944882865\n",
      "[LightGBM] [Warning] lambda_l2 is set=0.011906183063897397, reg_lambda=0.0 will be ignored. Current value: lambda_l2=0.011906183063897397\n",
      "[LightGBM] [Warning] bagging_freq is set=7, subsample_freq=0 will be ignored. Current value: bagging_freq=7\n",
      "[LightGBM] [Warning] feature_fraction is set=0.9658507086246584, colsample_bytree=0.3 will be ignored. Current value: feature_fraction=0.9658507086246584\n",
      "[LightGBM] [Warning] min_data_in_leaf is set=200, min_child_samples=98 will be ignored. Current value: min_data_in_leaf=200\n",
      "[LightGBM] [Warning] min_gain_to_split is set=0.007551036778260303, min_split_gain=0.0 will be ignored. Current value: min_gain_to_split=0.007551036778260303\n",
      "[LightGBM] [Warning] bagging_fraction is set=0.8476232920140797, subsample=1.0 will be ignored. Current value: bagging_fraction=0.8476232920140797\n",
      "[LightGBM] [Warning] lambda_l1 is set=0.9037886944882865, reg_alpha=0.0 will be ignored. Current value: lambda_l1=0.9037886944882865\n",
      "[LightGBM] [Warning] lambda_l2 is set=0.011906183063897397, reg_lambda=0.0 will be ignored. Current value: lambda_l2=0.011906183063897397\n",
      "[LightGBM] [Warning] bagging_freq is set=7, subsample_freq=0 will be ignored. Current value: bagging_freq=7\n",
      "[LightGBM] [Warning] feature_fraction is set=0.9658507086246584, colsample_bytree=0.3 will be ignored. Current value: feature_fraction=0.9658507086246584\n",
      "[LightGBM] [Warning] min_data_in_leaf is set=200, min_child_samples=98 will be ignored. Current value: min_data_in_leaf=200\n",
      "[LightGBM] [Warning] min_gain_to_split is set=0.007551036778260303, min_split_gain=0.0 will be ignored. Current value: min_gain_to_split=0.007551036778260303\n",
      "[LightGBM] [Warning] bagging_fraction is set=0.8476232920140797, subsample=1.0 will be ignored. Current value: bagging_fraction=0.8476232920140797\n",
      "[LightGBM] [Warning] lambda_l1 is set=0.9037886944882865, reg_alpha=0.0 will be ignored. Current value: lambda_l1=0.9037886944882865\n",
      "[LightGBM] [Warning] lambda_l2 is set=0.011906183063897397, reg_lambda=0.0 will be ignored. Current value: lambda_l2=0.011906183063897397\n",
      "[LightGBM] [Warning] bagging_freq is set=7, subsample_freq=0 will be ignored. Current value: bagging_freq=7\n"
     ]
    },
    {
     "name": "stderr",
     "output_type": "stream",
     "text": [
      "\u001b[32m[I 2022-11-22 00:35:09,487]\u001b[0m Trial 223 finished with value: 0.5383819928477267 and parameters: {'n_estimators': 500, 'learning_rate': 0.29734997673606356, 'max_depth': 11, 'num_leaves': 11, 'min_data_in_leaf': 200, 'min_child_samples': 98, 'lambda_l1': 0.9037886944882865, 'lambda_l2': 0.011906183063897397, 'min_gain_to_split': 0.007551036778260303, 'feature_fraction': 0.9658507086246584, 'bagging_fraction': 0.8476232920140797, 'bagging_freq': 7, 'colsample_bytree': 0.3}. Best is trial 223 with value: 0.5383819928477267.\u001b[0m\n"
     ]
    },
    {
     "name": "stdout",
     "output_type": "stream",
     "text": [
      "[LightGBM] [Warning] feature_fraction is set=0.959165476146913, colsample_bytree=0.3 will be ignored. Current value: feature_fraction=0.959165476146913\n",
      "[LightGBM] [Warning] min_data_in_leaf is set=200, min_child_samples=98 will be ignored. Current value: min_data_in_leaf=200\n",
      "[LightGBM] [Warning] min_gain_to_split is set=0.23241302204021544, min_split_gain=0.0 will be ignored. Current value: min_gain_to_split=0.23241302204021544\n",
      "[LightGBM] [Warning] bagging_fraction is set=0.8516260470919697, subsample=1.0 will be ignored. Current value: bagging_fraction=0.8516260470919697\n",
      "[LightGBM] [Warning] lambda_l1 is set=9.897865887864372, reg_alpha=0.0 will be ignored. Current value: lambda_l1=9.897865887864372\n",
      "[LightGBM] [Warning] lambda_l2 is set=0.011656756330250522, reg_lambda=0.0 will be ignored. Current value: lambda_l2=0.011656756330250522\n",
      "[LightGBM] [Warning] bagging_freq is set=7, subsample_freq=0 will be ignored. Current value: bagging_freq=7\n"
     ]
    },
    {
     "name": "stderr",
     "output_type": "stream",
     "text": [
      "\u001b[32m[I 2022-11-22 00:35:15,445]\u001b[0m Trial 224 pruned. Trial was pruned at iteration 455.\u001b[0m\n",
      "\u001b[32m[I 2022-11-22 00:35:16,373]\u001b[0m Trial 225 pruned. Trial was pruned at iteration 0.\u001b[0m\n",
      "\u001b[32m[I 2022-11-22 00:35:17,274]\u001b[0m Trial 226 pruned. Trial was pruned at iteration 0.\u001b[0m\n",
      "\u001b[32m[I 2022-11-22 00:35:18,196]\u001b[0m Trial 227 pruned. Trial was pruned at iteration 0.\u001b[0m\n",
      "\u001b[32m[I 2022-11-22 00:35:19,653]\u001b[0m Trial 228 pruned. Trial was pruned at iteration 0.\u001b[0m\n",
      "\u001b[32m[I 2022-11-22 00:35:20,741]\u001b[0m Trial 229 pruned. Trial was pruned at iteration 1.\u001b[0m\n",
      "\u001b[32m[I 2022-11-22 00:35:21,722]\u001b[0m Trial 230 pruned. Trial was pruned at iteration 0.\u001b[0m\n",
      "\u001b[32m[I 2022-11-22 00:35:22,788]\u001b[0m Trial 231 pruned. Trial was pruned at iteration 0.\u001b[0m\n",
      "\u001b[32m[I 2022-11-22 00:35:24,591]\u001b[0m Trial 232 pruned. Trial was pruned at iteration 0.\u001b[0m\n",
      "\u001b[32m[I 2022-11-22 00:35:31,012]\u001b[0m Trial 233 pruned. Trial was pruned at iteration 350.\u001b[0m\n",
      "\u001b[32m[I 2022-11-22 00:35:32,732]\u001b[0m Trial 234 pruned. Trial was pruned at iteration 0.\u001b[0m\n"
     ]
    },
    {
     "name": "stdout",
     "output_type": "stream",
     "text": [
      "[LightGBM] [Warning] feature_fraction is set=0.9561947321679699, colsample_bytree=0.3 will be ignored. Current value: feature_fraction=0.9561947321679699\n",
      "[LightGBM] [Warning] min_data_in_leaf is set=200, min_child_samples=96 will be ignored. Current value: min_data_in_leaf=200\n",
      "[LightGBM] [Warning] min_gain_to_split is set=0.6153922921061283, min_split_gain=0.0 will be ignored. Current value: min_gain_to_split=0.6153922921061283\n",
      "[LightGBM] [Warning] bagging_fraction is set=0.8425043877984061, subsample=1.0 will be ignored. Current value: bagging_fraction=0.8425043877984061\n",
      "[LightGBM] [Warning] lambda_l1 is set=2.450595220992213, reg_alpha=0.0 will be ignored. Current value: lambda_l1=2.450595220992213\n",
      "[LightGBM] [Warning] lambda_l2 is set=0.001975665547794581, reg_lambda=0.0 will be ignored. Current value: lambda_l2=0.001975665547794581\n",
      "[LightGBM] [Warning] bagging_freq is set=7, subsample_freq=0 will be ignored. Current value: bagging_freq=7\n",
      "[LightGBM] [Warning] feature_fraction is set=0.9561947321679699, colsample_bytree=0.3 will be ignored. Current value: feature_fraction=0.9561947321679699\n",
      "[LightGBM] [Warning] min_data_in_leaf is set=200, min_child_samples=96 will be ignored. Current value: min_data_in_leaf=200\n",
      "[LightGBM] [Warning] min_gain_to_split is set=0.6153922921061283, min_split_gain=0.0 will be ignored. Current value: min_gain_to_split=0.6153922921061283\n",
      "[LightGBM] [Warning] bagging_fraction is set=0.8425043877984061, subsample=1.0 will be ignored. Current value: bagging_fraction=0.8425043877984061\n",
      "[LightGBM] [Warning] lambda_l1 is set=2.450595220992213, reg_alpha=0.0 will be ignored. Current value: lambda_l1=2.450595220992213\n",
      "[LightGBM] [Warning] lambda_l2 is set=0.001975665547794581, reg_lambda=0.0 will be ignored. Current value: lambda_l2=0.001975665547794581\n",
      "[LightGBM] [Warning] bagging_freq is set=7, subsample_freq=0 will be ignored. Current value: bagging_freq=7\n",
      "[LightGBM] [Warning] feature_fraction is set=0.9561947321679699, colsample_bytree=0.3 will be ignored. Current value: feature_fraction=0.9561947321679699\n",
      "[LightGBM] [Warning] min_data_in_leaf is set=200, min_child_samples=96 will be ignored. Current value: min_data_in_leaf=200\n",
      "[LightGBM] [Warning] min_gain_to_split is set=0.6153922921061283, min_split_gain=0.0 will be ignored. Current value: min_gain_to_split=0.6153922921061283\n",
      "[LightGBM] [Warning] bagging_fraction is set=0.8425043877984061, subsample=1.0 will be ignored. Current value: bagging_fraction=0.8425043877984061\n",
      "[LightGBM] [Warning] lambda_l1 is set=2.450595220992213, reg_alpha=0.0 will be ignored. Current value: lambda_l1=2.450595220992213\n",
      "[LightGBM] [Warning] lambda_l2 is set=0.001975665547794581, reg_lambda=0.0 will be ignored. Current value: lambda_l2=0.001975665547794581\n",
      "[LightGBM] [Warning] bagging_freq is set=7, subsample_freq=0 will be ignored. Current value: bagging_freq=7\n",
      "[LightGBM] [Warning] feature_fraction is set=0.9561947321679699, colsample_bytree=0.3 will be ignored. Current value: feature_fraction=0.9561947321679699\n",
      "[LightGBM] [Warning] min_data_in_leaf is set=200, min_child_samples=96 will be ignored. Current value: min_data_in_leaf=200\n",
      "[LightGBM] [Warning] min_gain_to_split is set=0.6153922921061283, min_split_gain=0.0 will be ignored. Current value: min_gain_to_split=0.6153922921061283\n",
      "[LightGBM] [Warning] bagging_fraction is set=0.8425043877984061, subsample=1.0 will be ignored. Current value: bagging_fraction=0.8425043877984061\n",
      "[LightGBM] [Warning] lambda_l1 is set=2.450595220992213, reg_alpha=0.0 will be ignored. Current value: lambda_l1=2.450595220992213\n",
      "[LightGBM] [Warning] lambda_l2 is set=0.001975665547794581, reg_lambda=0.0 will be ignored. Current value: lambda_l2=0.001975665547794581\n",
      "[LightGBM] [Warning] bagging_freq is set=7, subsample_freq=0 will be ignored. Current value: bagging_freq=7\n"
     ]
    },
    {
     "name": "stderr",
     "output_type": "stream",
     "text": [
      "\u001b[32m[I 2022-11-22 00:36:09,078]\u001b[0m Trial 235 finished with value: 0.5404333410321189 and parameters: {'n_estimators': 500, 'learning_rate': 0.29664278354431645, 'max_depth': 11, 'num_leaves': 11, 'min_data_in_leaf': 200, 'min_child_samples': 96, 'lambda_l1': 2.450595220992213, 'lambda_l2': 0.001975665547794581, 'min_gain_to_split': 0.6153922921061283, 'feature_fraction': 0.9561947321679699, 'bagging_fraction': 0.8425043877984061, 'bagging_freq': 7, 'colsample_bytree': 0.3}. Best is trial 223 with value: 0.5383819928477267.\u001b[0m\n"
     ]
    },
    {
     "name": "stdout",
     "output_type": "stream",
     "text": [
      "[LightGBM] [Warning] feature_fraction is set=0.9500228359663031, colsample_bytree=0.3 will be ignored. Current value: feature_fraction=0.9500228359663031\n",
      "[LightGBM] [Warning] min_data_in_leaf is set=600, min_child_samples=69 will be ignored. Current value: min_data_in_leaf=600\n",
      "[LightGBM] [Warning] min_gain_to_split is set=0.670373811305294, min_split_gain=0.0 will be ignored. Current value: min_gain_to_split=0.670373811305294\n",
      "[LightGBM] [Warning] bagging_fraction is set=0.8415903061355579, subsample=1.0 will be ignored. Current value: bagging_fraction=0.8415903061355579\n",
      "[LightGBM] [Warning] lambda_l1 is set=3.6044482199125323, reg_alpha=0.0 will be ignored. Current value: lambda_l1=3.6044482199125323\n",
      "[LightGBM] [Warning] lambda_l2 is set=0.0010818320182950196, reg_lambda=0.0 will be ignored. Current value: lambda_l2=0.0010818320182950196\n",
      "[LightGBM] [Warning] bagging_freq is set=7, subsample_freq=0 will be ignored. Current value: bagging_freq=7\n"
     ]
    },
    {
     "name": "stderr",
     "output_type": "stream",
     "text": [
      "\u001b[32m[I 2022-11-22 00:36:10,017]\u001b[0m Trial 236 pruned. Trial was pruned at iteration 0.\u001b[0m\n",
      "\u001b[32m[I 2022-11-22 00:36:10,989]\u001b[0m Trial 237 pruned. Trial was pruned at iteration 0.\u001b[0m\n",
      "\u001b[32m[I 2022-11-22 00:36:16,336]\u001b[0m Trial 238 pruned. Trial was pruned at iteration 351.\u001b[0m\n",
      "\u001b[32m[I 2022-11-22 00:36:17,273]\u001b[0m Trial 239 pruned. Trial was pruned at iteration 0.\u001b[0m\n",
      "\u001b[32m[I 2022-11-22 00:36:18,230]\u001b[0m Trial 240 pruned. Trial was pruned at iteration 0.\u001b[0m\n",
      "\u001b[32m[I 2022-11-22 00:36:19,260]\u001b[0m Trial 241 pruned. Trial was pruned at iteration 0.\u001b[0m\n"
     ]
    },
    {
     "name": "stdout",
     "output_type": "stream",
     "text": [
      "[LightGBM] [Warning] feature_fraction is set=0.9837159524491093, colsample_bytree=0.3 will be ignored. Current value: feature_fraction=0.9837159524491093\n",
      "[LightGBM] [Warning] min_data_in_leaf is set=300, min_child_samples=95 will be ignored. Current value: min_data_in_leaf=300\n",
      "[LightGBM] [Warning] min_gain_to_split is set=0.9651194122563308, min_split_gain=0.0 will be ignored. Current value: min_gain_to_split=0.9651194122563308\n",
      "[LightGBM] [Warning] bagging_fraction is set=0.8497616676108515, subsample=1.0 will be ignored. Current value: bagging_fraction=0.8497616676108515\n",
      "[LightGBM] [Warning] lambda_l1 is set=4.135643162894591, reg_alpha=0.0 will be ignored. Current value: lambda_l1=4.135643162894591\n",
      "[LightGBM] [Warning] lambda_l2 is set=0.0038750963603715, reg_lambda=0.0 will be ignored. Current value: lambda_l2=0.0038750963603715\n",
      "[LightGBM] [Warning] bagging_freq is set=7, subsample_freq=0 will be ignored. Current value: bagging_freq=7\n",
      "[LightGBM] [Warning] feature_fraction is set=0.9837159524491093, colsample_bytree=0.3 will be ignored. Current value: feature_fraction=0.9837159524491093\n",
      "[LightGBM] [Warning] min_data_in_leaf is set=300, min_child_samples=95 will be ignored. Current value: min_data_in_leaf=300\n",
      "[LightGBM] [Warning] min_gain_to_split is set=0.9651194122563308, min_split_gain=0.0 will be ignored. Current value: min_gain_to_split=0.9651194122563308\n",
      "[LightGBM] [Warning] bagging_fraction is set=0.8497616676108515, subsample=1.0 will be ignored. Current value: bagging_fraction=0.8497616676108515\n",
      "[LightGBM] [Warning] lambda_l1 is set=4.135643162894591, reg_alpha=0.0 will be ignored. Current value: lambda_l1=4.135643162894591\n",
      "[LightGBM] [Warning] lambda_l2 is set=0.0038750963603715, reg_lambda=0.0 will be ignored. Current value: lambda_l2=0.0038750963603715\n",
      "[LightGBM] [Warning] bagging_freq is set=7, subsample_freq=0 will be ignored. Current value: bagging_freq=7\n",
      "[LightGBM] [Warning] feature_fraction is set=0.9837159524491093, colsample_bytree=0.3 will be ignored. Current value: feature_fraction=0.9837159524491093\n",
      "[LightGBM] [Warning] min_data_in_leaf is set=300, min_child_samples=95 will be ignored. Current value: min_data_in_leaf=300\n",
      "[LightGBM] [Warning] min_gain_to_split is set=0.9651194122563308, min_split_gain=0.0 will be ignored. Current value: min_gain_to_split=0.9651194122563308\n",
      "[LightGBM] [Warning] bagging_fraction is set=0.8497616676108515, subsample=1.0 will be ignored. Current value: bagging_fraction=0.8497616676108515\n",
      "[LightGBM] [Warning] lambda_l1 is set=4.135643162894591, reg_alpha=0.0 will be ignored. Current value: lambda_l1=4.135643162894591\n",
      "[LightGBM] [Warning] lambda_l2 is set=0.0038750963603715, reg_lambda=0.0 will be ignored. Current value: lambda_l2=0.0038750963603715\n",
      "[LightGBM] [Warning] bagging_freq is set=7, subsample_freq=0 will be ignored. Current value: bagging_freq=7\n",
      "[LightGBM] [Warning] feature_fraction is set=0.9837159524491093, colsample_bytree=0.3 will be ignored. Current value: feature_fraction=0.9837159524491093\n",
      "[LightGBM] [Warning] min_data_in_leaf is set=300, min_child_samples=95 will be ignored. Current value: min_data_in_leaf=300\n",
      "[LightGBM] [Warning] min_gain_to_split is set=0.9651194122563308, min_split_gain=0.0 will be ignored. Current value: min_gain_to_split=0.9651194122563308\n",
      "[LightGBM] [Warning] bagging_fraction is set=0.8497616676108515, subsample=1.0 will be ignored. Current value: bagging_fraction=0.8497616676108515\n",
      "[LightGBM] [Warning] lambda_l1 is set=4.135643162894591, reg_alpha=0.0 will be ignored. Current value: lambda_l1=4.135643162894591\n",
      "[LightGBM] [Warning] lambda_l2 is set=0.0038750963603715, reg_lambda=0.0 will be ignored. Current value: lambda_l2=0.0038750963603715\n",
      "[LightGBM] [Warning] bagging_freq is set=7, subsample_freq=0 will be ignored. Current value: bagging_freq=7\n"
     ]
    },
    {
     "name": "stderr",
     "output_type": "stream",
     "text": [
      "\u001b[32m[I 2022-11-22 00:36:41,308]\u001b[0m Trial 242 finished with value: 0.5636267647554243 and parameters: {'n_estimators': 250, 'learning_rate': 0.2941731007878854, 'max_depth': 11, 'num_leaves': 11, 'min_data_in_leaf': 300, 'min_child_samples': 95, 'lambda_l1': 4.135643162894591, 'lambda_l2': 0.0038750963603715, 'min_gain_to_split': 0.9651194122563308, 'feature_fraction': 0.9837159524491093, 'bagging_fraction': 0.8497616676108515, 'bagging_freq': 7, 'colsample_bytree': 0.3}. Best is trial 223 with value: 0.5383819928477267.\u001b[0m\n"
     ]
    },
    {
     "name": "stdout",
     "output_type": "stream",
     "text": [
      "[LightGBM] [Warning] feature_fraction is set=0.9657398943537238, colsample_bytree=0.3 will be ignored. Current value: feature_fraction=0.9657398943537238\n",
      "[LightGBM] [Warning] min_data_in_leaf is set=500, min_child_samples=98 will be ignored. Current value: min_data_in_leaf=500\n",
      "[LightGBM] [Warning] min_gain_to_split is set=0.503871587692631, min_split_gain=0.0 will be ignored. Current value: min_gain_to_split=0.503871587692631\n",
      "[LightGBM] [Warning] bagging_fraction is set=0.8865361166199295, subsample=1.0 will be ignored. Current value: bagging_fraction=0.8865361166199295\n",
      "[LightGBM] [Warning] lambda_l1 is set=2.175850305540424, reg_alpha=0.0 will be ignored. Current value: lambda_l1=2.175850305540424\n",
      "[LightGBM] [Warning] lambda_l2 is set=0.0018255752812424502, reg_lambda=0.0 will be ignored. Current value: lambda_l2=0.0018255752812424502\n",
      "[LightGBM] [Warning] bagging_freq is set=7, subsample_freq=0 will be ignored. Current value: bagging_freq=7\n"
     ]
    },
    {
     "name": "stderr",
     "output_type": "stream",
     "text": [
      "\u001b[32m[I 2022-11-22 00:36:42,287]\u001b[0m Trial 243 pruned. Trial was pruned at iteration 0.\u001b[0m\n"
     ]
    },
    {
     "name": "stdout",
     "output_type": "stream",
     "text": [
      "[LightGBM] [Warning] feature_fraction is set=0.9906713387572128, colsample_bytree=0.3 will be ignored. Current value: feature_fraction=0.9906713387572128\n",
      "[LightGBM] [Warning] min_data_in_leaf is set=200, min_child_samples=65 will be ignored. Current value: min_data_in_leaf=200\n",
      "[LightGBM] [Warning] min_gain_to_split is set=0.28358522013862775, min_split_gain=0.0 will be ignored. Current value: min_gain_to_split=0.28358522013862775\n",
      "[LightGBM] [Warning] bagging_fraction is set=0.9165977631120786, subsample=1.0 will be ignored. Current value: bagging_fraction=0.9165977631120786\n",
      "[LightGBM] [Warning] lambda_l1 is set=0.738614746056304, reg_alpha=0.0 will be ignored. Current value: lambda_l1=0.738614746056304\n",
      "[LightGBM] [Warning] lambda_l2 is set=0.008198818532544585, reg_lambda=0.0 will be ignored. Current value: lambda_l2=0.008198818532544585\n",
      "[LightGBM] [Warning] bagging_freq is set=7, subsample_freq=0 will be ignored. Current value: bagging_freq=7\n",
      "[LightGBM] [Warning] feature_fraction is set=0.9906713387572128, colsample_bytree=0.3 will be ignored. Current value: feature_fraction=0.9906713387572128\n",
      "[LightGBM] [Warning] min_data_in_leaf is set=200, min_child_samples=65 will be ignored. Current value: min_data_in_leaf=200\n",
      "[LightGBM] [Warning] min_gain_to_split is set=0.28358522013862775, min_split_gain=0.0 will be ignored. Current value: min_gain_to_split=0.28358522013862775\n",
      "[LightGBM] [Warning] bagging_fraction is set=0.9165977631120786, subsample=1.0 will be ignored. Current value: bagging_fraction=0.9165977631120786\n",
      "[LightGBM] [Warning] lambda_l1 is set=0.738614746056304, reg_alpha=0.0 will be ignored. Current value: lambda_l1=0.738614746056304\n",
      "[LightGBM] [Warning] lambda_l2 is set=0.008198818532544585, reg_lambda=0.0 will be ignored. Current value: lambda_l2=0.008198818532544585\n",
      "[LightGBM] [Warning] bagging_freq is set=7, subsample_freq=0 will be ignored. Current value: bagging_freq=7\n",
      "[LightGBM] [Warning] feature_fraction is set=0.9906713387572128, colsample_bytree=0.3 will be ignored. Current value: feature_fraction=0.9906713387572128\n",
      "[LightGBM] [Warning] min_data_in_leaf is set=200, min_child_samples=65 will be ignored. Current value: min_data_in_leaf=200\n",
      "[LightGBM] [Warning] min_gain_to_split is set=0.28358522013862775, min_split_gain=0.0 will be ignored. Current value: min_gain_to_split=0.28358522013862775\n",
      "[LightGBM] [Warning] bagging_fraction is set=0.9165977631120786, subsample=1.0 will be ignored. Current value: bagging_fraction=0.9165977631120786\n",
      "[LightGBM] [Warning] lambda_l1 is set=0.738614746056304, reg_alpha=0.0 will be ignored. Current value: lambda_l1=0.738614746056304\n",
      "[LightGBM] [Warning] lambda_l2 is set=0.008198818532544585, reg_lambda=0.0 will be ignored. Current value: lambda_l2=0.008198818532544585\n",
      "[LightGBM] [Warning] bagging_freq is set=7, subsample_freq=0 will be ignored. Current value: bagging_freq=7\n",
      "[LightGBM] [Warning] feature_fraction is set=0.9906713387572128, colsample_bytree=0.3 will be ignored. Current value: feature_fraction=0.9906713387572128\n",
      "[LightGBM] [Warning] min_data_in_leaf is set=200, min_child_samples=65 will be ignored. Current value: min_data_in_leaf=200\n",
      "[LightGBM] [Warning] min_gain_to_split is set=0.28358522013862775, min_split_gain=0.0 will be ignored. Current value: min_gain_to_split=0.28358522013862775\n",
      "[LightGBM] [Warning] bagging_fraction is set=0.9165977631120786, subsample=1.0 will be ignored. Current value: bagging_fraction=0.9165977631120786\n",
      "[LightGBM] [Warning] lambda_l1 is set=0.738614746056304, reg_alpha=0.0 will be ignored. Current value: lambda_l1=0.738614746056304\n",
      "[LightGBM] [Warning] lambda_l2 is set=0.008198818532544585, reg_lambda=0.0 will be ignored. Current value: lambda_l2=0.008198818532544585\n",
      "[LightGBM] [Warning] bagging_freq is set=7, subsample_freq=0 will be ignored. Current value: bagging_freq=7\n"
     ]
    },
    {
     "name": "stderr",
     "output_type": "stream",
     "text": [
      "\u001b[32m[I 2022-11-22 00:37:20,766]\u001b[0m Trial 244 finished with value: 0.5388630935069207 and parameters: {'n_estimators': 500, 'learning_rate': 0.2968356355472907, 'max_depth': 11, 'num_leaves': 11, 'min_data_in_leaf': 200, 'min_child_samples': 65, 'lambda_l1': 0.738614746056304, 'lambda_l2': 0.008198818532544585, 'min_gain_to_split': 0.28358522013862775, 'feature_fraction': 0.9906713387572128, 'bagging_fraction': 0.9165977631120786, 'bagging_freq': 7, 'colsample_bytree': 0.3}. Best is trial 223 with value: 0.5383819928477267.\u001b[0m\n"
     ]
    },
    {
     "name": "stdout",
     "output_type": "stream",
     "text": [
      "[LightGBM] [Warning] feature_fraction is set=0.9792894174078589, colsample_bytree=0.3 will be ignored. Current value: feature_fraction=0.9792894174078589\n",
      "[LightGBM] [Warning] min_data_in_leaf is set=200, min_child_samples=65 will be ignored. Current value: min_data_in_leaf=200\n",
      "[LightGBM] [Warning] min_gain_to_split is set=0.008907924863684608, min_split_gain=0.0 will be ignored. Current value: min_gain_to_split=0.008907924863684608\n",
      "[LightGBM] [Warning] bagging_fraction is set=0.9400721133052774, subsample=1.0 will be ignored. Current value: bagging_fraction=0.9400721133052774\n",
      "[LightGBM] [Warning] lambda_l1 is set=0.7292693911066036, reg_alpha=0.0 will be ignored. Current value: lambda_l1=0.7292693911066036\n",
      "[LightGBM] [Warning] lambda_l2 is set=0.009427051024730656, reg_lambda=0.0 will be ignored. Current value: lambda_l2=0.009427051024730656\n",
      "[LightGBM] [Warning] bagging_freq is set=7, subsample_freq=0 will be ignored. Current value: bagging_freq=7\n"
     ]
    },
    {
     "name": "stderr",
     "output_type": "stream",
     "text": [
      "\u001b[32m[I 2022-11-22 00:37:21,694]\u001b[0m Trial 245 pruned. Trial was pruned at iteration 0.\u001b[0m\n",
      "\u001b[32m[I 2022-11-22 00:37:27,066]\u001b[0m Trial 246 pruned. Trial was pruned at iteration 350.\u001b[0m\n",
      "\u001b[32m[I 2022-11-22 00:37:28,067]\u001b[0m Trial 247 pruned. Trial was pruned at iteration 0.\u001b[0m\n"
     ]
    },
    {
     "name": "stdout",
     "output_type": "stream",
     "text": [
      "[LightGBM] [Warning] feature_fraction is set=0.9714600148290053, colsample_bytree=0.3 will be ignored. Current value: feature_fraction=0.9714600148290053\n",
      "[LightGBM] [Warning] min_data_in_leaf is set=200, min_child_samples=65 will be ignored. Current value: min_data_in_leaf=200\n",
      "[LightGBM] [Warning] min_gain_to_split is set=0.28524189808362566, min_split_gain=0.0 will be ignored. Current value: min_gain_to_split=0.28524189808362566\n",
      "[LightGBM] [Warning] bagging_fraction is set=0.9019061789423968, subsample=1.0 will be ignored. Current value: bagging_fraction=0.9019061789423968\n",
      "[LightGBM] [Warning] lambda_l1 is set=5.236795466979539, reg_alpha=0.0 will be ignored. Current value: lambda_l1=5.236795466979539\n",
      "[LightGBM] [Warning] lambda_l2 is set=0.023485084121307252, reg_lambda=0.0 will be ignored. Current value: lambda_l2=0.023485084121307252\n",
      "[LightGBM] [Warning] bagging_freq is set=7, subsample_freq=0 will be ignored. Current value: bagging_freq=7\n",
      "[LightGBM] [Warning] feature_fraction is set=0.9714600148290053, colsample_bytree=0.3 will be ignored. Current value: feature_fraction=0.9714600148290053\n",
      "[LightGBM] [Warning] min_data_in_leaf is set=200, min_child_samples=65 will be ignored. Current value: min_data_in_leaf=200\n",
      "[LightGBM] [Warning] min_gain_to_split is set=0.28524189808362566, min_split_gain=0.0 will be ignored. Current value: min_gain_to_split=0.28524189808362566\n",
      "[LightGBM] [Warning] bagging_fraction is set=0.9019061789423968, subsample=1.0 will be ignored. Current value: bagging_fraction=0.9019061789423968\n",
      "[LightGBM] [Warning] lambda_l1 is set=5.236795466979539, reg_alpha=0.0 will be ignored. Current value: lambda_l1=5.236795466979539\n",
      "[LightGBM] [Warning] lambda_l2 is set=0.023485084121307252, reg_lambda=0.0 will be ignored. Current value: lambda_l2=0.023485084121307252\n",
      "[LightGBM] [Warning] bagging_freq is set=7, subsample_freq=0 will be ignored. Current value: bagging_freq=7\n",
      "[LightGBM] [Warning] feature_fraction is set=0.9714600148290053, colsample_bytree=0.3 will be ignored. Current value: feature_fraction=0.9714600148290053\n",
      "[LightGBM] [Warning] min_data_in_leaf is set=200, min_child_samples=65 will be ignored. Current value: min_data_in_leaf=200\n",
      "[LightGBM] [Warning] min_gain_to_split is set=0.28524189808362566, min_split_gain=0.0 will be ignored. Current value: min_gain_to_split=0.28524189808362566\n",
      "[LightGBM] [Warning] bagging_fraction is set=0.9019061789423968, subsample=1.0 will be ignored. Current value: bagging_fraction=0.9019061789423968\n",
      "[LightGBM] [Warning] lambda_l1 is set=5.236795466979539, reg_alpha=0.0 will be ignored. Current value: lambda_l1=5.236795466979539\n",
      "[LightGBM] [Warning] lambda_l2 is set=0.023485084121307252, reg_lambda=0.0 will be ignored. Current value: lambda_l2=0.023485084121307252\n",
      "[LightGBM] [Warning] bagging_freq is set=7, subsample_freq=0 will be ignored. Current value: bagging_freq=7\n",
      "[LightGBM] [Warning] feature_fraction is set=0.9714600148290053, colsample_bytree=0.3 will be ignored. Current value: feature_fraction=0.9714600148290053\n",
      "[LightGBM] [Warning] min_data_in_leaf is set=200, min_child_samples=65 will be ignored. Current value: min_data_in_leaf=200\n",
      "[LightGBM] [Warning] min_gain_to_split is set=0.28524189808362566, min_split_gain=0.0 will be ignored. Current value: min_gain_to_split=0.28524189808362566\n",
      "[LightGBM] [Warning] bagging_fraction is set=0.9019061789423968, subsample=1.0 will be ignored. Current value: bagging_fraction=0.9019061789423968\n",
      "[LightGBM] [Warning] lambda_l1 is set=5.236795466979539, reg_alpha=0.0 will be ignored. Current value: lambda_l1=5.236795466979539\n",
      "[LightGBM] [Warning] lambda_l2 is set=0.023485084121307252, reg_lambda=0.0 will be ignored. Current value: lambda_l2=0.023485084121307252\n",
      "[LightGBM] [Warning] bagging_freq is set=7, subsample_freq=0 will be ignored. Current value: bagging_freq=7\n"
     ]
    },
    {
     "name": "stderr",
     "output_type": "stream",
     "text": [
      "\u001b[32m[I 2022-11-22 00:38:05,584]\u001b[0m Trial 248 finished with value: 0.5396148830257278 and parameters: {'n_estimators': 500, 'learning_rate': 0.29714511356886586, 'max_depth': 11, 'num_leaves': 11, 'min_data_in_leaf': 200, 'min_child_samples': 65, 'lambda_l1': 5.236795466979539, 'lambda_l2': 0.023485084121307252, 'min_gain_to_split': 0.28524189808362566, 'feature_fraction': 0.9714600148290053, 'bagging_fraction': 0.9019061789423968, 'bagging_freq': 7, 'colsample_bytree': 0.3}. Best is trial 223 with value: 0.5383819928477267.\u001b[0m\n"
     ]
    },
    {
     "name": "stdout",
     "output_type": "stream",
     "text": [
      "[LightGBM] [Warning] feature_fraction is set=0.9902098485510266, colsample_bytree=0.3 will be ignored. Current value: feature_fraction=0.9902098485510266\n",
      "[LightGBM] [Warning] min_data_in_leaf is set=400, min_child_samples=61 will be ignored. Current value: min_data_in_leaf=400\n",
      "[LightGBM] [Warning] min_gain_to_split is set=0.7768896248214862, min_split_gain=0.0 will be ignored. Current value: min_gain_to_split=0.7768896248214862\n",
      "[LightGBM] [Warning] bagging_fraction is set=0.9034153526730844, subsample=1.0 will be ignored. Current value: bagging_fraction=0.9034153526730844\n",
      "[LightGBM] [Warning] lambda_l1 is set=5.304697068706968, reg_alpha=0.0 will be ignored. Current value: lambda_l1=5.304697068706968\n",
      "[LightGBM] [Warning] lambda_l2 is set=0.029355070826797017, reg_lambda=0.0 will be ignored. Current value: lambda_l2=0.029355070826797017\n",
      "[LightGBM] [Warning] bagging_freq is set=7, subsample_freq=0 will be ignored. Current value: bagging_freq=7\n"
     ]
    },
    {
     "name": "stderr",
     "output_type": "stream",
     "text": [
      "\u001b[32m[I 2022-11-22 00:38:06,596]\u001b[0m Trial 249 pruned. Trial was pruned at iteration 0.\u001b[0m\n",
      "\u001b[32m[I 2022-11-22 00:38:07,639]\u001b[0m Trial 250 pruned. Trial was pruned at iteration 0.\u001b[0m\n",
      "\u001b[32m[I 2022-11-22 00:38:08,765]\u001b[0m Trial 251 pruned. Trial was pruned at iteration 0.\u001b[0m\n",
      "\u001b[32m[I 2022-11-22 00:38:09,816]\u001b[0m Trial 252 pruned. Trial was pruned at iteration 0.\u001b[0m\n",
      "\u001b[32m[I 2022-11-22 00:38:10,929]\u001b[0m Trial 253 pruned. Trial was pruned at iteration 0.\u001b[0m\n",
      "\u001b[32m[I 2022-11-22 00:38:19,134]\u001b[0m Trial 254 pruned. Trial was pruned at iteration 450.\u001b[0m\n",
      "\u001b[32m[I 2022-11-22 00:38:20,202]\u001b[0m Trial 255 pruned. Trial was pruned at iteration 0.\u001b[0m\n",
      "\u001b[32m[I 2022-11-22 00:38:21,183]\u001b[0m Trial 256 pruned. Trial was pruned at iteration 0.\u001b[0m\n",
      "\u001b[32m[I 2022-11-22 00:38:22,242]\u001b[0m Trial 257 pruned. Trial was pruned at iteration 0.\u001b[0m\n",
      "\u001b[32m[I 2022-11-22 00:38:23,322]\u001b[0m Trial 258 pruned. Trial was pruned at iteration 0.\u001b[0m\n",
      "\u001b[32m[I 2022-11-22 00:38:24,317]\u001b[0m Trial 259 pruned. Trial was pruned at iteration 0.\u001b[0m\n",
      "\u001b[32m[I 2022-11-22 00:38:30,060]\u001b[0m Trial 260 pruned. Trial was pruned at iteration 350.\u001b[0m\n",
      "\u001b[32m[I 2022-11-22 00:38:31,133]\u001b[0m Trial 261 pruned. Trial was pruned at iteration 0.\u001b[0m\n",
      "\u001b[32m[I 2022-11-22 00:38:32,182]\u001b[0m Trial 262 pruned. Trial was pruned at iteration 0.\u001b[0m\n",
      "\u001b[32m[I 2022-11-22 00:38:33,232]\u001b[0m Trial 263 pruned. Trial was pruned at iteration 1.\u001b[0m\n",
      "\u001b[32m[I 2022-11-22 00:38:34,291]\u001b[0m Trial 264 pruned. Trial was pruned at iteration 0.\u001b[0m\n",
      "\u001b[32m[I 2022-11-22 00:38:35,325]\u001b[0m Trial 265 pruned. Trial was pruned at iteration 0.\u001b[0m\n",
      "\u001b[32m[I 2022-11-22 00:38:36,494]\u001b[0m Trial 266 pruned. Trial was pruned at iteration 0.\u001b[0m\n",
      "\u001b[32m[I 2022-11-22 00:38:37,533]\u001b[0m Trial 267 pruned. Trial was pruned at iteration 0.\u001b[0m\n",
      "\u001b[32m[I 2022-11-22 00:38:43,055]\u001b[0m Trial 268 pruned. Trial was pruned at iteration 351.\u001b[0m\n",
      "\u001b[32m[I 2022-11-22 00:38:43,999]\u001b[0m Trial 269 pruned. Trial was pruned at iteration 0.\u001b[0m\n",
      "\u001b[32m[I 2022-11-22 00:38:45,128]\u001b[0m Trial 270 pruned. Trial was pruned at iteration 0.\u001b[0m\n",
      "\u001b[32m[I 2022-11-22 00:38:46,171]\u001b[0m Trial 271 pruned. Trial was pruned at iteration 0.\u001b[0m\n",
      "\u001b[32m[I 2022-11-22 00:38:47,164]\u001b[0m Trial 272 pruned. Trial was pruned at iteration 0.\u001b[0m\n",
      "\u001b[32m[I 2022-11-22 00:38:48,305]\u001b[0m Trial 273 pruned. Trial was pruned at iteration 0.\u001b[0m\n",
      "\u001b[32m[I 2022-11-22 00:38:53,869]\u001b[0m Trial 274 pruned. Trial was pruned at iteration 310.\u001b[0m\n",
      "\u001b[32m[I 2022-11-22 00:38:54,920]\u001b[0m Trial 275 pruned. Trial was pruned at iteration 0.\u001b[0m\n",
      "\u001b[32m[I 2022-11-22 00:38:55,991]\u001b[0m Trial 276 pruned. Trial was pruned at iteration 1.\u001b[0m\n",
      "\u001b[32m[I 2022-11-22 00:38:56,970]\u001b[0m Trial 277 pruned. Trial was pruned at iteration 0.\u001b[0m\n",
      "\u001b[32m[I 2022-11-22 00:38:58,052]\u001b[0m Trial 278 pruned. Trial was pruned at iteration 0.\u001b[0m\n",
      "\u001b[32m[I 2022-11-22 00:39:03,217]\u001b[0m Trial 279 pruned. Trial was pruned at iteration 310.\u001b[0m\n",
      "\u001b[32m[I 2022-11-22 00:39:04,162]\u001b[0m Trial 280 pruned. Trial was pruned at iteration 0.\u001b[0m\n",
      "\u001b[32m[I 2022-11-22 00:39:05,196]\u001b[0m Trial 281 pruned. Trial was pruned at iteration 0.\u001b[0m\n",
      "\u001b[32m[I 2022-11-22 00:39:06,290]\u001b[0m Trial 282 pruned. Trial was pruned at iteration 0.\u001b[0m\n",
      "\u001b[32m[I 2022-11-22 00:39:07,282]\u001b[0m Trial 283 pruned. Trial was pruned at iteration 0.\u001b[0m\n",
      "\u001b[32m[I 2022-11-22 00:39:08,390]\u001b[0m Trial 284 pruned. Trial was pruned at iteration 0.\u001b[0m\n",
      "\u001b[32m[I 2022-11-22 00:39:15,188]\u001b[0m Trial 285 pruned. Trial was pruned at iteration 450.\u001b[0m\n",
      "\u001b[32m[I 2022-11-22 00:39:16,217]\u001b[0m Trial 286 pruned. Trial was pruned at iteration 0.\u001b[0m\n",
      "\u001b[32m[I 2022-11-22 00:39:17,255]\u001b[0m Trial 287 pruned. Trial was pruned at iteration 0.\u001b[0m\n",
      "\u001b[32m[I 2022-11-22 00:39:18,301]\u001b[0m Trial 288 pruned. Trial was pruned at iteration 0.\u001b[0m\n",
      "\u001b[32m[I 2022-11-22 00:39:19,340]\u001b[0m Trial 289 pruned. Trial was pruned at iteration 0.\u001b[0m\n",
      "\u001b[32m[I 2022-11-22 00:39:20,400]\u001b[0m Trial 290 pruned. Trial was pruned at iteration 0.\u001b[0m\n",
      "\u001b[32m[I 2022-11-22 00:39:21,446]\u001b[0m Trial 291 pruned. Trial was pruned at iteration 0.\u001b[0m\n"
     ]
    },
    {
     "name": "stdout",
     "output_type": "stream",
     "text": [
      "[LightGBM] [Warning] feature_fraction is set=0.9541122253537773, colsample_bytree=0.3 will be ignored. Current value: feature_fraction=0.9541122253537773\n",
      "[LightGBM] [Warning] min_data_in_leaf is set=200, min_child_samples=68 will be ignored. Current value: min_data_in_leaf=200\n",
      "[LightGBM] [Warning] min_gain_to_split is set=0.021671816841937287, min_split_gain=0.0 will be ignored. Current value: min_gain_to_split=0.021671816841937287\n",
      "[LightGBM] [Warning] bagging_fraction is set=0.924175818925911, subsample=1.0 will be ignored. Current value: bagging_fraction=0.924175818925911\n",
      "[LightGBM] [Warning] lambda_l1 is set=1.4408168382435995, reg_alpha=0.0 will be ignored. Current value: lambda_l1=1.4408168382435995\n",
      "[LightGBM] [Warning] lambda_l2 is set=0.009698832310535643, reg_lambda=0.0 will be ignored. Current value: lambda_l2=0.009698832310535643\n",
      "[LightGBM] [Warning] bagging_freq is set=7, subsample_freq=0 will be ignored. Current value: bagging_freq=7\n",
      "[LightGBM] [Warning] feature_fraction is set=0.9541122253537773, colsample_bytree=0.3 will be ignored. Current value: feature_fraction=0.9541122253537773\n",
      "[LightGBM] [Warning] min_data_in_leaf is set=200, min_child_samples=68 will be ignored. Current value: min_data_in_leaf=200\n",
      "[LightGBM] [Warning] min_gain_to_split is set=0.021671816841937287, min_split_gain=0.0 will be ignored. Current value: min_gain_to_split=0.021671816841937287\n",
      "[LightGBM] [Warning] bagging_fraction is set=0.924175818925911, subsample=1.0 will be ignored. Current value: bagging_fraction=0.924175818925911\n",
      "[LightGBM] [Warning] lambda_l1 is set=1.4408168382435995, reg_alpha=0.0 will be ignored. Current value: lambda_l1=1.4408168382435995\n",
      "[LightGBM] [Warning] lambda_l2 is set=0.009698832310535643, reg_lambda=0.0 will be ignored. Current value: lambda_l2=0.009698832310535643\n",
      "[LightGBM] [Warning] bagging_freq is set=7, subsample_freq=0 will be ignored. Current value: bagging_freq=7\n",
      "[LightGBM] [Warning] feature_fraction is set=0.9541122253537773, colsample_bytree=0.3 will be ignored. Current value: feature_fraction=0.9541122253537773\n",
      "[LightGBM] [Warning] min_data_in_leaf is set=200, min_child_samples=68 will be ignored. Current value: min_data_in_leaf=200\n",
      "[LightGBM] [Warning] min_gain_to_split is set=0.021671816841937287, min_split_gain=0.0 will be ignored. Current value: min_gain_to_split=0.021671816841937287\n",
      "[LightGBM] [Warning] bagging_fraction is set=0.924175818925911, subsample=1.0 will be ignored. Current value: bagging_fraction=0.924175818925911\n",
      "[LightGBM] [Warning] lambda_l1 is set=1.4408168382435995, reg_alpha=0.0 will be ignored. Current value: lambda_l1=1.4408168382435995\n",
      "[LightGBM] [Warning] lambda_l2 is set=0.009698832310535643, reg_lambda=0.0 will be ignored. Current value: lambda_l2=0.009698832310535643\n",
      "[LightGBM] [Warning] bagging_freq is set=7, subsample_freq=0 will be ignored. Current value: bagging_freq=7\n",
      "[LightGBM] [Warning] feature_fraction is set=0.9541122253537773, colsample_bytree=0.3 will be ignored. Current value: feature_fraction=0.9541122253537773\n",
      "[LightGBM] [Warning] min_data_in_leaf is set=200, min_child_samples=68 will be ignored. Current value: min_data_in_leaf=200\n",
      "[LightGBM] [Warning] min_gain_to_split is set=0.021671816841937287, min_split_gain=0.0 will be ignored. Current value: min_gain_to_split=0.021671816841937287\n",
      "[LightGBM] [Warning] bagging_fraction is set=0.924175818925911, subsample=1.0 will be ignored. Current value: bagging_fraction=0.924175818925911\n",
      "[LightGBM] [Warning] lambda_l1 is set=1.4408168382435995, reg_alpha=0.0 will be ignored. Current value: lambda_l1=1.4408168382435995\n",
      "[LightGBM] [Warning] lambda_l2 is set=0.009698832310535643, reg_lambda=0.0 will be ignored. Current value: lambda_l2=0.009698832310535643\n",
      "[LightGBM] [Warning] bagging_freq is set=7, subsample_freq=0 will be ignored. Current value: bagging_freq=7\n"
     ]
    },
    {
     "name": "stderr",
     "output_type": "stream",
     "text": [
      "\u001b[32m[I 2022-11-22 00:40:01,078]\u001b[0m Trial 292 finished with value: 0.5386563558162972 and parameters: {'n_estimators': 500, 'learning_rate': 0.2958332390771364, 'max_depth': 11, 'num_leaves': 11, 'min_data_in_leaf': 200, 'min_child_samples': 68, 'lambda_l1': 1.4408168382435995, 'lambda_l2': 0.009698832310535643, 'min_gain_to_split': 0.021671816841937287, 'feature_fraction': 0.9541122253537773, 'bagging_fraction': 0.924175818925911, 'bagging_freq': 7, 'colsample_bytree': 0.3}. Best is trial 223 with value: 0.5383819928477267.\u001b[0m\n"
     ]
    },
    {
     "name": "stdout",
     "output_type": "stream",
     "text": [
      "[LightGBM] [Warning] feature_fraction is set=0.9488083194165345, colsample_bytree=0.3 will be ignored. Current value: feature_fraction=0.9488083194165345\n",
      "[LightGBM] [Warning] min_data_in_leaf is set=400, min_child_samples=72 will be ignored. Current value: min_data_in_leaf=400\n",
      "[LightGBM] [Warning] min_gain_to_split is set=0.03967689430326293, min_split_gain=0.0 will be ignored. Current value: min_gain_to_split=0.03967689430326293\n",
      "[LightGBM] [Warning] bagging_fraction is set=0.9251462824293406, subsample=1.0 will be ignored. Current value: bagging_fraction=0.9251462824293406\n",
      "[LightGBM] [Warning] lambda_l1 is set=1.516174908138979, reg_alpha=0.0 will be ignored. Current value: lambda_l1=1.516174908138979\n",
      "[LightGBM] [Warning] lambda_l2 is set=0.006958847092881301, reg_lambda=0.0 will be ignored. Current value: lambda_l2=0.006958847092881301\n",
      "[LightGBM] [Warning] bagging_freq is set=7, subsample_freq=0 will be ignored. Current value: bagging_freq=7\n"
     ]
    },
    {
     "name": "stderr",
     "output_type": "stream",
     "text": [
      "\u001b[32m[I 2022-11-22 00:40:08,305]\u001b[0m Trial 293 pruned. Trial was pruned at iteration 492.\u001b[0m\n",
      "\u001b[32m[I 2022-11-22 00:40:09,329]\u001b[0m Trial 294 pruned. Trial was pruned at iteration 0.\u001b[0m\n",
      "\u001b[32m[I 2022-11-22 00:40:10,324]\u001b[0m Trial 295 pruned. Trial was pruned at iteration 0.\u001b[0m\n",
      "\u001b[32m[I 2022-11-22 00:40:15,498]\u001b[0m Trial 296 pruned. Trial was pruned at iteration 280.\u001b[0m\n",
      "\u001b[32m[I 2022-11-22 00:40:16,506]\u001b[0m Trial 297 pruned. Trial was pruned at iteration 0.\u001b[0m\n",
      "\u001b[32m[I 2022-11-22 00:40:17,522]\u001b[0m Trial 298 pruned. Trial was pruned at iteration 0.\u001b[0m\n",
      "\u001b[32m[I 2022-11-22 00:40:23,304]\u001b[0m Trial 299 pruned. Trial was pruned at iteration 350.\u001b[0m\n"
     ]
    },
    {
     "name": "stdout",
     "output_type": "stream",
     "text": [
      "Wall time: 33min 27s\n"
     ]
    }
   ],
   "source": [
    "%%time\n",
    "\n",
    "# Create study that minimizes\n",
    "study = optuna.create_study(direction=\"minimize\", study_name=\"LGBM Classifier\")\n",
    "\n",
    "func = lambda trial: objective(trial, X, y)\n",
    "\n",
    "study.optimize(func, n_trials=300)"
   ]
  },
  {
   "cell_type": "code",
   "execution_count": 7,
   "id": "5c58b653",
   "metadata": {
    "ExecuteTime": {
     "end_time": "2022-11-21T23:42:55.652294Z",
     "start_time": "2022-11-21T23:42:55.643346Z"
    }
   },
   "outputs": [
    {
     "name": "stdout",
     "output_type": "stream",
     "text": [
      "\tBest value : 0.53838\n",
      "\tBest params:\n",
      "\t\tn_estimators: 500\n",
      "\t\tlearning_rate: 0.29734997673606356\n",
      "\t\tmax_depth: 11\n",
      "\t\tnum_leaves: 11\n",
      "\t\tmin_data_in_leaf: 200\n",
      "\t\tmin_child_samples: 98\n",
      "\t\tlambda_l1: 0.9037886944882865\n",
      "\t\tlambda_l2: 0.011906183063897397\n",
      "\t\tmin_gain_to_split: 0.007551036778260303\n",
      "\t\tfeature_fraction: 0.9658507086246584\n",
      "\t\tbagging_fraction: 0.8476232920140797\n",
      "\t\tbagging_freq: 7\n",
      "\t\tcolsample_bytree: 0.3\n"
     ]
    }
   ],
   "source": [
    "print(f\"\\tBest value : {study.best_value:.5f}\")\n",
    "print(f\"\\tBest params:\")\n",
    "\n",
    "for key, value in study.best_params.items():\n",
    "    print(f\"\\t\\t{key}: {value}\")"
   ]
  },
  {
   "cell_type": "code",
   "execution_count": 8,
   "id": "983cd91d",
   "metadata": {
    "ExecuteTime": {
     "end_time": "2022-11-21T23:43:02.522950Z",
     "start_time": "2022-11-21T23:43:02.194798Z"
    }
   },
   "outputs": [
    {
     "data": {
      "image/png": "[encoded data removed]",
      "text/plain": [
       "<Figure size 600x400 with 1 Axes>"
      ]
     },
     "metadata": {},
     "output_type": "display_data"
    }
   ],
   "source": [
    "from optuna.visualization.matplotlib import plot_optimization_history\n",
    "\n",
    "plot_optimization_history(study);"
   ]
  },
  {
   "cell_type": "code",
   "execution_count": 11,
   "id": "e6097fe1",
   "metadata": {
    "ExecuteTime": {
     "end_time": "2022-11-21T23:43:34.301992Z",
     "start_time": "2022-11-21T23:43:34.281042Z"
    }
   },
   "outputs": [
    {
     "data": {
      "text/plain": [
       "{'n_estimators': 500,\n",
       " 'learning_rate': 0.29734997673606356,\n",
       " 'max_depth': 11,\n",
       " 'num_leaves': 11,\n",
       " 'min_data_in_leaf': 200,\n",
       " 'min_child_samples': 98,\n",
       " 'lambda_l1': 0.9037886944882865,\n",
       " 'lambda_l2': 0.011906183063897397,\n",
       " 'min_gain_to_split': 0.007551036778260303,\n",
       " 'feature_fraction': 0.9658507086246584,\n",
       " 'bagging_fraction': 0.8476232920140797,\n",
       " 'bagging_freq': 7,\n",
       " 'colsample_bytree': 0.3}"
      ]
     },
     "execution_count": 11,
     "metadata": {},
     "output_type": "execute_result"
    }
   ],
   "source": [
    "study.best_params"
   ]
  },
  {
   "cell_type": "markdown",
   "id": "c7735b9e",
   "metadata": {},
   "source": [
    "# Performance du modèle"
   ]
  },
  {
   "cell_type": "code",
   "execution_count": 5,
   "id": "574bad72",
   "metadata": {
    "ExecuteTime": {
     "end_time": "2022-11-22T17:40:33.788788Z",
     "start_time": "2022-11-22T17:40:32.566032Z"
    }
   },
   "outputs": [
    {
     "data": {
      "text/plain": [
       "((206032, 56), (101479, 56), (206032, 1), (101479, 1))"
      ]
     },
     "execution_count": 5,
     "metadata": {},
     "output_type": "execute_result"
    }
   ],
   "source": [
    "# Séparation de l'ensemble X_train en 2 sous-ensembles\n",
    "\n",
    "X_train, X_valid, y_train, y_valid = train_test_split(X, y, stratify=y, test_size=0.33, random_state=101)\n",
    "\n",
    "X_train.shape, X_valid.shape, y_train.shape, y_valid.shape\n"
   ]
  },
  {
   "cell_type": "code",
   "execution_count": 7,
   "id": "76f20939",
   "metadata": {
    "ExecuteTime": {
     "end_time": "2022-11-22T17:42:08.480516Z",
     "start_time": "2022-11-22T17:42:04.653142Z"
    }
   },
   "outputs": [
    {
     "name": "stdout",
     "output_type": "stream",
     "text": [
      "[LightGBM] [Warning] feature_fraction is set=0.9658507086246584, colsample_bytree=0.3 will be ignored. Current value: feature_fraction=0.9658507086246584\n",
      "[LightGBM] [Warning] min_data_in_leaf is set=200, min_child_samples=98 will be ignored. Current value: min_data_in_leaf=200\n",
      "[LightGBM] [Warning] min_gain_to_split is set=0.007551036778260303, min_split_gain=0.0 will be ignored. Current value: min_gain_to_split=0.007551036778260303\n",
      "[LightGBM] [Warning] bagging_fraction is set=0.8476232920140797, subsample=1.0 will be ignored. Current value: bagging_fraction=0.8476232920140797\n",
      "[LightGBM] [Warning] lambda_l1 is set=0.9037886944882865, reg_alpha=0.0 will be ignored. Current value: lambda_l1=0.9037886944882865\n",
      "[LightGBM] [Warning] lambda_l2 is set=0.011906183063897397, reg_lambda=0.0 will be ignored. Current value: lambda_l2=0.011906183063897397\n",
      "[LightGBM] [Warning] bagging_freq is set=7, subsample_freq=0 will be ignored. Current value: bagging_freq=7\n"
     ]
    }
   ],
   "source": [
    "model_LGBM = LGBMClassifier(objective=\"binary\",\n",
    "                            class_weight=\"balanced\",\n",
    "                            verbose=-1,\n",
    "                            boosting_type=\"gbdt\",\n",
    "                            n_estimators=500,\n",
    "                            learning_rate=0.29734997673606356,\n",
    "                            max_depth=11,\n",
    "                            num_leaves=11,\n",
    "                            min_data_in_leaf=200,\n",
    "                            min_child_samples=98,\n",
    "                            lambda_l1=0.9037886944882865,\n",
    "                            lambda_l2=0.011906183063897397,\n",
    "                            min_gain_to_split=0.007551036778260303,\n",
    "                            feature_fraction=0.9658507086246584,\n",
    "                            bagging_fraction=0.8476232920140797,\n",
    "                            bagging_freq=7,\n",
    "                            colsample_bytree=0.3,\n",
    "                            random_state=101,\n",
    "                            n_jobs=-2,)\n",
    "\n",
    "model_LGBM_fit = model_LGBM.fit(X_train, y_train)\n",
    "\n",
    "# Make predictions\n",
    "y_pred_lgbm = model_LGBM_fit.predict(X_valid)\n",
    "\n",
    "y_pred_lgbm_proba = model_LGBM_fit.predict_proba(X_valid)"
   ]
  },
  {
   "attachments": {
    "confusionMatrxiUpdated.jpg": {
     "image/jpeg": "[encoded data removed]"
    }
   },
   "cell_type": "markdown",
   "id": "9c4814cb",
   "metadata": {},
   "source": [
    "![confusionMatrxiUpdated.jpg](attachment:confusionMatrxiUpdated.jpg)"
   ]
  },
  {
   "cell_type": "code",
   "execution_count": 9,
   "id": "999f4475",
   "metadata": {
    "ExecuteTime": {
     "end_time": "2022-11-22T17:44:31.150546Z",
     "start_time": "2022-11-22T17:44:30.219006Z"
    }
   },
   "outputs": [
    {
     "data": {
      "image/png": "[encoded data removed]",
      "text/plain": [
       "<Figure size 600x400 with 1 Axes>"
      ]
     },
     "metadata": {},
     "output_type": "display_data"
    },
    {
     "data": {
      "text/plain": [
       "<AxesSubplot: title={'center': 'LGBMClassifier Confusion Matrix'}, xlabel='Predicted Class', ylabel='True Class'>"
      ]
     },
     "execution_count": 9,
     "metadata": {},
     "output_type": "execute_result"
    }
   ],
   "source": [
    "from yellowbrick.classifier import ConfusionMatrix\n",
    "\n",
    "classes = ['not_difficulty_payment', 'is_difficulty_payment']\n",
    "\n",
    "sns.set_style(\"ticks\")\n",
    "fig, ax = plt.subplots(figsize=(6, 4))\n",
    "\n",
    "cm = ConfusionMatrix(model_LGBM_fit, classes=classes)\n",
    "\n",
    "cm.fit(X_train, y_train)        # Fit the visualizer and the model\n",
    "cm.score(X_valid, y_valid)        # Evaluate the model on the test data\n",
    "cm.show()"
   ]
  },
  {
   "cell_type": "code",
   "execution_count": 10,
   "id": "a08f30f7",
   "metadata": {
    "ExecuteTime": {
     "end_time": "2022-11-22T17:44:37.099462Z",
     "start_time": "2022-11-22T17:44:36.989748Z"
    }
   },
   "outputs": [
    {
     "name": "stdout",
     "output_type": "stream",
     "text": [
      "              precision    recall  f1-score   support\n",
      "\n",
      "           0       0.95      0.74      0.83     93287\n",
      "           1       0.17      0.60      0.26      8192\n",
      "\n",
      "    accuracy                           0.73    101479\n",
      "   macro avg       0.56      0.67      0.55    101479\n",
      "weighted avg       0.89      0.73      0.79    101479\n",
      "\n"
     ]
    }
   ],
   "source": [
    "print(classification_report(y_valid, y_pred_lgbm))"
   ]
  },
  {
   "cell_type": "code",
   "execution_count": 11,
   "id": "41d443bc",
   "metadata": {
    "ExecuteTime": {
     "end_time": "2022-11-22T17:44:42.683521Z",
     "start_time": "2022-11-22T17:44:41.843764Z"
    }
   },
   "outputs": [
    {
     "data": {
      "image/png": "[encoded data removed]",
      "text/plain": [
       "<Figure size 600x400 with 2 Axes>"
      ]
     },
     "metadata": {},
     "output_type": "display_data"
    },
    {
     "data": {
      "text/plain": [
       "<AxesSubplot: title={'center': 'LGBMClassifier Classification Report'}>"
      ]
     },
     "execution_count": 11,
     "metadata": {},
     "output_type": "execute_result"
    }
   ],
   "source": [
    "# Identifying classes. The classes variable will be useful when using Yellowbrick's visualizers\n",
    "classes = ['not_difficulty_payment', 'is_difficulty_payment']\n",
    "\n",
    "sns.set_style(\"ticks\")\n",
    "fig, ax = plt.subplots(figsize=(6, 4))\n",
    "\n",
    "visualizer = ClassificationReport(model_LGBM_fit, classes=classes, support=True, cmap='PRGn')\n",
    "\n",
    "visualizer.fit(X_train, y_train)        # Fit the visualizer and the model\n",
    "visualizer.score(X_valid, y_valid)        # Evaluate the model on the test data\n",
    "visualizer.show()                       # Finalize and show the figure"
   ]
  },
  {
   "cell_type": "code",
   "execution_count": 12,
   "id": "caf9bfe4",
   "metadata": {
    "ExecuteTime": {
     "end_time": "2022-11-22T17:44:48.900160Z",
     "start_time": "2022-11-22T17:44:48.239931Z"
    }
   },
   "outputs": [
    {
     "name": "stdout",
     "output_type": "stream",
     "text": [
      "Train Accuracy : 75.76%\n",
      "Test Accuracy : 72.75%\n"
     ]
    }
   ],
   "source": [
    "print(f\"Train Accuracy : {accuracy_score(y_train, model_LGBM_fit.predict(X_train)):.2%}\")\n",
    "print(f\"Test Accuracy : {accuracy_score(y_valid, y_pred_lgbm):.2%}\")"
   ]
  },
  {
   "cell_type": "code",
   "execution_count": 13,
   "id": "8fa3bf07",
   "metadata": {
    "ExecuteTime": {
     "end_time": "2022-11-22T17:44:51.151138Z",
     "start_time": "2022-11-22T17:44:50.489908Z"
    }
   },
   "outputs": [
    {
     "name": "stdout",
     "output_type": "stream",
     "text": [
      "Train Precision : 22.30%\n",
      "Test Precision : 16.69%\n"
     ]
    }
   ],
   "source": [
    "print(f\"Train Precision : {precision_score(y_train, model_LGBM_fit.predict(X_train)):.2%}\")\n",
    "print(f\"Test Precision : {precision_score(y_valid, y_pred_lgbm):.2%}\")"
   ]
  },
  {
   "cell_type": "code",
   "execution_count": 14,
   "id": "a62d8a41",
   "metadata": {
    "ExecuteTime": {
     "end_time": "2022-11-22T17:44:53.526826Z",
     "start_time": "2022-11-22T17:44:52.855580Z"
    }
   },
   "outputs": [
    {
     "name": "stdout",
     "output_type": "stream",
     "text": [
      "Train Recall : 80.60%\n",
      "Test Recall : 59.51%\n"
     ]
    }
   ],
   "source": [
    "print(f\"Train Recall : {recall_score(y_train, model_LGBM_fit.predict(X_train)):.2%}\")\n",
    "print(f\"Test Recall : {recall_score(y_valid, y_pred_lgbm):.2%}\")"
   ]
  },
  {
   "cell_type": "code",
   "execution_count": 15,
   "id": "6691da8c",
   "metadata": {
    "ExecuteTime": {
     "end_time": "2022-11-22T17:44:57.808362Z",
     "start_time": "2022-11-22T17:44:57.211928Z"
    }
   },
   "outputs": [
    {
     "name": "stdout",
     "output_type": "stream",
     "text": [
      "Train f1_score : 34.94%\n",
      "Test f1_score : 26.07%\n"
     ]
    }
   ],
   "source": [
    "print(f\"Train f1_score : {f1_score(y_train, model_LGBM_fit.predict(X_train)):.2%}\")\n",
    "print(f\"Test f1_score : {f1_score(y_valid, y_pred_lgbm):.2%}\")"
   ]
  },
  {
   "cell_type": "code",
   "execution_count": 16,
   "id": "620ff5a3",
   "metadata": {
    "ExecuteTime": {
     "end_time": "2022-11-22T17:44:59.865856Z",
     "start_time": "2022-11-22T17:44:59.265436Z"
    }
   },
   "outputs": [
    {
     "name": "stdout",
     "output_type": "stream",
     "text": [
      "Train f2_score : 52.93%\n",
      "Test f2_score : 39.33%\n"
     ]
    }
   ],
   "source": [
    "print(f\"Train f2_score : {fbeta_score(y_train, model_LGBM_fit.predict(X_train), beta=2):.2%}\")\n",
    "print(f\"Test f2_score : {fbeta_score(y_valid, y_pred_lgbm, beta=2):.2%}\")"
   ]
  },
  {
   "cell_type": "code",
   "execution_count": 17,
   "id": "7ea7b32e",
   "metadata": {
    "ExecuteTime": {
     "end_time": "2022-11-22T17:45:03.994818Z",
     "start_time": "2022-11-22T17:45:03.395388Z"
    }
   },
   "outputs": [
    {
     "name": "stdout",
     "output_type": "stream",
     "text": [
      "Train ROC-AUC : 77.97%\n",
      "Test ROC-AUC : 66.71%\n"
     ]
    }
   ],
   "source": [
    "print(f\"Train ROC-AUC : {roc_auc_score(y_train, model_LGBM_fit.predict(X_train)):.2%}\")\n",
    "print(f\"Test ROC-AUC : {roc_auc_score(y_valid, y_pred_lgbm):.2%}\")"
   ]
  },
  {
   "cell_type": "code",
   "execution_count": 18,
   "id": "ab24e749",
   "metadata": {
    "ExecuteTime": {
     "end_time": "2022-11-22T17:45:10.292765Z",
     "start_time": "2022-11-22T17:45:09.459868Z"
    }
   },
   "outputs": [
    {
     "data": {
      "image/png": "[encoded data removed]",
      "text/plain": [
       "<Figure size 600x400 with 1 Axes>"
      ]
     },
     "metadata": {},
     "output_type": "display_data"
    },
    {
     "data": {
      "text/plain": [
       "<AxesSubplot: title={'center': 'ROC Curves for LGBMClassifier'}, xlabel='False Positive Rate', ylabel='True Positive Rate'>"
      ]
     },
     "execution_count": 18,
     "metadata": {},
     "output_type": "execute_result"
    }
   ],
   "source": [
    "from yellowbrick.classifier import ROCAUC\n",
    "\n",
    "sns.set_style(\"ticks\")\n",
    "fig, ax = plt.subplots(figsize=(6, 4))\n",
    "\n",
    "vis_rocauc = ROCAUC(model_LGBM_fit, classes=classes, random_state=101)\n",
    "\n",
    "vis_rocauc.fit(X_train, y_train)        \n",
    "vis_rocauc.score(X_valid, y_valid)\n",
    "vis_rocauc.show()   "
   ]
  },
  {
   "cell_type": "code",
   "execution_count": 19,
   "id": "8193ef92",
   "metadata": {
    "ExecuteTime": {
     "end_time": "2022-11-22T17:45:15.150809Z",
     "start_time": "2022-11-22T17:45:14.309896Z"
    }
   },
   "outputs": [
    {
     "data": {
      "image/png": "[encoded data removed]",
      "text/plain": [
       "<Figure size 600x400 with 1 Axes>"
      ]
     },
     "metadata": {},
     "output_type": "display_data"
    },
    {
     "data": {
      "text/plain": [
       "<AxesSubplot: title={'center': 'Precision-Recall Curve for LGBMClassifier'}, xlabel='Recall', ylabel='Precision'>"
      ]
     },
     "execution_count": 19,
     "metadata": {},
     "output_type": "execute_result"
    }
   ],
   "source": [
    "from yellowbrick.classifier import PrecisionRecallCurve\n",
    "\n",
    "sns.set_style(\"ticks\")\n",
    "fig, ax = plt.subplots(figsize=(6, 4))\n",
    "\n",
    "vis_prc = PrecisionRecallCurve(model_LGBM_fit, random_state=101)\n",
    "\n",
    "vis_prc.fit(X_train, y_train)        \n",
    "vis_prc.score(X_valid, y_valid)     \n",
    "vis_prc.show()  "
   ]
  },
  {
   "cell_type": "code",
   "execution_count": 21,
   "id": "1f855584",
   "metadata": {
    "ExecuteTime": {
     "end_time": "2022-11-22T17:51:14.166932Z",
     "start_time": "2022-11-22T17:51:14.146978Z"
    }
   },
   "outputs": [],
   "source": [
    "from sklearn.metrics import precision_recall_curve, roc_curve\n",
    "\n",
    "def plot_precision_recall_vs_threshold(precisions, recalls, thresholds):\n",
    "    plt.plot(thresholds, precisions[:-1], \"b--\", label=\"Precision\")\n",
    "    plt.plot(thresholds, recalls[:-1], \"g--\", label=\"Recall\")\n",
    "    plt.xlabel(\"Threshold\")\n",
    "    plt.legend(loc=\"upper left\")\n",
    "    plt.title(\"Precision/Recall Tradeoff\")\n",
    "    \n",
    "\n",
    "def plot_roc_curve(fpr, tpr, label=None):\n",
    "    plt.plot(fpr, tpr, linewidth=2, label=label)\n",
    "    plt.plot([0, 1], [0, 1], \"k--\")\n",
    "    plt.axis([0, 1, 0, 1])\n",
    "    plt.xlabel('False Positive Rate')\n",
    "    plt.ylabel('True Positive Rate')\n",
    "    plt.title('ROC Curve')"
   ]
  },
  {
   "cell_type": "code",
   "execution_count": 22,
   "id": "7ad105bf",
   "metadata": {
    "ExecuteTime": {
     "end_time": "2022-11-22T17:51:24.573090Z",
     "start_time": "2022-11-22T17:51:24.162217Z"
    }
   },
   "outputs": [
    {
     "data": {
      "image/png": "[encoded data removed]",
      "text/plain": [
       "<Figure size 1400x2500 with 3 Axes>"
      ]
     },
     "metadata": {},
     "output_type": "display_data"
    }
   ],
   "source": [
    "precisions, recalls, thresholds = precision_recall_curve(y_valid, y_pred_lgbm)\n",
    "plt.figure(figsize=(14, 25))\n",
    "plt.subplot(4, 2, 1)\n",
    "plot_precision_recall_vs_threshold(precisions, recalls, thresholds)\n",
    "\n",
    "plt.subplot(4, 2, 2)\n",
    "plt.plot(precisions, recalls)\n",
    "plt.xlabel(\"Precision\")\n",
    "plt.ylabel(\"Recall\")\n",
    "plt.title(\"PR Curve: precisions/recalls tradeoff\");\n",
    "\n",
    "plt.subplot(4, 2, 3)\n",
    "fpr, tpr, thresholds = roc_curve(y_valid, y_pred_lgbm)\n",
    "plot_roc_curve(fpr, tpr)"
   ]
  },
  {
   "cell_type": "code",
   "execution_count": null,
   "id": "d96d614d",
   "metadata": {},
   "outputs": [],
   "source": []
  }
 ],
 "metadata": {
  "hide_input": false,
  "kernelspec": {
   "display_name": "Python 3 (ipykernel)",
   "language": "python",
   "name": "python3"
  },
  "language_info": {
   "codemirror_mode": {
    "name": "ipython",
    "version": 3
   },
   "file_extension": ".py",
   "mimetype": "text/x-python",
   "name": "python",
   "nbconvert_exporter": "python",
   "pygments_lexer": "ipython3",
   "version": "3.9.13"
  },
  "nbTranslate": {
   "displayLangs": [
    "*"
   ],
   "hotkey": "alt-t",
   "langInMainMenu": true,
   "sourceLang": "en",
   "targetLang": "fr",
   "useGoogleTranslate": true
  },
  "toc": {
   "base_numbering": 1,
   "nav_menu": {
    "height": "142px",
    "width": "284px"
   },
   "number_sections": true,
   "sideBar": false,
   "skip_h1_title": false,
   "title_cell": "Sommaire",
   "title_sidebar": "Contents",
   "toc_cell": true,
   "toc_position": {
    "height": "275.2px",
    "left": "1170.38px",
    "top": "402.725px",
    "width": "303.825px"
   },
   "toc_section_display": true,
   "toc_window_display": false
  }
 },
 "nbformat": 4,
 "nbformat_minor": 5
}
